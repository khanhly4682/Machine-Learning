{
 "cells": [
  {
   "cell_type": "markdown",
   "metadata": {},
   "source": [
    "# Home Credit Risk Analyze.\n",
    "__Objective:__\n",
    " Use historical loan application data to predict if an application will be able to repay a loan.\n",
    " \n",
    "#### Problem statement:\n",
    "Building a model to predict how capable each applicant is of repaying a loan.\n",
    "\n",
    "#### Performance metric:\n",
    "In this problem, the data is imbalanced. So we can’t use accuracy as a error metric. When data is imbalanced we can use Log loss, F1-score and AUC. Here we are sticking to AUC which can handle imbalanced datasets.\n",
    " This is a standard supervised classification task:\n",
    "\n",
    "__Supervised__: The labels are included in the training data and the goal is to train a model to learn to predict the labels from the features.<br>\n",
    "__Classification__: The label is a binary variable, \n",
    "- 0 (will repay loan on time), \n",
    "- 1 (will have difficulty repaying loan)<br>\n",
    "\n",
    "#### Data Description\n",
    "\n",
    "Data\n",
    "The applicant data and previous applicationsis provided by Home Credit, with credits data from Credit Bureau.\n",
    "https://www.kaggle.com/c/home-credit-default-risk/data\n",
    "\n",
    "There are 7 different sources of data:\n",
    "\n",
    "- *application_train/application_test*: the main training and testing data with information about each loan application at Home Credit. Every loan has its own row and is identified by the feature SK_ID_CURR. The training application data comes with the TARGET indicating 0: the loan was repaid or 1: the loan was not repaid.\n",
    "- *bureau*: data concerning client's previous credits from other financial institutions. Each previous credit has its own row in bureau, but one loan in the application data can have multiple previous credits.\n",
    "- *bureau_balance*: monthly data about the previous credits in bureau. Each row is one month of a previous credit, and a single previous credit can have multiple rows, one for each month of the credit length.\n",
    "- *previous_application*: previous applications for loans at Home Credit of clients who have loans in the application data. Each current loan in the application data can have multiple previous loans. Each previous application has one row and is identified by the feature SK_ID_PREV.\n",
    "- *POS_CASH_BALANCE*: monthly data about previous point of sale or cash loans clients have had with Home Credit. Each row is one month of a previous point of sale or cash loan, and a single previous loan can have many rows.\n",
    "_*credit_card_balance*: monthly data about previous credit cards clients have had with Home Credit. Each row is one month of a credit card balance, and a single credit card can have many rows.\n",
    "-*installments_payment*: payment history for previous loans at Home Credit. There is one row for every made payment and one row for every missed payment.\n",
    "\n"
   ]
  },
  {
   "cell_type": "code",
   "execution_count": 1,
   "metadata": {
    "collapsed": false
   },
   "outputs": [],
   "source": [
    "import pandas as pd\n",
    "import numpy as np\n",
    "import matplotlib.pyplot as plt\n",
    "import seaborn as sns\n",
    "import time\n",
    "\n",
    "from sklearn.linear_model import LogisticRegression\n",
    "from sklearn.preprocessing import StandardScaler\n",
    "from sklearn.pipeline import Pipeline\n",
    "from sklearn.model_selection import cross_val_score\n",
    "from sklearn.model_selection import RepeatedStratifiedKFold\n",
    "from sklearn.model_selection import GridSearchCV\n",
    "from sklearn.model_selection import train_test_split\n",
    "from sklearn.model_selection import RandomizedSearchCV\n",
    "from sklearn.model_selection import KFold\n",
    "from sklearn.metrics import precision_recall_curve\n",
    "from sklearn.metrics import auc\n",
    "from sklearn.metrics import make_scorer\n",
    "from sklearn.metrics import classification_report\n",
    "from sklearn.metrics import accuracy_score\n",
    "from sklearn.metrics import confusion_matrix\n",
    "from sklearn.metrics import recall_score\n",
    "from sklearn.metrics import precision_score\n",
    "#from sklearn.metrics import plot_roc_curve\n",
    "from sklearn.tree import DecisionTreeClassifier\n",
    "from sklearn.neighbors import KNeighborsClassifier\n",
    "from sklearn.ensemble import RandomForestClassifier\n",
    "from sklearn.ensemble import ExtraTreesClassifier\n",
    "from sklearn.ensemble import BaggingClassifier\n",
    "from imblearn.under_sampling import NearMiss\n",
    "from collections import Counter\n"
   ]
  },
  {
   "cell_type": "code",
   "execution_count": 2,
   "metadata": {
    "collapsed": false
   },
   "outputs": [
    {
     "data": {
      "text/html": [
       "<div>\n",
       "<style scoped>\n",
       "    .dataframe tbody tr th:only-of-type {\n",
       "        vertical-align: middle;\n",
       "    }\n",
       "\n",
       "    .dataframe tbody tr th {\n",
       "        vertical-align: top;\n",
       "    }\n",
       "\n",
       "    .dataframe thead th {\n",
       "        text-align: right;\n",
       "    }\n",
       "</style>\n",
       "<table border=\"1\" class=\"dataframe\">\n",
       "  <thead>\n",
       "    <tr style=\"text-align: right;\">\n",
       "      <th></th>\n",
       "      <th>SK_ID_CURR</th>\n",
       "      <th>TARGET</th>\n",
       "      <th>NAME_CONTRACT_TYPE</th>\n",
       "      <th>CODE_GENDER</th>\n",
       "      <th>FLAG_OWN_CAR</th>\n",
       "      <th>FLAG_OWN_REALTY</th>\n",
       "      <th>CNT_CHILDREN</th>\n",
       "      <th>AMT_INCOME_TOTAL</th>\n",
       "      <th>AMT_CREDIT</th>\n",
       "      <th>AMT_ANNUITY</th>\n",
       "      <th>...</th>\n",
       "      <th>CREDIT_AMT_RECEIVABLE_PRINCIPAL</th>\n",
       "      <th>CREDIT_AMT_RECIVABLE</th>\n",
       "      <th>CREDIT_AMT_TOTAL_RECEIVABLE</th>\n",
       "      <th>CREDIT_CNT_DRAWINGS_ATM_CURRENT</th>\n",
       "      <th>CREDIT_CNT_DRAWINGS_CURRENT</th>\n",
       "      <th>CREDIT_CNT_DRAWINGS_OTHER_CURRENT</th>\n",
       "      <th>CREDIT_CNT_DRAWINGS_POS_CURRENT</th>\n",
       "      <th>CREDIT_CNT_INSTALMENT_MATURE_CUM</th>\n",
       "      <th>CREDIT_SK_DPD</th>\n",
       "      <th>CREDIT_SK_DPD_DEF</th>\n",
       "    </tr>\n",
       "  </thead>\n",
       "  <tbody>\n",
       "    <tr>\n",
       "      <th>0</th>\n",
       "      <td>100002</td>\n",
       "      <td>1</td>\n",
       "      <td>Cash loans</td>\n",
       "      <td>M</td>\n",
       "      <td>N</td>\n",
       "      <td>Y</td>\n",
       "      <td>0</td>\n",
       "      <td>202500.0</td>\n",
       "      <td>406597.5</td>\n",
       "      <td>24700.5</td>\n",
       "      <td>...</td>\n",
       "      <td>0.0</td>\n",
       "      <td>0.0</td>\n",
       "      <td>0.0</td>\n",
       "      <td>0.0</td>\n",
       "      <td>0.0</td>\n",
       "      <td>0.0</td>\n",
       "      <td>0.0</td>\n",
       "      <td>0.0</td>\n",
       "      <td>0.0</td>\n",
       "      <td>0.0</td>\n",
       "    </tr>\n",
       "    <tr>\n",
       "      <th>1</th>\n",
       "      <td>100003</td>\n",
       "      <td>0</td>\n",
       "      <td>Cash loans</td>\n",
       "      <td>F</td>\n",
       "      <td>N</td>\n",
       "      <td>N</td>\n",
       "      <td>0</td>\n",
       "      <td>270000.0</td>\n",
       "      <td>1293502.5</td>\n",
       "      <td>35698.5</td>\n",
       "      <td>...</td>\n",
       "      <td>0.0</td>\n",
       "      <td>0.0</td>\n",
       "      <td>0.0</td>\n",
       "      <td>0.0</td>\n",
       "      <td>0.0</td>\n",
       "      <td>0.0</td>\n",
       "      <td>0.0</td>\n",
       "      <td>0.0</td>\n",
       "      <td>0.0</td>\n",
       "      <td>0.0</td>\n",
       "    </tr>\n",
       "    <tr>\n",
       "      <th>2</th>\n",
       "      <td>100004</td>\n",
       "      <td>0</td>\n",
       "      <td>Revolving loans</td>\n",
       "      <td>M</td>\n",
       "      <td>Y</td>\n",
       "      <td>Y</td>\n",
       "      <td>0</td>\n",
       "      <td>67500.0</td>\n",
       "      <td>135000.0</td>\n",
       "      <td>6750.0</td>\n",
       "      <td>...</td>\n",
       "      <td>0.0</td>\n",
       "      <td>0.0</td>\n",
       "      <td>0.0</td>\n",
       "      <td>0.0</td>\n",
       "      <td>0.0</td>\n",
       "      <td>0.0</td>\n",
       "      <td>0.0</td>\n",
       "      <td>0.0</td>\n",
       "      <td>0.0</td>\n",
       "      <td>0.0</td>\n",
       "    </tr>\n",
       "    <tr>\n",
       "      <th>3</th>\n",
       "      <td>100006</td>\n",
       "      <td>0</td>\n",
       "      <td>Cash loans</td>\n",
       "      <td>F</td>\n",
       "      <td>N</td>\n",
       "      <td>Y</td>\n",
       "      <td>0</td>\n",
       "      <td>135000.0</td>\n",
       "      <td>312682.5</td>\n",
       "      <td>29686.5</td>\n",
       "      <td>...</td>\n",
       "      <td>0.0</td>\n",
       "      <td>0.0</td>\n",
       "      <td>0.0</td>\n",
       "      <td>0.0</td>\n",
       "      <td>0.0</td>\n",
       "      <td>0.0</td>\n",
       "      <td>0.0</td>\n",
       "      <td>0.0</td>\n",
       "      <td>0.0</td>\n",
       "      <td>0.0</td>\n",
       "    </tr>\n",
       "    <tr>\n",
       "      <th>4</th>\n",
       "      <td>100007</td>\n",
       "      <td>0</td>\n",
       "      <td>Cash loans</td>\n",
       "      <td>M</td>\n",
       "      <td>N</td>\n",
       "      <td>Y</td>\n",
       "      <td>0</td>\n",
       "      <td>121500.0</td>\n",
       "      <td>513000.0</td>\n",
       "      <td>21865.5</td>\n",
       "      <td>...</td>\n",
       "      <td>0.0</td>\n",
       "      <td>0.0</td>\n",
       "      <td>0.0</td>\n",
       "      <td>0.0</td>\n",
       "      <td>0.0</td>\n",
       "      <td>0.0</td>\n",
       "      <td>0.0</td>\n",
       "      <td>0.0</td>\n",
       "      <td>0.0</td>\n",
       "      <td>0.0</td>\n",
       "    </tr>\n",
       "  </tbody>\n",
       "</table>\n",
       "<p>5 rows × 199 columns</p>\n",
       "</div>"
      ],
      "text/plain": [
       "   SK_ID_CURR  TARGET NAME_CONTRACT_TYPE CODE_GENDER FLAG_OWN_CAR  \\\n",
       "0      100002       1         Cash loans           M            N   \n",
       "1      100003       0         Cash loans           F            N   \n",
       "2      100004       0    Revolving loans           M            Y   \n",
       "3      100006       0         Cash loans           F            N   \n",
       "4      100007       0         Cash loans           M            N   \n",
       "\n",
       "  FLAG_OWN_REALTY  CNT_CHILDREN  AMT_INCOME_TOTAL  AMT_CREDIT  AMT_ANNUITY  \\\n",
       "0               Y             0          202500.0    406597.5      24700.5   \n",
       "1               N             0          270000.0   1293502.5      35698.5   \n",
       "2               Y             0           67500.0    135000.0       6750.0   \n",
       "3               Y             0          135000.0    312682.5      29686.5   \n",
       "4               Y             0          121500.0    513000.0      21865.5   \n",
       "\n",
       "         ...          CREDIT_AMT_RECEIVABLE_PRINCIPAL CREDIT_AMT_RECIVABLE  \\\n",
       "0        ...                                      0.0                  0.0   \n",
       "1        ...                                      0.0                  0.0   \n",
       "2        ...                                      0.0                  0.0   \n",
       "3        ...                                      0.0                  0.0   \n",
       "4        ...                                      0.0                  0.0   \n",
       "\n",
       "  CREDIT_AMT_TOTAL_RECEIVABLE CREDIT_CNT_DRAWINGS_ATM_CURRENT  \\\n",
       "0                         0.0                             0.0   \n",
       "1                         0.0                             0.0   \n",
       "2                         0.0                             0.0   \n",
       "3                         0.0                             0.0   \n",
       "4                         0.0                             0.0   \n",
       "\n",
       "  CREDIT_CNT_DRAWINGS_CURRENT CREDIT_CNT_DRAWINGS_OTHER_CURRENT  \\\n",
       "0                         0.0                               0.0   \n",
       "1                         0.0                               0.0   \n",
       "2                         0.0                               0.0   \n",
       "3                         0.0                               0.0   \n",
       "4                         0.0                               0.0   \n",
       "\n",
       "   CREDIT_CNT_DRAWINGS_POS_CURRENT  CREDIT_CNT_INSTALMENT_MATURE_CUM  \\\n",
       "0                              0.0                               0.0   \n",
       "1                              0.0                               0.0   \n",
       "2                              0.0                               0.0   \n",
       "3                              0.0                               0.0   \n",
       "4                              0.0                               0.0   \n",
       "\n",
       "   CREDIT_SK_DPD  CREDIT_SK_DPD_DEF  \n",
       "0            0.0                0.0  \n",
       "1            0.0                0.0  \n",
       "2            0.0                0.0  \n",
       "3            0.0                0.0  \n",
       "4            0.0                0.0  \n",
       "\n",
       "[5 rows x 199 columns]"
      ]
     },
     "execution_count": 2,
     "metadata": {},
     "output_type": "execute_result"
    }
   ],
   "source": [
    "# Read the data we already cleaned in the previous step.\n",
    "df = pd.read_csv('D:\\\\70. Study\\\\00 Data Science Springboard\\\\02-Project Capstone 1\\\\data\\\\application_training.csv') # rename from 'cleaned_csv'\n",
    "df.head()"
   ]
  },
  {
   "cell_type": "markdown",
   "metadata": {},
   "source": []
  },
  {
   "cell_type": "code",
   "execution_count": 3,
   "metadata": {
    "collapsed": false
   },
   "outputs": [
    {
     "name": "stdout",
     "output_type": "stream",
     "text": [
      "<class 'pandas.core.frame.DataFrame'>\n",
      "RangeIndex: 307511 entries, 0 to 307510\n",
      "Columns: 199 entries, SK_ID_CURR to CREDIT_SK_DPD_DEF\n",
      "dtypes: float64(141), int64(42), object(16)\n",
      "memory usage: 466.9+ MB\n"
     ]
    }
   ],
   "source": [
    "df.info()"
   ]
  },
  {
   "cell_type": "code",
   "execution_count": 4,
   "metadata": {
    "collapsed": false
   },
   "outputs": [
    {
     "data": {
      "text/plain": [
       "(307511, 199)"
      ]
     },
     "execution_count": 4,
     "metadata": {},
     "output_type": "execute_result"
    }
   ],
   "source": [
    "df.shape"
   ]
  },
  {
   "cell_type": "markdown",
   "metadata": {
    "collapsed": false
   },
   "source": [
    "Description of data:\n",
    "1. The data contains 307,509 rows and 198 columns.\n",
    "2. Each row has unique id 'SK_ID_CURR' \n",
    "3. Output label is 'TARGET' column.\n",
    "- If TARGET = 0: the loan was repaid.\n",
    "- If TARGET = 1: the loan was not repaid."
   ]
  },
  {
   "cell_type": "markdown",
   "metadata": {},
   "source": [
    "## Data Preparation:\n",
    "### Feature Engineering of Application data:"
   ]
  },
  {
   "cell_type": "markdown",
   "metadata": {
    "collapsed": false
   },
   "source": [
    "Now, we have an overview of the dataset. There is still some essential data preprocessing needed before we proceed towards building our machine learning model. We are going to perform the preprocessing steps including:\n",
    "\n",
    "1. Handle the missing data\n",
    "2. Convert the non-numerical (categorical) data into numeric.\n",
    "3. Remove outlier.\n",
    "4. Split the data into training and test sets.\n",
    "5. Scale the feature values to a uniform range. "
   ]
  },
  {
   "cell_type": "markdown",
   "metadata": {},
   "source": [
    "#### 1. Handle the missing data.\n",
    "Missing values are values that are not recorded during data collection. They can be mostly not provided or left out due errors. Let's check the missing data here."
   ]
  },
  {
   "cell_type": "code",
   "execution_count": 5,
   "metadata": {
    "collapsed": false
   },
   "outputs": [
    {
     "data": {
      "text/plain": [
       "FONDKAPREMONT_MODE               210295\n",
       "WALLSMATERIAL_MODE               156341\n",
       "HOUSETYPE_MODE                   154297\n",
       "EMERGENCYSTATE_MODE              145755\n",
       "OCCUPATION_TYPE                   96391\n",
       "NAME_TYPE_SUITE                    1292\n",
       "LIVINGAREA_AVG                        0\n",
       "COMMONAREA_MODE                       0\n",
       "NONLIVINGAPARTMENTS_MODE              0\n",
       "LIVINGAREA_MODE                       0\n",
       "LIVINGAPARTMENTS_MODE                 0\n",
       "LANDAREA_MODE                         0\n",
       "FLOORSMIN_MODE                        0\n",
       "FLOORSMAX_MODE                        0\n",
       "ENTRANCES_MODE                        0\n",
       "ELEVATORS_MODE                        0\n",
       "YEARS_BUILD_MODE                      0\n",
       "NONLIVINGAPARTMENTS_AVG               0\n",
       "YEARS_BEGINEXPLUATATION_MODE          0\n",
       "BASEMENTAREA_MODE                     0\n",
       "NONLIVINGAREA_MODE                    0\n",
       "FLOORSMIN_AVG                         0\n",
       "APARTMENTS_MODE                       0\n",
       "LANDAREA_AVG                          0\n",
       "LIVINGAPARTMENTS_AVG                  0\n",
       "NONLIVINGAREA_AVG                     0\n",
       "CREDIT_SK_DPD_DEF                     0\n",
       "YEARS_BEGINEXPLUATATION_MEDI          0\n",
       "APARTMENTS_MEDI                       0\n",
       "BASEMENTAREA_MEDI                     0\n",
       "                                  ...  \n",
       "FLAG_DOCUMENT_10                      0\n",
       "FLAG_DOCUMENT_9                       0\n",
       "FLAG_DOCUMENT_8                       0\n",
       "FLAG_DOCUMENT_7                       0\n",
       "BUREAU_DAYS_CREDIT                    0\n",
       "BUREAU_DAYS_CREDIT_ENDDATE            0\n",
       "PREV_CNT_PAYMENT                      0\n",
       "BUREAU_DAYS_ENDDATE_FACT              0\n",
       "PREV_SELLERPLACE_AREA                 0\n",
       "PREV_DAYS_DECISION                    0\n",
       "PREV_RATE_INTEREST_PRIVILEGED         0\n",
       "PREV_RATE_INTEREST_PRIMARY            0\n",
       "PREV_RATE_DOWN_PAYMENT                0\n",
       "PREV_NFLAG_LAST_APPL_IN_DAY           0\n",
       "PREV_HOUR_APPR_PROCESS_START          0\n",
       "PREV_AMT_GOODS_PRICE                  0\n",
       "PREV_AMT_DOWN_PAYMENT                 0\n",
       "PREV_AMT_CREDIT                       0\n",
       "PREV_AMT_APPLICATION                  0\n",
       "PREV_AMT_ANNUITY                      0\n",
       "PREV_APP_COUNT                        0\n",
       "BUREAU_AMT_ANNUITY                    0\n",
       "BUREAU_DAYS_CREDIT_UPDATE             0\n",
       "BUREAU_AMT_CREDIT_SUM_OVERDUE         0\n",
       "BUREAU_AMT_CREDIT_SUM_LIMIT           0\n",
       "BUREAU_AMT_CREDIT_SUM_DEBT            0\n",
       "BUREAU_AMT_CREDIT_SUM                 0\n",
       "BUREAU_CNT_CREDIT_PROLONG             0\n",
       "BUREAU_AMT_CREDIT_MAX_OVERDUE         0\n",
       "SK_ID_CURR                            0\n",
       "Length: 199, dtype: int64"
      ]
     },
     "execution_count": 5,
     "metadata": {},
     "output_type": "execute_result"
    }
   ],
   "source": [
    "df.isnull().sum().sort_values(ascending = False)"
   ]
  },
  {
   "cell_type": "code",
   "execution_count": 6,
   "metadata": {
    "collapsed": false
   },
   "outputs": [
    {
     "name": "stdout",
     "output_type": "stream",
     "text": [
      "Type of missing columns:\n",
      "--NAME_TYPE_SUITE: object\n",
      "--OCCUPATION_TYPE: object\n",
      "--EMERGENCYSTATE_MODE: object\n",
      "--WALLSMATERIAL_MODE: object\n",
      "--FONDKAPREMONT_MODE: object\n"
     ]
    }
   ],
   "source": [
    "# Missing values for NAME_TYPE_SUITE\n",
    "print('Type of missing columns:')\n",
    "print('--NAME_TYPE_SUITE:', df.NAME_TYPE_SUITE.dtype)\n",
    "print('--OCCUPATION_TYPE:', df.OCCUPATION_TYPE.dtype)\n",
    "print('--EMERGENCYSTATE_MODE:', df.EMERGENCYSTATE_MODE.dtype)\n",
    "print('--WALLSMATERIAL_MODE:', df.WALLSMATERIAL_MODE.dtype)\n",
    "print('--FONDKAPREMONT_MODE:', df.FONDKAPREMONT_MODE.dtype)"
   ]
  },
  {
   "cell_type": "markdown",
   "metadata": {},
   "source": [
    "We have NAME_TYPE_SUITE, OCCUPATION_TYPE, EMERGENCYSTATE_MODE, WALLSMATERIAL_MODE, FONDKAPREMONT_MODE  are categorical data. So we will fill out the missing value as NA."
   ]
  },
  {
   "cell_type": "code",
   "execution_count": 3,
   "metadata": {
    "collapsed": false
   },
   "outputs": [
    {
     "data": {
      "text/plain": [
       "0         reg oper account\n",
       "1         reg oper account\n",
       "2                       NA\n",
       "3                       NA\n",
       "4                       NA\n",
       "5                       NA\n",
       "6                       NA\n",
       "7                       NA\n",
       "8                       NA\n",
       "9                       NA\n",
       "10                      NA\n",
       "11                      NA\n",
       "12        reg oper account\n",
       "13        reg oper account\n",
       "14        reg oper account\n",
       "15                      NA\n",
       "16                      NA\n",
       "17                      NA\n",
       "18        reg oper account\n",
       "19                      NA\n",
       "20        reg oper account\n",
       "21                      NA\n",
       "22        reg oper account\n",
       "23        org spec account\n",
       "24        reg oper account\n",
       "25        reg oper account\n",
       "26                      NA\n",
       "27                      NA\n",
       "28                      NA\n",
       "29        reg oper account\n",
       "                ...       \n",
       "307481                  NA\n",
       "307482       not specified\n",
       "307483    reg oper account\n",
       "307484                  NA\n",
       "307485                  NA\n",
       "307486                  NA\n",
       "307487                  NA\n",
       "307488                  NA\n",
       "307489    reg oper account\n",
       "307490                  NA\n",
       "307491                  NA\n",
       "307492                  NA\n",
       "307493                  NA\n",
       "307494                  NA\n",
       "307495    org spec account\n",
       "307496                  NA\n",
       "307497                  NA\n",
       "307498                  NA\n",
       "307499                  NA\n",
       "307500                  NA\n",
       "307501                  NA\n",
       "307502                  NA\n",
       "307503                  NA\n",
       "307504                  NA\n",
       "307505    reg oper account\n",
       "307506    reg oper account\n",
       "307507    reg oper account\n",
       "307508    reg oper account\n",
       "307509                  NA\n",
       "307510                  NA\n",
       "Name: FONDKAPREMONT_MODE, Length: 307511, dtype: object"
      ]
     },
     "execution_count": 3,
     "metadata": {},
     "output_type": "execute_result"
    }
   ],
   "source": [
    "df.NAME_TYPE_SUITE.fillna('NA')\n",
    "df.OCCUPATION_TYPE.fillna('NA')\n",
    "df.EMERGENCYSTATE_MODE.fillna('NA')\n",
    "df.WALLSMATERIAL_MODE.fillna('NA')\n",
    "df.FONDKAPREMONT_MODE.fillna('NA')"
   ]
  },
  {
   "cell_type": "markdown",
   "metadata": {
    "collapsed": false
   },
   "source": [
    "### 2. Feature Engineering on Categorical Data\n",
    "Typically, feature engineering involves transformation of these categorical values into numerical labels and then applying some encoding scheme on these values.\n",
    "\n",
    "Let look at the number of unique entries in each categorical column."
   ]
  },
  {
   "cell_type": "code",
   "execution_count": 4,
   "metadata": {
    "collapsed": false
   },
   "outputs": [
    {
     "data": {
      "text/plain": [
       "['NAME_CONTRACT_TYPE',\n",
       " 'CODE_GENDER',\n",
       " 'FLAG_OWN_CAR',\n",
       " 'FLAG_OWN_REALTY',\n",
       " 'NAME_TYPE_SUITE',\n",
       " 'NAME_INCOME_TYPE',\n",
       " 'NAME_EDUCATION_TYPE',\n",
       " 'NAME_FAMILY_STATUS',\n",
       " 'NAME_HOUSING_TYPE',\n",
       " 'OCCUPATION_TYPE',\n",
       " 'WEEKDAY_APPR_PROCESS_START',\n",
       " 'ORGANIZATION_TYPE',\n",
       " 'FONDKAPREMONT_MODE',\n",
       " 'HOUSETYPE_MODE',\n",
       " 'WALLSMATERIAL_MODE',\n",
       " 'EMERGENCYSTATE_MODE']"
      ]
     },
     "execution_count": 4,
     "metadata": {},
     "output_type": "execute_result"
    }
   ],
   "source": [
    "# Get all categorical columns.\n",
    "categoricals = df.select_dtypes('object')\n",
    "categoricals.columns.values.tolist()"
   ]
  },
  {
   "cell_type": "markdown",
   "metadata": {},
   "source": [
    "### Dummy variables\n",
    "Considering we have the numeric representation of any categorical attribute with m labels (after transformation),get_dummies() will encode or transform the attribute into m binary features which can only contain a value of 1 or 0. Each observation in the categorical feature is thus converted into a vector of size m with only one of the values as 1 (indicating it as active)."
   ]
  },
  {
   "cell_type": "code",
   "execution_count": 5,
   "metadata": {
    "collapsed": false
   },
   "outputs": [],
   "source": [
    "# Convert categorical variable into dummy variables.\n",
    "df = pd.get_dummies(df)"
   ]
  },
  {
   "cell_type": "markdown",
   "metadata": {},
   "source": [
    "### 3. Remove outlier\n",
    "\n",
    "An outlier is an observation point that is distant from other observations."
   ]
  },
  {
   "cell_type": "code",
   "execution_count": 10,
   "metadata": {
    "collapsed": false
   },
   "outputs": [
    {
     "data": {
      "text/plain": [
       "count    307511.000000\n",
       "mean        174.835742\n",
       "std         387.056895\n",
       "min         -49.073973\n",
       "25%          -7.561644\n",
       "50%          -3.323288\n",
       "75%          -0.791781\n",
       "max        1000.665753\n",
       "Name: DAYS_EMPLOYED, dtype: float64"
      ]
     },
     "execution_count": 10,
     "metadata": {},
     "output_type": "execute_result"
    }
   ],
   "source": [
    "# The maxixum days of employed 'DAYS_EMPLOYED' is 1000 years. \n",
    "# We will remove that outlier so it will not affect the performance of the model.\n",
    "(df['DAYS_EMPLOYED']/365).describe()"
   ]
  },
  {
   "cell_type": "code",
   "execution_count": 11,
   "metadata": {
    "collapsed": false
   },
   "outputs": [
    {
     "data": {
      "image/png": "[encoded data removed]",
      "text/plain": [
       "<Figure size 432x288 with 1 Axes>"
      ]
     },
     "metadata": {},
     "output_type": "display_data"
    }
   ],
   "source": [
    "plt.boxplot(df['DAYS_EMPLOYED'])\n",
    "plt.show()"
   ]
  },
  {
   "cell_type": "code",
   "execution_count": 12,
   "metadata": {
    "collapsed": false
   },
   "outputs": [
    {
     "data": {
      "text/plain": [
       "365243"
      ]
     },
     "execution_count": 12,
     "metadata": {},
     "output_type": "execute_result"
    }
   ],
   "source": [
    "# Get the max of days_employed.\n",
    "max(df['DAYS_EMPLOYED'])"
   ]
  },
  {
   "cell_type": "code",
   "execution_count": 6,
   "metadata": {
    "collapsed": false
   },
   "outputs": [],
   "source": [
    "# Drop the rows where DAYS_EMPLOYED = 1000 years.\n",
    "df.drop(df[ df['DAYS_EMPLOYED'] == max(df['DAYS_EMPLOYED'])].index , inplace=True)"
   ]
  },
  {
   "cell_type": "markdown",
   "metadata": {},
   "source": [
    "### 4. Splitting data into training and test set\n"
   ]
  },
  {
   "cell_type": "code",
   "execution_count": 10,
   "metadata": {
    "collapsed": true
   },
   "outputs": [],
   "source": [
    "# Create X and y dataset.\n",
    "# Drop the target from the data.\n",
    "if 'TARGET' in df:\n",
    "    X = df.drop(columns='TARGET')\n",
    "else:\n",
    "    X = df.copy()\n",
    "\n",
    "# Get test set.\n",
    "y = df['TARGET']"
   ]
  },
  {
   "cell_type": "code",
   "execution_count": 21,
   "metadata": {
    "collapsed": false
   },
   "outputs": [],
   "source": [
    "X_train, X_test, y_train,y_test = train_test_split(X, y, test_size = 0.2)"
   ]
  },
  {
   "cell_type": "code",
   "execution_count": 22,
   "metadata": {
    "collapsed": false
   },
   "outputs": [
    {
     "name": "stdout",
     "output_type": "stream",
     "text": [
      "X_train: 201709\n",
      "X_test 50428\n",
      "y_train 201709\n",
      "y_test 50428\n"
     ]
    }
   ],
   "source": [
    "print('X_train:',len(X_train))\n",
    "print('X_test', len(X_test))\n",
    "print('y_train', len(y_train))\n",
    "print('y_test', len(y_test))"
   ]
  },
  {
   "cell_type": "code",
   "execution_count": 23,
   "metadata": {
    "collapsed": false
   },
   "outputs": [
    {
     "data": {
      "text/plain": [
       "0    46183\n",
       "1     4245\n",
       "Name: TARGET, dtype: int64"
      ]
     },
     "execution_count": 23,
     "metadata": {},
     "output_type": "execute_result"
    }
   ],
   "source": [
    "y_test.value_counts()"
   ]
  },
  {
   "cell_type": "code",
   "execution_count": null,
   "metadata": {
    "collapsed": false
   },
   "outputs": [],
   "source": []
  },
  {
   "cell_type": "markdown",
   "metadata": {},
   "source": [
    "### 5. Model implementation\n",
    "\n",
    "We will implement some machine learning algorithms and evaluate performance of the algorithms to find which one is the best for the data.\n",
    "The algorithms we implements include:\n",
    "\n",
    "* Logistic Regression \n",
    "* KNN\n",
    "* Random Forest\n",
    "\n",
    "#### 1. Logistic Regression.\n",
    "Logistic Regression is used to predict the probability of a categorical dependent variable. In logistic regression, the dependent variable is a binary variable that contains data coded as 1 (yes, success, etc.) or 0 (no, failure, etc.). \n",
    "\n",
    "For a binary regression, the factor level 1 of the dependent variable should represent the desired outcome. In here, 1 mean customers who have risk of being able to repay the loan. 0 means customers can pay loan.\n",
    "And the important thing here is we want to know who cannot repay the loan, it means we care more about classification 1.\n"
   ]
  },
  {
   "cell_type": "code",
   "execution_count": 17,
   "metadata": {
    "collapsed": false
   },
   "outputs": [
    {
     "name": "stderr",
     "output_type": "stream",
     "text": [
      "C:\\Users\\samsung\\Anaconda3\\lib\\site-packages\\sklearn\\linear_model\\_logistic.py:940: ConvergenceWarning: lbfgs failed to converge (status=1):\n",
      "STOP: TOTAL NO. of ITERATIONS REACHED LIMIT.\n",
      "\n",
      "Increase the number of iterations (max_iter) or scale the data as shown in:\n",
      "    https://scikit-learn.org/stable/modules/preprocessing.html\n",
      "Please also refer to the documentation for alternative solver options:\n",
      "    https://scikit-learn.org/stable/modules/linear_model.html#logistic-regression\n",
      "  extra_warning_msg=_LOGISTIC_SOLVER_CONVERGENCE_MSG)\n"
     ]
    },
    {
     "name": "stdout",
     "output_type": "stream",
     "text": [
      "\n",
      "\n",
      "[Test] Accuracy score (y_predict_test, ytestlr): 0.912826207662\n",
      "\n",
      "\n",
      "[Training] Accuracy score: (ylr, y_predict_training) 0.913276056101\n"
     ]
    }
   ],
   "source": [
    "# Create Logistic Regression model.\n",
    "lr = LogisticRegression()\n",
    "\n",
    "# Fit the model\n",
    "lr.fit(X_train,y_train)\n",
    "\n",
    "# Make predict the test set\n",
    "y_predict_test = lr.predict(X_test)\n",
    "print(\"\\n\")\n",
    "print(\"[Test] Accuracy score (y_predict_test, ytestlr):\",accuracy_score(y_predict_test, y_test))\n",
    "\n",
    "# the training score\n",
    "y_predict_training = lr.predict(X_train)\n",
    "print(\"\\n\")\n",
    "print(\"[Training] Accuracy score: (ylr, y_predict_training)\",accuracy_score(y_train, y_predict_training))"
   ]
  },
  {
   "cell_type": "code",
   "execution_count": 18,
   "metadata": {
    "collapsed": false
   },
   "outputs": [
    {
     "name": "stdout",
     "output_type": "stream",
     "text": [
      "              precision    recall  f1-score   support\n",
      "\n",
      "           0       0.91      1.00      0.95     46041\n",
      "           1       0.20      0.00      0.00      4387\n",
      "\n",
      "    accuracy                           0.91     50428\n",
      "   macro avg       0.56      0.50      0.48     50428\n",
      "weighted avg       0.85      0.91      0.87     50428\n",
      "\n"
     ]
    }
   ],
   "source": [
    "# Classification report for predicting test set.\n",
    "print(classification_report(y_test, y_predict_test))"
   ]
  },
  {
   "cell_type": "code",
   "execution_count": 19,
   "metadata": {
    "collapsed": false
   },
   "outputs": [
    {
     "name": "stdout",
     "output_type": "stream",
     "text": [
      "[[46029    12]\n",
      " [ 4384     3]]\n"
     ]
    }
   ],
   "source": [
    "print(confusion_matrix(y_test, y_predict_test))"
   ]
  },
  {
   "cell_type": "markdown",
   "metadata": {},
   "source": [
    "#### Comments:\n",
    "1. Class 1 have very low precision (0.06) and recall is 0. It means the model could not detect any person that does not have ability to pay the loan. This is because of the samples for class 1 is 1/10 compared with the number of samples for class 0 (people who pay the loan).\n",
    "2. So, we have to do resampling of the data."
   ]
  },
  {
   "cell_type": "markdown",
   "metadata": {},
   "source": [
    "### Undersampling\n",
    "- The imbalanced datasets causes a skewness in the data distribution, create the minority class and the majority class. The bias in the data cause the machine learning model ignore the minority class. \n",
    "\n",
    "To address the problem of class imbalance, we will randomly resample the dataset using undersampling. Undersampling means to delete examples from the majority class."
   ]
  },
  {
   "cell_type": "code",
   "execution_count": 20,
   "metadata": {
    "collapsed": false
   },
   "outputs": [
    {
     "name": "stdout",
     "output_type": "stream",
     "text": [
      "Size of majority dataset:\n",
      "Counter({0: 230302, 1: 21835})\n",
      "Counter({0: 21835, 1: 21835})\n"
     ]
    }
   ],
   "source": [
    "#define the undersampling method\n",
    "undersample = NearMiss(version=1,n_neighbors=3)\n",
    "\n",
    "print('Size of majority dataset:')\n",
    "print(Counter(y))\n",
    "\n",
    "# transform the dataset\n",
    "X1, y1 = undersample.fit_resample(X,y) \n",
    "\n",
    "# summarize the new class distribution\n",
    "counter = Counter(y1)\n",
    "print(counter)\n"
   ]
  },
  {
   "cell_type": "markdown",
   "metadata": {},
   "source": [
    "After resampling, the size of the dataset of Class A reduces from 230302 samples into 21853 samples. The total size of undersampling dataset includes 43670 examples in which both class 1 and 0 have the same number of examples 21835. We will rerun the logistic regression model on the new resampling dataset."
   ]
  },
  {
   "cell_type": "code",
   "execution_count": 21,
   "metadata": {
    "collapsed": false,
    "scrolled": true
   },
   "outputs": [
    {
     "name": "stdout",
     "output_type": "stream",
     "text": [
      "\n",
      "\n",
      "[Test] Accuracy score (y_predict_test, ytestlr): 0.857339134417\n",
      "\n",
      "\n",
      "[Training] Accuracy score: (ylr, y_predict_training) 0.863779482482\n",
      "              precision    recall  f1-score   support\n",
      "\n",
      "           0       0.82      0.92      0.86      4356\n",
      "           1       0.91      0.80      0.85      4378\n",
      "\n",
      "    accuracy                           0.86      8734\n",
      "   macro avg       0.86      0.86      0.86      8734\n",
      "weighted avg       0.86      0.86      0.86      8734\n",
      "\n"
     ]
    },
    {
     "name": "stderr",
     "output_type": "stream",
     "text": [
      "C:\\Users\\samsung\\Anaconda3\\lib\\site-packages\\sklearn\\linear_model\\_logistic.py:940: ConvergenceWarning: lbfgs failed to converge (status=1):\n",
      "STOP: TOTAL NO. of ITERATIONS REACHED LIMIT.\n",
      "\n",
      "Increase the number of iterations (max_iter) or scale the data as shown in:\n",
      "    https://scikit-learn.org/stable/modules/preprocessing.html\n",
      "Please also refer to the documentation for alternative solver options:\n",
      "    https://scikit-learn.org/stable/modules/linear_model.html#logistic-regression\n",
      "  extra_warning_msg=_LOGISTIC_SOLVER_CONVERGENCE_MSG)\n"
     ]
    }
   ],
   "source": [
    "def log_regression(X,y):\n",
    "    # Create training, test set.\n",
    "    X_train, X_test, y_train, y_test = train_test_split(X, y, test_size = 0.2)\n",
    "\n",
    "    # Create Logistic Regression model.\n",
    "    lr = LogisticRegression()\n",
    "\n",
    "    # Fit the model\n",
    "    lr.fit(X_train,y_train)\n",
    "\n",
    "    # Make predict the test set\n",
    "    y_predict_test = lr.predict(X_test)\n",
    "    print(\"\\n\")\n",
    "    print(\"[Test] Accuracy score (y_predict_test, ytestlr):\",accuracy_score(y_predict_test, y_test))\n",
    "\n",
    "    # the training score\n",
    "    y_predict_training = lr.predict(X_train)\n",
    "    print(\"\\n\")\n",
    "    print(\"[Training] Accuracy score: (ylr, y_predict_training)\",accuracy_score(y_train, y_predict_training))\n",
    "    print(classification_report(y_test,y_predict_test ))\n",
    "    \n",
    "# Run logistic regression using resampling datasets X1, y1.\n",
    "log_regression(X1, y1)"
   ]
  },
  {
   "cell_type": "markdown",
   "metadata": {},
   "source": [
    "We get the results much better than the orginal dataset. To prevent the bias on the resampling data, we will undersample the dataset in n times."
   ]
  },
  {
   "cell_type": "code",
   "execution_count": 13,
   "metadata": {
    "collapsed": true
   },
   "outputs": [],
   "source": [
    "def under_sampling(clf, X,y):\n",
    "    Precisions = []\n",
    "    Recalls = []\n",
    "    #define the undersampling method\n",
    "    undersample = NearMiss(version=1,n_neighbors=3)\n",
    "\n",
    "    print('Size of majority dataset:')\n",
    "    print(Counter(y))\n",
    "    \n",
    "    for i in range(100):\n",
    "        # transform the dataset\n",
    "        X1, y1 = undersample.fit_resample(X,y) \n",
    "\n",
    "        # summarize the new class distribution\n",
    "        counter = Counter(y1)\n",
    "        print('Size of majority dataset after undersampling:')\n",
    "        print(counter)\n",
    "        \n",
    "        # Create traiing, test set.\n",
    "        X_train, X_test, y_train, y_test = train_test_split(X1, y1, test_size = 0.2)\n",
    "        \n",
    "        # Fit the model\n",
    "        clf.fit(X_train, y_train)\n",
    "        \n",
    "        # Make predict the test set\n",
    "        y_predict_test = clf.predict(X_test)\n",
    "        \n",
    "        # Calculate precision, recall\n",
    "        Precisions.append(precision_score(y_test, y_predict_test))\n",
    "        Recalls.append(recall_score(y_test, y_predict_test))\n",
    "    return Precisions, Recalls"
   ]
  },
  {
   "cell_type": "markdown",
   "metadata": {},
   "source": [
    "#### 1. Logistic Regression with undersampling data."
   ]
  },
  {
   "cell_type": "code",
   "execution_count": 23,
   "metadata": {
    "collapsed": false
   },
   "outputs": [
    {
     "name": "stdout",
     "output_type": "stream",
     "text": [
      "Size of majority dataset:\n",
      "Counter({0: 230302, 1: 21835})\n",
      "Size of majority dataset after undersampling:\n",
      "Counter({0: 21835, 1: 21835})\n"
     ]
    },
    {
     "name": "stderr",
     "output_type": "stream",
     "text": [
      "C:\\Users\\samsung\\Anaconda3\\lib\\site-packages\\sklearn\\linear_model\\_logistic.py:940: ConvergenceWarning: lbfgs failed to converge (status=1):\n",
      "STOP: TOTAL NO. of ITERATIONS REACHED LIMIT.\n",
      "\n",
      "Increase the number of iterations (max_iter) or scale the data as shown in:\n",
      "    https://scikit-learn.org/stable/modules/preprocessing.html\n",
      "Please also refer to the documentation for alternative solver options:\n",
      "    https://scikit-learn.org/stable/modules/linear_model.html#logistic-regression\n",
      "  extra_warning_msg=_LOGISTIC_SOLVER_CONVERGENCE_MSG)\n"
     ]
    },
    {
     "name": "stdout",
     "output_type": "stream",
     "text": [
      "Size of majority dataset after undersampling:\n",
      "Counter({0: 21835, 1: 21835})\n"
     ]
    },
    {
     "name": "stderr",
     "output_type": "stream",
     "text": [
      "C:\\Users\\samsung\\Anaconda3\\lib\\site-packages\\sklearn\\linear_model\\_logistic.py:940: ConvergenceWarning: lbfgs failed to converge (status=1):\n",
      "STOP: TOTAL NO. of ITERATIONS REACHED LIMIT.\n",
      "\n",
      "Increase the number of iterations (max_iter) or scale the data as shown in:\n",
      "    https://scikit-learn.org/stable/modules/preprocessing.html\n",
      "Please also refer to the documentation for alternative solver options:\n",
      "    https://scikit-learn.org/stable/modules/linear_model.html#logistic-regression\n",
      "  extra_warning_msg=_LOGISTIC_SOLVER_CONVERGENCE_MSG)\n"
     ]
    },
    {
     "name": "stdout",
     "output_type": "stream",
     "text": [
      "Size of majority dataset after undersampling:\n",
      "Counter({0: 21835, 1: 21835})\n"
     ]
    },
    {
     "name": "stderr",
     "output_type": "stream",
     "text": [
      "C:\\Users\\samsung\\Anaconda3\\lib\\site-packages\\sklearn\\linear_model\\_logistic.py:940: ConvergenceWarning: lbfgs failed to converge (status=1):\n",
      "STOP: TOTAL NO. of ITERATIONS REACHED LIMIT.\n",
      "\n",
      "Increase the number of iterations (max_iter) or scale the data as shown in:\n",
      "    https://scikit-learn.org/stable/modules/preprocessing.html\n",
      "Please also refer to the documentation for alternative solver options:\n",
      "    https://scikit-learn.org/stable/modules/linear_model.html#logistic-regression\n",
      "  extra_warning_msg=_LOGISTIC_SOLVER_CONVERGENCE_MSG)\n"
     ]
    },
    {
     "name": "stdout",
     "output_type": "stream",
     "text": [
      "Size of majority dataset after undersampling:\n",
      "Counter({0: 21835, 1: 21835})\n"
     ]
    },
    {
     "name": "stderr",
     "output_type": "stream",
     "text": [
      "C:\\Users\\samsung\\Anaconda3\\lib\\site-packages\\sklearn\\linear_model\\_logistic.py:940: ConvergenceWarning: lbfgs failed to converge (status=1):\n",
      "STOP: TOTAL NO. of ITERATIONS REACHED LIMIT.\n",
      "\n",
      "Increase the number of iterations (max_iter) or scale the data as shown in:\n",
      "    https://scikit-learn.org/stable/modules/preprocessing.html\n",
      "Please also refer to the documentation for alternative solver options:\n",
      "    https://scikit-learn.org/stable/modules/linear_model.html#logistic-regression\n",
      "  extra_warning_msg=_LOGISTIC_SOLVER_CONVERGENCE_MSG)\n"
     ]
    },
    {
     "name": "stdout",
     "output_type": "stream",
     "text": [
      "Size of majority dataset after undersampling:\n",
      "Counter({0: 21835, 1: 21835})\n"
     ]
    },
    {
     "name": "stderr",
     "output_type": "stream",
     "text": [
      "C:\\Users\\samsung\\Anaconda3\\lib\\site-packages\\sklearn\\linear_model\\_logistic.py:940: ConvergenceWarning: lbfgs failed to converge (status=1):\n",
      "STOP: TOTAL NO. of ITERATIONS REACHED LIMIT.\n",
      "\n",
      "Increase the number of iterations (max_iter) or scale the data as shown in:\n",
      "    https://scikit-learn.org/stable/modules/preprocessing.html\n",
      "Please also refer to the documentation for alternative solver options:\n",
      "    https://scikit-learn.org/stable/modules/linear_model.html#logistic-regression\n",
      "  extra_warning_msg=_LOGISTIC_SOLVER_CONVERGENCE_MSG)\n"
     ]
    },
    {
     "name": "stdout",
     "output_type": "stream",
     "text": [
      "Size of majority dataset after undersampling:\n",
      "Counter({0: 21835, 1: 21835})\n"
     ]
    },
    {
     "name": "stderr",
     "output_type": "stream",
     "text": [
      "C:\\Users\\samsung\\Anaconda3\\lib\\site-packages\\sklearn\\linear_model\\_logistic.py:940: ConvergenceWarning: lbfgs failed to converge (status=1):\n",
      "STOP: TOTAL NO. of ITERATIONS REACHED LIMIT.\n",
      "\n",
      "Increase the number of iterations (max_iter) or scale the data as shown in:\n",
      "    https://scikit-learn.org/stable/modules/preprocessing.html\n",
      "Please also refer to the documentation for alternative solver options:\n",
      "    https://scikit-learn.org/stable/modules/linear_model.html#logistic-regression\n",
      "  extra_warning_msg=_LOGISTIC_SOLVER_CONVERGENCE_MSG)\n"
     ]
    },
    {
     "name": "stdout",
     "output_type": "stream",
     "text": [
      "Size of majority dataset after undersampling:\n",
      "Counter({0: 21835, 1: 21835})\n"
     ]
    },
    {
     "name": "stderr",
     "output_type": "stream",
     "text": [
      "C:\\Users\\samsung\\Anaconda3\\lib\\site-packages\\sklearn\\linear_model\\_logistic.py:940: ConvergenceWarning: lbfgs failed to converge (status=1):\n",
      "STOP: TOTAL NO. of ITERATIONS REACHED LIMIT.\n",
      "\n",
      "Increase the number of iterations (max_iter) or scale the data as shown in:\n",
      "    https://scikit-learn.org/stable/modules/preprocessing.html\n",
      "Please also refer to the documentation for alternative solver options:\n",
      "    https://scikit-learn.org/stable/modules/linear_model.html#logistic-regression\n",
      "  extra_warning_msg=_LOGISTIC_SOLVER_CONVERGENCE_MSG)\n"
     ]
    },
    {
     "name": "stdout",
     "output_type": "stream",
     "text": [
      "Size of majority dataset after undersampling:\n",
      "Counter({0: 21835, 1: 21835})\n"
     ]
    },
    {
     "name": "stderr",
     "output_type": "stream",
     "text": [
      "C:\\Users\\samsung\\Anaconda3\\lib\\site-packages\\sklearn\\linear_model\\_logistic.py:940: ConvergenceWarning: lbfgs failed to converge (status=1):\n",
      "STOP: TOTAL NO. of ITERATIONS REACHED LIMIT.\n",
      "\n",
      "Increase the number of iterations (max_iter) or scale the data as shown in:\n",
      "    https://scikit-learn.org/stable/modules/preprocessing.html\n",
      "Please also refer to the documentation for alternative solver options:\n",
      "    https://scikit-learn.org/stable/modules/linear_model.html#logistic-regression\n",
      "  extra_warning_msg=_LOGISTIC_SOLVER_CONVERGENCE_MSG)\n"
     ]
    },
    {
     "name": "stdout",
     "output_type": "stream",
     "text": [
      "Size of majority dataset after undersampling:\n",
      "Counter({0: 21835, 1: 21835})\n"
     ]
    },
    {
     "name": "stderr",
     "output_type": "stream",
     "text": [
      "C:\\Users\\samsung\\Anaconda3\\lib\\site-packages\\sklearn\\linear_model\\_logistic.py:940: ConvergenceWarning: lbfgs failed to converge (status=1):\n",
      "STOP: TOTAL NO. of ITERATIONS REACHED LIMIT.\n",
      "\n",
      "Increase the number of iterations (max_iter) or scale the data as shown in:\n",
      "    https://scikit-learn.org/stable/modules/preprocessing.html\n",
      "Please also refer to the documentation for alternative solver options:\n",
      "    https://scikit-learn.org/stable/modules/linear_model.html#logistic-regression\n",
      "  extra_warning_msg=_LOGISTIC_SOLVER_CONVERGENCE_MSG)\n"
     ]
    },
    {
     "name": "stdout",
     "output_type": "stream",
     "text": [
      "Size of majority dataset after undersampling:\n",
      "Counter({0: 21835, 1: 21835})\n"
     ]
    },
    {
     "name": "stderr",
     "output_type": "stream",
     "text": [
      "C:\\Users\\samsung\\Anaconda3\\lib\\site-packages\\sklearn\\linear_model\\_logistic.py:940: ConvergenceWarning: lbfgs failed to converge (status=1):\n",
      "STOP: TOTAL NO. of ITERATIONS REACHED LIMIT.\n",
      "\n",
      "Increase the number of iterations (max_iter) or scale the data as shown in:\n",
      "    https://scikit-learn.org/stable/modules/preprocessing.html\n",
      "Please also refer to the documentation for alternative solver options:\n",
      "    https://scikit-learn.org/stable/modules/linear_model.html#logistic-regression\n",
      "  extra_warning_msg=_LOGISTIC_SOLVER_CONVERGENCE_MSG)\n"
     ]
    },
    {
     "name": "stdout",
     "output_type": "stream",
     "text": [
      "Size of majority dataset after undersampling:\n",
      "Counter({0: 21835, 1: 21835})\n"
     ]
    },
    {
     "name": "stderr",
     "output_type": "stream",
     "text": [
      "C:\\Users\\samsung\\Anaconda3\\lib\\site-packages\\sklearn\\linear_model\\_logistic.py:940: ConvergenceWarning: lbfgs failed to converge (status=1):\n",
      "STOP: TOTAL NO. of ITERATIONS REACHED LIMIT.\n",
      "\n",
      "Increase the number of iterations (max_iter) or scale the data as shown in:\n",
      "    https://scikit-learn.org/stable/modules/preprocessing.html\n",
      "Please also refer to the documentation for alternative solver options:\n",
      "    https://scikit-learn.org/stable/modules/linear_model.html#logistic-regression\n",
      "  extra_warning_msg=_LOGISTIC_SOLVER_CONVERGENCE_MSG)\n"
     ]
    },
    {
     "name": "stdout",
     "output_type": "stream",
     "text": [
      "Size of majority dataset after undersampling:\n",
      "Counter({0: 21835, 1: 21835})\n"
     ]
    },
    {
     "name": "stderr",
     "output_type": "stream",
     "text": [
      "C:\\Users\\samsung\\Anaconda3\\lib\\site-packages\\sklearn\\linear_model\\_logistic.py:940: ConvergenceWarning: lbfgs failed to converge (status=1):\n",
      "STOP: TOTAL NO. of ITERATIONS REACHED LIMIT.\n",
      "\n",
      "Increase the number of iterations (max_iter) or scale the data as shown in:\n",
      "    https://scikit-learn.org/stable/modules/preprocessing.html\n",
      "Please also refer to the documentation for alternative solver options:\n",
      "    https://scikit-learn.org/stable/modules/linear_model.html#logistic-regression\n",
      "  extra_warning_msg=_LOGISTIC_SOLVER_CONVERGENCE_MSG)\n"
     ]
    },
    {
     "name": "stdout",
     "output_type": "stream",
     "text": [
      "Size of majority dataset after undersampling:\n",
      "Counter({0: 21835, 1: 21835})\n"
     ]
    },
    {
     "name": "stderr",
     "output_type": "stream",
     "text": [
      "C:\\Users\\samsung\\Anaconda3\\lib\\site-packages\\sklearn\\linear_model\\_logistic.py:940: ConvergenceWarning: lbfgs failed to converge (status=1):\n",
      "STOP: TOTAL NO. of ITERATIONS REACHED LIMIT.\n",
      "\n",
      "Increase the number of iterations (max_iter) or scale the data as shown in:\n",
      "    https://scikit-learn.org/stable/modules/preprocessing.html\n",
      "Please also refer to the documentation for alternative solver options:\n",
      "    https://scikit-learn.org/stable/modules/linear_model.html#logistic-regression\n",
      "  extra_warning_msg=_LOGISTIC_SOLVER_CONVERGENCE_MSG)\n"
     ]
    },
    {
     "name": "stdout",
     "output_type": "stream",
     "text": [
      "Size of majority dataset after undersampling:\n",
      "Counter({0: 21835, 1: 21835})\n"
     ]
    },
    {
     "name": "stderr",
     "output_type": "stream",
     "text": [
      "C:\\Users\\samsung\\Anaconda3\\lib\\site-packages\\sklearn\\linear_model\\_logistic.py:940: ConvergenceWarning: lbfgs failed to converge (status=1):\n",
      "STOP: TOTAL NO. of ITERATIONS REACHED LIMIT.\n",
      "\n",
      "Increase the number of iterations (max_iter) or scale the data as shown in:\n",
      "    https://scikit-learn.org/stable/modules/preprocessing.html\n",
      "Please also refer to the documentation for alternative solver options:\n",
      "    https://scikit-learn.org/stable/modules/linear_model.html#logistic-regression\n",
      "  extra_warning_msg=_LOGISTIC_SOLVER_CONVERGENCE_MSG)\n"
     ]
    },
    {
     "name": "stdout",
     "output_type": "stream",
     "text": [
      "Size of majority dataset after undersampling:\n",
      "Counter({0: 21835, 1: 21835})\n"
     ]
    },
    {
     "name": "stderr",
     "output_type": "stream",
     "text": [
      "C:\\Users\\samsung\\Anaconda3\\lib\\site-packages\\sklearn\\linear_model\\_logistic.py:940: ConvergenceWarning: lbfgs failed to converge (status=1):\n",
      "STOP: TOTAL NO. of ITERATIONS REACHED LIMIT.\n",
      "\n",
      "Increase the number of iterations (max_iter) or scale the data as shown in:\n",
      "    https://scikit-learn.org/stable/modules/preprocessing.html\n",
      "Please also refer to the documentation for alternative solver options:\n",
      "    https://scikit-learn.org/stable/modules/linear_model.html#logistic-regression\n",
      "  extra_warning_msg=_LOGISTIC_SOLVER_CONVERGENCE_MSG)\n"
     ]
    },
    {
     "name": "stdout",
     "output_type": "stream",
     "text": [
      "Size of majority dataset after undersampling:\n",
      "Counter({0: 21835, 1: 21835})\n"
     ]
    },
    {
     "name": "stderr",
     "output_type": "stream",
     "text": [
      "C:\\Users\\samsung\\Anaconda3\\lib\\site-packages\\sklearn\\linear_model\\_logistic.py:940: ConvergenceWarning: lbfgs failed to converge (status=1):\n",
      "STOP: TOTAL NO. of ITERATIONS REACHED LIMIT.\n",
      "\n",
      "Increase the number of iterations (max_iter) or scale the data as shown in:\n",
      "    https://scikit-learn.org/stable/modules/preprocessing.html\n",
      "Please also refer to the documentation for alternative solver options:\n",
      "    https://scikit-learn.org/stable/modules/linear_model.html#logistic-regression\n",
      "  extra_warning_msg=_LOGISTIC_SOLVER_CONVERGENCE_MSG)\n"
     ]
    },
    {
     "name": "stdout",
     "output_type": "stream",
     "text": [
      "Size of majority dataset after undersampling:\n",
      "Counter({0: 21835, 1: 21835})\n"
     ]
    },
    {
     "name": "stderr",
     "output_type": "stream",
     "text": [
      "C:\\Users\\samsung\\Anaconda3\\lib\\site-packages\\sklearn\\linear_model\\_logistic.py:940: ConvergenceWarning: lbfgs failed to converge (status=1):\n",
      "STOP: TOTAL NO. of ITERATIONS REACHED LIMIT.\n",
      "\n",
      "Increase the number of iterations (max_iter) or scale the data as shown in:\n",
      "    https://scikit-learn.org/stable/modules/preprocessing.html\n",
      "Please also refer to the documentation for alternative solver options:\n",
      "    https://scikit-learn.org/stable/modules/linear_model.html#logistic-regression\n",
      "  extra_warning_msg=_LOGISTIC_SOLVER_CONVERGENCE_MSG)\n"
     ]
    },
    {
     "name": "stdout",
     "output_type": "stream",
     "text": [
      "Size of majority dataset after undersampling:\n",
      "Counter({0: 21835, 1: 21835})\n"
     ]
    },
    {
     "name": "stderr",
     "output_type": "stream",
     "text": [
      "C:\\Users\\samsung\\Anaconda3\\lib\\site-packages\\sklearn\\linear_model\\_logistic.py:940: ConvergenceWarning: lbfgs failed to converge (status=1):\n",
      "STOP: TOTAL NO. of ITERATIONS REACHED LIMIT.\n",
      "\n",
      "Increase the number of iterations (max_iter) or scale the data as shown in:\n",
      "    https://scikit-learn.org/stable/modules/preprocessing.html\n",
      "Please also refer to the documentation for alternative solver options:\n",
      "    https://scikit-learn.org/stable/modules/linear_model.html#logistic-regression\n",
      "  extra_warning_msg=_LOGISTIC_SOLVER_CONVERGENCE_MSG)\n"
     ]
    },
    {
     "name": "stdout",
     "output_type": "stream",
     "text": [
      "Size of majority dataset after undersampling:\n",
      "Counter({0: 21835, 1: 21835})\n"
     ]
    },
    {
     "name": "stderr",
     "output_type": "stream",
     "text": [
      "C:\\Users\\samsung\\Anaconda3\\lib\\site-packages\\sklearn\\linear_model\\_logistic.py:940: ConvergenceWarning: lbfgs failed to converge (status=1):\n",
      "STOP: TOTAL NO. of ITERATIONS REACHED LIMIT.\n",
      "\n",
      "Increase the number of iterations (max_iter) or scale the data as shown in:\n",
      "    https://scikit-learn.org/stable/modules/preprocessing.html\n",
      "Please also refer to the documentation for alternative solver options:\n",
      "    https://scikit-learn.org/stable/modules/linear_model.html#logistic-regression\n",
      "  extra_warning_msg=_LOGISTIC_SOLVER_CONVERGENCE_MSG)\n"
     ]
    },
    {
     "name": "stdout",
     "output_type": "stream",
     "text": [
      "Size of majority dataset after undersampling:\n",
      "Counter({0: 21835, 1: 21835})\n"
     ]
    },
    {
     "name": "stderr",
     "output_type": "stream",
     "text": [
      "C:\\Users\\samsung\\Anaconda3\\lib\\site-packages\\sklearn\\linear_model\\_logistic.py:940: ConvergenceWarning: lbfgs failed to converge (status=1):\n",
      "STOP: TOTAL NO. of ITERATIONS REACHED LIMIT.\n",
      "\n",
      "Increase the number of iterations (max_iter) or scale the data as shown in:\n",
      "    https://scikit-learn.org/stable/modules/preprocessing.html\n",
      "Please also refer to the documentation for alternative solver options:\n",
      "    https://scikit-learn.org/stable/modules/linear_model.html#logistic-regression\n",
      "  extra_warning_msg=_LOGISTIC_SOLVER_CONVERGENCE_MSG)\n"
     ]
    },
    {
     "name": "stdout",
     "output_type": "stream",
     "text": [
      "Size of majority dataset after undersampling:\n",
      "Counter({0: 21835, 1: 21835})\n"
     ]
    },
    {
     "name": "stderr",
     "output_type": "stream",
     "text": [
      "C:\\Users\\samsung\\Anaconda3\\lib\\site-packages\\sklearn\\linear_model\\_logistic.py:940: ConvergenceWarning: lbfgs failed to converge (status=1):\n",
      "STOP: TOTAL NO. of ITERATIONS REACHED LIMIT.\n",
      "\n",
      "Increase the number of iterations (max_iter) or scale the data as shown in:\n",
      "    https://scikit-learn.org/stable/modules/preprocessing.html\n",
      "Please also refer to the documentation for alternative solver options:\n",
      "    https://scikit-learn.org/stable/modules/linear_model.html#logistic-regression\n",
      "  extra_warning_msg=_LOGISTIC_SOLVER_CONVERGENCE_MSG)\n"
     ]
    },
    {
     "name": "stdout",
     "output_type": "stream",
     "text": [
      "Size of majority dataset after undersampling:\n",
      "Counter({0: 21835, 1: 21835})\n"
     ]
    },
    {
     "name": "stderr",
     "output_type": "stream",
     "text": [
      "C:\\Users\\samsung\\Anaconda3\\lib\\site-packages\\sklearn\\linear_model\\_logistic.py:940: ConvergenceWarning: lbfgs failed to converge (status=1):\n",
      "STOP: TOTAL NO. of ITERATIONS REACHED LIMIT.\n",
      "\n",
      "Increase the number of iterations (max_iter) or scale the data as shown in:\n",
      "    https://scikit-learn.org/stable/modules/preprocessing.html\n",
      "Please also refer to the documentation for alternative solver options:\n",
      "    https://scikit-learn.org/stable/modules/linear_model.html#logistic-regression\n",
      "  extra_warning_msg=_LOGISTIC_SOLVER_CONVERGENCE_MSG)\n"
     ]
    },
    {
     "name": "stdout",
     "output_type": "stream",
     "text": [
      "Size of majority dataset after undersampling:\n",
      "Counter({0: 21835, 1: 21835})\n"
     ]
    },
    {
     "name": "stderr",
     "output_type": "stream",
     "text": [
      "C:\\Users\\samsung\\Anaconda3\\lib\\site-packages\\sklearn\\linear_model\\_logistic.py:940: ConvergenceWarning: lbfgs failed to converge (status=1):\n",
      "STOP: TOTAL NO. of ITERATIONS REACHED LIMIT.\n",
      "\n",
      "Increase the number of iterations (max_iter) or scale the data as shown in:\n",
      "    https://scikit-learn.org/stable/modules/preprocessing.html\n",
      "Please also refer to the documentation for alternative solver options:\n",
      "    https://scikit-learn.org/stable/modules/linear_model.html#logistic-regression\n",
      "  extra_warning_msg=_LOGISTIC_SOLVER_CONVERGENCE_MSG)\n"
     ]
    },
    {
     "name": "stdout",
     "output_type": "stream",
     "text": [
      "Size of majority dataset after undersampling:\n",
      "Counter({0: 21835, 1: 21835})\n"
     ]
    },
    {
     "name": "stderr",
     "output_type": "stream",
     "text": [
      "C:\\Users\\samsung\\Anaconda3\\lib\\site-packages\\sklearn\\linear_model\\_logistic.py:940: ConvergenceWarning: lbfgs failed to converge (status=1):\n",
      "STOP: TOTAL NO. of ITERATIONS REACHED LIMIT.\n",
      "\n",
      "Increase the number of iterations (max_iter) or scale the data as shown in:\n",
      "    https://scikit-learn.org/stable/modules/preprocessing.html\n",
      "Please also refer to the documentation for alternative solver options:\n",
      "    https://scikit-learn.org/stable/modules/linear_model.html#logistic-regression\n",
      "  extra_warning_msg=_LOGISTIC_SOLVER_CONVERGENCE_MSG)\n"
     ]
    },
    {
     "name": "stdout",
     "output_type": "stream",
     "text": [
      "Size of majority dataset after undersampling:\n",
      "Counter({0: 21835, 1: 21835})\n"
     ]
    },
    {
     "name": "stderr",
     "output_type": "stream",
     "text": [
      "C:\\Users\\samsung\\Anaconda3\\lib\\site-packages\\sklearn\\linear_model\\_logistic.py:940: ConvergenceWarning: lbfgs failed to converge (status=1):\n",
      "STOP: TOTAL NO. of ITERATIONS REACHED LIMIT.\n",
      "\n",
      "Increase the number of iterations (max_iter) or scale the data as shown in:\n",
      "    https://scikit-learn.org/stable/modules/preprocessing.html\n",
      "Please also refer to the documentation for alternative solver options:\n",
      "    https://scikit-learn.org/stable/modules/linear_model.html#logistic-regression\n",
      "  extra_warning_msg=_LOGISTIC_SOLVER_CONVERGENCE_MSG)\n"
     ]
    },
    {
     "name": "stdout",
     "output_type": "stream",
     "text": [
      "Size of majority dataset after undersampling:\n",
      "Counter({0: 21835, 1: 21835})\n"
     ]
    },
    {
     "name": "stderr",
     "output_type": "stream",
     "text": [
      "C:\\Users\\samsung\\Anaconda3\\lib\\site-packages\\sklearn\\linear_model\\_logistic.py:940: ConvergenceWarning: lbfgs failed to converge (status=1):\n",
      "STOP: TOTAL NO. of ITERATIONS REACHED LIMIT.\n",
      "\n",
      "Increase the number of iterations (max_iter) or scale the data as shown in:\n",
      "    https://scikit-learn.org/stable/modules/preprocessing.html\n",
      "Please also refer to the documentation for alternative solver options:\n",
      "    https://scikit-learn.org/stable/modules/linear_model.html#logistic-regression\n",
      "  extra_warning_msg=_LOGISTIC_SOLVER_CONVERGENCE_MSG)\n"
     ]
    },
    {
     "name": "stdout",
     "output_type": "stream",
     "text": [
      "Size of majority dataset after undersampling:\n",
      "Counter({0: 21835, 1: 21835})\n"
     ]
    },
    {
     "name": "stderr",
     "output_type": "stream",
     "text": [
      "C:\\Users\\samsung\\Anaconda3\\lib\\site-packages\\sklearn\\linear_model\\_logistic.py:940: ConvergenceWarning: lbfgs failed to converge (status=1):\n",
      "STOP: TOTAL NO. of ITERATIONS REACHED LIMIT.\n",
      "\n",
      "Increase the number of iterations (max_iter) or scale the data as shown in:\n",
      "    https://scikit-learn.org/stable/modules/preprocessing.html\n",
      "Please also refer to the documentation for alternative solver options:\n",
      "    https://scikit-learn.org/stable/modules/linear_model.html#logistic-regression\n",
      "  extra_warning_msg=_LOGISTIC_SOLVER_CONVERGENCE_MSG)\n"
     ]
    },
    {
     "name": "stdout",
     "output_type": "stream",
     "text": [
      "Size of majority dataset after undersampling:\n",
      "Counter({0: 21835, 1: 21835})\n"
     ]
    },
    {
     "name": "stderr",
     "output_type": "stream",
     "text": [
      "C:\\Users\\samsung\\Anaconda3\\lib\\site-packages\\sklearn\\linear_model\\_logistic.py:940: ConvergenceWarning: lbfgs failed to converge (status=1):\n",
      "STOP: TOTAL NO. of ITERATIONS REACHED LIMIT.\n",
      "\n",
      "Increase the number of iterations (max_iter) or scale the data as shown in:\n",
      "    https://scikit-learn.org/stable/modules/preprocessing.html\n",
      "Please also refer to the documentation for alternative solver options:\n",
      "    https://scikit-learn.org/stable/modules/linear_model.html#logistic-regression\n",
      "  extra_warning_msg=_LOGISTIC_SOLVER_CONVERGENCE_MSG)\n"
     ]
    },
    {
     "name": "stdout",
     "output_type": "stream",
     "text": [
      "Size of majority dataset after undersampling:\n",
      "Counter({0: 21835, 1: 21835})\n"
     ]
    },
    {
     "name": "stderr",
     "output_type": "stream",
     "text": [
      "C:\\Users\\samsung\\Anaconda3\\lib\\site-packages\\sklearn\\linear_model\\_logistic.py:940: ConvergenceWarning: lbfgs failed to converge (status=1):\n",
      "STOP: TOTAL NO. of ITERATIONS REACHED LIMIT.\n",
      "\n",
      "Increase the number of iterations (max_iter) or scale the data as shown in:\n",
      "    https://scikit-learn.org/stable/modules/preprocessing.html\n",
      "Please also refer to the documentation for alternative solver options:\n",
      "    https://scikit-learn.org/stable/modules/linear_model.html#logistic-regression\n",
      "  extra_warning_msg=_LOGISTIC_SOLVER_CONVERGENCE_MSG)\n"
     ]
    },
    {
     "name": "stdout",
     "output_type": "stream",
     "text": [
      "Size of majority dataset after undersampling:\n",
      "Counter({0: 21835, 1: 21835})\n"
     ]
    },
    {
     "name": "stderr",
     "output_type": "stream",
     "text": [
      "C:\\Users\\samsung\\Anaconda3\\lib\\site-packages\\sklearn\\linear_model\\_logistic.py:940: ConvergenceWarning: lbfgs failed to converge (status=1):\n",
      "STOP: TOTAL NO. of ITERATIONS REACHED LIMIT.\n",
      "\n",
      "Increase the number of iterations (max_iter) or scale the data as shown in:\n",
      "    https://scikit-learn.org/stable/modules/preprocessing.html\n",
      "Please also refer to the documentation for alternative solver options:\n",
      "    https://scikit-learn.org/stable/modules/linear_model.html#logistic-regression\n",
      "  extra_warning_msg=_LOGISTIC_SOLVER_CONVERGENCE_MSG)\n"
     ]
    },
    {
     "name": "stdout",
     "output_type": "stream",
     "text": [
      "Size of majority dataset after undersampling:\n",
      "Counter({0: 21835, 1: 21835})\n"
     ]
    },
    {
     "name": "stderr",
     "output_type": "stream",
     "text": [
      "C:\\Users\\samsung\\Anaconda3\\lib\\site-packages\\sklearn\\linear_model\\_logistic.py:940: ConvergenceWarning: lbfgs failed to converge (status=1):\n",
      "STOP: TOTAL NO. of ITERATIONS REACHED LIMIT.\n",
      "\n",
      "Increase the number of iterations (max_iter) or scale the data as shown in:\n",
      "    https://scikit-learn.org/stable/modules/preprocessing.html\n",
      "Please also refer to the documentation for alternative solver options:\n",
      "    https://scikit-learn.org/stable/modules/linear_model.html#logistic-regression\n",
      "  extra_warning_msg=_LOGISTIC_SOLVER_CONVERGENCE_MSG)\n"
     ]
    },
    {
     "name": "stdout",
     "output_type": "stream",
     "text": [
      "Size of majority dataset after undersampling:\n",
      "Counter({0: 21835, 1: 21835})\n"
     ]
    },
    {
     "name": "stderr",
     "output_type": "stream",
     "text": [
      "C:\\Users\\samsung\\Anaconda3\\lib\\site-packages\\sklearn\\linear_model\\_logistic.py:940: ConvergenceWarning: lbfgs failed to converge (status=1):\n",
      "STOP: TOTAL NO. of ITERATIONS REACHED LIMIT.\n",
      "\n",
      "Increase the number of iterations (max_iter) or scale the data as shown in:\n",
      "    https://scikit-learn.org/stable/modules/preprocessing.html\n",
      "Please also refer to the documentation for alternative solver options:\n",
      "    https://scikit-learn.org/stable/modules/linear_model.html#logistic-regression\n",
      "  extra_warning_msg=_LOGISTIC_SOLVER_CONVERGENCE_MSG)\n"
     ]
    },
    {
     "name": "stdout",
     "output_type": "stream",
     "text": [
      "Size of majority dataset after undersampling:\n",
      "Counter({0: 21835, 1: 21835})\n"
     ]
    },
    {
     "name": "stderr",
     "output_type": "stream",
     "text": [
      "C:\\Users\\samsung\\Anaconda3\\lib\\site-packages\\sklearn\\linear_model\\_logistic.py:940: ConvergenceWarning: lbfgs failed to converge (status=1):\n",
      "STOP: TOTAL NO. of ITERATIONS REACHED LIMIT.\n",
      "\n",
      "Increase the number of iterations (max_iter) or scale the data as shown in:\n",
      "    https://scikit-learn.org/stable/modules/preprocessing.html\n",
      "Please also refer to the documentation for alternative solver options:\n",
      "    https://scikit-learn.org/stable/modules/linear_model.html#logistic-regression\n",
      "  extra_warning_msg=_LOGISTIC_SOLVER_CONVERGENCE_MSG)\n"
     ]
    },
    {
     "name": "stdout",
     "output_type": "stream",
     "text": [
      "Size of majority dataset after undersampling:\n",
      "Counter({0: 21835, 1: 21835})\n"
     ]
    },
    {
     "name": "stderr",
     "output_type": "stream",
     "text": [
      "C:\\Users\\samsung\\Anaconda3\\lib\\site-packages\\sklearn\\linear_model\\_logistic.py:940: ConvergenceWarning: lbfgs failed to converge (status=1):\n",
      "STOP: TOTAL NO. of ITERATIONS REACHED LIMIT.\n",
      "\n",
      "Increase the number of iterations (max_iter) or scale the data as shown in:\n",
      "    https://scikit-learn.org/stable/modules/preprocessing.html\n",
      "Please also refer to the documentation for alternative solver options:\n",
      "    https://scikit-learn.org/stable/modules/linear_model.html#logistic-regression\n",
      "  extra_warning_msg=_LOGISTIC_SOLVER_CONVERGENCE_MSG)\n"
     ]
    },
    {
     "name": "stdout",
     "output_type": "stream",
     "text": [
      "Size of majority dataset after undersampling:\n",
      "Counter({0: 21835, 1: 21835})\n"
     ]
    },
    {
     "name": "stderr",
     "output_type": "stream",
     "text": [
      "C:\\Users\\samsung\\Anaconda3\\lib\\site-packages\\sklearn\\linear_model\\_logistic.py:940: ConvergenceWarning: lbfgs failed to converge (status=1):\n",
      "STOP: TOTAL NO. of ITERATIONS REACHED LIMIT.\n",
      "\n",
      "Increase the number of iterations (max_iter) or scale the data as shown in:\n",
      "    https://scikit-learn.org/stable/modules/preprocessing.html\n",
      "Please also refer to the documentation for alternative solver options:\n",
      "    https://scikit-learn.org/stable/modules/linear_model.html#logistic-regression\n",
      "  extra_warning_msg=_LOGISTIC_SOLVER_CONVERGENCE_MSG)\n"
     ]
    },
    {
     "name": "stdout",
     "output_type": "stream",
     "text": [
      "Size of majority dataset after undersampling:\n",
      "Counter({0: 21835, 1: 21835})\n"
     ]
    },
    {
     "name": "stderr",
     "output_type": "stream",
     "text": [
      "C:\\Users\\samsung\\Anaconda3\\lib\\site-packages\\sklearn\\linear_model\\_logistic.py:940: ConvergenceWarning: lbfgs failed to converge (status=1):\n",
      "STOP: TOTAL NO. of ITERATIONS REACHED LIMIT.\n",
      "\n",
      "Increase the number of iterations (max_iter) or scale the data as shown in:\n",
      "    https://scikit-learn.org/stable/modules/preprocessing.html\n",
      "Please also refer to the documentation for alternative solver options:\n",
      "    https://scikit-learn.org/stable/modules/linear_model.html#logistic-regression\n",
      "  extra_warning_msg=_LOGISTIC_SOLVER_CONVERGENCE_MSG)\n"
     ]
    },
    {
     "name": "stdout",
     "output_type": "stream",
     "text": [
      "Size of majority dataset after undersampling:\n",
      "Counter({0: 21835, 1: 21835})\n"
     ]
    },
    {
     "name": "stderr",
     "output_type": "stream",
     "text": [
      "C:\\Users\\samsung\\Anaconda3\\lib\\site-packages\\sklearn\\linear_model\\_logistic.py:940: ConvergenceWarning: lbfgs failed to converge (status=1):\n",
      "STOP: TOTAL NO. of ITERATIONS REACHED LIMIT.\n",
      "\n",
      "Increase the number of iterations (max_iter) or scale the data as shown in:\n",
      "    https://scikit-learn.org/stable/modules/preprocessing.html\n",
      "Please also refer to the documentation for alternative solver options:\n",
      "    https://scikit-learn.org/stable/modules/linear_model.html#logistic-regression\n",
      "  extra_warning_msg=_LOGISTIC_SOLVER_CONVERGENCE_MSG)\n"
     ]
    },
    {
     "name": "stdout",
     "output_type": "stream",
     "text": [
      "Size of majority dataset after undersampling:\n",
      "Counter({0: 21835, 1: 21835})\n"
     ]
    },
    {
     "name": "stderr",
     "output_type": "stream",
     "text": [
      "C:\\Users\\samsung\\Anaconda3\\lib\\site-packages\\sklearn\\linear_model\\_logistic.py:940: ConvergenceWarning: lbfgs failed to converge (status=1):\n",
      "STOP: TOTAL NO. of ITERATIONS REACHED LIMIT.\n",
      "\n",
      "Increase the number of iterations (max_iter) or scale the data as shown in:\n",
      "    https://scikit-learn.org/stable/modules/preprocessing.html\n",
      "Please also refer to the documentation for alternative solver options:\n",
      "    https://scikit-learn.org/stable/modules/linear_model.html#logistic-regression\n",
      "  extra_warning_msg=_LOGISTIC_SOLVER_CONVERGENCE_MSG)\n"
     ]
    },
    {
     "name": "stdout",
     "output_type": "stream",
     "text": [
      "Size of majority dataset after undersampling:\n",
      "Counter({0: 21835, 1: 21835})\n"
     ]
    },
    {
     "name": "stderr",
     "output_type": "stream",
     "text": [
      "C:\\Users\\samsung\\Anaconda3\\lib\\site-packages\\sklearn\\linear_model\\_logistic.py:940: ConvergenceWarning: lbfgs failed to converge (status=1):\n",
      "STOP: TOTAL NO. of ITERATIONS REACHED LIMIT.\n",
      "\n",
      "Increase the number of iterations (max_iter) or scale the data as shown in:\n",
      "    https://scikit-learn.org/stable/modules/preprocessing.html\n",
      "Please also refer to the documentation for alternative solver options:\n",
      "    https://scikit-learn.org/stable/modules/linear_model.html#logistic-regression\n",
      "  extra_warning_msg=_LOGISTIC_SOLVER_CONVERGENCE_MSG)\n"
     ]
    },
    {
     "name": "stdout",
     "output_type": "stream",
     "text": [
      "Size of majority dataset after undersampling:\n",
      "Counter({0: 21835, 1: 21835})\n"
     ]
    },
    {
     "name": "stderr",
     "output_type": "stream",
     "text": [
      "C:\\Users\\samsung\\Anaconda3\\lib\\site-packages\\sklearn\\linear_model\\_logistic.py:940: ConvergenceWarning: lbfgs failed to converge (status=1):\n",
      "STOP: TOTAL NO. of ITERATIONS REACHED LIMIT.\n",
      "\n",
      "Increase the number of iterations (max_iter) or scale the data as shown in:\n",
      "    https://scikit-learn.org/stable/modules/preprocessing.html\n",
      "Please also refer to the documentation for alternative solver options:\n",
      "    https://scikit-learn.org/stable/modules/linear_model.html#logistic-regression\n",
      "  extra_warning_msg=_LOGISTIC_SOLVER_CONVERGENCE_MSG)\n"
     ]
    },
    {
     "name": "stdout",
     "output_type": "stream",
     "text": [
      "Size of majority dataset after undersampling:\n",
      "Counter({0: 21835, 1: 21835})\n"
     ]
    },
    {
     "name": "stderr",
     "output_type": "stream",
     "text": [
      "C:\\Users\\samsung\\Anaconda3\\lib\\site-packages\\sklearn\\linear_model\\_logistic.py:940: ConvergenceWarning: lbfgs failed to converge (status=1):\n",
      "STOP: TOTAL NO. of ITERATIONS REACHED LIMIT.\n",
      "\n",
      "Increase the number of iterations (max_iter) or scale the data as shown in:\n",
      "    https://scikit-learn.org/stable/modules/preprocessing.html\n",
      "Please also refer to the documentation for alternative solver options:\n",
      "    https://scikit-learn.org/stable/modules/linear_model.html#logistic-regression\n",
      "  extra_warning_msg=_LOGISTIC_SOLVER_CONVERGENCE_MSG)\n"
     ]
    },
    {
     "name": "stdout",
     "output_type": "stream",
     "text": [
      "Size of majority dataset after undersampling:\n",
      "Counter({0: 21835, 1: 21835})\n"
     ]
    },
    {
     "name": "stderr",
     "output_type": "stream",
     "text": [
      "C:\\Users\\samsung\\Anaconda3\\lib\\site-packages\\sklearn\\linear_model\\_logistic.py:940: ConvergenceWarning: lbfgs failed to converge (status=1):\n",
      "STOP: TOTAL NO. of ITERATIONS REACHED LIMIT.\n",
      "\n",
      "Increase the number of iterations (max_iter) or scale the data as shown in:\n",
      "    https://scikit-learn.org/stable/modules/preprocessing.html\n",
      "Please also refer to the documentation for alternative solver options:\n",
      "    https://scikit-learn.org/stable/modules/linear_model.html#logistic-regression\n",
      "  extra_warning_msg=_LOGISTIC_SOLVER_CONVERGENCE_MSG)\n"
     ]
    },
    {
     "name": "stdout",
     "output_type": "stream",
     "text": [
      "Size of majority dataset after undersampling:\n",
      "Counter({0: 21835, 1: 21835})\n"
     ]
    },
    {
     "name": "stderr",
     "output_type": "stream",
     "text": [
      "C:\\Users\\samsung\\Anaconda3\\lib\\site-packages\\sklearn\\linear_model\\_logistic.py:940: ConvergenceWarning: lbfgs failed to converge (status=1):\n",
      "STOP: TOTAL NO. of ITERATIONS REACHED LIMIT.\n",
      "\n",
      "Increase the number of iterations (max_iter) or scale the data as shown in:\n",
      "    https://scikit-learn.org/stable/modules/preprocessing.html\n",
      "Please also refer to the documentation for alternative solver options:\n",
      "    https://scikit-learn.org/stable/modules/linear_model.html#logistic-regression\n",
      "  extra_warning_msg=_LOGISTIC_SOLVER_CONVERGENCE_MSG)\n"
     ]
    },
    {
     "name": "stdout",
     "output_type": "stream",
     "text": [
      "Size of majority dataset after undersampling:\n",
      "Counter({0: 21835, 1: 21835})\n"
     ]
    },
    {
     "name": "stderr",
     "output_type": "stream",
     "text": [
      "C:\\Users\\samsung\\Anaconda3\\lib\\site-packages\\sklearn\\linear_model\\_logistic.py:940: ConvergenceWarning: lbfgs failed to converge (status=1):\n",
      "STOP: TOTAL NO. of ITERATIONS REACHED LIMIT.\n",
      "\n",
      "Increase the number of iterations (max_iter) or scale the data as shown in:\n",
      "    https://scikit-learn.org/stable/modules/preprocessing.html\n",
      "Please also refer to the documentation for alternative solver options:\n",
      "    https://scikit-learn.org/stable/modules/linear_model.html#logistic-regression\n",
      "  extra_warning_msg=_LOGISTIC_SOLVER_CONVERGENCE_MSG)\n"
     ]
    },
    {
     "name": "stdout",
     "output_type": "stream",
     "text": [
      "Size of majority dataset after undersampling:\n",
      "Counter({0: 21835, 1: 21835})\n"
     ]
    },
    {
     "name": "stderr",
     "output_type": "stream",
     "text": [
      "C:\\Users\\samsung\\Anaconda3\\lib\\site-packages\\sklearn\\linear_model\\_logistic.py:940: ConvergenceWarning: lbfgs failed to converge (status=1):\n",
      "STOP: TOTAL NO. of ITERATIONS REACHED LIMIT.\n",
      "\n",
      "Increase the number of iterations (max_iter) or scale the data as shown in:\n",
      "    https://scikit-learn.org/stable/modules/preprocessing.html\n",
      "Please also refer to the documentation for alternative solver options:\n",
      "    https://scikit-learn.org/stable/modules/linear_model.html#logistic-regression\n",
      "  extra_warning_msg=_LOGISTIC_SOLVER_CONVERGENCE_MSG)\n"
     ]
    },
    {
     "name": "stdout",
     "output_type": "stream",
     "text": [
      "Size of majority dataset after undersampling:\n",
      "Counter({0: 21835, 1: 21835})\n"
     ]
    },
    {
     "name": "stderr",
     "output_type": "stream",
     "text": [
      "C:\\Users\\samsung\\Anaconda3\\lib\\site-packages\\sklearn\\linear_model\\_logistic.py:940: ConvergenceWarning: lbfgs failed to converge (status=1):\n",
      "STOP: TOTAL NO. of ITERATIONS REACHED LIMIT.\n",
      "\n",
      "Increase the number of iterations (max_iter) or scale the data as shown in:\n",
      "    https://scikit-learn.org/stable/modules/preprocessing.html\n",
      "Please also refer to the documentation for alternative solver options:\n",
      "    https://scikit-learn.org/stable/modules/linear_model.html#logistic-regression\n",
      "  extra_warning_msg=_LOGISTIC_SOLVER_CONVERGENCE_MSG)\n"
     ]
    },
    {
     "name": "stdout",
     "output_type": "stream",
     "text": [
      "Size of majority dataset after undersampling:\n",
      "Counter({0: 21835, 1: 21835})\n"
     ]
    },
    {
     "name": "stderr",
     "output_type": "stream",
     "text": [
      "C:\\Users\\samsung\\Anaconda3\\lib\\site-packages\\sklearn\\linear_model\\_logistic.py:940: ConvergenceWarning: lbfgs failed to converge (status=1):\n",
      "STOP: TOTAL NO. of ITERATIONS REACHED LIMIT.\n",
      "\n",
      "Increase the number of iterations (max_iter) or scale the data as shown in:\n",
      "    https://scikit-learn.org/stable/modules/preprocessing.html\n",
      "Please also refer to the documentation for alternative solver options:\n",
      "    https://scikit-learn.org/stable/modules/linear_model.html#logistic-regression\n",
      "  extra_warning_msg=_LOGISTIC_SOLVER_CONVERGENCE_MSG)\n"
     ]
    },
    {
     "name": "stdout",
     "output_type": "stream",
     "text": [
      "Size of majority dataset after undersampling:\n",
      "Counter({0: 21835, 1: 21835})\n"
     ]
    },
    {
     "name": "stderr",
     "output_type": "stream",
     "text": [
      "C:\\Users\\samsung\\Anaconda3\\lib\\site-packages\\sklearn\\linear_model\\_logistic.py:940: ConvergenceWarning: lbfgs failed to converge (status=1):\n",
      "STOP: TOTAL NO. of ITERATIONS REACHED LIMIT.\n",
      "\n",
      "Increase the number of iterations (max_iter) or scale the data as shown in:\n",
      "    https://scikit-learn.org/stable/modules/preprocessing.html\n",
      "Please also refer to the documentation for alternative solver options:\n",
      "    https://scikit-learn.org/stable/modules/linear_model.html#logistic-regression\n",
      "  extra_warning_msg=_LOGISTIC_SOLVER_CONVERGENCE_MSG)\n"
     ]
    },
    {
     "name": "stdout",
     "output_type": "stream",
     "text": [
      "Size of majority dataset after undersampling:\n",
      "Counter({0: 21835, 1: 21835})\n"
     ]
    },
    {
     "name": "stderr",
     "output_type": "stream",
     "text": [
      "C:\\Users\\samsung\\Anaconda3\\lib\\site-packages\\sklearn\\linear_model\\_logistic.py:940: ConvergenceWarning: lbfgs failed to converge (status=1):\n",
      "STOP: TOTAL NO. of ITERATIONS REACHED LIMIT.\n",
      "\n",
      "Increase the number of iterations (max_iter) or scale the data as shown in:\n",
      "    https://scikit-learn.org/stable/modules/preprocessing.html\n",
      "Please also refer to the documentation for alternative solver options:\n",
      "    https://scikit-learn.org/stable/modules/linear_model.html#logistic-regression\n",
      "  extra_warning_msg=_LOGISTIC_SOLVER_CONVERGENCE_MSG)\n"
     ]
    },
    {
     "name": "stdout",
     "output_type": "stream",
     "text": [
      "Size of majority dataset after undersampling:\n",
      "Counter({0: 21835, 1: 21835})\n"
     ]
    },
    {
     "name": "stderr",
     "output_type": "stream",
     "text": [
      "C:\\Users\\samsung\\Anaconda3\\lib\\site-packages\\sklearn\\linear_model\\_logistic.py:940: ConvergenceWarning: lbfgs failed to converge (status=1):\n",
      "STOP: TOTAL NO. of ITERATIONS REACHED LIMIT.\n",
      "\n",
      "Increase the number of iterations (max_iter) or scale the data as shown in:\n",
      "    https://scikit-learn.org/stable/modules/preprocessing.html\n",
      "Please also refer to the documentation for alternative solver options:\n",
      "    https://scikit-learn.org/stable/modules/linear_model.html#logistic-regression\n",
      "  extra_warning_msg=_LOGISTIC_SOLVER_CONVERGENCE_MSG)\n"
     ]
    },
    {
     "name": "stdout",
     "output_type": "stream",
     "text": [
      "Size of majority dataset after undersampling:\n",
      "Counter({0: 21835, 1: 21835})\n"
     ]
    },
    {
     "name": "stderr",
     "output_type": "stream",
     "text": [
      "C:\\Users\\samsung\\Anaconda3\\lib\\site-packages\\sklearn\\linear_model\\_logistic.py:940: ConvergenceWarning: lbfgs failed to converge (status=1):\n",
      "STOP: TOTAL NO. of ITERATIONS REACHED LIMIT.\n",
      "\n",
      "Increase the number of iterations (max_iter) or scale the data as shown in:\n",
      "    https://scikit-learn.org/stable/modules/preprocessing.html\n",
      "Please also refer to the documentation for alternative solver options:\n",
      "    https://scikit-learn.org/stable/modules/linear_model.html#logistic-regression\n",
      "  extra_warning_msg=_LOGISTIC_SOLVER_CONVERGENCE_MSG)\n"
     ]
    },
    {
     "name": "stdout",
     "output_type": "stream",
     "text": [
      "Size of majority dataset after undersampling:\n",
      "Counter({0: 21835, 1: 21835})\n"
     ]
    },
    {
     "name": "stderr",
     "output_type": "stream",
     "text": [
      "C:\\Users\\samsung\\Anaconda3\\lib\\site-packages\\sklearn\\linear_model\\_logistic.py:940: ConvergenceWarning: lbfgs failed to converge (status=1):\n",
      "STOP: TOTAL NO. of ITERATIONS REACHED LIMIT.\n",
      "\n",
      "Increase the number of iterations (max_iter) or scale the data as shown in:\n",
      "    https://scikit-learn.org/stable/modules/preprocessing.html\n",
      "Please also refer to the documentation for alternative solver options:\n",
      "    https://scikit-learn.org/stable/modules/linear_model.html#logistic-regression\n",
      "  extra_warning_msg=_LOGISTIC_SOLVER_CONVERGENCE_MSG)\n"
     ]
    },
    {
     "name": "stdout",
     "output_type": "stream",
     "text": [
      "Size of majority dataset after undersampling:\n",
      "Counter({0: 21835, 1: 21835})\n"
     ]
    },
    {
     "name": "stderr",
     "output_type": "stream",
     "text": [
      "C:\\Users\\samsung\\Anaconda3\\lib\\site-packages\\sklearn\\linear_model\\_logistic.py:940: ConvergenceWarning: lbfgs failed to converge (status=1):\n",
      "STOP: TOTAL NO. of ITERATIONS REACHED LIMIT.\n",
      "\n",
      "Increase the number of iterations (max_iter) or scale the data as shown in:\n",
      "    https://scikit-learn.org/stable/modules/preprocessing.html\n",
      "Please also refer to the documentation for alternative solver options:\n",
      "    https://scikit-learn.org/stable/modules/linear_model.html#logistic-regression\n",
      "  extra_warning_msg=_LOGISTIC_SOLVER_CONVERGENCE_MSG)\n"
     ]
    },
    {
     "name": "stdout",
     "output_type": "stream",
     "text": [
      "Size of majority dataset after undersampling:\n",
      "Counter({0: 21835, 1: 21835})\n"
     ]
    },
    {
     "name": "stderr",
     "output_type": "stream",
     "text": [
      "C:\\Users\\samsung\\Anaconda3\\lib\\site-packages\\sklearn\\linear_model\\_logistic.py:940: ConvergenceWarning: lbfgs failed to converge (status=1):\n",
      "STOP: TOTAL NO. of ITERATIONS REACHED LIMIT.\n",
      "\n",
      "Increase the number of iterations (max_iter) or scale the data as shown in:\n",
      "    https://scikit-learn.org/stable/modules/preprocessing.html\n",
      "Please also refer to the documentation for alternative solver options:\n",
      "    https://scikit-learn.org/stable/modules/linear_model.html#logistic-regression\n",
      "  extra_warning_msg=_LOGISTIC_SOLVER_CONVERGENCE_MSG)\n"
     ]
    },
    {
     "name": "stdout",
     "output_type": "stream",
     "text": [
      "Size of majority dataset after undersampling:\n",
      "Counter({0: 21835, 1: 21835})\n"
     ]
    },
    {
     "name": "stderr",
     "output_type": "stream",
     "text": [
      "C:\\Users\\samsung\\Anaconda3\\lib\\site-packages\\sklearn\\linear_model\\_logistic.py:940: ConvergenceWarning: lbfgs failed to converge (status=1):\n",
      "STOP: TOTAL NO. of ITERATIONS REACHED LIMIT.\n",
      "\n",
      "Increase the number of iterations (max_iter) or scale the data as shown in:\n",
      "    https://scikit-learn.org/stable/modules/preprocessing.html\n",
      "Please also refer to the documentation for alternative solver options:\n",
      "    https://scikit-learn.org/stable/modules/linear_model.html#logistic-regression\n",
      "  extra_warning_msg=_LOGISTIC_SOLVER_CONVERGENCE_MSG)\n"
     ]
    },
    {
     "name": "stdout",
     "output_type": "stream",
     "text": [
      "Size of majority dataset after undersampling:\n",
      "Counter({0: 21835, 1: 21835})\n"
     ]
    },
    {
     "name": "stderr",
     "output_type": "stream",
     "text": [
      "C:\\Users\\samsung\\Anaconda3\\lib\\site-packages\\sklearn\\linear_model\\_logistic.py:940: ConvergenceWarning: lbfgs failed to converge (status=1):\n",
      "STOP: TOTAL NO. of ITERATIONS REACHED LIMIT.\n",
      "\n",
      "Increase the number of iterations (max_iter) or scale the data as shown in:\n",
      "    https://scikit-learn.org/stable/modules/preprocessing.html\n",
      "Please also refer to the documentation for alternative solver options:\n",
      "    https://scikit-learn.org/stable/modules/linear_model.html#logistic-regression\n",
      "  extra_warning_msg=_LOGISTIC_SOLVER_CONVERGENCE_MSG)\n"
     ]
    },
    {
     "name": "stdout",
     "output_type": "stream",
     "text": [
      "Size of majority dataset after undersampling:\n",
      "Counter({0: 21835, 1: 21835})\n"
     ]
    },
    {
     "name": "stderr",
     "output_type": "stream",
     "text": [
      "C:\\Users\\samsung\\Anaconda3\\lib\\site-packages\\sklearn\\linear_model\\_logistic.py:940: ConvergenceWarning: lbfgs failed to converge (status=1):\n",
      "STOP: TOTAL NO. of ITERATIONS REACHED LIMIT.\n",
      "\n",
      "Increase the number of iterations (max_iter) or scale the data as shown in:\n",
      "    https://scikit-learn.org/stable/modules/preprocessing.html\n",
      "Please also refer to the documentation for alternative solver options:\n",
      "    https://scikit-learn.org/stable/modules/linear_model.html#logistic-regression\n",
      "  extra_warning_msg=_LOGISTIC_SOLVER_CONVERGENCE_MSG)\n"
     ]
    },
    {
     "name": "stdout",
     "output_type": "stream",
     "text": [
      "Size of majority dataset after undersampling:\n",
      "Counter({0: 21835, 1: 21835})\n"
     ]
    },
    {
     "name": "stderr",
     "output_type": "stream",
     "text": [
      "C:\\Users\\samsung\\Anaconda3\\lib\\site-packages\\sklearn\\linear_model\\_logistic.py:940: ConvergenceWarning: lbfgs failed to converge (status=1):\n",
      "STOP: TOTAL NO. of ITERATIONS REACHED LIMIT.\n",
      "\n",
      "Increase the number of iterations (max_iter) or scale the data as shown in:\n",
      "    https://scikit-learn.org/stable/modules/preprocessing.html\n",
      "Please also refer to the documentation for alternative solver options:\n",
      "    https://scikit-learn.org/stable/modules/linear_model.html#logistic-regression\n",
      "  extra_warning_msg=_LOGISTIC_SOLVER_CONVERGENCE_MSG)\n"
     ]
    },
    {
     "name": "stdout",
     "output_type": "stream",
     "text": [
      "Size of majority dataset after undersampling:\n",
      "Counter({0: 21835, 1: 21835})\n"
     ]
    },
    {
     "name": "stderr",
     "output_type": "stream",
     "text": [
      "C:\\Users\\samsung\\Anaconda3\\lib\\site-packages\\sklearn\\linear_model\\_logistic.py:940: ConvergenceWarning: lbfgs failed to converge (status=1):\n",
      "STOP: TOTAL NO. of ITERATIONS REACHED LIMIT.\n",
      "\n",
      "Increase the number of iterations (max_iter) or scale the data as shown in:\n",
      "    https://scikit-learn.org/stable/modules/preprocessing.html\n",
      "Please also refer to the documentation for alternative solver options:\n",
      "    https://scikit-learn.org/stable/modules/linear_model.html#logistic-regression\n",
      "  extra_warning_msg=_LOGISTIC_SOLVER_CONVERGENCE_MSG)\n"
     ]
    },
    {
     "name": "stdout",
     "output_type": "stream",
     "text": [
      "Size of majority dataset after undersampling:\n",
      "Counter({0: 21835, 1: 21835})\n"
     ]
    },
    {
     "name": "stderr",
     "output_type": "stream",
     "text": [
      "C:\\Users\\samsung\\Anaconda3\\lib\\site-packages\\sklearn\\linear_model\\_logistic.py:940: ConvergenceWarning: lbfgs failed to converge (status=1):\n",
      "STOP: TOTAL NO. of ITERATIONS REACHED LIMIT.\n",
      "\n",
      "Increase the number of iterations (max_iter) or scale the data as shown in:\n",
      "    https://scikit-learn.org/stable/modules/preprocessing.html\n",
      "Please also refer to the documentation for alternative solver options:\n",
      "    https://scikit-learn.org/stable/modules/linear_model.html#logistic-regression\n",
      "  extra_warning_msg=_LOGISTIC_SOLVER_CONVERGENCE_MSG)\n"
     ]
    },
    {
     "name": "stdout",
     "output_type": "stream",
     "text": [
      "Size of majority dataset after undersampling:\n",
      "Counter({0: 21835, 1: 21835})\n"
     ]
    },
    {
     "name": "stderr",
     "output_type": "stream",
     "text": [
      "C:\\Users\\samsung\\Anaconda3\\lib\\site-packages\\sklearn\\linear_model\\_logistic.py:940: ConvergenceWarning: lbfgs failed to converge (status=1):\n",
      "STOP: TOTAL NO. of ITERATIONS REACHED LIMIT.\n",
      "\n",
      "Increase the number of iterations (max_iter) or scale the data as shown in:\n",
      "    https://scikit-learn.org/stable/modules/preprocessing.html\n",
      "Please also refer to the documentation for alternative solver options:\n",
      "    https://scikit-learn.org/stable/modules/linear_model.html#logistic-regression\n",
      "  extra_warning_msg=_LOGISTIC_SOLVER_CONVERGENCE_MSG)\n"
     ]
    },
    {
     "name": "stdout",
     "output_type": "stream",
     "text": [
      "Size of majority dataset after undersampling:\n",
      "Counter({0: 21835, 1: 21835})\n"
     ]
    },
    {
     "name": "stderr",
     "output_type": "stream",
     "text": [
      "C:\\Users\\samsung\\Anaconda3\\lib\\site-packages\\sklearn\\linear_model\\_logistic.py:940: ConvergenceWarning: lbfgs failed to converge (status=1):\n",
      "STOP: TOTAL NO. of ITERATIONS REACHED LIMIT.\n",
      "\n",
      "Increase the number of iterations (max_iter) or scale the data as shown in:\n",
      "    https://scikit-learn.org/stable/modules/preprocessing.html\n",
      "Please also refer to the documentation for alternative solver options:\n",
      "    https://scikit-learn.org/stable/modules/linear_model.html#logistic-regression\n",
      "  extra_warning_msg=_LOGISTIC_SOLVER_CONVERGENCE_MSG)\n"
     ]
    },
    {
     "name": "stdout",
     "output_type": "stream",
     "text": [
      "Size of majority dataset after undersampling:\n",
      "Counter({0: 21835, 1: 21835})\n"
     ]
    },
    {
     "name": "stderr",
     "output_type": "stream",
     "text": [
      "C:\\Users\\samsung\\Anaconda3\\lib\\site-packages\\sklearn\\linear_model\\_logistic.py:940: ConvergenceWarning: lbfgs failed to converge (status=1):\n",
      "STOP: TOTAL NO. of ITERATIONS REACHED LIMIT.\n",
      "\n",
      "Increase the number of iterations (max_iter) or scale the data as shown in:\n",
      "    https://scikit-learn.org/stable/modules/preprocessing.html\n",
      "Please also refer to the documentation for alternative solver options:\n",
      "    https://scikit-learn.org/stable/modules/linear_model.html#logistic-regression\n",
      "  extra_warning_msg=_LOGISTIC_SOLVER_CONVERGENCE_MSG)\n"
     ]
    },
    {
     "name": "stdout",
     "output_type": "stream",
     "text": [
      "Size of majority dataset after undersampling:\n",
      "Counter({0: 21835, 1: 21835})\n"
     ]
    },
    {
     "name": "stderr",
     "output_type": "stream",
     "text": [
      "C:\\Users\\samsung\\Anaconda3\\lib\\site-packages\\sklearn\\linear_model\\_logistic.py:940: ConvergenceWarning: lbfgs failed to converge (status=1):\n",
      "STOP: TOTAL NO. of ITERATIONS REACHED LIMIT.\n",
      "\n",
      "Increase the number of iterations (max_iter) or scale the data as shown in:\n",
      "    https://scikit-learn.org/stable/modules/preprocessing.html\n",
      "Please also refer to the documentation for alternative solver options:\n",
      "    https://scikit-learn.org/stable/modules/linear_model.html#logistic-regression\n",
      "  extra_warning_msg=_LOGISTIC_SOLVER_CONVERGENCE_MSG)\n"
     ]
    },
    {
     "name": "stdout",
     "output_type": "stream",
     "text": [
      "Size of majority dataset after undersampling:\n",
      "Counter({0: 21835, 1: 21835})\n"
     ]
    },
    {
     "name": "stderr",
     "output_type": "stream",
     "text": [
      "C:\\Users\\samsung\\Anaconda3\\lib\\site-packages\\sklearn\\linear_model\\_logistic.py:940: ConvergenceWarning: lbfgs failed to converge (status=1):\n",
      "STOP: TOTAL NO. of ITERATIONS REACHED LIMIT.\n",
      "\n",
      "Increase the number of iterations (max_iter) or scale the data as shown in:\n",
      "    https://scikit-learn.org/stable/modules/preprocessing.html\n",
      "Please also refer to the documentation for alternative solver options:\n",
      "    https://scikit-learn.org/stable/modules/linear_model.html#logistic-regression\n",
      "  extra_warning_msg=_LOGISTIC_SOLVER_CONVERGENCE_MSG)\n"
     ]
    },
    {
     "name": "stdout",
     "output_type": "stream",
     "text": [
      "Size of majority dataset after undersampling:\n",
      "Counter({0: 21835, 1: 21835})\n"
     ]
    },
    {
     "name": "stderr",
     "output_type": "stream",
     "text": [
      "C:\\Users\\samsung\\Anaconda3\\lib\\site-packages\\sklearn\\linear_model\\_logistic.py:940: ConvergenceWarning: lbfgs failed to converge (status=1):\n",
      "STOP: TOTAL NO. of ITERATIONS REACHED LIMIT.\n",
      "\n",
      "Increase the number of iterations (max_iter) or scale the data as shown in:\n",
      "    https://scikit-learn.org/stable/modules/preprocessing.html\n",
      "Please also refer to the documentation for alternative solver options:\n",
      "    https://scikit-learn.org/stable/modules/linear_model.html#logistic-regression\n",
      "  extra_warning_msg=_LOGISTIC_SOLVER_CONVERGENCE_MSG)\n"
     ]
    },
    {
     "name": "stdout",
     "output_type": "stream",
     "text": [
      "Size of majority dataset after undersampling:\n",
      "Counter({0: 21835, 1: 21835})\n"
     ]
    },
    {
     "name": "stderr",
     "output_type": "stream",
     "text": [
      "C:\\Users\\samsung\\Anaconda3\\lib\\site-packages\\sklearn\\linear_model\\_logistic.py:940: ConvergenceWarning: lbfgs failed to converge (status=1):\n",
      "STOP: TOTAL NO. of ITERATIONS REACHED LIMIT.\n",
      "\n",
      "Increase the number of iterations (max_iter) or scale the data as shown in:\n",
      "    https://scikit-learn.org/stable/modules/preprocessing.html\n",
      "Please also refer to the documentation for alternative solver options:\n",
      "    https://scikit-learn.org/stable/modules/linear_model.html#logistic-regression\n",
      "  extra_warning_msg=_LOGISTIC_SOLVER_CONVERGENCE_MSG)\n"
     ]
    },
    {
     "name": "stdout",
     "output_type": "stream",
     "text": [
      "Size of majority dataset after undersampling:\n",
      "Counter({0: 21835, 1: 21835})\n"
     ]
    },
    {
     "name": "stderr",
     "output_type": "stream",
     "text": [
      "C:\\Users\\samsung\\Anaconda3\\lib\\site-packages\\sklearn\\linear_model\\_logistic.py:940: ConvergenceWarning: lbfgs failed to converge (status=1):\n",
      "STOP: TOTAL NO. of ITERATIONS REACHED LIMIT.\n",
      "\n",
      "Increase the number of iterations (max_iter) or scale the data as shown in:\n",
      "    https://scikit-learn.org/stable/modules/preprocessing.html\n",
      "Please also refer to the documentation for alternative solver options:\n",
      "    https://scikit-learn.org/stable/modules/linear_model.html#logistic-regression\n",
      "  extra_warning_msg=_LOGISTIC_SOLVER_CONVERGENCE_MSG)\n"
     ]
    },
    {
     "name": "stdout",
     "output_type": "stream",
     "text": [
      "Size of majority dataset after undersampling:\n",
      "Counter({0: 21835, 1: 21835})\n"
     ]
    },
    {
     "name": "stderr",
     "output_type": "stream",
     "text": [
      "C:\\Users\\samsung\\Anaconda3\\lib\\site-packages\\sklearn\\linear_model\\_logistic.py:940: ConvergenceWarning: lbfgs failed to converge (status=1):\n",
      "STOP: TOTAL NO. of ITERATIONS REACHED LIMIT.\n",
      "\n",
      "Increase the number of iterations (max_iter) or scale the data as shown in:\n",
      "    https://scikit-learn.org/stable/modules/preprocessing.html\n",
      "Please also refer to the documentation for alternative solver options:\n",
      "    https://scikit-learn.org/stable/modules/linear_model.html#logistic-regression\n",
      "  extra_warning_msg=_LOGISTIC_SOLVER_CONVERGENCE_MSG)\n"
     ]
    },
    {
     "name": "stdout",
     "output_type": "stream",
     "text": [
      "Size of majority dataset after undersampling:\n",
      "Counter({0: 21835, 1: 21835})\n"
     ]
    },
    {
     "name": "stderr",
     "output_type": "stream",
     "text": [
      "C:\\Users\\samsung\\Anaconda3\\lib\\site-packages\\sklearn\\linear_model\\_logistic.py:940: ConvergenceWarning: lbfgs failed to converge (status=1):\n",
      "STOP: TOTAL NO. of ITERATIONS REACHED LIMIT.\n",
      "\n",
      "Increase the number of iterations (max_iter) or scale the data as shown in:\n",
      "    https://scikit-learn.org/stable/modules/preprocessing.html\n",
      "Please also refer to the documentation for alternative solver options:\n",
      "    https://scikit-learn.org/stable/modules/linear_model.html#logistic-regression\n",
      "  extra_warning_msg=_LOGISTIC_SOLVER_CONVERGENCE_MSG)\n"
     ]
    },
    {
     "name": "stdout",
     "output_type": "stream",
     "text": [
      "Size of majority dataset after undersampling:\n",
      "Counter({0: 21835, 1: 21835})\n"
     ]
    },
    {
     "name": "stderr",
     "output_type": "stream",
     "text": [
      "C:\\Users\\samsung\\Anaconda3\\lib\\site-packages\\sklearn\\linear_model\\_logistic.py:940: ConvergenceWarning: lbfgs failed to converge (status=1):\n",
      "STOP: TOTAL NO. of ITERATIONS REACHED LIMIT.\n",
      "\n",
      "Increase the number of iterations (max_iter) or scale the data as shown in:\n",
      "    https://scikit-learn.org/stable/modules/preprocessing.html\n",
      "Please also refer to the documentation for alternative solver options:\n",
      "    https://scikit-learn.org/stable/modules/linear_model.html#logistic-regression\n",
      "  extra_warning_msg=_LOGISTIC_SOLVER_CONVERGENCE_MSG)\n"
     ]
    },
    {
     "name": "stdout",
     "output_type": "stream",
     "text": [
      "Size of majority dataset after undersampling:\n",
      "Counter({0: 21835, 1: 21835})\n"
     ]
    },
    {
     "name": "stderr",
     "output_type": "stream",
     "text": [
      "C:\\Users\\samsung\\Anaconda3\\lib\\site-packages\\sklearn\\linear_model\\_logistic.py:940: ConvergenceWarning: lbfgs failed to converge (status=1):\n",
      "STOP: TOTAL NO. of ITERATIONS REACHED LIMIT.\n",
      "\n",
      "Increase the number of iterations (max_iter) or scale the data as shown in:\n",
      "    https://scikit-learn.org/stable/modules/preprocessing.html\n",
      "Please also refer to the documentation for alternative solver options:\n",
      "    https://scikit-learn.org/stable/modules/linear_model.html#logistic-regression\n",
      "  extra_warning_msg=_LOGISTIC_SOLVER_CONVERGENCE_MSG)\n"
     ]
    },
    {
     "name": "stdout",
     "output_type": "stream",
     "text": [
      "Size of majority dataset after undersampling:\n",
      "Counter({0: 21835, 1: 21835})\n"
     ]
    },
    {
     "name": "stderr",
     "output_type": "stream",
     "text": [
      "C:\\Users\\samsung\\Anaconda3\\lib\\site-packages\\sklearn\\linear_model\\_logistic.py:940: ConvergenceWarning: lbfgs failed to converge (status=1):\n",
      "STOP: TOTAL NO. of ITERATIONS REACHED LIMIT.\n",
      "\n",
      "Increase the number of iterations (max_iter) or scale the data as shown in:\n",
      "    https://scikit-learn.org/stable/modules/preprocessing.html\n",
      "Please also refer to the documentation for alternative solver options:\n",
      "    https://scikit-learn.org/stable/modules/linear_model.html#logistic-regression\n",
      "  extra_warning_msg=_LOGISTIC_SOLVER_CONVERGENCE_MSG)\n"
     ]
    },
    {
     "name": "stdout",
     "output_type": "stream",
     "text": [
      "Size of majority dataset after undersampling:\n",
      "Counter({0: 21835, 1: 21835})\n"
     ]
    },
    {
     "name": "stderr",
     "output_type": "stream",
     "text": [
      "C:\\Users\\samsung\\Anaconda3\\lib\\site-packages\\sklearn\\linear_model\\_logistic.py:940: ConvergenceWarning: lbfgs failed to converge (status=1):\n",
      "STOP: TOTAL NO. of ITERATIONS REACHED LIMIT.\n",
      "\n",
      "Increase the number of iterations (max_iter) or scale the data as shown in:\n",
      "    https://scikit-learn.org/stable/modules/preprocessing.html\n",
      "Please also refer to the documentation for alternative solver options:\n",
      "    https://scikit-learn.org/stable/modules/linear_model.html#logistic-regression\n",
      "  extra_warning_msg=_LOGISTIC_SOLVER_CONVERGENCE_MSG)\n"
     ]
    },
    {
     "name": "stdout",
     "output_type": "stream",
     "text": [
      "Size of majority dataset after undersampling:\n",
      "Counter({0: 21835, 1: 21835})\n"
     ]
    },
    {
     "name": "stderr",
     "output_type": "stream",
     "text": [
      "C:\\Users\\samsung\\Anaconda3\\lib\\site-packages\\sklearn\\linear_model\\_logistic.py:940: ConvergenceWarning: lbfgs failed to converge (status=1):\n",
      "STOP: TOTAL NO. of ITERATIONS REACHED LIMIT.\n",
      "\n",
      "Increase the number of iterations (max_iter) or scale the data as shown in:\n",
      "    https://scikit-learn.org/stable/modules/preprocessing.html\n",
      "Please also refer to the documentation for alternative solver options:\n",
      "    https://scikit-learn.org/stable/modules/linear_model.html#logistic-regression\n",
      "  extra_warning_msg=_LOGISTIC_SOLVER_CONVERGENCE_MSG)\n"
     ]
    },
    {
     "name": "stdout",
     "output_type": "stream",
     "text": [
      "Size of majority dataset after undersampling:\n",
      "Counter({0: 21835, 1: 21835})\n"
     ]
    },
    {
     "name": "stderr",
     "output_type": "stream",
     "text": [
      "C:\\Users\\samsung\\Anaconda3\\lib\\site-packages\\sklearn\\linear_model\\_logistic.py:940: ConvergenceWarning: lbfgs failed to converge (status=1):\n",
      "STOP: TOTAL NO. of ITERATIONS REACHED LIMIT.\n",
      "\n",
      "Increase the number of iterations (max_iter) or scale the data as shown in:\n",
      "    https://scikit-learn.org/stable/modules/preprocessing.html\n",
      "Please also refer to the documentation for alternative solver options:\n",
      "    https://scikit-learn.org/stable/modules/linear_model.html#logistic-regression\n",
      "  extra_warning_msg=_LOGISTIC_SOLVER_CONVERGENCE_MSG)\n"
     ]
    },
    {
     "name": "stdout",
     "output_type": "stream",
     "text": [
      "Size of majority dataset after undersampling:\n",
      "Counter({0: 21835, 1: 21835})\n"
     ]
    },
    {
     "name": "stderr",
     "output_type": "stream",
     "text": [
      "C:\\Users\\samsung\\Anaconda3\\lib\\site-packages\\sklearn\\linear_model\\_logistic.py:940: ConvergenceWarning: lbfgs failed to converge (status=1):\n",
      "STOP: TOTAL NO. of ITERATIONS REACHED LIMIT.\n",
      "\n",
      "Increase the number of iterations (max_iter) or scale the data as shown in:\n",
      "    https://scikit-learn.org/stable/modules/preprocessing.html\n",
      "Please also refer to the documentation for alternative solver options:\n",
      "    https://scikit-learn.org/stable/modules/linear_model.html#logistic-regression\n",
      "  extra_warning_msg=_LOGISTIC_SOLVER_CONVERGENCE_MSG)\n"
     ]
    },
    {
     "name": "stdout",
     "output_type": "stream",
     "text": [
      "Size of majority dataset after undersampling:\n",
      "Counter({0: 21835, 1: 21835})\n"
     ]
    },
    {
     "name": "stderr",
     "output_type": "stream",
     "text": [
      "C:\\Users\\samsung\\Anaconda3\\lib\\site-packages\\sklearn\\linear_model\\_logistic.py:940: ConvergenceWarning: lbfgs failed to converge (status=1):\n",
      "STOP: TOTAL NO. of ITERATIONS REACHED LIMIT.\n",
      "\n",
      "Increase the number of iterations (max_iter) or scale the data as shown in:\n",
      "    https://scikit-learn.org/stable/modules/preprocessing.html\n",
      "Please also refer to the documentation for alternative solver options:\n",
      "    https://scikit-learn.org/stable/modules/linear_model.html#logistic-regression\n",
      "  extra_warning_msg=_LOGISTIC_SOLVER_CONVERGENCE_MSG)\n"
     ]
    },
    {
     "name": "stdout",
     "output_type": "stream",
     "text": [
      "Size of majority dataset after undersampling:\n",
      "Counter({0: 21835, 1: 21835})\n"
     ]
    },
    {
     "name": "stderr",
     "output_type": "stream",
     "text": [
      "C:\\Users\\samsung\\Anaconda3\\lib\\site-packages\\sklearn\\linear_model\\_logistic.py:940: ConvergenceWarning: lbfgs failed to converge (status=1):\n",
      "STOP: TOTAL NO. of ITERATIONS REACHED LIMIT.\n",
      "\n",
      "Increase the number of iterations (max_iter) or scale the data as shown in:\n",
      "    https://scikit-learn.org/stable/modules/preprocessing.html\n",
      "Please also refer to the documentation for alternative solver options:\n",
      "    https://scikit-learn.org/stable/modules/linear_model.html#logistic-regression\n",
      "  extra_warning_msg=_LOGISTIC_SOLVER_CONVERGENCE_MSG)\n"
     ]
    },
    {
     "name": "stdout",
     "output_type": "stream",
     "text": [
      "Size of majority dataset after undersampling:\n",
      "Counter({0: 21835, 1: 21835})\n"
     ]
    },
    {
     "name": "stderr",
     "output_type": "stream",
     "text": [
      "C:\\Users\\samsung\\Anaconda3\\lib\\site-packages\\sklearn\\linear_model\\_logistic.py:940: ConvergenceWarning: lbfgs failed to converge (status=1):\n",
      "STOP: TOTAL NO. of ITERATIONS REACHED LIMIT.\n",
      "\n",
      "Increase the number of iterations (max_iter) or scale the data as shown in:\n",
      "    https://scikit-learn.org/stable/modules/preprocessing.html\n",
      "Please also refer to the documentation for alternative solver options:\n",
      "    https://scikit-learn.org/stable/modules/linear_model.html#logistic-regression\n",
      "  extra_warning_msg=_LOGISTIC_SOLVER_CONVERGENCE_MSG)\n"
     ]
    },
    {
     "name": "stdout",
     "output_type": "stream",
     "text": [
      "Size of majority dataset after undersampling:\n",
      "Counter({0: 21835, 1: 21835})\n"
     ]
    },
    {
     "name": "stderr",
     "output_type": "stream",
     "text": [
      "C:\\Users\\samsung\\Anaconda3\\lib\\site-packages\\sklearn\\linear_model\\_logistic.py:940: ConvergenceWarning: lbfgs failed to converge (status=1):\n",
      "STOP: TOTAL NO. of ITERATIONS REACHED LIMIT.\n",
      "\n",
      "Increase the number of iterations (max_iter) or scale the data as shown in:\n",
      "    https://scikit-learn.org/stable/modules/preprocessing.html\n",
      "Please also refer to the documentation for alternative solver options:\n",
      "    https://scikit-learn.org/stable/modules/linear_model.html#logistic-regression\n",
      "  extra_warning_msg=_LOGISTIC_SOLVER_CONVERGENCE_MSG)\n"
     ]
    },
    {
     "name": "stdout",
     "output_type": "stream",
     "text": [
      "Size of majority dataset after undersampling:\n",
      "Counter({0: 21835, 1: 21835})\n"
     ]
    },
    {
     "name": "stderr",
     "output_type": "stream",
     "text": [
      "C:\\Users\\samsung\\Anaconda3\\lib\\site-packages\\sklearn\\linear_model\\_logistic.py:940: ConvergenceWarning: lbfgs failed to converge (status=1):\n",
      "STOP: TOTAL NO. of ITERATIONS REACHED LIMIT.\n",
      "\n",
      "Increase the number of iterations (max_iter) or scale the data as shown in:\n",
      "    https://scikit-learn.org/stable/modules/preprocessing.html\n",
      "Please also refer to the documentation for alternative solver options:\n",
      "    https://scikit-learn.org/stable/modules/linear_model.html#logistic-regression\n",
      "  extra_warning_msg=_LOGISTIC_SOLVER_CONVERGENCE_MSG)\n"
     ]
    },
    {
     "name": "stdout",
     "output_type": "stream",
     "text": [
      "Size of majority dataset after undersampling:\n",
      "Counter({0: 21835, 1: 21835})\n"
     ]
    },
    {
     "name": "stderr",
     "output_type": "stream",
     "text": [
      "C:\\Users\\samsung\\Anaconda3\\lib\\site-packages\\sklearn\\linear_model\\_logistic.py:940: ConvergenceWarning: lbfgs failed to converge (status=1):\n",
      "STOP: TOTAL NO. of ITERATIONS REACHED LIMIT.\n",
      "\n",
      "Increase the number of iterations (max_iter) or scale the data as shown in:\n",
      "    https://scikit-learn.org/stable/modules/preprocessing.html\n",
      "Please also refer to the documentation for alternative solver options:\n",
      "    https://scikit-learn.org/stable/modules/linear_model.html#logistic-regression\n",
      "  extra_warning_msg=_LOGISTIC_SOLVER_CONVERGENCE_MSG)\n"
     ]
    },
    {
     "name": "stdout",
     "output_type": "stream",
     "text": [
      "Size of majority dataset after undersampling:\n",
      "Counter({0: 21835, 1: 21835})\n"
     ]
    },
    {
     "name": "stderr",
     "output_type": "stream",
     "text": [
      "C:\\Users\\samsung\\Anaconda3\\lib\\site-packages\\sklearn\\linear_model\\_logistic.py:940: ConvergenceWarning: lbfgs failed to converge (status=1):\n",
      "STOP: TOTAL NO. of ITERATIONS REACHED LIMIT.\n",
      "\n",
      "Increase the number of iterations (max_iter) or scale the data as shown in:\n",
      "    https://scikit-learn.org/stable/modules/preprocessing.html\n",
      "Please also refer to the documentation for alternative solver options:\n",
      "    https://scikit-learn.org/stable/modules/linear_model.html#logistic-regression\n",
      "  extra_warning_msg=_LOGISTIC_SOLVER_CONVERGENCE_MSG)\n"
     ]
    },
    {
     "name": "stdout",
     "output_type": "stream",
     "text": [
      "Size of majority dataset after undersampling:\n",
      "Counter({0: 21835, 1: 21835})\n"
     ]
    },
    {
     "name": "stderr",
     "output_type": "stream",
     "text": [
      "C:\\Users\\samsung\\Anaconda3\\lib\\site-packages\\sklearn\\linear_model\\_logistic.py:940: ConvergenceWarning: lbfgs failed to converge (status=1):\n",
      "STOP: TOTAL NO. of ITERATIONS REACHED LIMIT.\n",
      "\n",
      "Increase the number of iterations (max_iter) or scale the data as shown in:\n",
      "    https://scikit-learn.org/stable/modules/preprocessing.html\n",
      "Please also refer to the documentation for alternative solver options:\n",
      "    https://scikit-learn.org/stable/modules/linear_model.html#logistic-regression\n",
      "  extra_warning_msg=_LOGISTIC_SOLVER_CONVERGENCE_MSG)\n"
     ]
    },
    {
     "name": "stdout",
     "output_type": "stream",
     "text": [
      "Size of majority dataset after undersampling:\n",
      "Counter({0: 21835, 1: 21835})\n"
     ]
    },
    {
     "name": "stderr",
     "output_type": "stream",
     "text": [
      "C:\\Users\\samsung\\Anaconda3\\lib\\site-packages\\sklearn\\linear_model\\_logistic.py:940: ConvergenceWarning: lbfgs failed to converge (status=1):\n",
      "STOP: TOTAL NO. of ITERATIONS REACHED LIMIT.\n",
      "\n",
      "Increase the number of iterations (max_iter) or scale the data as shown in:\n",
      "    https://scikit-learn.org/stable/modules/preprocessing.html\n",
      "Please also refer to the documentation for alternative solver options:\n",
      "    https://scikit-learn.org/stable/modules/linear_model.html#logistic-regression\n",
      "  extra_warning_msg=_LOGISTIC_SOLVER_CONVERGENCE_MSG)\n"
     ]
    },
    {
     "name": "stdout",
     "output_type": "stream",
     "text": [
      "Size of majority dataset after undersampling:\n",
      "Counter({0: 21835, 1: 21835})\n"
     ]
    },
    {
     "name": "stderr",
     "output_type": "stream",
     "text": [
      "C:\\Users\\samsung\\Anaconda3\\lib\\site-packages\\sklearn\\linear_model\\_logistic.py:940: ConvergenceWarning: lbfgs failed to converge (status=1):\n",
      "STOP: TOTAL NO. of ITERATIONS REACHED LIMIT.\n",
      "\n",
      "Increase the number of iterations (max_iter) or scale the data as shown in:\n",
      "    https://scikit-learn.org/stable/modules/preprocessing.html\n",
      "Please also refer to the documentation for alternative solver options:\n",
      "    https://scikit-learn.org/stable/modules/linear_model.html#logistic-regression\n",
      "  extra_warning_msg=_LOGISTIC_SOLVER_CONVERGENCE_MSG)\n"
     ]
    },
    {
     "name": "stdout",
     "output_type": "stream",
     "text": [
      "Size of majority dataset after undersampling:\n",
      "Counter({0: 21835, 1: 21835})\n"
     ]
    },
    {
     "name": "stderr",
     "output_type": "stream",
     "text": [
      "C:\\Users\\samsung\\Anaconda3\\lib\\site-packages\\sklearn\\linear_model\\_logistic.py:940: ConvergenceWarning: lbfgs failed to converge (status=1):\n",
      "STOP: TOTAL NO. of ITERATIONS REACHED LIMIT.\n",
      "\n",
      "Increase the number of iterations (max_iter) or scale the data as shown in:\n",
      "    https://scikit-learn.org/stable/modules/preprocessing.html\n",
      "Please also refer to the documentation for alternative solver options:\n",
      "    https://scikit-learn.org/stable/modules/linear_model.html#logistic-regression\n",
      "  extra_warning_msg=_LOGISTIC_SOLVER_CONVERGENCE_MSG)\n"
     ]
    },
    {
     "name": "stdout",
     "output_type": "stream",
     "text": [
      "Size of majority dataset after undersampling:\n",
      "Counter({0: 21835, 1: 21835})\n"
     ]
    },
    {
     "name": "stderr",
     "output_type": "stream",
     "text": [
      "C:\\Users\\samsung\\Anaconda3\\lib\\site-packages\\sklearn\\linear_model\\_logistic.py:940: ConvergenceWarning: lbfgs failed to converge (status=1):\n",
      "STOP: TOTAL NO. of ITERATIONS REACHED LIMIT.\n",
      "\n",
      "Increase the number of iterations (max_iter) or scale the data as shown in:\n",
      "    https://scikit-learn.org/stable/modules/preprocessing.html\n",
      "Please also refer to the documentation for alternative solver options:\n",
      "    https://scikit-learn.org/stable/modules/linear_model.html#logistic-regression\n",
      "  extra_warning_msg=_LOGISTIC_SOLVER_CONVERGENCE_MSG)\n"
     ]
    },
    {
     "name": "stdout",
     "output_type": "stream",
     "text": [
      "Size of majority dataset after undersampling:\n",
      "Counter({0: 21835, 1: 21835})\n"
     ]
    },
    {
     "name": "stderr",
     "output_type": "stream",
     "text": [
      "C:\\Users\\samsung\\Anaconda3\\lib\\site-packages\\sklearn\\linear_model\\_logistic.py:940: ConvergenceWarning: lbfgs failed to converge (status=1):\n",
      "STOP: TOTAL NO. of ITERATIONS REACHED LIMIT.\n",
      "\n",
      "Increase the number of iterations (max_iter) or scale the data as shown in:\n",
      "    https://scikit-learn.org/stable/modules/preprocessing.html\n",
      "Please also refer to the documentation for alternative solver options:\n",
      "    https://scikit-learn.org/stable/modules/linear_model.html#logistic-regression\n",
      "  extra_warning_msg=_LOGISTIC_SOLVER_CONVERGENCE_MSG)\n"
     ]
    },
    {
     "name": "stdout",
     "output_type": "stream",
     "text": [
      "Size of majority dataset after undersampling:\n",
      "Counter({0: 21835, 1: 21835})\n"
     ]
    },
    {
     "name": "stderr",
     "output_type": "stream",
     "text": [
      "C:\\Users\\samsung\\Anaconda3\\lib\\site-packages\\sklearn\\linear_model\\_logistic.py:940: ConvergenceWarning: lbfgs failed to converge (status=1):\n",
      "STOP: TOTAL NO. of ITERATIONS REACHED LIMIT.\n",
      "\n",
      "Increase the number of iterations (max_iter) or scale the data as shown in:\n",
      "    https://scikit-learn.org/stable/modules/preprocessing.html\n",
      "Please also refer to the documentation for alternative solver options:\n",
      "    https://scikit-learn.org/stable/modules/linear_model.html#logistic-regression\n",
      "  extra_warning_msg=_LOGISTIC_SOLVER_CONVERGENCE_MSG)\n"
     ]
    },
    {
     "name": "stdout",
     "output_type": "stream",
     "text": [
      "Size of majority dataset after undersampling:\n",
      "Counter({0: 21835, 1: 21835})\n"
     ]
    },
    {
     "name": "stderr",
     "output_type": "stream",
     "text": [
      "C:\\Users\\samsung\\Anaconda3\\lib\\site-packages\\sklearn\\linear_model\\_logistic.py:940: ConvergenceWarning: lbfgs failed to converge (status=1):\n",
      "STOP: TOTAL NO. of ITERATIONS REACHED LIMIT.\n",
      "\n",
      "Increase the number of iterations (max_iter) or scale the data as shown in:\n",
      "    https://scikit-learn.org/stable/modules/preprocessing.html\n",
      "Please also refer to the documentation for alternative solver options:\n",
      "    https://scikit-learn.org/stable/modules/linear_model.html#logistic-regression\n",
      "  extra_warning_msg=_LOGISTIC_SOLVER_CONVERGENCE_MSG)\n"
     ]
    },
    {
     "name": "stdout",
     "output_type": "stream",
     "text": [
      "Size of majority dataset after undersampling:\n",
      "Counter({0: 21835, 1: 21835})\n"
     ]
    },
    {
     "name": "stderr",
     "output_type": "stream",
     "text": [
      "C:\\Users\\samsung\\Anaconda3\\lib\\site-packages\\sklearn\\linear_model\\_logistic.py:940: ConvergenceWarning: lbfgs failed to converge (status=1):\n",
      "STOP: TOTAL NO. of ITERATIONS REACHED LIMIT.\n",
      "\n",
      "Increase the number of iterations (max_iter) or scale the data as shown in:\n",
      "    https://scikit-learn.org/stable/modules/preprocessing.html\n",
      "Please also refer to the documentation for alternative solver options:\n",
      "    https://scikit-learn.org/stable/modules/linear_model.html#logistic-regression\n",
      "  extra_warning_msg=_LOGISTIC_SOLVER_CONVERGENCE_MSG)\n"
     ]
    },
    {
     "name": "stdout",
     "output_type": "stream",
     "text": [
      "Size of majority dataset after undersampling:\n",
      "Counter({0: 21835, 1: 21835})\n"
     ]
    },
    {
     "name": "stderr",
     "output_type": "stream",
     "text": [
      "C:\\Users\\samsung\\Anaconda3\\lib\\site-packages\\sklearn\\linear_model\\_logistic.py:940: ConvergenceWarning: lbfgs failed to converge (status=1):\n",
      "STOP: TOTAL NO. of ITERATIONS REACHED LIMIT.\n",
      "\n",
      "Increase the number of iterations (max_iter) or scale the data as shown in:\n",
      "    https://scikit-learn.org/stable/modules/preprocessing.html\n",
      "Please also refer to the documentation for alternative solver options:\n",
      "    https://scikit-learn.org/stable/modules/linear_model.html#logistic-regression\n",
      "  extra_warning_msg=_LOGISTIC_SOLVER_CONVERGENCE_MSG)\n"
     ]
    },
    {
     "name": "stdout",
     "output_type": "stream",
     "text": [
      "Size of majority dataset after undersampling:\n",
      "Counter({0: 21835, 1: 21835})\n"
     ]
    },
    {
     "name": "stderr",
     "output_type": "stream",
     "text": [
      "C:\\Users\\samsung\\Anaconda3\\lib\\site-packages\\sklearn\\linear_model\\_logistic.py:940: ConvergenceWarning: lbfgs failed to converge (status=1):\n",
      "STOP: TOTAL NO. of ITERATIONS REACHED LIMIT.\n",
      "\n",
      "Increase the number of iterations (max_iter) or scale the data as shown in:\n",
      "    https://scikit-learn.org/stable/modules/preprocessing.html\n",
      "Please also refer to the documentation for alternative solver options:\n",
      "    https://scikit-learn.org/stable/modules/linear_model.html#logistic-regression\n",
      "  extra_warning_msg=_LOGISTIC_SOLVER_CONVERGENCE_MSG)\n"
     ]
    },
    {
     "name": "stdout",
     "output_type": "stream",
     "text": [
      "Size of majority dataset after undersampling:\n",
      "Counter({0: 21835, 1: 21835})\n"
     ]
    },
    {
     "name": "stderr",
     "output_type": "stream",
     "text": [
      "C:\\Users\\samsung\\Anaconda3\\lib\\site-packages\\sklearn\\linear_model\\_logistic.py:940: ConvergenceWarning: lbfgs failed to converge (status=1):\n",
      "STOP: TOTAL NO. of ITERATIONS REACHED LIMIT.\n",
      "\n",
      "Increase the number of iterations (max_iter) or scale the data as shown in:\n",
      "    https://scikit-learn.org/stable/modules/preprocessing.html\n",
      "Please also refer to the documentation for alternative solver options:\n",
      "    https://scikit-learn.org/stable/modules/linear_model.html#logistic-regression\n",
      "  extra_warning_msg=_LOGISTIC_SOLVER_CONVERGENCE_MSG)\n"
     ]
    },
    {
     "name": "stdout",
     "output_type": "stream",
     "text": [
      "Size of majority dataset after undersampling:\n",
      "Counter({0: 21835, 1: 21835})\n"
     ]
    },
    {
     "name": "stderr",
     "output_type": "stream",
     "text": [
      "C:\\Users\\samsung\\Anaconda3\\lib\\site-packages\\sklearn\\linear_model\\_logistic.py:940: ConvergenceWarning: lbfgs failed to converge (status=1):\n",
      "STOP: TOTAL NO. of ITERATIONS REACHED LIMIT.\n",
      "\n",
      "Increase the number of iterations (max_iter) or scale the data as shown in:\n",
      "    https://scikit-learn.org/stable/modules/preprocessing.html\n",
      "Please also refer to the documentation for alternative solver options:\n",
      "    https://scikit-learn.org/stable/modules/linear_model.html#logistic-regression\n",
      "  extra_warning_msg=_LOGISTIC_SOLVER_CONVERGENCE_MSG)\n"
     ]
    },
    {
     "name": "stdout",
     "output_type": "stream",
     "text": [
      "Size of majority dataset after undersampling:\n",
      "Counter({0: 21835, 1: 21835})\n"
     ]
    },
    {
     "name": "stderr",
     "output_type": "stream",
     "text": [
      "C:\\Users\\samsung\\Anaconda3\\lib\\site-packages\\sklearn\\linear_model\\_logistic.py:940: ConvergenceWarning: lbfgs failed to converge (status=1):\n",
      "STOP: TOTAL NO. of ITERATIONS REACHED LIMIT.\n",
      "\n",
      "Increase the number of iterations (max_iter) or scale the data as shown in:\n",
      "    https://scikit-learn.org/stable/modules/preprocessing.html\n",
      "Please also refer to the documentation for alternative solver options:\n",
      "    https://scikit-learn.org/stable/modules/linear_model.html#logistic-regression\n",
      "  extra_warning_msg=_LOGISTIC_SOLVER_CONVERGENCE_MSG)\n"
     ]
    },
    {
     "name": "stdout",
     "output_type": "stream",
     "text": [
      "Size of majority dataset after undersampling:\n",
      "Counter({0: 21835, 1: 21835})\n"
     ]
    },
    {
     "name": "stderr",
     "output_type": "stream",
     "text": [
      "C:\\Users\\samsung\\Anaconda3\\lib\\site-packages\\sklearn\\linear_model\\_logistic.py:940: ConvergenceWarning: lbfgs failed to converge (status=1):\n",
      "STOP: TOTAL NO. of ITERATIONS REACHED LIMIT.\n",
      "\n",
      "Increase the number of iterations (max_iter) or scale the data as shown in:\n",
      "    https://scikit-learn.org/stable/modules/preprocessing.html\n",
      "Please also refer to the documentation for alternative solver options:\n",
      "    https://scikit-learn.org/stable/modules/linear_model.html#logistic-regression\n",
      "  extra_warning_msg=_LOGISTIC_SOLVER_CONVERGENCE_MSG)\n"
     ]
    },
    {
     "name": "stdout",
     "output_type": "stream",
     "text": [
      "Size of majority dataset after undersampling:\n",
      "Counter({0: 21835, 1: 21835})\n"
     ]
    },
    {
     "name": "stderr",
     "output_type": "stream",
     "text": [
      "C:\\Users\\samsung\\Anaconda3\\lib\\site-packages\\sklearn\\linear_model\\_logistic.py:940: ConvergenceWarning: lbfgs failed to converge (status=1):\n",
      "STOP: TOTAL NO. of ITERATIONS REACHED LIMIT.\n",
      "\n",
      "Increase the number of iterations (max_iter) or scale the data as shown in:\n",
      "    https://scikit-learn.org/stable/modules/preprocessing.html\n",
      "Please also refer to the documentation for alternative solver options:\n",
      "    https://scikit-learn.org/stable/modules/linear_model.html#logistic-regression\n",
      "  extra_warning_msg=_LOGISTIC_SOLVER_CONVERGENCE_MSG)\n"
     ]
    }
   ],
   "source": [
    "# Fit the Logistic Regression to undersampling datasets \n",
    "# and get the Precrisions, and Recalls.\n",
    "lr_precisions, lr_recalls = under_sampling(lr, X,y)"
   ]
  },
  {
   "cell_type": "code",
   "execution_count": 37,
   "metadata": {
    "collapsed": false
   },
   "outputs": [
    {
     "name": "stdout",
     "output_type": "stream",
     "text": [
      "Average Precisions 0.911087094069\n"
     ]
    },
    {
     "data": {
      "image/png": "[encoded data removed]",
      "text/plain": [
       "<Figure size 432x288 with 1 Axes>"
      ]
     },
     "metadata": {},
     "output_type": "display_data"
    },
    {
     "name": "stdout",
     "output_type": "stream",
     "text": [
      "Average Recalls 0.801615564675\n"
     ]
    },
    {
     "data": {
      "image/png": "[encoded data removed]",
      "text/plain": [
       "<Figure size 432x288 with 1 Axes>"
      ]
     },
     "metadata": {},
     "output_type": "display_data"
    }
   ],
   "source": [
    "# Plot the Precisions and Recalls of resampling datasets \n",
    "# with Logistic Regression\n",
    "avg_precision = sum(lr_precisions)/len(lr_precisions)\n",
    "print('Average Precisions', avg_precision)\n",
    "plt.plot(Precisions)\n",
    "plt.title('Precisions of resampling datasets ')\n",
    "plt.show()\n",
    "\n",
    "avg_recall = sum(lr_recalls)/len(lr_recalls)\n",
    "print('Average Recalls', avg_recall)\n",
    "plt.plot(Recalls)\n",
    "plt.title('Recalls of resampling datasets ')\n",
    "plt.show()"
   ]
  },
  {
   "cell_type": "markdown",
   "metadata": {
    "collapsed": false
   },
   "source": [
    "#### 2. KNN"
   ]
  },
  {
   "cell_type": "code",
   "execution_count": 14,
   "metadata": {
    "collapsed": false
   },
   "outputs": [
    {
     "name": "stdout",
     "output_type": "stream",
     "text": [
      "Size of majority dataset:\n",
      "Counter({0: 230302, 1: 21835})\n",
      "Size of majority dataset after undersampling:\n",
      "Counter({0: 21835, 1: 21835})\n",
      "Size of majority dataset after undersampling:\n",
      "Counter({0: 21835, 1: 21835})\n",
      "Size of majority dataset after undersampling:\n",
      "Counter({0: 21835, 1: 21835})\n",
      "Size of majority dataset after undersampling:\n",
      "Counter({0: 21835, 1: 21835})\n",
      "Size of majority dataset after undersampling:\n",
      "Counter({0: 21835, 1: 21835})\n",
      "Size of majority dataset after undersampling:\n",
      "Counter({0: 21835, 1: 21835})\n",
      "Size of majority dataset after undersampling:\n",
      "Counter({0: 21835, 1: 21835})\n",
      "Size of majority dataset after undersampling:\n",
      "Counter({0: 21835, 1: 21835})\n",
      "Size of majority dataset after undersampling:\n",
      "Counter({0: 21835, 1: 21835})\n",
      "Size of majority dataset after undersampling:\n",
      "Counter({0: 21835, 1: 21835})\n",
      "Size of majority dataset after undersampling:\n",
      "Counter({0: 21835, 1: 21835})\n",
      "Size of majority dataset after undersampling:\n",
      "Counter({0: 21835, 1: 21835})\n",
      "Size of majority dataset after undersampling:\n",
      "Counter({0: 21835, 1: 21835})\n",
      "Size of majority dataset after undersampling:\n",
      "Counter({0: 21835, 1: 21835})\n",
      "Size of majority dataset after undersampling:\n",
      "Counter({0: 21835, 1: 21835})\n",
      "Size of majority dataset after undersampling:\n",
      "Counter({0: 21835, 1: 21835})\n",
      "Size of majority dataset after undersampling:\n",
      "Counter({0: 21835, 1: 21835})\n",
      "Size of majority dataset after undersampling:\n",
      "Counter({0: 21835, 1: 21835})\n",
      "Size of majority dataset after undersampling:\n",
      "Counter({0: 21835, 1: 21835})\n",
      "Size of majority dataset after undersampling:\n",
      "Counter({0: 21835, 1: 21835})\n",
      "Size of majority dataset after undersampling:\n",
      "Counter({0: 21835, 1: 21835})\n",
      "Size of majority dataset after undersampling:\n",
      "Counter({0: 21835, 1: 21835})\n",
      "Size of majority dataset after undersampling:\n",
      "Counter({0: 21835, 1: 21835})\n",
      "Size of majority dataset after undersampling:\n",
      "Counter({0: 21835, 1: 21835})\n",
      "Size of majority dataset after undersampling:\n",
      "Counter({0: 21835, 1: 21835})\n",
      "Size of majority dataset after undersampling:\n",
      "Counter({0: 21835, 1: 21835})\n",
      "Size of majority dataset after undersampling:\n",
      "Counter({0: 21835, 1: 21835})\n",
      "Size of majority dataset after undersampling:\n",
      "Counter({0: 21835, 1: 21835})\n",
      "Size of majority dataset after undersampling:\n",
      "Counter({0: 21835, 1: 21835})\n",
      "Size of majority dataset after undersampling:\n",
      "Counter({0: 21835, 1: 21835})\n",
      "Size of majority dataset after undersampling:\n",
      "Counter({0: 21835, 1: 21835})\n",
      "Size of majority dataset after undersampling:\n",
      "Counter({0: 21835, 1: 21835})\n",
      "Size of majority dataset after undersampling:\n",
      "Counter({0: 21835, 1: 21835})\n",
      "Size of majority dataset after undersampling:\n",
      "Counter({0: 21835, 1: 21835})\n",
      "Size of majority dataset after undersampling:\n",
      "Counter({0: 21835, 1: 21835})\n",
      "Size of majority dataset after undersampling:\n",
      "Counter({0: 21835, 1: 21835})\n",
      "Size of majority dataset after undersampling:\n",
      "Counter({0: 21835, 1: 21835})\n",
      "Size of majority dataset after undersampling:\n",
      "Counter({0: 21835, 1: 21835})\n",
      "Size of majority dataset after undersampling:\n",
      "Counter({0: 21835, 1: 21835})\n",
      "Size of majority dataset after undersampling:\n",
      "Counter({0: 21835, 1: 21835})\n",
      "Size of majority dataset after undersampling:\n",
      "Counter({0: 21835, 1: 21835})\n",
      "Size of majority dataset after undersampling:\n",
      "Counter({0: 21835, 1: 21835})\n",
      "Size of majority dataset after undersampling:\n",
      "Counter({0: 21835, 1: 21835})\n",
      "Size of majority dataset after undersampling:\n",
      "Counter({0: 21835, 1: 21835})\n",
      "Size of majority dataset after undersampling:\n",
      "Counter({0: 21835, 1: 21835})\n",
      "Size of majority dataset after undersampling:\n",
      "Counter({0: 21835, 1: 21835})\n",
      "Size of majority dataset after undersampling:\n",
      "Counter({0: 21835, 1: 21835})\n",
      "Size of majority dataset after undersampling:\n",
      "Counter({0: 21835, 1: 21835})\n",
      "Size of majority dataset after undersampling:\n",
      "Counter({0: 21835, 1: 21835})\n",
      "Size of majority dataset after undersampling:\n",
      "Counter({0: 21835, 1: 21835})\n",
      "Size of majority dataset after undersampling:\n",
      "Counter({0: 21835, 1: 21835})\n",
      "Size of majority dataset after undersampling:\n",
      "Counter({0: 21835, 1: 21835})\n",
      "Size of majority dataset after undersampling:\n",
      "Counter({0: 21835, 1: 21835})\n",
      "Size of majority dataset after undersampling:\n",
      "Counter({0: 21835, 1: 21835})\n",
      "Size of majority dataset after undersampling:\n",
      "Counter({0: 21835, 1: 21835})\n",
      "Size of majority dataset after undersampling:\n",
      "Counter({0: 21835, 1: 21835})\n",
      "Size of majority dataset after undersampling:\n",
      "Counter({0: 21835, 1: 21835})\n",
      "Size of majority dataset after undersampling:\n",
      "Counter({0: 21835, 1: 21835})\n",
      "Size of majority dataset after undersampling:\n",
      "Counter({0: 21835, 1: 21835})\n",
      "Size of majority dataset after undersampling:\n",
      "Counter({0: 21835, 1: 21835})\n",
      "Size of majority dataset after undersampling:\n",
      "Counter({0: 21835, 1: 21835})\n",
      "Size of majority dataset after undersampling:\n",
      "Counter({0: 21835, 1: 21835})\n",
      "Size of majority dataset after undersampling:\n",
      "Counter({0: 21835, 1: 21835})\n",
      "Size of majority dataset after undersampling:\n",
      "Counter({0: 21835, 1: 21835})\n",
      "Size of majority dataset after undersampling:\n",
      "Counter({0: 21835, 1: 21835})\n",
      "Size of majority dataset after undersampling:\n",
      "Counter({0: 21835, 1: 21835})\n",
      "Size of majority dataset after undersampling:\n",
      "Counter({0: 21835, 1: 21835})\n",
      "Size of majority dataset after undersampling:\n",
      "Counter({0: 21835, 1: 21835})\n",
      "Size of majority dataset after undersampling:\n",
      "Counter({0: 21835, 1: 21835})\n",
      "Size of majority dataset after undersampling:\n",
      "Counter({0: 21835, 1: 21835})\n",
      "Size of majority dataset after undersampling:\n",
      "Counter({0: 21835, 1: 21835})\n",
      "Size of majority dataset after undersampling:\n",
      "Counter({0: 21835, 1: 21835})\n",
      "Size of majority dataset after undersampling:\n",
      "Counter({0: 21835, 1: 21835})\n",
      "Size of majority dataset after undersampling:\n",
      "Counter({0: 21835, 1: 21835})\n",
      "Size of majority dataset after undersampling:\n",
      "Counter({0: 21835, 1: 21835})\n",
      "Size of majority dataset after undersampling:\n",
      "Counter({0: 21835, 1: 21835})\n",
      "Size of majority dataset after undersampling:\n",
      "Counter({0: 21835, 1: 21835})\n",
      "Size of majority dataset after undersampling:\n",
      "Counter({0: 21835, 1: 21835})\n",
      "Size of majority dataset after undersampling:\n",
      "Counter({0: 21835, 1: 21835})\n",
      "Size of majority dataset after undersampling:\n",
      "Counter({0: 21835, 1: 21835})\n",
      "Size of majority dataset after undersampling:\n",
      "Counter({0: 21835, 1: 21835})\n",
      "Size of majority dataset after undersampling:\n",
      "Counter({0: 21835, 1: 21835})\n",
      "Size of majority dataset after undersampling:\n",
      "Counter({0: 21835, 1: 21835})\n",
      "Size of majority dataset after undersampling:\n",
      "Counter({0: 21835, 1: 21835})\n",
      "Size of majority dataset after undersampling:\n",
      "Counter({0: 21835, 1: 21835})\n",
      "Size of majority dataset after undersampling:\n",
      "Counter({0: 21835, 1: 21835})\n",
      "Size of majority dataset after undersampling:\n",
      "Counter({0: 21835, 1: 21835})\n",
      "Size of majority dataset after undersampling:\n",
      "Counter({0: 21835, 1: 21835})\n",
      "Size of majority dataset after undersampling:\n",
      "Counter({0: 21835, 1: 21835})\n",
      "Size of majority dataset after undersampling:\n",
      "Counter({0: 21835, 1: 21835})\n",
      "Size of majority dataset after undersampling:\n",
      "Counter({0: 21835, 1: 21835})\n",
      "Size of majority dataset after undersampling:\n",
      "Counter({0: 21835, 1: 21835})\n",
      "Size of majority dataset after undersampling:\n",
      "Counter({0: 21835, 1: 21835})\n",
      "Size of majority dataset after undersampling:\n",
      "Counter({0: 21835, 1: 21835})\n",
      "Size of majority dataset after undersampling:\n",
      "Counter({0: 21835, 1: 21835})\n",
      "Size of majority dataset after undersampling:\n",
      "Counter({0: 21835, 1: 21835})\n",
      "Size of majority dataset after undersampling:\n",
      "Counter({0: 21835, 1: 21835})\n",
      "Size of majority dataset after undersampling:\n",
      "Counter({0: 21835, 1: 21835})\n",
      "Size of majority dataset after undersampling:\n",
      "Counter({0: 21835, 1: 21835})\n",
      "Size of majority dataset after undersampling:\n",
      "Counter({0: 21835, 1: 21835})\n"
     ]
    }
   ],
   "source": [
    "# k Nearest Neighbor algorithms\n",
    "knn = KNeighborsClassifier(n_neighbors=3)\n",
    "\n",
    "# Fit the Nearest Neighbor to undersampling datasets \n",
    "# and get the Precrisions, and Recalls.\n",
    "knn_precisions, knn_recalls = under_sampling(knn, X,y)"
   ]
  },
  {
   "cell_type": "code",
   "execution_count": 17,
   "metadata": {
    "collapsed": false,
    "scrolled": true
   },
   "outputs": [
    {
     "name": "stdout",
     "output_type": "stream",
     "text": [
      "Average Precisions 0.895015570274\n"
     ]
    },
    {
     "data": {
      "image/png": "[encoded data removed]",
      "text/plain": [
       "<Figure size 432x288 with 1 Axes>"
      ]
     },
     "metadata": {},
     "output_type": "display_data"
    },
    {
     "name": "stdout",
     "output_type": "stream",
     "text": [
      "Average Recalls 0.762710377329\n"
     ]
    },
    {
     "data": {
      "image/png": "[encoded data removed]",
      "text/plain": [
       "<Figure size 432x288 with 1 Axes>"
      ]
     },
     "metadata": {},
     "output_type": "display_data"
    }
   ],
   "source": [
    "# Plot the Precisions and Recalls of resampling datasets \n",
    "# with Logistic Regression\n",
    "avg_knn_precision = sum(knn_precisions)/len(knn_precisions)\n",
    "print('Average Precisions', avg_knn_precision)\n",
    "plt.plot(knn_precisions)\n",
    "plt.title('KNN Precision of resampling datasets ')\n",
    "plt.show()\n",
    "\n",
    "avg_knn_recall = sum(knn_recalls)/len(knn_recalls)\n",
    "print('Average Recalls', avg_knn_recall)\n",
    "plt.plot(knn_recalls)\n",
    "plt.title('KNN Recalls of resampling datasets ')\n",
    "plt.show()"
   ]
  },
  {
   "cell_type": "markdown",
   "metadata": {},
   "source": [
    "#### 3. Random Forest"
   ]
  },
  {
   "cell_type": "code",
   "execution_count": null,
   "metadata": {
    "collapsed": false,
    "scrolled": true
   },
   "outputs": [],
   "source": [
    "#### 4. Random Forest\n",
    "#rf = RandomForestClassifier()\n",
    "#rf.fit(X_train, y_train)\n",
    "#rf_score = rf.score(X_test, y_test)\n",
    "#print('Random Forest classification:', rf_score)"
   ]
  },
  {
   "cell_type": "code",
   "execution_count": 18,
   "metadata": {
    "collapsed": false
   },
   "outputs": [
    {
     "name": "stdout",
     "output_type": "stream",
     "text": [
      "Size of majority dataset:\n",
      "Counter({0: 230302, 1: 21835})\n",
      "Size of majority dataset after undersampling:\n",
      "Counter({0: 21835, 1: 21835})\n",
      "Size of majority dataset after undersampling:\n",
      "Counter({0: 21835, 1: 21835})\n",
      "Size of majority dataset after undersampling:\n",
      "Counter({0: 21835, 1: 21835})\n",
      "Size of majority dataset after undersampling:\n",
      "Counter({0: 21835, 1: 21835})\n",
      "Size of majority dataset after undersampling:\n",
      "Counter({0: 21835, 1: 21835})\n",
      "Size of majority dataset after undersampling:\n",
      "Counter({0: 21835, 1: 21835})\n",
      "Size of majority dataset after undersampling:\n",
      "Counter({0: 21835, 1: 21835})\n",
      "Size of majority dataset after undersampling:\n",
      "Counter({0: 21835, 1: 21835})\n",
      "Size of majority dataset after undersampling:\n",
      "Counter({0: 21835, 1: 21835})\n",
      "Size of majority dataset after undersampling:\n",
      "Counter({0: 21835, 1: 21835})\n",
      "Size of majority dataset after undersampling:\n",
      "Counter({0: 21835, 1: 21835})\n",
      "Size of majority dataset after undersampling:\n",
      "Counter({0: 21835, 1: 21835})\n",
      "Size of majority dataset after undersampling:\n",
      "Counter({0: 21835, 1: 21835})\n",
      "Size of majority dataset after undersampling:\n",
      "Counter({0: 21835, 1: 21835})\n",
      "Size of majority dataset after undersampling:\n",
      "Counter({0: 21835, 1: 21835})\n",
      "Size of majority dataset after undersampling:\n",
      "Counter({0: 21835, 1: 21835})\n",
      "Size of majority dataset after undersampling:\n",
      "Counter({0: 21835, 1: 21835})\n",
      "Size of majority dataset after undersampling:\n",
      "Counter({0: 21835, 1: 21835})\n",
      "Size of majority dataset after undersampling:\n",
      "Counter({0: 21835, 1: 21835})\n",
      "Size of majority dataset after undersampling:\n",
      "Counter({0: 21835, 1: 21835})\n",
      "Size of majority dataset after undersampling:\n",
      "Counter({0: 21835, 1: 21835})\n",
      "Size of majority dataset after undersampling:\n",
      "Counter({0: 21835, 1: 21835})\n",
      "Size of majority dataset after undersampling:\n",
      "Counter({0: 21835, 1: 21835})\n",
      "Size of majority dataset after undersampling:\n",
      "Counter({0: 21835, 1: 21835})\n",
      "Size of majority dataset after undersampling:\n",
      "Counter({0: 21835, 1: 21835})\n",
      "Size of majority dataset after undersampling:\n",
      "Counter({0: 21835, 1: 21835})\n",
      "Size of majority dataset after undersampling:\n",
      "Counter({0: 21835, 1: 21835})\n",
      "Size of majority dataset after undersampling:\n",
      "Counter({0: 21835, 1: 21835})\n",
      "Size of majority dataset after undersampling:\n",
      "Counter({0: 21835, 1: 21835})\n",
      "Size of majority dataset after undersampling:\n",
      "Counter({0: 21835, 1: 21835})\n",
      "Size of majority dataset after undersampling:\n",
      "Counter({0: 21835, 1: 21835})\n",
      "Size of majority dataset after undersampling:\n",
      "Counter({0: 21835, 1: 21835})\n",
      "Size of majority dataset after undersampling:\n",
      "Counter({0: 21835, 1: 21835})\n",
      "Size of majority dataset after undersampling:\n",
      "Counter({0: 21835, 1: 21835})\n",
      "Size of majority dataset after undersampling:\n",
      "Counter({0: 21835, 1: 21835})\n",
      "Size of majority dataset after undersampling:\n",
      "Counter({0: 21835, 1: 21835})\n",
      "Size of majority dataset after undersampling:\n",
      "Counter({0: 21835, 1: 21835})\n",
      "Size of majority dataset after undersampling:\n",
      "Counter({0: 21835, 1: 21835})\n",
      "Size of majority dataset after undersampling:\n",
      "Counter({0: 21835, 1: 21835})\n",
      "Size of majority dataset after undersampling:\n",
      "Counter({0: 21835, 1: 21835})\n",
      "Size of majority dataset after undersampling:\n",
      "Counter({0: 21835, 1: 21835})\n",
      "Size of majority dataset after undersampling:\n",
      "Counter({0: 21835, 1: 21835})\n",
      "Size of majority dataset after undersampling:\n",
      "Counter({0: 21835, 1: 21835})\n",
      "Size of majority dataset after undersampling:\n",
      "Counter({0: 21835, 1: 21835})\n",
      "Size of majority dataset after undersampling:\n",
      "Counter({0: 21835, 1: 21835})\n",
      "Size of majority dataset after undersampling:\n",
      "Counter({0: 21835, 1: 21835})\n",
      "Size of majority dataset after undersampling:\n",
      "Counter({0: 21835, 1: 21835})\n",
      "Size of majority dataset after undersampling:\n",
      "Counter({0: 21835, 1: 21835})\n",
      "Size of majority dataset after undersampling:\n",
      "Counter({0: 21835, 1: 21835})\n",
      "Size of majority dataset after undersampling:\n",
      "Counter({0: 21835, 1: 21835})\n",
      "Size of majority dataset after undersampling:\n",
      "Counter({0: 21835, 1: 21835})\n",
      "Size of majority dataset after undersampling:\n",
      "Counter({0: 21835, 1: 21835})\n",
      "Size of majority dataset after undersampling:\n",
      "Counter({0: 21835, 1: 21835})\n",
      "Size of majority dataset after undersampling:\n",
      "Counter({0: 21835, 1: 21835})\n",
      "Size of majority dataset after undersampling:\n",
      "Counter({0: 21835, 1: 21835})\n",
      "Size of majority dataset after undersampling:\n",
      "Counter({0: 21835, 1: 21835})\n",
      "Size of majority dataset after undersampling:\n",
      "Counter({0: 21835, 1: 21835})\n",
      "Size of majority dataset after undersampling:\n",
      "Counter({0: 21835, 1: 21835})\n",
      "Size of majority dataset after undersampling:\n",
      "Counter({0: 21835, 1: 21835})\n",
      "Size of majority dataset after undersampling:\n",
      "Counter({0: 21835, 1: 21835})\n",
      "Size of majority dataset after undersampling:\n",
      "Counter({0: 21835, 1: 21835})\n",
      "Size of majority dataset after undersampling:\n",
      "Counter({0: 21835, 1: 21835})\n",
      "Size of majority dataset after undersampling:\n",
      "Counter({0: 21835, 1: 21835})\n",
      "Size of majority dataset after undersampling:\n",
      "Counter({0: 21835, 1: 21835})\n",
      "Size of majority dataset after undersampling:\n",
      "Counter({0: 21835, 1: 21835})\n",
      "Size of majority dataset after undersampling:\n",
      "Counter({0: 21835, 1: 21835})\n",
      "Size of majority dataset after undersampling:\n",
      "Counter({0: 21835, 1: 21835})\n",
      "Size of majority dataset after undersampling:\n",
      "Counter({0: 21835, 1: 21835})\n",
      "Size of majority dataset after undersampling:\n",
      "Counter({0: 21835, 1: 21835})\n",
      "Size of majority dataset after undersampling:\n",
      "Counter({0: 21835, 1: 21835})\n",
      "Size of majority dataset after undersampling:\n",
      "Counter({0: 21835, 1: 21835})\n",
      "Size of majority dataset after undersampling:\n",
      "Counter({0: 21835, 1: 21835})\n",
      "Size of majority dataset after undersampling:\n",
      "Counter({0: 21835, 1: 21835})\n",
      "Size of majority dataset after undersampling:\n",
      "Counter({0: 21835, 1: 21835})\n",
      "Size of majority dataset after undersampling:\n",
      "Counter({0: 21835, 1: 21835})\n",
      "Size of majority dataset after undersampling:\n",
      "Counter({0: 21835, 1: 21835})\n",
      "Size of majority dataset after undersampling:\n",
      "Counter({0: 21835, 1: 21835})\n",
      "Size of majority dataset after undersampling:\n",
      "Counter({0: 21835, 1: 21835})\n",
      "Size of majority dataset after undersampling:\n",
      "Counter({0: 21835, 1: 21835})\n",
      "Size of majority dataset after undersampling:\n",
      "Counter({0: 21835, 1: 21835})\n",
      "Size of majority dataset after undersampling:\n",
      "Counter({0: 21835, 1: 21835})\n",
      "Size of majority dataset after undersampling:\n",
      "Counter({0: 21835, 1: 21835})\n",
      "Size of majority dataset after undersampling:\n",
      "Counter({0: 21835, 1: 21835})\n",
      "Size of majority dataset after undersampling:\n",
      "Counter({0: 21835, 1: 21835})\n",
      "Size of majority dataset after undersampling:\n",
      "Counter({0: 21835, 1: 21835})\n",
      "Size of majority dataset after undersampling:\n",
      "Counter({0: 21835, 1: 21835})\n",
      "Size of majority dataset after undersampling:\n",
      "Counter({0: 21835, 1: 21835})\n",
      "Size of majority dataset after undersampling:\n",
      "Counter({0: 21835, 1: 21835})\n",
      "Size of majority dataset after undersampling:\n",
      "Counter({0: 21835, 1: 21835})\n",
      "Size of majority dataset after undersampling:\n",
      "Counter({0: 21835, 1: 21835})\n",
      "Size of majority dataset after undersampling:\n",
      "Counter({0: 21835, 1: 21835})\n",
      "Size of majority dataset after undersampling:\n",
      "Counter({0: 21835, 1: 21835})\n",
      "Size of majority dataset after undersampling:\n",
      "Counter({0: 21835, 1: 21835})\n",
      "Size of majority dataset after undersampling:\n",
      "Counter({0: 21835, 1: 21835})\n",
      "Size of majority dataset after undersampling:\n",
      "Counter({0: 21835, 1: 21835})\n",
      "Size of majority dataset after undersampling:\n",
      "Counter({0: 21835, 1: 21835})\n",
      "Size of majority dataset after undersampling:\n",
      "Counter({0: 21835, 1: 21835})\n",
      "Size of majority dataset after undersampling:\n",
      "Counter({0: 21835, 1: 21835})\n",
      "Size of majority dataset after undersampling:\n",
      "Counter({0: 21835, 1: 21835})\n",
      "Size of majority dataset after undersampling:\n",
      "Counter({0: 21835, 1: 21835})\n"
     ]
    }
   ],
   "source": [
    "# Fit Random Forest to undersampling datasets \n",
    "# and get the Precrisions, and Recalls.\n",
    "rf = RandomForestClassifier()\n",
    "rf_precisions, rf_recalls = under_sampling(rf, X,y)"
   ]
  },
  {
   "cell_type": "code",
   "execution_count": 19,
   "metadata": {
    "collapsed": false
   },
   "outputs": [
    {
     "name": "stdout",
     "output_type": "stream",
     "text": [
      "Average Precisions 0.895015570274\n"
     ]
    },
    {
     "data": {
      "image/png": "[encoded data removed]",
      "text/plain": [
       "<Figure size 432x288 with 1 Axes>"
      ]
     },
     "metadata": {},
     "output_type": "display_data"
    },
    {
     "name": "stdout",
     "output_type": "stream",
     "text": [
      "Average Recalls 0.814944119951\n"
     ]
    },
    {
     "data": {
      "image/png": "[encoded data removed]",
      "text/plain": [
       "<Figure size 432x288 with 1 Axes>"
      ]
     },
     "metadata": {},
     "output_type": "display_data"
    }
   ],
   "source": [
    "# Plot the Precisions and Recalls of resampling datasets \n",
    "# with Logistic Regression\n",
    "avg_rf_precision = sum(rf_precisions)/len(rf_precisions)\n",
    "print('Average Precisions', avg_knn_precision)\n",
    "plt.plot(rf_precisions)\n",
    "plt.title('Random Forest Precision of resampling datasets ')\n",
    "plt.show()\n",
    "\n",
    "avg_rf_recall = sum(rf_recalls)/len(rf_recalls)\n",
    "print('Average Recalls', avg_rf_recall)\n",
    "plt.plot(rf_recalls)\n",
    "plt.title('Random Forest Recalls of resampling datasets ')\n",
    "plt.show()"
   ]
  },
  {
   "cell_type": "markdown",
   "metadata": {
    "collapsed": true
   },
   "source": [
    "The results of the 3 models as follows:\n",
    "\n",
    "| __           | Logistic Regression |    KNN    | Random Forest__|\n",
    "|--------------|:-------------------:|----------:|---------------:|\n",
    "|__Precision__|        0.91         |   0.895   |     0.895      | \n",
    "|__Recall__   |        0.80         |   0.763   |     0.815      |\n",
    "\n",
    "From the table, we can see that the Logistic Regression work best compared to KNN and Random Forest."
   ]
  },
  {
   "cell_type": "markdown",
   "metadata": {},
   "source": []
  },
  {
   "cell_type": "code",
   "execution_count": null,
   "metadata": {
    "collapsed": true
   },
   "outputs": [],
   "source": []
  }
 ],
 "metadata": {
  "kernelspec": {
   "display_name": "Python 3",
   "language": "python",
   "name": "python3"
  },
  "language_info": {
   "codemirror_mode": {
    "name": "ipython",
    "version": 3
   },
   "file_extension": ".py",
   "mimetype": "text/x-python",
   "name": "python",
   "nbconvert_exporter": "python",
   "pygments_lexer": "ipython3",
   "version": "3.6.8"
  }
 },
 "nbformat": 4,
 "nbformat_minor": 2
}
