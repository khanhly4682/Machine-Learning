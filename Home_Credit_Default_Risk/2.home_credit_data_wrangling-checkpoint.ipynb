{
 "cells": [
  {
   "cell_type": "markdown",
   "metadata": {},
   "source": [
    "# Home Credit Risk Analyze - Data Wrangling\n",
    "__Objective:__\n",
    " Use historical loan application data to predict if an application will be able to repay a loan.\n",
    " This is a standard supervised classification task:\n",
    "\n",
    "__Supervised__: The labels are included in the training data and the goal is to train a model to learn to predict the labels from the features.<br>\n",
    "__Classification__: The label is a binary variable, \n",
    "- 0 (will repay loan on time), \n",
    "- 1 (will have difficulty repaying loan)<br>\n",
    "\n",
    "## Data Description\n",
    "\n",
    "Data\n",
    "The data is provided by Home Credit,\n",
    "https://www.kaggle.com/c/home-credit-default-risk/data\n",
    "\n",
    "There are 7 different sources of data:\n",
    "\n",
    "- *application_train/application_test*: the main training and testing data with information about each loan application at Home Credit. Every loan has its own row and is identified by the feature SK_ID_CURR. The training application data comes with the TARGET indicating 0: the loan was repaid or 1: the loan was not repaid.\n",
    "- *bureau*: data concerning client's previous credits from other financial institutions. Each previous credit has its own row in bureau, but one loan in the application data can have multiple previous credits.\n",
    "- *bureau_balance*: monthly data about the previous credits in bureau. Each row is one month of a previous credit, and a single previous credit can have multiple rows, one for each month of the credit length.\n",
    "- *previous_application*: previous applications for loans at Home Credit of clients who have loans in the application data. Each current loan in the application data can have multiple previous loans. Each previous application has one row and is identified by the feature SK_ID_PREV.\n",
    "- *POS_CASH_balance*: monthly data about previous point of sale or cash loans clients have had with Home Credit. Each row is one month of a previous point of sale or cash loan, and a single previous loan can have many rows.\n",
    "_ *credit_card_balance*: monthly data about previous credit cards clients have had with Home Credit. Each row is one month of a credit card balance, and a single credit card can have many rows.\n",
    "- *installments_payment*: payment history for previous loans at Home Credit. There is one row for every made payment and one row for every missed payment."
   ]
  },
  {
   "cell_type": "code",
   "execution_count": 1,
   "metadata": {
    "collapsed": false
   },
   "outputs": [],
   "source": [
    "import pandas as pd\n",
    "import matplotlib.pyplot as plt\n",
    "import seaborn as sns\n",
    "\n",
    "import plotly.express as px"
   ]
  },
  {
   "cell_type": "markdown",
   "metadata": {},
   "source": [
    "### We will check the data\n",
    "After combining, the data contains:\n",
    "- 200 features.\n",
    "- 307511 observations."
   ]
  },
  {
   "cell_type": "code",
   "execution_count": 2,
   "metadata": {
    "collapsed": false
   },
   "outputs": [
    {
     "name": "stdout",
     "output_type": "stream",
     "text": [
      "(307511, 199)\n"
     ]
    },
    {
     "data": {
      "text/html": [
       "<div>\n",
       "<style scoped>\n",
       "    .dataframe tbody tr th:only-of-type {\n",
       "        vertical-align: middle;\n",
       "    }\n",
       "\n",
       "    .dataframe tbody tr th {\n",
       "        vertical-align: top;\n",
       "    }\n",
       "\n",
       "    .dataframe thead th {\n",
       "        text-align: right;\n",
       "    }\n",
       "</style>\n",
       "<table border=\"1\" class=\"dataframe\">\n",
       "  <thead>\n",
       "    <tr style=\"text-align: right;\">\n",
       "      <th></th>\n",
       "      <th>SK_ID_CURR</th>\n",
       "      <th>TARGET</th>\n",
       "      <th>NAME_CONTRACT_TYPE</th>\n",
       "      <th>CODE_GENDER</th>\n",
       "      <th>FLAG_OWN_CAR</th>\n",
       "      <th>FLAG_OWN_REALTY</th>\n",
       "      <th>CNT_CHILDREN</th>\n",
       "      <th>AMT_INCOME_TOTAL</th>\n",
       "      <th>AMT_CREDIT</th>\n",
       "      <th>AMT_ANNUITY</th>\n",
       "      <th>...</th>\n",
       "      <th>CREDIT_AMT_RECEIVABLE_PRINCIPAL</th>\n",
       "      <th>CREDIT_AMT_RECIVABLE</th>\n",
       "      <th>CREDIT_AMT_TOTAL_RECEIVABLE</th>\n",
       "      <th>CREDIT_CNT_DRAWINGS_ATM_CURRENT</th>\n",
       "      <th>CREDIT_CNT_DRAWINGS_CURRENT</th>\n",
       "      <th>CREDIT_CNT_DRAWINGS_OTHER_CURRENT</th>\n",
       "      <th>CREDIT_CNT_DRAWINGS_POS_CURRENT</th>\n",
       "      <th>CREDIT_CNT_INSTALMENT_MATURE_CUM</th>\n",
       "      <th>CREDIT_SK_DPD</th>\n",
       "      <th>CREDIT_SK_DPD_DEF</th>\n",
       "    </tr>\n",
       "  </thead>\n",
       "  <tbody>\n",
       "    <tr>\n",
       "      <th>0</th>\n",
       "      <td>100002</td>\n",
       "      <td>1</td>\n",
       "      <td>Cash loans</td>\n",
       "      <td>M</td>\n",
       "      <td>N</td>\n",
       "      <td>Y</td>\n",
       "      <td>0</td>\n",
       "      <td>202500.0</td>\n",
       "      <td>406597.5</td>\n",
       "      <td>24700.5</td>\n",
       "      <td>...</td>\n",
       "      <td>0.0</td>\n",
       "      <td>0.0</td>\n",
       "      <td>0.0</td>\n",
       "      <td>0.0</td>\n",
       "      <td>0.0</td>\n",
       "      <td>0.0</td>\n",
       "      <td>0.0</td>\n",
       "      <td>0.0</td>\n",
       "      <td>0.0</td>\n",
       "      <td>0.0</td>\n",
       "    </tr>\n",
       "    <tr>\n",
       "      <th>1</th>\n",
       "      <td>100003</td>\n",
       "      <td>0</td>\n",
       "      <td>Cash loans</td>\n",
       "      <td>F</td>\n",
       "      <td>N</td>\n",
       "      <td>N</td>\n",
       "      <td>0</td>\n",
       "      <td>270000.0</td>\n",
       "      <td>1293502.5</td>\n",
       "      <td>35698.5</td>\n",
       "      <td>...</td>\n",
       "      <td>0.0</td>\n",
       "      <td>0.0</td>\n",
       "      <td>0.0</td>\n",
       "      <td>0.0</td>\n",
       "      <td>0.0</td>\n",
       "      <td>0.0</td>\n",
       "      <td>0.0</td>\n",
       "      <td>0.0</td>\n",
       "      <td>0.0</td>\n",
       "      <td>0.0</td>\n",
       "    </tr>\n",
       "    <tr>\n",
       "      <th>2</th>\n",
       "      <td>100004</td>\n",
       "      <td>0</td>\n",
       "      <td>Revolving loans</td>\n",
       "      <td>M</td>\n",
       "      <td>Y</td>\n",
       "      <td>Y</td>\n",
       "      <td>0</td>\n",
       "      <td>67500.0</td>\n",
       "      <td>135000.0</td>\n",
       "      <td>6750.0</td>\n",
       "      <td>...</td>\n",
       "      <td>0.0</td>\n",
       "      <td>0.0</td>\n",
       "      <td>0.0</td>\n",
       "      <td>0.0</td>\n",
       "      <td>0.0</td>\n",
       "      <td>0.0</td>\n",
       "      <td>0.0</td>\n",
       "      <td>0.0</td>\n",
       "      <td>0.0</td>\n",
       "      <td>0.0</td>\n",
       "    </tr>\n",
       "    <tr>\n",
       "      <th>3</th>\n",
       "      <td>100006</td>\n",
       "      <td>0</td>\n",
       "      <td>Cash loans</td>\n",
       "      <td>F</td>\n",
       "      <td>N</td>\n",
       "      <td>Y</td>\n",
       "      <td>0</td>\n",
       "      <td>135000.0</td>\n",
       "      <td>312682.5</td>\n",
       "      <td>29686.5</td>\n",
       "      <td>...</td>\n",
       "      <td>0.0</td>\n",
       "      <td>0.0</td>\n",
       "      <td>0.0</td>\n",
       "      <td>0.0</td>\n",
       "      <td>0.0</td>\n",
       "      <td>0.0</td>\n",
       "      <td>0.0</td>\n",
       "      <td>0.0</td>\n",
       "      <td>0.0</td>\n",
       "      <td>0.0</td>\n",
       "    </tr>\n",
       "    <tr>\n",
       "      <th>4</th>\n",
       "      <td>100007</td>\n",
       "      <td>0</td>\n",
       "      <td>Cash loans</td>\n",
       "      <td>M</td>\n",
       "      <td>N</td>\n",
       "      <td>Y</td>\n",
       "      <td>0</td>\n",
       "      <td>121500.0</td>\n",
       "      <td>513000.0</td>\n",
       "      <td>21865.5</td>\n",
       "      <td>...</td>\n",
       "      <td>0.0</td>\n",
       "      <td>0.0</td>\n",
       "      <td>0.0</td>\n",
       "      <td>0.0</td>\n",
       "      <td>0.0</td>\n",
       "      <td>0.0</td>\n",
       "      <td>0.0</td>\n",
       "      <td>0.0</td>\n",
       "      <td>0.0</td>\n",
       "      <td>0.0</td>\n",
       "    </tr>\n",
       "  </tbody>\n",
       "</table>\n",
       "<p>5 rows × 199 columns</p>\n",
       "</div>"
      ],
      "text/plain": [
       "   SK_ID_CURR  TARGET NAME_CONTRACT_TYPE CODE_GENDER FLAG_OWN_CAR  \\\n",
       "0      100002       1         Cash loans           M            N   \n",
       "1      100003       0         Cash loans           F            N   \n",
       "2      100004       0    Revolving loans           M            Y   \n",
       "3      100006       0         Cash loans           F            N   \n",
       "4      100007       0         Cash loans           M            N   \n",
       "\n",
       "  FLAG_OWN_REALTY  CNT_CHILDREN  AMT_INCOME_TOTAL  AMT_CREDIT  AMT_ANNUITY  \\\n",
       "0               Y             0          202500.0    406597.5      24700.5   \n",
       "1               N             0          270000.0   1293502.5      35698.5   \n",
       "2               Y             0           67500.0    135000.0       6750.0   \n",
       "3               Y             0          135000.0    312682.5      29686.5   \n",
       "4               Y             0          121500.0    513000.0      21865.5   \n",
       "\n",
       "         ...          CREDIT_AMT_RECEIVABLE_PRINCIPAL CREDIT_AMT_RECIVABLE  \\\n",
       "0        ...                                      0.0                  0.0   \n",
       "1        ...                                      0.0                  0.0   \n",
       "2        ...                                      0.0                  0.0   \n",
       "3        ...                                      0.0                  0.0   \n",
       "4        ...                                      0.0                  0.0   \n",
       "\n",
       "  CREDIT_AMT_TOTAL_RECEIVABLE CREDIT_CNT_DRAWINGS_ATM_CURRENT  \\\n",
       "0                         0.0                             0.0   \n",
       "1                         0.0                             0.0   \n",
       "2                         0.0                             0.0   \n",
       "3                         0.0                             0.0   \n",
       "4                         0.0                             0.0   \n",
       "\n",
       "  CREDIT_CNT_DRAWINGS_CURRENT CREDIT_CNT_DRAWINGS_OTHER_CURRENT  \\\n",
       "0                         0.0                               0.0   \n",
       "1                         0.0                               0.0   \n",
       "2                         0.0                               0.0   \n",
       "3                         0.0                               0.0   \n",
       "4                         0.0                               0.0   \n",
       "\n",
       "   CREDIT_CNT_DRAWINGS_POS_CURRENT  CREDIT_CNT_INSTALMENT_MATURE_CUM  \\\n",
       "0                              0.0                               0.0   \n",
       "1                              0.0                               0.0   \n",
       "2                              0.0                               0.0   \n",
       "3                              0.0                               0.0   \n",
       "4                              0.0                               0.0   \n",
       "\n",
       "   CREDIT_SK_DPD  CREDIT_SK_DPD_DEF  \n",
       "0            0.0                0.0  \n",
       "1            0.0                0.0  \n",
       "2            0.0                0.0  \n",
       "3            0.0                0.0  \n",
       "4            0.0                0.0  \n",
       "\n",
       "[5 rows x 199 columns]"
      ]
     },
     "execution_count": 2,
     "metadata": {},
     "output_type": "execute_result"
    }
   ],
   "source": [
    "df = pd.read_csv('D:\\\\70. Study\\\\00 Data Science Springboard\\\\02-Project Capstone 1\\\\data\\\\final_data.csv')\n",
    "print(df.shape)\n",
    "df.head()"
   ]
  },
  {
   "cell_type": "code",
   "execution_count": 3,
   "metadata": {
    "collapsed": false
   },
   "outputs": [
    {
     "data": {
      "text/plain": [
       "array(['SK_ID_CURR', 'TARGET', 'NAME_CONTRACT_TYPE', 'CODE_GENDER',\n",
       "       'FLAG_OWN_CAR', 'FLAG_OWN_REALTY', 'CNT_CHILDREN',\n",
       "       'AMT_INCOME_TOTAL', 'AMT_CREDIT', 'AMT_ANNUITY', 'AMT_GOODS_PRICE',\n",
       "       'NAME_TYPE_SUITE', 'NAME_INCOME_TYPE', 'NAME_EDUCATION_TYPE',\n",
       "       'NAME_FAMILY_STATUS', 'NAME_HOUSING_TYPE',\n",
       "       'REGION_POPULATION_RELATIVE', 'DAYS_BIRTH', 'DAYS_EMPLOYED',\n",
       "       'DAYS_REGISTRATION', 'DAYS_ID_PUBLISH', 'OWN_CAR_AGE', 'FLAG_MOBIL',\n",
       "       'FLAG_EMP_PHONE', 'FLAG_WORK_PHONE', 'FLAG_CONT_MOBILE',\n",
       "       'FLAG_PHONE', 'FLAG_EMAIL', 'OCCUPATION_TYPE', 'CNT_FAM_MEMBERS',\n",
       "       'REGION_RATING_CLIENT', 'REGION_RATING_CLIENT_W_CITY',\n",
       "       'WEEKDAY_APPR_PROCESS_START', 'HOUR_APPR_PROCESS_START',\n",
       "       'REG_REGION_NOT_LIVE_REGION', 'REG_REGION_NOT_WORK_REGION',\n",
       "       'LIVE_REGION_NOT_WORK_REGION', 'REG_CITY_NOT_LIVE_CITY',\n",
       "       'REG_CITY_NOT_WORK_CITY', 'LIVE_CITY_NOT_WORK_CITY',\n",
       "       'ORGANIZATION_TYPE', 'EXT_SOURCE_1', 'EXT_SOURCE_2', 'EXT_SOURCE_3',\n",
       "       'APARTMENTS_AVG', 'BASEMENTAREA_AVG', 'YEARS_BEGINEXPLUATATION_AVG',\n",
       "       'YEARS_BUILD_AVG', 'COMMONAREA_AVG', 'ELEVATORS_AVG',\n",
       "       'ENTRANCES_AVG', 'FLOORSMAX_AVG', 'FLOORSMIN_AVG', 'LANDAREA_AVG',\n",
       "       'LIVINGAPARTMENTS_AVG', 'LIVINGAREA_AVG', 'NONLIVINGAPARTMENTS_AVG',\n",
       "       'NONLIVINGAREA_AVG', 'APARTMENTS_MODE', 'BASEMENTAREA_MODE',\n",
       "       'YEARS_BEGINEXPLUATATION_MODE', 'YEARS_BUILD_MODE',\n",
       "       'COMMONAREA_MODE', 'ELEVATORS_MODE', 'ENTRANCES_MODE',\n",
       "       'FLOORSMAX_MODE', 'FLOORSMIN_MODE', 'LANDAREA_MODE',\n",
       "       'LIVINGAPARTMENTS_MODE', 'LIVINGAREA_MODE',\n",
       "       'NONLIVINGAPARTMENTS_MODE', 'NONLIVINGAREA_MODE', 'APARTMENTS_MEDI',\n",
       "       'BASEMENTAREA_MEDI', 'YEARS_BEGINEXPLUATATION_MEDI',\n",
       "       'YEARS_BUILD_MEDI', 'COMMONAREA_MEDI', 'ELEVATORS_MEDI',\n",
       "       'ENTRANCES_MEDI', 'FLOORSMAX_MEDI', 'FLOORSMIN_MEDI',\n",
       "       'LANDAREA_MEDI', 'LIVINGAPARTMENTS_MEDI', 'LIVINGAREA_MEDI',\n",
       "       'NONLIVINGAPARTMENTS_MEDI', 'NONLIVINGAREA_MEDI',\n",
       "       'FONDKAPREMONT_MODE', 'HOUSETYPE_MODE', 'TOTALAREA_MODE',\n",
       "       'WALLSMATERIAL_MODE', 'EMERGENCYSTATE_MODE',\n",
       "       'OBS_30_CNT_SOCIAL_CIRCLE', 'DEF_30_CNT_SOCIAL_CIRCLE',\n",
       "       'OBS_60_CNT_SOCIAL_CIRCLE', 'DEF_60_CNT_SOCIAL_CIRCLE',\n",
       "       'DAYS_LAST_PHONE_CHANGE', 'FLAG_DOCUMENT_2', 'FLAG_DOCUMENT_3',\n",
       "       'FLAG_DOCUMENT_4', 'FLAG_DOCUMENT_5', 'FLAG_DOCUMENT_6',\n",
       "       'FLAG_DOCUMENT_7', 'FLAG_DOCUMENT_8', 'FLAG_DOCUMENT_9',\n",
       "       'FLAG_DOCUMENT_10', 'FLAG_DOCUMENT_11', 'FLAG_DOCUMENT_12',\n",
       "       'FLAG_DOCUMENT_13', 'FLAG_DOCUMENT_14', 'FLAG_DOCUMENT_15',\n",
       "       'FLAG_DOCUMENT_16', 'FLAG_DOCUMENT_17', 'FLAG_DOCUMENT_18',\n",
       "       'FLAG_DOCUMENT_19', 'FLAG_DOCUMENT_20', 'FLAG_DOCUMENT_21',\n",
       "       'AMT_REQ_CREDIT_BUREAU_HOUR', 'AMT_REQ_CREDIT_BUREAU_DAY',\n",
       "       'AMT_REQ_CREDIT_BUREAU_WEEK', 'AMT_REQ_CREDIT_BUREAU_MON',\n",
       "       'AMT_REQ_CREDIT_BUREAU_QRT', 'AMT_REQ_CREDIT_BUREAU_YEAR',\n",
       "       'BUREAU_DAYS_CREDIT', 'BUREAU_CREDIT_DAY_OVERDUE',\n",
       "       'BUREAU_DAYS_CREDIT_ENDDATE', 'BUREAU_DAYS_ENDDATE_FACT',\n",
       "       'BUREAU_AMT_CREDIT_MAX_OVERDUE', 'BUREAU_CNT_CREDIT_PROLONG',\n",
       "       'BUREAU_AMT_CREDIT_SUM', 'BUREAU_AMT_CREDIT_SUM_DEBT',\n",
       "       'BUREAU_AMT_CREDIT_SUM_LIMIT', 'BUREAU_AMT_CREDIT_SUM_OVERDUE',\n",
       "       'BUREAU_DAYS_CREDIT_UPDATE', 'BUREAU_AMT_ANNUITY', 'PREV_APP_COUNT',\n",
       "       'PREV_AMT_ANNUITY', 'PREV_AMT_APPLICATION', 'PREV_AMT_CREDIT',\n",
       "       'PREV_AMT_DOWN_PAYMENT', 'PREV_AMT_GOODS_PRICE',\n",
       "       'PREV_HOUR_APPR_PROCESS_START', 'PREV_NFLAG_LAST_APPL_IN_DAY',\n",
       "       'PREV_RATE_DOWN_PAYMENT', 'PREV_RATE_INTEREST_PRIMARY',\n",
       "       'PREV_RATE_INTEREST_PRIVILEGED', 'PREV_DAYS_DECISION',\n",
       "       'PREV_SELLERPLACE_AREA', 'PREV_CNT_PAYMENT',\n",
       "       'PREV_DAYS_FIRST_DRAWING', 'PREV_DAYS_FIRST_DUE',\n",
       "       'PREV_DAYS_LAST_DUE_1ST_VERSION', 'PREV_DAYS_LAST_DUE',\n",
       "       'PREV_DAYS_TERMINATION', 'PREV_NFLAG_INSURED_ON_APPROVAL',\n",
       "       'POS_AMT_ANNUITY', 'POS_AMT_APPLICATION', 'POS_AMT_CREDIT',\n",
       "       'POS_AMT_DOWN_PAYMENT', 'POS_AMT_GOODS_PRICE',\n",
       "       'POS_HOUR_APPR_PROCESS_START', 'POS_NFLAG_LAST_APPL_IN_DAY',\n",
       "       'POS_RATE_DOWN_PAYMENT', 'POS_RATE_INTEREST_PRIMARY',\n",
       "       'POS_RATE_INTEREST_PRIVILEGED', 'POS_DAYS_DECISION',\n",
       "       'POS_SELLERPLACE_AREA', 'POS_CNT_PAYMENT', 'POS_DAYS_FIRST_DRAWING',\n",
       "       'POS_DAYS_FIRST_DUE', 'POS_DAYS_LAST_DUE_1ST_VERSION',\n",
       "       'POS_DAYS_LAST_DUE', 'POS_DAYS_TERMINATION',\n",
       "       'POS_NFLAG_INSURED_ON_APPROVAL', 'INSTA_NUM_INSTALMENT_VERSION',\n",
       "       'INSTA_NUM_INSTALMENT_NUMBER', 'INSTA_DAYS_INSTALMENT',\n",
       "       'INSTA_DAYS_ENTRY_PAYMENT', 'INSTA_AMT_INSTALMENT',\n",
       "       'INSTA_AMT_PAYMENT', 'CREDIT_MONTHS_BALANCE', 'CREDIT_AMT_BALANCE',\n",
       "       'CREDIT_AMT_CREDIT_LIMIT_ACTUAL', 'CREDIT_AMT_DRAWINGS_ATM_CURRENT',\n",
       "       'CREDIT_AMT_DRAWINGS_CURRENT', 'CREDIT_AMT_DRAWINGS_OTHER_CURRENT',\n",
       "       'CREDIT_AMT_DRAWINGS_POS_CURRENT', 'CREDIT_AMT_INST_MIN_REGULARITY',\n",
       "       'CREDIT_AMT_PAYMENT_CURRENT', 'CREDIT_AMT_PAYMENT_TOTAL_CURRENT',\n",
       "       'CREDIT_AMT_RECEIVABLE_PRINCIPAL', 'CREDIT_AMT_RECIVABLE',\n",
       "       'CREDIT_AMT_TOTAL_RECEIVABLE', 'CREDIT_CNT_DRAWINGS_ATM_CURRENT',\n",
       "       'CREDIT_CNT_DRAWINGS_CURRENT', 'CREDIT_CNT_DRAWINGS_OTHER_CURRENT',\n",
       "       'CREDIT_CNT_DRAWINGS_POS_CURRENT',\n",
       "       'CREDIT_CNT_INSTALMENT_MATURE_CUM', 'CREDIT_SK_DPD',\n",
       "       'CREDIT_SK_DPD_DEF'], dtype=object)"
      ]
     },
     "execution_count": 3,
     "metadata": {},
     "output_type": "execute_result"
    }
   ],
   "source": [
    "### Examine the columns.\n",
    "df.columns.values"
   ]
  },
  {
   "cell_type": "markdown",
   "metadata": {},
   "source": [
    "### Explore Loan Repay Numbers.\n",
    "We explore the number of customers who paid for the loan, and the number of customers who did not paid for a loan.\n",
    "In the output 'TARGET', we have:\n",
    "* 0 : the customer who paid the loan.\n",
    "* 1 : the customer who didnot paid the loan.\n",
    "The target is imbalance with the majority of loans is paid (91%) and about 9% of the loans is not paid."
   ]
  },
  {
   "cell_type": "code",
   "execution_count": 4,
   "metadata": {
    "collapsed": false
   },
   "outputs": [
    {
     "data": {
      "text/plain": [
       "0    282686\n",
       "1     24825\n",
       "Name: TARGET, dtype: int64"
      ]
     },
     "execution_count": 4,
     "metadata": {},
     "output_type": "execute_result"
    }
   ],
   "source": [
    "### \n",
    "df['TARGET'].value_counts()"
   ]
  },
  {
   "cell_type": "code",
   "execution_count": 5,
   "metadata": {
    "collapsed": false
   },
   "outputs": [
    {
     "data": {
      "image/png": "[encoded data removed]",
      "text/plain": [
       "<Figure size 432x288 with 1 Axes>"
      ]
     },
     "metadata": {},
     "output_type": "display_data"
    }
   ],
   "source": [
    "# Explore the distribution of TARGET value\n",
    "#sns.set()\n",
    "df['TARGET'].value_counts().plot(kind='pie')\n",
    "plt.show()"
   ]
  },
  {
   "cell_type": "markdown",
   "metadata": {},
   "source": [
    "### What type of loan we have in the data?\n",
    "- There are 2 types of loan:\n",
    "    * Cash\n",
    "    * Revolving"
   ]
  },
  {
   "cell_type": "code",
   "execution_count": 6,
   "metadata": {
    "collapsed": false
   },
   "outputs": [
    {
     "data": {
      "text/plain": [
       "2"
      ]
     },
     "execution_count": 6,
     "metadata": {},
     "output_type": "execute_result"
    }
   ],
   "source": [
    "# Distinct types of contract.\n",
    "df['NAME_CONTRACT_TYPE'].nunique()"
   ]
  },
  {
   "cell_type": "code",
   "execution_count": 7,
   "metadata": {
    "collapsed": false
   },
   "outputs": [
    {
     "data": {
      "image/png": "[encoded data removed]",
      "text/plain": [
       "<Figure size 432x288 with 1 Axes>"
      ]
     },
     "metadata": {},
     "output_type": "display_data"
    }
   ],
   "source": [
    "df['NAME_CONTRACT_TYPE'].value_counts().plot(kind='bar')\n",
    "plt.show()"
   ]
  },
  {
   "cell_type": "markdown",
   "metadata": {
    "collapsed": true
   },
   "source": [
    "df.columns.values"
   ]
  },
  {
   "cell_type": "markdown",
   "metadata": {},
   "source": [
    "### Examine Missing Values\n",
    "We will look at the number and the percentage of missing values in each column.\n",
    "There are 67 columns that have missing values. "
   ]
  },
  {
   "cell_type": "code",
   "execution_count": 8,
   "metadata": {
    "collapsed": false
   },
   "outputs": [
    {
     "name": "stdout",
     "output_type": "stream",
     "text": [
      "The number of columns that have missing values: 67\n",
      "                              Missing values  % of missing values\n",
      "COMMONAREA_AVG                        214865                69.87\n",
      "COMMONAREA_MODE                       214865                69.87\n",
      "COMMONAREA_MEDI                       214865                69.87\n",
      "NONLIVINGAPARTMENTS_MEDI              213514                69.43\n",
      "NONLIVINGAPARTMENTS_MODE              213514                69.43\n",
      "NONLIVINGAPARTMENTS_AVG               213514                69.43\n",
      "FONDKAPREMONT_MODE                    210295                68.39\n",
      "LIVINGAPARTMENTS_AVG                  210199                68.35\n",
      "LIVINGAPARTMENTS_MEDI                 210199                68.35\n",
      "LIVINGAPARTMENTS_MODE                 210199                68.35\n",
      "FLOORSMIN_AVG                         208642                67.85\n",
      "FLOORSMIN_MEDI                        208642                67.85\n",
      "FLOORSMIN_MODE                        208642                67.85\n",
      "YEARS_BUILD_MODE                      204488                66.50\n",
      "YEARS_BUILD_AVG                       204488                66.50\n",
      "YEARS_BUILD_MEDI                      204488                66.50\n",
      "OWN_CAR_AGE                           202929                65.99\n",
      "LANDAREA_AVG                          182590                59.38\n",
      "LANDAREA_MODE                         182590                59.38\n",
      "LANDAREA_MEDI                         182590                59.38\n",
      "BASEMENTAREA_MEDI                     179943                58.52\n",
      "BASEMENTAREA_MODE                     179943                58.52\n",
      "BASEMENTAREA_AVG                      179943                58.52\n",
      "EXT_SOURCE_1                          173378                56.38\n",
      "NONLIVINGAREA_MEDI                    169682                55.18\n",
      "NONLIVINGAREA_MODE                    169682                55.18\n",
      "NONLIVINGAREA_AVG                     169682                55.18\n",
      "ELEVATORS_MODE                        163891                53.30\n",
      "ELEVATORS_MEDI                        163891                53.30\n",
      "ELEVATORS_AVG                         163891                53.30\n",
      "...                                      ...                  ...\n",
      "LIVINGAREA_MEDI                       154350                50.19\n",
      "LIVINGAREA_AVG                        154350                50.19\n",
      "LIVINGAREA_MODE                       154350                50.19\n",
      "HOUSETYPE_MODE                        154297                50.18\n",
      "FLOORSMAX_MODE                        153020                49.76\n",
      "FLOORSMAX_AVG                         153020                49.76\n",
      "FLOORSMAX_MEDI                        153020                49.76\n",
      "YEARS_BEGINEXPLUATATION_AVG           150007                48.78\n",
      "YEARS_BEGINEXPLUATATION_MODE          150007                48.78\n",
      "YEARS_BEGINEXPLUATATION_MEDI          150007                48.78\n",
      "TOTALAREA_MODE                        148431                48.27\n",
      "EMERGENCYSTATE_MODE                   145755                47.40\n",
      "OCCUPATION_TYPE                        96391                31.35\n",
      "EXT_SOURCE_3                           60965                19.83\n",
      "AMT_REQ_CREDIT_BUREAU_HOUR             41519                13.50\n",
      "AMT_REQ_CREDIT_BUREAU_DAY              41519                13.50\n",
      "AMT_REQ_CREDIT_BUREAU_QRT              41519                13.50\n",
      "AMT_REQ_CREDIT_BUREAU_WEEK             41519                13.50\n",
      "AMT_REQ_CREDIT_BUREAU_MON              41519                13.50\n",
      "AMT_REQ_CREDIT_BUREAU_YEAR             41519                13.50\n",
      "NAME_TYPE_SUITE                         1292                 0.42\n",
      "OBS_30_CNT_SOCIAL_CIRCLE                1021                 0.33\n",
      "DEF_30_CNT_SOCIAL_CIRCLE                1021                 0.33\n",
      "OBS_60_CNT_SOCIAL_CIRCLE                1021                 0.33\n",
      "DEF_60_CNT_SOCIAL_CIRCLE                1021                 0.33\n",
      "EXT_SOURCE_2                             660                 0.21\n",
      "AMT_GOODS_PRICE                          278                 0.09\n",
      "AMT_ANNUITY                               12                 0.00\n",
      "CNT_FAM_MEMBERS                            2                 0.00\n",
      "DAYS_LAST_PHONE_CHANGE                     1                 0.00\n",
      "\n",
      "[67 rows x 2 columns]\n"
     ]
    }
   ],
   "source": [
    "# Total missing values.\n",
    "missing_vals = df.isnull().sum().sort_values(ascending=False)\n",
    "missing_vals_percent = round(missing_vals / len(df) * 100,2)\n",
    "\n",
    "# Merge #of missing values and percentage.\n",
    "missing_df = pd.concat([missing_vals, missing_vals_percent], axis = 1)\n",
    "\n",
    "# Rename missing values columns.\n",
    "missing_df.columns = ['Missing values', '% of missing values']\n",
    "\n",
    "# Get all columns that have missing values > 0.\n",
    "pd.to_numeric(missing_df['Missing values'])\n",
    "pd.to_numeric(missing_df['% of missing values'])\n",
    "missing_df = missing_df[missing_df['Missing values'] > 0]\n",
    "\n",
    "# Count number of missing values.\n",
    "print(\"The number of columns that have missing values:\",  len(missing_df))\n",
    "print(missing_df)\n"
   ]
  },
  {
   "cell_type": "markdown",
   "metadata": {},
   "source": [
    "The columns that have missing values includes:"
   ]
  },
  {
   "cell_type": "code",
   "execution_count": 9,
   "metadata": {
    "collapsed": false
   },
   "outputs": [
    {
     "data": {
      "text/plain": [
       "Index(['COMMONAREA_AVG', 'COMMONAREA_MODE', 'COMMONAREA_MEDI',\n",
       "       'NONLIVINGAPARTMENTS_MEDI', 'NONLIVINGAPARTMENTS_MODE',\n",
       "       'NONLIVINGAPARTMENTS_AVG', 'FONDKAPREMONT_MODE', 'LIVINGAPARTMENTS_AVG',\n",
       "       'LIVINGAPARTMENTS_MEDI', 'LIVINGAPARTMENTS_MODE', 'FLOORSMIN_AVG',\n",
       "       'FLOORSMIN_MEDI', 'FLOORSMIN_MODE', 'YEARS_BUILD_MODE',\n",
       "       'YEARS_BUILD_AVG', 'YEARS_BUILD_MEDI', 'OWN_CAR_AGE', 'LANDAREA_AVG',\n",
       "       'LANDAREA_MODE', 'LANDAREA_MEDI', 'BASEMENTAREA_MEDI',\n",
       "       'BASEMENTAREA_MODE', 'BASEMENTAREA_AVG', 'EXT_SOURCE_1',\n",
       "       'NONLIVINGAREA_MEDI', 'NONLIVINGAREA_MODE', 'NONLIVINGAREA_AVG',\n",
       "       'ELEVATORS_MODE', 'ELEVATORS_MEDI', 'ELEVATORS_AVG',\n",
       "       'WALLSMATERIAL_MODE', 'APARTMENTS_AVG', 'APARTMENTS_MODE',\n",
       "       'APARTMENTS_MEDI', 'ENTRANCES_MODE', 'ENTRANCES_AVG', 'ENTRANCES_MEDI',\n",
       "       'LIVINGAREA_MEDI', 'LIVINGAREA_AVG', 'LIVINGAREA_MODE',\n",
       "       'HOUSETYPE_MODE', 'FLOORSMAX_MODE', 'FLOORSMAX_AVG', 'FLOORSMAX_MEDI',\n",
       "       'YEARS_BEGINEXPLUATATION_AVG', 'YEARS_BEGINEXPLUATATION_MODE',\n",
       "       'YEARS_BEGINEXPLUATATION_MEDI', 'TOTALAREA_MODE', 'EMERGENCYSTATE_MODE',\n",
       "       'OCCUPATION_TYPE', 'EXT_SOURCE_3', 'AMT_REQ_CREDIT_BUREAU_HOUR',\n",
       "       'AMT_REQ_CREDIT_BUREAU_DAY', 'AMT_REQ_CREDIT_BUREAU_QRT',\n",
       "       'AMT_REQ_CREDIT_BUREAU_WEEK', 'AMT_REQ_CREDIT_BUREAU_MON',\n",
       "       'AMT_REQ_CREDIT_BUREAU_YEAR', 'NAME_TYPE_SUITE',\n",
       "       'OBS_30_CNT_SOCIAL_CIRCLE', 'DEF_30_CNT_SOCIAL_CIRCLE',\n",
       "       'OBS_60_CNT_SOCIAL_CIRCLE', 'DEF_60_CNT_SOCIAL_CIRCLE', 'EXT_SOURCE_2',\n",
       "       'AMT_GOODS_PRICE', 'AMT_ANNUITY', 'CNT_FAM_MEMBERS',\n",
       "       'DAYS_LAST_PHONE_CHANGE'],\n",
       "      dtype='object')"
      ]
     },
     "execution_count": 9,
     "metadata": {},
     "output_type": "execute_result"
    }
   ],
   "source": [
    "### Missing values.\n",
    "missing_df.index"
   ]
  },
  {
   "cell_type": "code",
   "execution_count": null,
   "metadata": {
    "collapsed": true
   },
   "outputs": [],
   "source": []
  },
  {
   "cell_type": "code",
   "execution_count": null,
   "metadata": {
    "collapsed": true
   },
   "outputs": [],
   "source": [
    "#df.to_csv('D:\\\\70. Study\\\\00 Data Science Springboard\\\\02-Project Capstone 1\\\\data\\\\final_data_wrangling.csv')"
   ]
  },
  {
   "cell_type": "markdown",
   "metadata": {},
   "source": [
    "### Examine Data Types"
   ]
  },
  {
   "cell_type": "code",
   "execution_count": 10,
   "metadata": {
    "collapsed": false
   },
   "outputs": [
    {
     "name": "stdout",
     "output_type": "stream",
     "text": [
      "<class 'pandas.core.frame.DataFrame'>\n",
      "RangeIndex: 307511 entries, 0 to 307510\n",
      "Columns: 199 entries, SK_ID_CURR to CREDIT_SK_DPD_DEF\n",
      "dtypes: float64(141), int64(42), object(16)\n",
      "memory usage: 466.9+ MB\n"
     ]
    }
   ],
   "source": [
    "# Examine types of data.\n",
    "df.info()"
   ]
  },
  {
   "cell_type": "code",
   "execution_count": 11,
   "metadata": {
    "collapsed": false
   },
   "outputs": [
    {
     "data": {
      "text/html": [
       "<div>\n",
       "<style scoped>\n",
       "    .dataframe tbody tr th:only-of-type {\n",
       "        vertical-align: middle;\n",
       "    }\n",
       "\n",
       "    .dataframe tbody tr th {\n",
       "        vertical-align: top;\n",
       "    }\n",
       "\n",
       "    .dataframe thead th {\n",
       "        text-align: right;\n",
       "    }\n",
       "</style>\n",
       "<table border=\"1\" class=\"dataframe\">\n",
       "  <thead>\n",
       "    <tr style=\"text-align: right;\">\n",
       "      <th></th>\n",
       "      <th>SK_ID_CURR</th>\n",
       "      <th>TARGET</th>\n",
       "      <th>CNT_CHILDREN</th>\n",
       "      <th>AMT_INCOME_TOTAL</th>\n",
       "      <th>AMT_CREDIT</th>\n",
       "      <th>AMT_ANNUITY</th>\n",
       "      <th>AMT_GOODS_PRICE</th>\n",
       "      <th>REGION_POPULATION_RELATIVE</th>\n",
       "      <th>DAYS_BIRTH</th>\n",
       "      <th>DAYS_EMPLOYED</th>\n",
       "      <th>...</th>\n",
       "      <th>CREDIT_AMT_RECEIVABLE_PRINCIPAL</th>\n",
       "      <th>CREDIT_AMT_RECIVABLE</th>\n",
       "      <th>CREDIT_AMT_TOTAL_RECEIVABLE</th>\n",
       "      <th>CREDIT_CNT_DRAWINGS_ATM_CURRENT</th>\n",
       "      <th>CREDIT_CNT_DRAWINGS_CURRENT</th>\n",
       "      <th>CREDIT_CNT_DRAWINGS_OTHER_CURRENT</th>\n",
       "      <th>CREDIT_CNT_DRAWINGS_POS_CURRENT</th>\n",
       "      <th>CREDIT_CNT_INSTALMENT_MATURE_CUM</th>\n",
       "      <th>CREDIT_SK_DPD</th>\n",
       "      <th>CREDIT_SK_DPD_DEF</th>\n",
       "    </tr>\n",
       "  </thead>\n",
       "  <tbody>\n",
       "    <tr>\n",
       "      <th>count</th>\n",
       "      <td>307511.000000</td>\n",
       "      <td>307511.000000</td>\n",
       "      <td>307511.000000</td>\n",
       "      <td>3.075110e+05</td>\n",
       "      <td>3.075110e+05</td>\n",
       "      <td>307499.000000</td>\n",
       "      <td>3.072330e+05</td>\n",
       "      <td>307511.000000</td>\n",
       "      <td>307511.000000</td>\n",
       "      <td>307511.000000</td>\n",
       "      <td>...</td>\n",
       "      <td>307511.000000</td>\n",
       "      <td>307511.000000</td>\n",
       "      <td>307511.000000</td>\n",
       "      <td>307511.000000</td>\n",
       "      <td>307511.000000</td>\n",
       "      <td>307511.000000</td>\n",
       "      <td>307511.000000</td>\n",
       "      <td>307511.000000</td>\n",
       "      <td>307511.000000</td>\n",
       "      <td>307511.000000</td>\n",
       "    </tr>\n",
       "    <tr>\n",
       "      <th>mean</th>\n",
       "      <td>278180.518577</td>\n",
       "      <td>0.080729</td>\n",
       "      <td>0.417052</td>\n",
       "      <td>1.687979e+05</td>\n",
       "      <td>5.990260e+05</td>\n",
       "      <td>27108.573909</td>\n",
       "      <td>5.383962e+05</td>\n",
       "      <td>0.020868</td>\n",
       "      <td>-16036.995067</td>\n",
       "      <td>63815.045904</td>\n",
       "      <td>...</td>\n",
       "      <td>19428.994104</td>\n",
       "      <td>20059.976526</td>\n",
       "      <td>20061.135996</td>\n",
       "      <td>0.112581</td>\n",
       "      <td>0.435682</td>\n",
       "      <td>0.001443</td>\n",
       "      <td>0.347950</td>\n",
       "      <td>2.883248</td>\n",
       "      <td>1.189522</td>\n",
       "      <td>0.035855</td>\n",
       "    </tr>\n",
       "    <tr>\n",
       "      <th>std</th>\n",
       "      <td>102790.175348</td>\n",
       "      <td>0.272419</td>\n",
       "      <td>0.722121</td>\n",
       "      <td>2.371231e+05</td>\n",
       "      <td>4.024908e+05</td>\n",
       "      <td>14493.737315</td>\n",
       "      <td>3.694465e+05</td>\n",
       "      <td>0.013831</td>\n",
       "      <td>4363.988632</td>\n",
       "      <td>141275.766519</td>\n",
       "      <td>...</td>\n",
       "      <td>63971.313103</td>\n",
       "      <td>65915.035695</td>\n",
       "      <td>65916.479988</td>\n",
       "      <td>0.452971</td>\n",
       "      <td>2.082412</td>\n",
       "      <td>0.021271</td>\n",
       "      <td>2.030087</td>\n",
       "      <td>8.538621</td>\n",
       "      <td>23.786480</td>\n",
       "      <td>5.334450</td>\n",
       "    </tr>\n",
       "    <tr>\n",
       "      <th>min</th>\n",
       "      <td>100002.000000</td>\n",
       "      <td>0.000000</td>\n",
       "      <td>0.000000</td>\n",
       "      <td>2.565000e+04</td>\n",
       "      <td>4.500000e+04</td>\n",
       "      <td>1615.500000</td>\n",
       "      <td>4.050000e+04</td>\n",
       "      <td>0.000290</td>\n",
       "      <td>-25229.000000</td>\n",
       "      <td>-17912.000000</td>\n",
       "      <td>...</td>\n",
       "      <td>-2930.232558</td>\n",
       "      <td>-2930.232558</td>\n",
       "      <td>-2930.232558</td>\n",
       "      <td>0.000000</td>\n",
       "      <td>0.000000</td>\n",
       "      <td>0.000000</td>\n",
       "      <td>0.000000</td>\n",
       "      <td>0.000000</td>\n",
       "      <td>0.000000</td>\n",
       "      <td>0.000000</td>\n",
       "    </tr>\n",
       "    <tr>\n",
       "      <th>25%</th>\n",
       "      <td>189145.500000</td>\n",
       "      <td>0.000000</td>\n",
       "      <td>0.000000</td>\n",
       "      <td>1.125000e+05</td>\n",
       "      <td>2.700000e+05</td>\n",
       "      <td>16524.000000</td>\n",
       "      <td>2.385000e+05</td>\n",
       "      <td>0.010006</td>\n",
       "      <td>-19682.000000</td>\n",
       "      <td>-2760.000000</td>\n",
       "      <td>...</td>\n",
       "      <td>0.000000</td>\n",
       "      <td>0.000000</td>\n",
       "      <td>0.000000</td>\n",
       "      <td>0.000000</td>\n",
       "      <td>0.000000</td>\n",
       "      <td>0.000000</td>\n",
       "      <td>0.000000</td>\n",
       "      <td>0.000000</td>\n",
       "      <td>0.000000</td>\n",
       "      <td>0.000000</td>\n",
       "    </tr>\n",
       "    <tr>\n",
       "      <th>50%</th>\n",
       "      <td>278202.000000</td>\n",
       "      <td>0.000000</td>\n",
       "      <td>0.000000</td>\n",
       "      <td>1.471500e+05</td>\n",
       "      <td>5.135310e+05</td>\n",
       "      <td>24903.000000</td>\n",
       "      <td>4.500000e+05</td>\n",
       "      <td>0.018850</td>\n",
       "      <td>-15750.000000</td>\n",
       "      <td>-1213.000000</td>\n",
       "      <td>...</td>\n",
       "      <td>0.000000</td>\n",
       "      <td>0.000000</td>\n",
       "      <td>0.000000</td>\n",
       "      <td>0.000000</td>\n",
       "      <td>0.000000</td>\n",
       "      <td>0.000000</td>\n",
       "      <td>0.000000</td>\n",
       "      <td>0.000000</td>\n",
       "      <td>0.000000</td>\n",
       "      <td>0.000000</td>\n",
       "    </tr>\n",
       "    <tr>\n",
       "      <th>75%</th>\n",
       "      <td>367142.500000</td>\n",
       "      <td>0.000000</td>\n",
       "      <td>1.000000</td>\n",
       "      <td>2.025000e+05</td>\n",
       "      <td>8.086500e+05</td>\n",
       "      <td>34596.000000</td>\n",
       "      <td>6.795000e+05</td>\n",
       "      <td>0.028663</td>\n",
       "      <td>-12413.000000</td>\n",
       "      <td>-289.000000</td>\n",
       "      <td>...</td>\n",
       "      <td>0.000000</td>\n",
       "      <td>0.000000</td>\n",
       "      <td>0.000000</td>\n",
       "      <td>0.000000</td>\n",
       "      <td>0.000000</td>\n",
       "      <td>0.000000</td>\n",
       "      <td>0.000000</td>\n",
       "      <td>0.000000</td>\n",
       "      <td>0.000000</td>\n",
       "      <td>0.000000</td>\n",
       "    </tr>\n",
       "    <tr>\n",
       "      <th>max</th>\n",
       "      <td>456255.000000</td>\n",
       "      <td>1.000000</td>\n",
       "      <td>19.000000</td>\n",
       "      <td>1.170000e+08</td>\n",
       "      <td>4.050000e+06</td>\n",
       "      <td>258025.500000</td>\n",
       "      <td>4.050000e+06</td>\n",
       "      <td>0.072508</td>\n",
       "      <td>-7489.000000</td>\n",
       "      <td>365243.000000</td>\n",
       "      <td>...</td>\n",
       "      <td>884547.880700</td>\n",
       "      <td>913096.639300</td>\n",
       "      <td>913096.639300</td>\n",
       "      <td>35.000000</td>\n",
       "      <td>118.250000</td>\n",
       "      <td>2.000000</td>\n",
       "      <td>118.250000</td>\n",
       "      <td>73.062500</td>\n",
       "      <td>1386.947917</td>\n",
       "      <td>1309.600000</td>\n",
       "    </tr>\n",
       "  </tbody>\n",
       "</table>\n",
       "<p>8 rows × 183 columns</p>\n",
       "</div>"
      ],
      "text/plain": [
       "          SK_ID_CURR         TARGET   CNT_CHILDREN  AMT_INCOME_TOTAL  \\\n",
       "count  307511.000000  307511.000000  307511.000000      3.075110e+05   \n",
       "mean   278180.518577       0.080729       0.417052      1.687979e+05   \n",
       "std    102790.175348       0.272419       0.722121      2.371231e+05   \n",
       "min    100002.000000       0.000000       0.000000      2.565000e+04   \n",
       "25%    189145.500000       0.000000       0.000000      1.125000e+05   \n",
       "50%    278202.000000       0.000000       0.000000      1.471500e+05   \n",
       "75%    367142.500000       0.000000       1.000000      2.025000e+05   \n",
       "max    456255.000000       1.000000      19.000000      1.170000e+08   \n",
       "\n",
       "         AMT_CREDIT    AMT_ANNUITY  AMT_GOODS_PRICE  \\\n",
       "count  3.075110e+05  307499.000000     3.072330e+05   \n",
       "mean   5.990260e+05   27108.573909     5.383962e+05   \n",
       "std    4.024908e+05   14493.737315     3.694465e+05   \n",
       "min    4.500000e+04    1615.500000     4.050000e+04   \n",
       "25%    2.700000e+05   16524.000000     2.385000e+05   \n",
       "50%    5.135310e+05   24903.000000     4.500000e+05   \n",
       "75%    8.086500e+05   34596.000000     6.795000e+05   \n",
       "max    4.050000e+06  258025.500000     4.050000e+06   \n",
       "\n",
       "       REGION_POPULATION_RELATIVE     DAYS_BIRTH  DAYS_EMPLOYED  \\\n",
       "count               307511.000000  307511.000000  307511.000000   \n",
       "mean                     0.020868  -16036.995067   63815.045904   \n",
       "std                      0.013831    4363.988632  141275.766519   \n",
       "min                      0.000290  -25229.000000  -17912.000000   \n",
       "25%                      0.010006  -19682.000000   -2760.000000   \n",
       "50%                      0.018850  -15750.000000   -1213.000000   \n",
       "75%                      0.028663  -12413.000000    -289.000000   \n",
       "max                      0.072508   -7489.000000  365243.000000   \n",
       "\n",
       "             ...          CREDIT_AMT_RECEIVABLE_PRINCIPAL  \\\n",
       "count        ...                            307511.000000   \n",
       "mean         ...                             19428.994104   \n",
       "std          ...                             63971.313103   \n",
       "min          ...                             -2930.232558   \n",
       "25%          ...                                 0.000000   \n",
       "50%          ...                                 0.000000   \n",
       "75%          ...                                 0.000000   \n",
       "max          ...                            884547.880700   \n",
       "\n",
       "       CREDIT_AMT_RECIVABLE  CREDIT_AMT_TOTAL_RECEIVABLE  \\\n",
       "count         307511.000000                307511.000000   \n",
       "mean           20059.976526                 20061.135996   \n",
       "std            65915.035695                 65916.479988   \n",
       "min            -2930.232558                 -2930.232558   \n",
       "25%                0.000000                     0.000000   \n",
       "50%                0.000000                     0.000000   \n",
       "75%                0.000000                     0.000000   \n",
       "max           913096.639300                913096.639300   \n",
       "\n",
       "       CREDIT_CNT_DRAWINGS_ATM_CURRENT  CREDIT_CNT_DRAWINGS_CURRENT  \\\n",
       "count                    307511.000000                307511.000000   \n",
       "mean                          0.112581                     0.435682   \n",
       "std                           0.452971                     2.082412   \n",
       "min                           0.000000                     0.000000   \n",
       "25%                           0.000000                     0.000000   \n",
       "50%                           0.000000                     0.000000   \n",
       "75%                           0.000000                     0.000000   \n",
       "max                          35.000000                   118.250000   \n",
       "\n",
       "       CREDIT_CNT_DRAWINGS_OTHER_CURRENT  CREDIT_CNT_DRAWINGS_POS_CURRENT  \\\n",
       "count                      307511.000000                    307511.000000   \n",
       "mean                            0.001443                         0.347950   \n",
       "std                             0.021271                         2.030087   \n",
       "min                             0.000000                         0.000000   \n",
       "25%                             0.000000                         0.000000   \n",
       "50%                             0.000000                         0.000000   \n",
       "75%                             0.000000                         0.000000   \n",
       "max                             2.000000                       118.250000   \n",
       "\n",
       "       CREDIT_CNT_INSTALMENT_MATURE_CUM  CREDIT_SK_DPD  CREDIT_SK_DPD_DEF  \n",
       "count                     307511.000000  307511.000000      307511.000000  \n",
       "mean                           2.883248       1.189522           0.035855  \n",
       "std                            8.538621      23.786480           5.334450  \n",
       "min                            0.000000       0.000000           0.000000  \n",
       "25%                            0.000000       0.000000           0.000000  \n",
       "50%                            0.000000       0.000000           0.000000  \n",
       "75%                            0.000000       0.000000           0.000000  \n",
       "max                           73.062500    1386.947917        1309.600000  \n",
       "\n",
       "[8 rows x 183 columns]"
      ]
     },
     "execution_count": 11,
     "metadata": {},
     "output_type": "execute_result"
    }
   ],
   "source": [
    "df.describe()"
   ]
  },
  {
   "cell_type": "markdown",
   "metadata": {},
   "source": [
    "### Examine outliers.\n",
    "In this step, we want to detect if there are any outlier in the data.\n",
    "An outlier can exist in a dataset due to:\n",
    "* Variablity of the data\n",
    "* An error (e.g. mistyping)\n",
    "\n",
    "*What is the impact of an outlier?*\n",
    "causes serious issues for statistical analysis\n",
    "* skew the data\n",
    "* significant impact on mean\n",
    "* significant impact on standard deviation\n",
    "\n",
    "There are two types of analysis we will follow to find the outliers\n",
    "- **Uni-variate**(one variable outlier analysis) \n",
    "- **Multi-variate**(two or more variable outlier analysis)\n",
    "\n",
    "*How can we identify an outlier?*\n",
    "* using scatter \n",
    "* Box plot"
   ]
  },
  {
   "cell_type": "code",
   "execution_count": 12,
   "metadata": {
    "collapsed": false
   },
   "outputs": [],
   "source": [
    "px.scatter_matrix(df)\n",
    "plt.show()"
   ]
  },
  {
   "cell_type": "markdown",
   "metadata": {},
   "source": [
    "We will apply outlier detection on the numerical values only.\n",
    "* There are 142 float and 42 integers features in the data"
   ]
  },
  {
   "cell_type": "markdown",
   "metadata": {
    "collapsed": false
   },
   "source": [
    "We check the types of data."
   ]
  },
  {
   "cell_type": "code",
   "execution_count": 13,
   "metadata": {
    "collapsed": false
   },
   "outputs": [
    {
     "data": {
      "text/plain": [
       "SK_ID_CURR                             int64\n",
       "TARGET                                 int64\n",
       "NAME_CONTRACT_TYPE                    object\n",
       "CODE_GENDER                           object\n",
       "FLAG_OWN_CAR                          object\n",
       "FLAG_OWN_REALTY                       object\n",
       "CNT_CHILDREN                           int64\n",
       "AMT_INCOME_TOTAL                     float64\n",
       "AMT_CREDIT                           float64\n",
       "AMT_ANNUITY                          float64\n",
       "AMT_GOODS_PRICE                      float64\n",
       "NAME_TYPE_SUITE                       object\n",
       "NAME_INCOME_TYPE                      object\n",
       "NAME_EDUCATION_TYPE                   object\n",
       "NAME_FAMILY_STATUS                    object\n",
       "NAME_HOUSING_TYPE                     object\n",
       "REGION_POPULATION_RELATIVE           float64\n",
       "DAYS_BIRTH                             int64\n",
       "DAYS_EMPLOYED                          int64\n",
       "DAYS_REGISTRATION                    float64\n",
       "DAYS_ID_PUBLISH                        int64\n",
       "OWN_CAR_AGE                          float64\n",
       "FLAG_MOBIL                             int64\n",
       "FLAG_EMP_PHONE                         int64\n",
       "FLAG_WORK_PHONE                        int64\n",
       "FLAG_CONT_MOBILE                       int64\n",
       "FLAG_PHONE                             int64\n",
       "FLAG_EMAIL                             int64\n",
       "OCCUPATION_TYPE                       object\n",
       "CNT_FAM_MEMBERS                      float64\n",
       "                                      ...   \n",
       "POS_DAYS_LAST_DUE_1ST_VERSION        float64\n",
       "POS_DAYS_LAST_DUE                    float64\n",
       "POS_DAYS_TERMINATION                 float64\n",
       "POS_NFLAG_INSURED_ON_APPROVAL        float64\n",
       "INSTA_NUM_INSTALMENT_VERSION         float64\n",
       "INSTA_NUM_INSTALMENT_NUMBER          float64\n",
       "INSTA_DAYS_INSTALMENT                float64\n",
       "INSTA_DAYS_ENTRY_PAYMENT             float64\n",
       "INSTA_AMT_INSTALMENT                 float64\n",
       "INSTA_AMT_PAYMENT                    float64\n",
       "CREDIT_MONTHS_BALANCE                float64\n",
       "CREDIT_AMT_BALANCE                   float64\n",
       "CREDIT_AMT_CREDIT_LIMIT_ACTUAL       float64\n",
       "CREDIT_AMT_DRAWINGS_ATM_CURRENT      float64\n",
       "CREDIT_AMT_DRAWINGS_CURRENT          float64\n",
       "CREDIT_AMT_DRAWINGS_OTHER_CURRENT    float64\n",
       "CREDIT_AMT_DRAWINGS_POS_CURRENT      float64\n",
       "CREDIT_AMT_INST_MIN_REGULARITY       float64\n",
       "CREDIT_AMT_PAYMENT_CURRENT           float64\n",
       "CREDIT_AMT_PAYMENT_TOTAL_CURRENT     float64\n",
       "CREDIT_AMT_RECEIVABLE_PRINCIPAL      float64\n",
       "CREDIT_AMT_RECIVABLE                 float64\n",
       "CREDIT_AMT_TOTAL_RECEIVABLE          float64\n",
       "CREDIT_CNT_DRAWINGS_ATM_CURRENT      float64\n",
       "CREDIT_CNT_DRAWINGS_CURRENT          float64\n",
       "CREDIT_CNT_DRAWINGS_OTHER_CURRENT    float64\n",
       "CREDIT_CNT_DRAWINGS_POS_CURRENT      float64\n",
       "CREDIT_CNT_INSTALMENT_MATURE_CUM     float64\n",
       "CREDIT_SK_DPD                        float64\n",
       "CREDIT_SK_DPD_DEF                    float64\n",
       "Length: 199, dtype: object"
      ]
     },
     "execution_count": 13,
     "metadata": {},
     "output_type": "execute_result"
    }
   ],
   "source": [
    "df.dtypes"
   ]
  },
  {
   "cell_type": "markdown",
   "metadata": {},
   "source": [
    "We select only data with types is numerics and want to explore if there is any outlier."
   ]
  },
  {
   "cell_type": "code",
   "execution_count": 14,
   "metadata": {
    "collapsed": false
   },
   "outputs": [],
   "source": [
    "numerics = ['int16', 'int32', 'int64', 'float16', 'float32', 'float64']\n",
    "num_df = df.select_dtypes(include=numerics)"
   ]
  },
  {
   "cell_type": "code",
   "execution_count": 15,
   "metadata": {
    "collapsed": false
   },
   "outputs": [
    {
     "data": {
      "text/html": [
       "<div>\n",
       "<style scoped>\n",
       "    .dataframe tbody tr th:only-of-type {\n",
       "        vertical-align: middle;\n",
       "    }\n",
       "\n",
       "    .dataframe tbody tr th {\n",
       "        vertical-align: top;\n",
       "    }\n",
       "\n",
       "    .dataframe thead th {\n",
       "        text-align: right;\n",
       "    }\n",
       "</style>\n",
       "<table border=\"1\" class=\"dataframe\">\n",
       "  <thead>\n",
       "    <tr style=\"text-align: right;\">\n",
       "      <th></th>\n",
       "      <th>SK_ID_CURR</th>\n",
       "      <th>TARGET</th>\n",
       "      <th>CNT_CHILDREN</th>\n",
       "      <th>AMT_INCOME_TOTAL</th>\n",
       "      <th>AMT_CREDIT</th>\n",
       "      <th>AMT_ANNUITY</th>\n",
       "      <th>AMT_GOODS_PRICE</th>\n",
       "      <th>REGION_POPULATION_RELATIVE</th>\n",
       "      <th>DAYS_BIRTH</th>\n",
       "      <th>DAYS_EMPLOYED</th>\n",
       "      <th>...</th>\n",
       "      <th>CREDIT_AMT_RECEIVABLE_PRINCIPAL</th>\n",
       "      <th>CREDIT_AMT_RECIVABLE</th>\n",
       "      <th>CREDIT_AMT_TOTAL_RECEIVABLE</th>\n",
       "      <th>CREDIT_CNT_DRAWINGS_ATM_CURRENT</th>\n",
       "      <th>CREDIT_CNT_DRAWINGS_CURRENT</th>\n",
       "      <th>CREDIT_CNT_DRAWINGS_OTHER_CURRENT</th>\n",
       "      <th>CREDIT_CNT_DRAWINGS_POS_CURRENT</th>\n",
       "      <th>CREDIT_CNT_INSTALMENT_MATURE_CUM</th>\n",
       "      <th>CREDIT_SK_DPD</th>\n",
       "      <th>CREDIT_SK_DPD_DEF</th>\n",
       "    </tr>\n",
       "  </thead>\n",
       "  <tbody>\n",
       "    <tr>\n",
       "      <th>0</th>\n",
       "      <td>100002</td>\n",
       "      <td>1</td>\n",
       "      <td>0</td>\n",
       "      <td>202500.0</td>\n",
       "      <td>406597.5</td>\n",
       "      <td>24700.5</td>\n",
       "      <td>351000.0</td>\n",
       "      <td>0.018801</td>\n",
       "      <td>-9461</td>\n",
       "      <td>-637</td>\n",
       "      <td>...</td>\n",
       "      <td>0.0</td>\n",
       "      <td>0.0</td>\n",
       "      <td>0.0</td>\n",
       "      <td>0.0</td>\n",
       "      <td>0.0</td>\n",
       "      <td>0.0</td>\n",
       "      <td>0.0</td>\n",
       "      <td>0.0</td>\n",
       "      <td>0.0</td>\n",
       "      <td>0.0</td>\n",
       "    </tr>\n",
       "    <tr>\n",
       "      <th>1</th>\n",
       "      <td>100003</td>\n",
       "      <td>0</td>\n",
       "      <td>0</td>\n",
       "      <td>270000.0</td>\n",
       "      <td>1293502.5</td>\n",
       "      <td>35698.5</td>\n",
       "      <td>1129500.0</td>\n",
       "      <td>0.003541</td>\n",
       "      <td>-16765</td>\n",
       "      <td>-1188</td>\n",
       "      <td>...</td>\n",
       "      <td>0.0</td>\n",
       "      <td>0.0</td>\n",
       "      <td>0.0</td>\n",
       "      <td>0.0</td>\n",
       "      <td>0.0</td>\n",
       "      <td>0.0</td>\n",
       "      <td>0.0</td>\n",
       "      <td>0.0</td>\n",
       "      <td>0.0</td>\n",
       "      <td>0.0</td>\n",
       "    </tr>\n",
       "    <tr>\n",
       "      <th>2</th>\n",
       "      <td>100004</td>\n",
       "      <td>0</td>\n",
       "      <td>0</td>\n",
       "      <td>67500.0</td>\n",
       "      <td>135000.0</td>\n",
       "      <td>6750.0</td>\n",
       "      <td>135000.0</td>\n",
       "      <td>0.010032</td>\n",
       "      <td>-19046</td>\n",
       "      <td>-225</td>\n",
       "      <td>...</td>\n",
       "      <td>0.0</td>\n",
       "      <td>0.0</td>\n",
       "      <td>0.0</td>\n",
       "      <td>0.0</td>\n",
       "      <td>0.0</td>\n",
       "      <td>0.0</td>\n",
       "      <td>0.0</td>\n",
       "      <td>0.0</td>\n",
       "      <td>0.0</td>\n",
       "      <td>0.0</td>\n",
       "    </tr>\n",
       "    <tr>\n",
       "      <th>3</th>\n",
       "      <td>100006</td>\n",
       "      <td>0</td>\n",
       "      <td>0</td>\n",
       "      <td>135000.0</td>\n",
       "      <td>312682.5</td>\n",
       "      <td>29686.5</td>\n",
       "      <td>297000.0</td>\n",
       "      <td>0.008019</td>\n",
       "      <td>-19005</td>\n",
       "      <td>-3039</td>\n",
       "      <td>...</td>\n",
       "      <td>0.0</td>\n",
       "      <td>0.0</td>\n",
       "      <td>0.0</td>\n",
       "      <td>0.0</td>\n",
       "      <td>0.0</td>\n",
       "      <td>0.0</td>\n",
       "      <td>0.0</td>\n",
       "      <td>0.0</td>\n",
       "      <td>0.0</td>\n",
       "      <td>0.0</td>\n",
       "    </tr>\n",
       "    <tr>\n",
       "      <th>4</th>\n",
       "      <td>100007</td>\n",
       "      <td>0</td>\n",
       "      <td>0</td>\n",
       "      <td>121500.0</td>\n",
       "      <td>513000.0</td>\n",
       "      <td>21865.5</td>\n",
       "      <td>513000.0</td>\n",
       "      <td>0.028663</td>\n",
       "      <td>-19932</td>\n",
       "      <td>-3038</td>\n",
       "      <td>...</td>\n",
       "      <td>0.0</td>\n",
       "      <td>0.0</td>\n",
       "      <td>0.0</td>\n",
       "      <td>0.0</td>\n",
       "      <td>0.0</td>\n",
       "      <td>0.0</td>\n",
       "      <td>0.0</td>\n",
       "      <td>0.0</td>\n",
       "      <td>0.0</td>\n",
       "      <td>0.0</td>\n",
       "    </tr>\n",
       "  </tbody>\n",
       "</table>\n",
       "<p>5 rows × 183 columns</p>\n",
       "</div>"
      ],
      "text/plain": [
       "   SK_ID_CURR  TARGET  CNT_CHILDREN  AMT_INCOME_TOTAL  AMT_CREDIT  \\\n",
       "0      100002       1             0          202500.0    406597.5   \n",
       "1      100003       0             0          270000.0   1293502.5   \n",
       "2      100004       0             0           67500.0    135000.0   \n",
       "3      100006       0             0          135000.0    312682.5   \n",
       "4      100007       0             0          121500.0    513000.0   \n",
       "\n",
       "   AMT_ANNUITY  AMT_GOODS_PRICE  REGION_POPULATION_RELATIVE  DAYS_BIRTH  \\\n",
       "0      24700.5         351000.0                    0.018801       -9461   \n",
       "1      35698.5        1129500.0                    0.003541      -16765   \n",
       "2       6750.0         135000.0                    0.010032      -19046   \n",
       "3      29686.5         297000.0                    0.008019      -19005   \n",
       "4      21865.5         513000.0                    0.028663      -19932   \n",
       "\n",
       "   DAYS_EMPLOYED        ...          CREDIT_AMT_RECEIVABLE_PRINCIPAL  \\\n",
       "0           -637        ...                                      0.0   \n",
       "1          -1188        ...                                      0.0   \n",
       "2           -225        ...                                      0.0   \n",
       "3          -3039        ...                                      0.0   \n",
       "4          -3038        ...                                      0.0   \n",
       "\n",
       "   CREDIT_AMT_RECIVABLE  CREDIT_AMT_TOTAL_RECEIVABLE  \\\n",
       "0                   0.0                          0.0   \n",
       "1                   0.0                          0.0   \n",
       "2                   0.0                          0.0   \n",
       "3                   0.0                          0.0   \n",
       "4                   0.0                          0.0   \n",
       "\n",
       "   CREDIT_CNT_DRAWINGS_ATM_CURRENT  CREDIT_CNT_DRAWINGS_CURRENT  \\\n",
       "0                              0.0                          0.0   \n",
       "1                              0.0                          0.0   \n",
       "2                              0.0                          0.0   \n",
       "3                              0.0                          0.0   \n",
       "4                              0.0                          0.0   \n",
       "\n",
       "   CREDIT_CNT_DRAWINGS_OTHER_CURRENT  CREDIT_CNT_DRAWINGS_POS_CURRENT  \\\n",
       "0                                0.0                              0.0   \n",
       "1                                0.0                              0.0   \n",
       "2                                0.0                              0.0   \n",
       "3                                0.0                              0.0   \n",
       "4                                0.0                              0.0   \n",
       "\n",
       "   CREDIT_CNT_INSTALMENT_MATURE_CUM  CREDIT_SK_DPD  CREDIT_SK_DPD_DEF  \n",
       "0                               0.0            0.0                0.0  \n",
       "1                               0.0            0.0                0.0  \n",
       "2                               0.0            0.0                0.0  \n",
       "3                               0.0            0.0                0.0  \n",
       "4                               0.0            0.0                0.0  \n",
       "\n",
       "[5 rows x 183 columns]"
      ]
     },
     "execution_count": 15,
     "metadata": {},
     "output_type": "execute_result"
    }
   ],
   "source": [
    "num_df.head()"
   ]
  },
  {
   "cell_type": "code",
   "execution_count": 28,
   "metadata": {
    "collapsed": false,
    "scrolled": true
   },
   "outputs": [
    {
     "data": {
      "text/plain": [
       "array(['SK_ID_CURR', 'TARGET', 'CNT_CHILDREN', 'AMT_INCOME_TOTAL',\n",
       "       'AMT_CREDIT', 'AMT_ANNUITY', 'AMT_GOODS_PRICE',\n",
       "       'REGION_POPULATION_RELATIVE', 'DAYS_BIRTH', 'DAYS_EMPLOYED',\n",
       "       'DAYS_REGISTRATION', 'DAYS_ID_PUBLISH', 'OWN_CAR_AGE', 'FLAG_MOBIL',\n",
       "       'FLAG_EMP_PHONE', 'FLAG_WORK_PHONE', 'FLAG_CONT_MOBILE',\n",
       "       'FLAG_PHONE', 'FLAG_EMAIL', 'CNT_FAM_MEMBERS',\n",
       "       'REGION_RATING_CLIENT', 'REGION_RATING_CLIENT_W_CITY',\n",
       "       'HOUR_APPR_PROCESS_START', 'REG_REGION_NOT_LIVE_REGION',\n",
       "       'REG_REGION_NOT_WORK_REGION', 'LIVE_REGION_NOT_WORK_REGION',\n",
       "       'REG_CITY_NOT_LIVE_CITY', 'REG_CITY_NOT_WORK_CITY',\n",
       "       'LIVE_CITY_NOT_WORK_CITY', 'EXT_SOURCE_1', 'EXT_SOURCE_2',\n",
       "       'EXT_SOURCE_3', 'APARTMENTS_AVG', 'BASEMENTAREA_AVG',\n",
       "       'YEARS_BEGINEXPLUATATION_AVG', 'YEARS_BUILD_AVG', 'COMMONAREA_AVG',\n",
       "       'ELEVATORS_AVG', 'ENTRANCES_AVG', 'FLOORSMAX_AVG', 'FLOORSMIN_AVG',\n",
       "       'LANDAREA_AVG', 'LIVINGAPARTMENTS_AVG', 'LIVINGAREA_AVG',\n",
       "       'NONLIVINGAPARTMENTS_AVG', 'NONLIVINGAREA_AVG', 'APARTMENTS_MODE',\n",
       "       'BASEMENTAREA_MODE', 'YEARS_BEGINEXPLUATATION_MODE',\n",
       "       'YEARS_BUILD_MODE', 'COMMONAREA_MODE', 'ELEVATORS_MODE',\n",
       "       'ENTRANCES_MODE', 'FLOORSMAX_MODE', 'FLOORSMIN_MODE',\n",
       "       'LANDAREA_MODE', 'LIVINGAPARTMENTS_MODE', 'LIVINGAREA_MODE',\n",
       "       'NONLIVINGAPARTMENTS_MODE', 'NONLIVINGAREA_MODE', 'APARTMENTS_MEDI',\n",
       "       'BASEMENTAREA_MEDI', 'YEARS_BEGINEXPLUATATION_MEDI',\n",
       "       'YEARS_BUILD_MEDI', 'COMMONAREA_MEDI', 'ELEVATORS_MEDI',\n",
       "       'ENTRANCES_MEDI', 'FLOORSMAX_MEDI', 'FLOORSMIN_MEDI',\n",
       "       'LANDAREA_MEDI', 'LIVINGAPARTMENTS_MEDI', 'LIVINGAREA_MEDI',\n",
       "       'NONLIVINGAPARTMENTS_MEDI', 'NONLIVINGAREA_MEDI', 'TOTALAREA_MODE',\n",
       "       'OBS_30_CNT_SOCIAL_CIRCLE', 'DEF_30_CNT_SOCIAL_CIRCLE',\n",
       "       'OBS_60_CNT_SOCIAL_CIRCLE', 'DEF_60_CNT_SOCIAL_CIRCLE',\n",
       "       'DAYS_LAST_PHONE_CHANGE', 'FLAG_DOCUMENT_2', 'FLAG_DOCUMENT_3',\n",
       "       'FLAG_DOCUMENT_4', 'FLAG_DOCUMENT_5', 'FLAG_DOCUMENT_6',\n",
       "       'FLAG_DOCUMENT_7', 'FLAG_DOCUMENT_8', 'FLAG_DOCUMENT_9',\n",
       "       'FLAG_DOCUMENT_10', 'FLAG_DOCUMENT_11', 'FLAG_DOCUMENT_12',\n",
       "       'FLAG_DOCUMENT_13', 'FLAG_DOCUMENT_14', 'FLAG_DOCUMENT_15',\n",
       "       'FLAG_DOCUMENT_16', 'FLAG_DOCUMENT_17', 'FLAG_DOCUMENT_18',\n",
       "       'FLAG_DOCUMENT_19', 'FLAG_DOCUMENT_20', 'FLAG_DOCUMENT_21',\n",
       "       'AMT_REQ_CREDIT_BUREAU_HOUR', 'AMT_REQ_CREDIT_BUREAU_DAY',\n",
       "       'AMT_REQ_CREDIT_BUREAU_WEEK', 'AMT_REQ_CREDIT_BUREAU_MON',\n",
       "       'AMT_REQ_CREDIT_BUREAU_QRT', 'AMT_REQ_CREDIT_BUREAU_YEAR',\n",
       "       'BUREAU_DAYS_CREDIT', 'BUREAU_CREDIT_DAY_OVERDUE',\n",
       "       'BUREAU_DAYS_CREDIT_ENDDATE', 'BUREAU_DAYS_ENDDATE_FACT',\n",
       "       'BUREAU_AMT_CREDIT_MAX_OVERDUE', 'BUREAU_CNT_CREDIT_PROLONG',\n",
       "       'BUREAU_AMT_CREDIT_SUM', 'BUREAU_AMT_CREDIT_SUM_DEBT',\n",
       "       'BUREAU_AMT_CREDIT_SUM_LIMIT', 'BUREAU_AMT_CREDIT_SUM_OVERDUE',\n",
       "       'BUREAU_DAYS_CREDIT_UPDATE', 'BUREAU_AMT_ANNUITY', 'PREV_APP_COUNT',\n",
       "       'PREV_AMT_ANNUITY', 'PREV_AMT_APPLICATION', 'PREV_AMT_CREDIT',\n",
       "       'PREV_AMT_DOWN_PAYMENT', 'PREV_AMT_GOODS_PRICE',\n",
       "       'PREV_HOUR_APPR_PROCESS_START', 'PREV_NFLAG_LAST_APPL_IN_DAY',\n",
       "       'PREV_RATE_DOWN_PAYMENT', 'PREV_RATE_INTEREST_PRIMARY',\n",
       "       'PREV_RATE_INTEREST_PRIVILEGED', 'PREV_DAYS_DECISION',\n",
       "       'PREV_SELLERPLACE_AREA', 'PREV_CNT_PAYMENT',\n",
       "       'PREV_DAYS_FIRST_DRAWING', 'PREV_DAYS_FIRST_DUE',\n",
       "       'PREV_DAYS_LAST_DUE_1ST_VERSION', 'PREV_DAYS_LAST_DUE',\n",
       "       'PREV_DAYS_TERMINATION', 'PREV_NFLAG_INSURED_ON_APPROVAL',\n",
       "       'POS_AMT_ANNUITY', 'POS_AMT_APPLICATION', 'POS_AMT_CREDIT',\n",
       "       'POS_AMT_DOWN_PAYMENT', 'POS_AMT_GOODS_PRICE',\n",
       "       'POS_HOUR_APPR_PROCESS_START', 'POS_NFLAG_LAST_APPL_IN_DAY',\n",
       "       'POS_RATE_DOWN_PAYMENT', 'POS_RATE_INTEREST_PRIMARY',\n",
       "       'POS_RATE_INTEREST_PRIVILEGED', 'POS_DAYS_DECISION',\n",
       "       'POS_SELLERPLACE_AREA', 'POS_CNT_PAYMENT', 'POS_DAYS_FIRST_DRAWING',\n",
       "       'POS_DAYS_FIRST_DUE', 'POS_DAYS_LAST_DUE_1ST_VERSION',\n",
       "       'POS_DAYS_LAST_DUE', 'POS_DAYS_TERMINATION',\n",
       "       'POS_NFLAG_INSURED_ON_APPROVAL', 'INSTA_NUM_INSTALMENT_VERSION',\n",
       "       'INSTA_NUM_INSTALMENT_NUMBER', 'INSTA_DAYS_INSTALMENT',\n",
       "       'INSTA_DAYS_ENTRY_PAYMENT', 'INSTA_AMT_INSTALMENT',\n",
       "       'INSTA_AMT_PAYMENT', 'CREDIT_MONTHS_BALANCE', 'CREDIT_AMT_BALANCE',\n",
       "       'CREDIT_AMT_CREDIT_LIMIT_ACTUAL', 'CREDIT_AMT_DRAWINGS_ATM_CURRENT',\n",
       "       'CREDIT_AMT_DRAWINGS_CURRENT', 'CREDIT_AMT_DRAWINGS_OTHER_CURRENT',\n",
       "       'CREDIT_AMT_DRAWINGS_POS_CURRENT', 'CREDIT_AMT_INST_MIN_REGULARITY',\n",
       "       'CREDIT_AMT_PAYMENT_CURRENT', 'CREDIT_AMT_PAYMENT_TOTAL_CURRENT',\n",
       "       'CREDIT_AMT_RECEIVABLE_PRINCIPAL', 'CREDIT_AMT_RECIVABLE',\n",
       "       'CREDIT_AMT_TOTAL_RECEIVABLE', 'CREDIT_CNT_DRAWINGS_ATM_CURRENT',\n",
       "       'CREDIT_CNT_DRAWINGS_CURRENT', 'CREDIT_CNT_DRAWINGS_OTHER_CURRENT',\n",
       "       'CREDIT_CNT_DRAWINGS_POS_CURRENT',\n",
       "       'CREDIT_CNT_INSTALMENT_MATURE_CUM', 'CREDIT_SK_DPD',\n",
       "       'CREDIT_SK_DPD_DEF'], dtype=object)"
      ]
     },
     "execution_count": 28,
     "metadata": {},
     "output_type": "execute_result"
    }
   ],
   "source": [
    "num_df.columns.values"
   ]
  },
  {
   "cell_type": "markdown",
   "metadata": {},
   "source": [
    "### Fill missing values "
   ]
  },
  {
   "cell_type": "code",
   "execution_count": 31,
   "metadata": {
    "collapsed": false
   },
   "outputs": [],
   "source": [
    "num_columns = num_df.columns.values # get the name of numerics columns.\n",
    "for col in num_columns:\n",
    "    df.update(df[col].fillna(0))"
   ]
  },
  {
   "cell_type": "code",
   "execution_count": 41,
   "metadata": {
    "collapsed": true
   },
   "outputs": [],
   "source": [
    "# df.to_csv('D:\\\\70. Study\\\\00 Data Science Springboard\\\\02-Project Capstone 1\\\\data\\\\final_data_wrangling.csv')"
   ]
  },
  {
   "cell_type": "markdown",
   "metadata": {},
   "source": [
    "### Explore number of children for each loan borrower.\n",
    "Most of borrowers have 0 or 2 children. \n",
    "There is only one borrower that have 17 children."
   ]
  },
  {
   "cell_type": "code",
   "execution_count": 32,
   "metadata": {
    "collapsed": false
   },
   "outputs": [
    {
     "data": {
      "text/plain": [
       "19"
      ]
     },
     "execution_count": 32,
     "metadata": {},
     "output_type": "execute_result"
    }
   ],
   "source": [
    "df['CNT_CHILDREN'].max()"
   ]
  },
  {
   "cell_type": "code",
   "execution_count": 17,
   "metadata": {
    "collapsed": false
   },
   "outputs": [
    {
     "data": {
      "image/png": "[encoded data removed]",
      "text/plain": [
       "<Figure size 432x288 with 1 Axes>"
      ]
     },
     "metadata": {},
     "output_type": "display_data"
    }
   ],
   "source": [
    "sns.boxplot(df['CNT_CHILDREN'])\n",
    "plt.show()"
   ]
  },
  {
   "cell_type": "markdown",
   "metadata": {},
   "source": [
    "Most of borrowers have income in range of 200k. There is only one person that have 117,000,000$ of income."
   ]
  },
  {
   "cell_type": "code",
   "execution_count": 18,
   "metadata": {
    "collapsed": false,
    "scrolled": true
   },
   "outputs": [
    {
     "data": {
      "image/png": "[encoded data removed]",
      "text/plain": [
       "<Figure size 432x288 with 1 Axes>"
      ]
     },
     "metadata": {},
     "output_type": "display_data"
    }
   ],
   "source": [
    "sns.boxplot(df['AMT_INCOME_TOTAL'])\n",
    "plt.show()"
   ]
  },
  {
   "cell_type": "code",
   "execution_count": 19,
   "metadata": {
    "collapsed": false
   },
   "outputs": [
    {
     "data": {
      "text/plain": [
       "117000000.0"
      ]
     },
     "execution_count": 19,
     "metadata": {},
     "output_type": "execute_result"
    }
   ],
   "source": [
    "df['AMT_INCOME_TOTAL'].max()"
   ]
  },
  {
   "cell_type": "code",
   "execution_count": 20,
   "metadata": {
    "collapsed": false
   },
   "outputs": [
    {
     "data": {
      "image/png": "[encoded data removed]",
      "text/plain": [
       "<Figure size 432x288 with 1 Axes>"
      ]
     },
     "metadata": {},
     "output_type": "display_data"
    }
   ],
   "source": [
    "sns.boxplot(df['AMT_CREDIT'])\n",
    "plt.show()"
   ]
  },
  {
   "cell_type": "markdown",
   "metadata": {
    "collapsed": true
   },
   "source": [
    "### Explore car's age."
   ]
  },
  {
   "cell_type": "code",
   "execution_count": 22,
   "metadata": {
    "collapsed": false
   },
   "outputs": [
    {
     "data": {
      "image/png": "[encoded data removed]",
      "text/plain": [
       "<Figure size 432x288 with 1 Axes>"
      ]
     },
     "metadata": {},
     "output_type": "display_data"
    }
   ],
   "source": [
    "sns.boxplot(df['OWN_CAR_AGE'])\n",
    "plt.show()"
   ]
  },
  {
   "cell_type": "code",
   "execution_count": 23,
   "metadata": {
    "collapsed": false
   },
   "outputs": [
    {
     "data": {
      "text/plain": [
       "91.0"
      ]
     },
     "execution_count": 23,
     "metadata": {},
     "output_type": "execute_result"
    }
   ],
   "source": [
    "df['OWN_CAR_AGE'].max()"
   ]
  },
  {
   "cell_type": "code",
   "execution_count": 24,
   "metadata": {
    "collapsed": false
   },
   "outputs": [
    {
     "data": {
      "text/plain": [
       "count    104582.000000\n",
       "mean         12.061091\n",
       "std          11.944812\n",
       "min           0.000000\n",
       "25%           5.000000\n",
       "50%           9.000000\n",
       "75%          15.000000\n",
       "max          91.000000\n",
       "Name: OWN_CAR_AGE, dtype: float64"
      ]
     },
     "execution_count": 24,
     "metadata": {},
     "output_type": "execute_result"
    }
   ],
   "source": [
    "df['OWN_CAR_AGE'].describe()"
   ]
  },
  {
   "cell_type": "code",
   "execution_count": 33,
   "metadata": {
    "collapsed": false
   },
   "outputs": [
    {
     "data": {
      "text/plain": [
       "0    1\n",
       "1    1\n",
       "2    1\n",
       "3    0\n",
       "4    0\n",
       "Name: FLAG_PHONE, dtype: int64"
      ]
     },
     "execution_count": 33,
     "metadata": {},
     "output_type": "execute_result"
    }
   ],
   "source": [
    "df['FLAG_PHONE'].head()"
   ]
  },
  {
   "cell_type": "code",
   "execution_count": 39,
   "metadata": {
    "collapsed": false
   },
   "outputs": [
    {
     "data": {
      "image/png": "[encoded data removed]",
      "text/plain": [
       "<Figure size 432x288 with 16 Axes>"
      ]
     },
     "metadata": {},
     "output_type": "display_data"
    }
   ],
   "source": [
    "temp_df = pd.concat([df['BUREAU_DAYS_CREDIT'], df['BUREAU_CREDIT_DAY_OVERDUE'],df['CNT_CHILDREN'], df['PREV_AMT_DOWN_PAYMENT']], axis = 1)\n",
    "pd.plotting.scatter_matrix(temp_df)\n",
    "plt.show()"
   ]
  },
  {
   "cell_type": "code",
   "execution_count": 40,
   "metadata": {
    "collapsed": false
   },
   "outputs": [
    {
     "ename": "KeyboardInterrupt",
     "evalue": "",
     "output_type": "error",
     "traceback": [
      "\u001b[0;31m---------------------------------------------------------------------------\u001b[0m",
      "\u001b[0;31mKeyboardInterrupt\u001b[0m                         Traceback (most recent call last)",
      "\u001b[0;32m<ipython-input-40-94b4e7551ea5>\u001b[0m in \u001b[0;36m<module>\u001b[0;34m()\u001b[0m\n\u001b[0;32m----> 1\u001b[0;31m \u001b[0mpd\u001b[0m\u001b[1;33m.\u001b[0m\u001b[0mplotting\u001b[0m\u001b[1;33m.\u001b[0m\u001b[0mscatter_matrix\u001b[0m\u001b[1;33m(\u001b[0m\u001b[0mnum_df\u001b[0m\u001b[1;33m)\u001b[0m\u001b[1;33m\u001b[0m\u001b[1;33m\u001b[0m\u001b[0m\n\u001b[0m\u001b[1;32m      2\u001b[0m \u001b[0mplt\u001b[0m\u001b[1;33m.\u001b[0m\u001b[0mshow\u001b[0m\u001b[1;33m(\u001b[0m\u001b[1;33m)\u001b[0m\u001b[1;33m\u001b[0m\u001b[1;33m\u001b[0m\u001b[0m\n",
      "\u001b[0;32mC:\\Users\\samsung\\Anaconda3\\lib\\site-packages\\pandas\\plotting\\_misc.py\u001b[0m in \u001b[0;36mscatter_matrix\u001b[0;34m(frame, alpha, figsize, ax, grid, diagonal, marker, density_kwds, hist_kwds, range_padding, **kwds)\u001b[0m\n\u001b[1;32m     58\u001b[0m     \u001b[0mnaxes\u001b[0m \u001b[1;33m=\u001b[0m \u001b[0mn\u001b[0m \u001b[1;33m*\u001b[0m \u001b[0mn\u001b[0m\u001b[1;33m\u001b[0m\u001b[1;33m\u001b[0m\u001b[0m\n\u001b[1;32m     59\u001b[0m     fig, axes = _subplots(naxes=naxes, figsize=figsize, ax=ax,\n\u001b[0;32m---> 60\u001b[0;31m                           squeeze=False)\n\u001b[0m\u001b[1;32m     61\u001b[0m \u001b[1;33m\u001b[0m\u001b[0m\n\u001b[1;32m     62\u001b[0m     \u001b[1;31m# no gaps between subplots\u001b[0m\u001b[1;33m\u001b[0m\u001b[1;33m\u001b[0m\u001b[1;33m\u001b[0m\u001b[0m\n",
      "\u001b[0;32mC:\\Users\\samsung\\Anaconda3\\lib\\site-packages\\pandas\\plotting\\_tools.py\u001b[0m in \u001b[0;36m_subplots\u001b[0;34m(naxes, sharex, sharey, squeeze, subplot_kw, ax, layout, layout_type, **fig_kw)\u001b[0m\n\u001b[1;32m    254\u001b[0m             \u001b[0mkwds\u001b[0m\u001b[1;33m[\u001b[0m\u001b[1;34m'sharex'\u001b[0m\u001b[1;33m]\u001b[0m \u001b[1;33m=\u001b[0m \u001b[1;32mNone\u001b[0m\u001b[1;33m\u001b[0m\u001b[1;33m\u001b[0m\u001b[0m\n\u001b[1;32m    255\u001b[0m             \u001b[0mkwds\u001b[0m\u001b[1;33m[\u001b[0m\u001b[1;34m'sharey'\u001b[0m\u001b[1;33m]\u001b[0m \u001b[1;33m=\u001b[0m \u001b[1;32mNone\u001b[0m\u001b[1;33m\u001b[0m\u001b[1;33m\u001b[0m\u001b[0m\n\u001b[0;32m--> 256\u001b[0;31m         \u001b[0max\u001b[0m \u001b[1;33m=\u001b[0m \u001b[0mfig\u001b[0m\u001b[1;33m.\u001b[0m\u001b[0madd_subplot\u001b[0m\u001b[1;33m(\u001b[0m\u001b[0mnrows\u001b[0m\u001b[1;33m,\u001b[0m \u001b[0mncols\u001b[0m\u001b[1;33m,\u001b[0m \u001b[0mi\u001b[0m \u001b[1;33m+\u001b[0m \u001b[1;36m1\u001b[0m\u001b[1;33m,\u001b[0m \u001b[1;33m**\u001b[0m\u001b[0mkwds\u001b[0m\u001b[1;33m)\u001b[0m\u001b[1;33m\u001b[0m\u001b[1;33m\u001b[0m\u001b[0m\n\u001b[0m\u001b[1;32m    257\u001b[0m         \u001b[0maxarr\u001b[0m\u001b[1;33m[\u001b[0m\u001b[0mi\u001b[0m\u001b[1;33m]\u001b[0m \u001b[1;33m=\u001b[0m \u001b[0max\u001b[0m\u001b[1;33m\u001b[0m\u001b[1;33m\u001b[0m\u001b[0m\n\u001b[1;32m    258\u001b[0m \u001b[1;33m\u001b[0m\u001b[0m\n",
      "\u001b[0;32mC:\\Users\\samsung\\Anaconda3\\lib\\site-packages\\matplotlib\\figure.py\u001b[0m in \u001b[0;36madd_subplot\u001b[0;34m(self, *args, **kwargs)\u001b[0m\n\u001b[1;32m   1414\u001b[0m             \u001b[0ma\u001b[0m \u001b[1;33m=\u001b[0m \u001b[0msubplot_class_factory\u001b[0m\u001b[1;33m(\u001b[0m\u001b[0mprojection_class\u001b[0m\u001b[1;33m)\u001b[0m\u001b[1;33m(\u001b[0m\u001b[0mself\u001b[0m\u001b[1;33m,\u001b[0m \u001b[1;33m*\u001b[0m\u001b[0margs\u001b[0m\u001b[1;33m,\u001b[0m \u001b[1;33m**\u001b[0m\u001b[0mkwargs\u001b[0m\u001b[1;33m)\u001b[0m\u001b[1;33m\u001b[0m\u001b[1;33m\u001b[0m\u001b[0m\n\u001b[1;32m   1415\u001b[0m \u001b[1;33m\u001b[0m\u001b[0m\n\u001b[0;32m-> 1416\u001b[0;31m         \u001b[1;32mreturn\u001b[0m \u001b[0mself\u001b[0m\u001b[1;33m.\u001b[0m\u001b[0m_add_axes_internal\u001b[0m\u001b[1;33m(\u001b[0m\u001b[0mkey\u001b[0m\u001b[1;33m,\u001b[0m \u001b[0ma\u001b[0m\u001b[1;33m)\u001b[0m\u001b[1;33m\u001b[0m\u001b[1;33m\u001b[0m\u001b[0m\n\u001b[0m\u001b[1;32m   1417\u001b[0m \u001b[1;33m\u001b[0m\u001b[0m\n\u001b[1;32m   1418\u001b[0m     \u001b[1;32mdef\u001b[0m \u001b[0m_add_axes_internal\u001b[0m\u001b[1;33m(\u001b[0m\u001b[0mself\u001b[0m\u001b[1;33m,\u001b[0m \u001b[0mkey\u001b[0m\u001b[1;33m,\u001b[0m \u001b[0max\u001b[0m\u001b[1;33m)\u001b[0m\u001b[1;33m:\u001b[0m\u001b[1;33m\u001b[0m\u001b[1;33m\u001b[0m\u001b[0m\n",
      "\u001b[0;32mC:\\Users\\samsung\\Anaconda3\\lib\\site-packages\\matplotlib\\figure.py\u001b[0m in \u001b[0;36m_add_axes_internal\u001b[0;34m(self, key, ax)\u001b[0m\n\u001b[1;32m   1419\u001b[0m         \u001b[1;34m\"\"\"Private helper for `add_axes` and `add_subplot`.\"\"\"\u001b[0m\u001b[1;33m\u001b[0m\u001b[1;33m\u001b[0m\u001b[0m\n\u001b[1;32m   1420\u001b[0m         \u001b[0mself\u001b[0m\u001b[1;33m.\u001b[0m\u001b[0m_axstack\u001b[0m\u001b[1;33m.\u001b[0m\u001b[0madd\u001b[0m\u001b[1;33m(\u001b[0m\u001b[0mkey\u001b[0m\u001b[1;33m,\u001b[0m \u001b[0max\u001b[0m\u001b[1;33m)\u001b[0m\u001b[1;33m\u001b[0m\u001b[1;33m\u001b[0m\u001b[0m\n\u001b[0;32m-> 1421\u001b[0;31m         \u001b[0mself\u001b[0m\u001b[1;33m.\u001b[0m\u001b[0msca\u001b[0m\u001b[1;33m(\u001b[0m\u001b[0max\u001b[0m\u001b[1;33m)\u001b[0m\u001b[1;33m\u001b[0m\u001b[1;33m\u001b[0m\u001b[0m\n\u001b[0m\u001b[1;32m   1422\u001b[0m         \u001b[0max\u001b[0m\u001b[1;33m.\u001b[0m\u001b[0m_remove_method\u001b[0m \u001b[1;33m=\u001b[0m \u001b[0mself\u001b[0m\u001b[1;33m.\u001b[0m\u001b[0m_remove_ax\u001b[0m\u001b[1;33m\u001b[0m\u001b[1;33m\u001b[0m\u001b[0m\n\u001b[1;32m   1423\u001b[0m         \u001b[0mself\u001b[0m\u001b[1;33m.\u001b[0m\u001b[0mstale\u001b[0m \u001b[1;33m=\u001b[0m \u001b[1;32mTrue\u001b[0m\u001b[1;33m\u001b[0m\u001b[1;33m\u001b[0m\u001b[0m\n",
      "\u001b[0;32mC:\\Users\\samsung\\Anaconda3\\lib\\site-packages\\matplotlib\\figure.py\u001b[0m in \u001b[0;36msca\u001b[0;34m(self, a)\u001b[0m\n\u001b[1;32m   1934\u001b[0m     \u001b[1;32mdef\u001b[0m \u001b[0msca\u001b[0m\u001b[1;33m(\u001b[0m\u001b[0mself\u001b[0m\u001b[1;33m,\u001b[0m \u001b[0ma\u001b[0m\u001b[1;33m)\u001b[0m\u001b[1;33m:\u001b[0m\u001b[1;33m\u001b[0m\u001b[1;33m\u001b[0m\u001b[0m\n\u001b[1;32m   1935\u001b[0m         \u001b[1;34m\"\"\"Set the current axes to be a and return a.\"\"\"\u001b[0m\u001b[1;33m\u001b[0m\u001b[1;33m\u001b[0m\u001b[0m\n\u001b[0;32m-> 1936\u001b[0;31m         \u001b[0mself\u001b[0m\u001b[1;33m.\u001b[0m\u001b[0m_axstack\u001b[0m\u001b[1;33m.\u001b[0m\u001b[0mbubble\u001b[0m\u001b[1;33m(\u001b[0m\u001b[0ma\u001b[0m\u001b[1;33m)\u001b[0m\u001b[1;33m\u001b[0m\u001b[1;33m\u001b[0m\u001b[0m\n\u001b[0m\u001b[1;32m   1937\u001b[0m         \u001b[1;32mfor\u001b[0m \u001b[0mfunc\u001b[0m \u001b[1;32min\u001b[0m \u001b[0mself\u001b[0m\u001b[1;33m.\u001b[0m\u001b[0m_axobservers\u001b[0m\u001b[1;33m:\u001b[0m\u001b[1;33m\u001b[0m\u001b[1;33m\u001b[0m\u001b[0m\n\u001b[1;32m   1938\u001b[0m             \u001b[0mfunc\u001b[0m\u001b[1;33m(\u001b[0m\u001b[0mself\u001b[0m\u001b[1;33m)\u001b[0m\u001b[1;33m\u001b[0m\u001b[1;33m\u001b[0m\u001b[0m\n",
      "\u001b[0;32mC:\\Users\\samsung\\Anaconda3\\lib\\site-packages\\matplotlib\\figure.py\u001b[0m in \u001b[0;36mbubble\u001b[0;34m(self, a)\u001b[0m\n\u001b[1;32m    111\u001b[0m         \u001b[0mstack\u001b[0m\u001b[1;33m,\u001b[0m \u001b[0mto\u001b[0m \u001b[0mthe\u001b[0m \u001b[0mtop\u001b[0m\u001b[1;33m.\u001b[0m\u001b[1;33m\u001b[0m\u001b[1;33m\u001b[0m\u001b[0m\n\u001b[1;32m    112\u001b[0m         \"\"\"\n\u001b[0;32m--> 113\u001b[0;31m         \u001b[1;32mreturn\u001b[0m \u001b[0msuper\u001b[0m\u001b[1;33m(\u001b[0m\u001b[1;33m)\u001b[0m\u001b[1;33m.\u001b[0m\u001b[0mbubble\u001b[0m\u001b[1;33m(\u001b[0m\u001b[0mself\u001b[0m\u001b[1;33m.\u001b[0m\u001b[0m_entry_from_axes\u001b[0m\u001b[1;33m(\u001b[0m\u001b[0ma\u001b[0m\u001b[1;33m)\u001b[0m\u001b[1;33m)\u001b[0m\u001b[1;33m\u001b[0m\u001b[1;33m\u001b[0m\u001b[0m\n\u001b[0m\u001b[1;32m    114\u001b[0m \u001b[1;33m\u001b[0m\u001b[0m\n\u001b[1;32m    115\u001b[0m     \u001b[1;32mdef\u001b[0m \u001b[0madd\u001b[0m\u001b[1;33m(\u001b[0m\u001b[0mself\u001b[0m\u001b[1;33m,\u001b[0m \u001b[0mkey\u001b[0m\u001b[1;33m,\u001b[0m \u001b[0ma\u001b[0m\u001b[1;33m)\u001b[0m\u001b[1;33m:\u001b[0m\u001b[1;33m\u001b[0m\u001b[1;33m\u001b[0m\u001b[0m\n",
      "\u001b[0;32mC:\\Users\\samsung\\Anaconda3\\lib\\site-packages\\matplotlib\\cbook\\__init__.py\u001b[0m in \u001b[0;36mbubble\u001b[0;34m(self, o)\u001b[0m\n\u001b[1;32m    733\u001b[0m                 \u001b[0mbubbles\u001b[0m\u001b[1;33m.\u001b[0m\u001b[0mappend\u001b[0m\u001b[1;33m(\u001b[0m\u001b[0mthiso\u001b[0m\u001b[1;33m)\u001b[0m\u001b[1;33m\u001b[0m\u001b[1;33m\u001b[0m\u001b[0m\n\u001b[1;32m    734\u001b[0m             \u001b[1;32melse\u001b[0m\u001b[1;33m:\u001b[0m\u001b[1;33m\u001b[0m\u001b[1;33m\u001b[0m\u001b[0m\n\u001b[0;32m--> 735\u001b[0;31m                 \u001b[0mself\u001b[0m\u001b[1;33m.\u001b[0m\u001b[0mpush\u001b[0m\u001b[1;33m(\u001b[0m\u001b[0mthiso\u001b[0m\u001b[1;33m)\u001b[0m\u001b[1;33m\u001b[0m\u001b[1;33m\u001b[0m\u001b[0m\n\u001b[0m\u001b[1;32m    736\u001b[0m         \u001b[1;32mfor\u001b[0m \u001b[0m_\u001b[0m \u001b[1;32min\u001b[0m \u001b[0mbubbles\u001b[0m\u001b[1;33m:\u001b[0m\u001b[1;33m\u001b[0m\u001b[1;33m\u001b[0m\u001b[0m\n\u001b[1;32m    737\u001b[0m             \u001b[0mself\u001b[0m\u001b[1;33m.\u001b[0m\u001b[0mpush\u001b[0m\u001b[1;33m(\u001b[0m\u001b[0mo\u001b[0m\u001b[1;33m)\u001b[0m\u001b[1;33m\u001b[0m\u001b[1;33m\u001b[0m\u001b[0m\n",
      "\u001b[0;32mC:\\Users\\samsung\\Anaconda3\\lib\\site-packages\\matplotlib\\cbook\\__init__.py\u001b[0m in \u001b[0;36mpush\u001b[0;34m(self, o)\u001b[0m\n\u001b[1;32m    694\u001b[0m         \u001b[1;33m*\u001b[0m\u001b[0mo\u001b[0m\u001b[1;33m*\u001b[0m \u001b[1;32mis\u001b[0m \u001b[0mreturned\u001b[0m\u001b[1;33m.\u001b[0m\u001b[1;33m\u001b[0m\u001b[1;33m\u001b[0m\u001b[0m\n\u001b[1;32m    695\u001b[0m         \"\"\"\n\u001b[0;32m--> 696\u001b[0;31m         \u001b[0mself\u001b[0m\u001b[1;33m.\u001b[0m\u001b[0m_elements\u001b[0m \u001b[1;33m=\u001b[0m \u001b[0mself\u001b[0m\u001b[1;33m.\u001b[0m\u001b[0m_elements\u001b[0m\u001b[1;33m[\u001b[0m\u001b[1;33m:\u001b[0m\u001b[0mself\u001b[0m\u001b[1;33m.\u001b[0m\u001b[0m_pos\u001b[0m \u001b[1;33m+\u001b[0m \u001b[1;36m1\u001b[0m\u001b[1;33m]\u001b[0m \u001b[1;33m+\u001b[0m \u001b[1;33m[\u001b[0m\u001b[0mo\u001b[0m\u001b[1;33m]\u001b[0m\u001b[1;33m\u001b[0m\u001b[1;33m\u001b[0m\u001b[0m\n\u001b[0m\u001b[1;32m    697\u001b[0m         \u001b[0mself\u001b[0m\u001b[1;33m.\u001b[0m\u001b[0m_pos\u001b[0m \u001b[1;33m=\u001b[0m \u001b[0mlen\u001b[0m\u001b[1;33m(\u001b[0m\u001b[0mself\u001b[0m\u001b[1;33m.\u001b[0m\u001b[0m_elements\u001b[0m\u001b[1;33m)\u001b[0m \u001b[1;33m-\u001b[0m \u001b[1;36m1\u001b[0m\u001b[1;33m\u001b[0m\u001b[1;33m\u001b[0m\u001b[0m\n\u001b[1;32m    698\u001b[0m         \u001b[1;32mreturn\u001b[0m \u001b[0mself\u001b[0m\u001b[1;33m(\u001b[0m\u001b[1;33m)\u001b[0m\u001b[1;33m\u001b[0m\u001b[1;33m\u001b[0m\u001b[0m\n",
      "\u001b[0;31mKeyboardInterrupt\u001b[0m: "
     ]
    }
   ],
   "source": [
    "#pd.plotting.scatter_matrix(num_df)\n",
    "#plt.show()"
   ]
  },
  {
   "cell_type": "code",
   "execution_count": null,
   "metadata": {
    "collapsed": true
   },
   "outputs": [],
   "source": []
  }
 ],
 "metadata": {
  "kernelspec": {
   "display_name": "Python 3",
   "language": "python",
   "name": "python3"
  },
  "language_info": {
   "codemirror_mode": {
    "name": "ipython",
    "version": 3
   },
   "file_extension": ".py",
   "mimetype": "text/x-python",
   "name": "python",
   "nbconvert_exporter": "python",
   "pygments_lexer": "ipython3",
   "version": "3.6.8"
  }
 },
 "nbformat": 4,
 "nbformat_minor": 2
}
