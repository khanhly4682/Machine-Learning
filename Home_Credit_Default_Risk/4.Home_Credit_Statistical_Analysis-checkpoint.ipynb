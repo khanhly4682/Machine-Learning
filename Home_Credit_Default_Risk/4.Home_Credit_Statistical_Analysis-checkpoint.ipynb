{
 "cells": [
  {
   "cell_type": "markdown",
   "metadata": {},
   "source": [
    "## HOME CREDIT Analysis - Statistical Analysis"
   ]
  },
  {
   "cell_type": "markdown",
   "metadata": {},
   "source": [
    "*Data Link:*\n",
    "https://www.kaggle.com/c/home-credit-default-risk\n",
    "\n",
    "Objective:Use historical loan application data to predict if an application will be able to repay a loan.This is a standard supervised classification task:\n",
    "<ul>\n",
    "<li><b>Supervised</b>: The labels are included in the training data and the goal is to train a model to learn to predict the labels from the features.</li>\n",
    "<li><b>Classification</b>: The label is a binary variable, </li>\n",
    "  <ul>\n",
    "  <li>0 (will repay loan on time), </li>\n",
    "  <li>1 (will have difficulty repaying loan)</li>\n",
    "  </ul>\n",
    "\n",
    "\n",
    "<b>Data:</b>\n",
    "<ul>\n",
    "The data is provided by Home Credit, https://www.kaggle.com/c/home-credit-default-risk/data\n",
    "</ul>"
   ]
  },
  {
   "cell_type": "markdown",
   "metadata": {},
   "source": [
    "<b> Purpose of doing Statistical Analysis:</b></n>\n",
    "Think of the following questions and apply them to your dataset:\n",
    "<ul>\n",
    "<li>Are there variables that are particularly significant in terms of explaining the answer to your project question?</li>\n",
    "<li>Are there significant differences between subgroups in your data that may be relevant to your project aim?</li>\n",
    "<li>Are there strong correlations between pairs of independent variables or between an independent and a dependent variable?</li>\n",
    "<li>What are the most appropriate tests to use to analyze these relationships?</li>\n",
    "</ul>"
   ]
  },
  {
   "cell_type": "code",
   "execution_count": 1,
   "metadata": {
    "collapsed": false
   },
   "outputs": [],
   "source": [
    "import pandas as pd\n",
    "import numpy as np\n",
    "\n",
    "import matplotlib.pyplot as plt\n",
    "import seaborn as sns"
   ]
  },
  {
   "cell_type": "code",
   "execution_count": 2,
   "metadata": {
    "collapsed": false,
    "scrolled": true
   },
   "outputs": [
    {
     "data": {
      "text/html": [
       "<div>\n",
       "<style scoped>\n",
       "    .dataframe tbody tr th:only-of-type {\n",
       "        vertical-align: middle;\n",
       "    }\n",
       "\n",
       "    .dataframe tbody tr th {\n",
       "        vertical-align: top;\n",
       "    }\n",
       "\n",
       "    .dataframe thead th {\n",
       "        text-align: right;\n",
       "    }\n",
       "</style>\n",
       "<table border=\"1\" class=\"dataframe\">\n",
       "  <thead>\n",
       "    <tr style=\"text-align: right;\">\n",
       "      <th></th>\n",
       "      <th>Unnamed: 0</th>\n",
       "      <th>SK_ID_CURR</th>\n",
       "      <th>TARGET</th>\n",
       "      <th>NAME_CONTRACT_TYPE</th>\n",
       "      <th>CODE_GENDER</th>\n",
       "      <th>FLAG_OWN_CAR</th>\n",
       "      <th>FLAG_OWN_REALTY</th>\n",
       "      <th>CNT_CHILDREN</th>\n",
       "      <th>AMT_INCOME_TOTAL</th>\n",
       "      <th>AMT_CREDIT</th>\n",
       "      <th>...</th>\n",
       "      <th>CREDIT_AMT_RECEIVABLE_PRINCIPAL</th>\n",
       "      <th>CREDIT_AMT_RECIVABLE</th>\n",
       "      <th>CREDIT_AMT_TOTAL_RECEIVABLE</th>\n",
       "      <th>CREDIT_CNT_DRAWINGS_ATM_CURRENT</th>\n",
       "      <th>CREDIT_CNT_DRAWINGS_CURRENT</th>\n",
       "      <th>CREDIT_CNT_DRAWINGS_OTHER_CURRENT</th>\n",
       "      <th>CREDIT_CNT_DRAWINGS_POS_CURRENT</th>\n",
       "      <th>CREDIT_CNT_INSTALMENT_MATURE_CUM</th>\n",
       "      <th>CREDIT_SK_DPD</th>\n",
       "      <th>CREDIT_SK_DPD_DEF</th>\n",
       "    </tr>\n",
       "  </thead>\n",
       "  <tbody>\n",
       "    <tr>\n",
       "      <th>0</th>\n",
       "      <td>0</td>\n",
       "      <td>100002</td>\n",
       "      <td>1</td>\n",
       "      <td>Cash loans</td>\n",
       "      <td>M</td>\n",
       "      <td>N</td>\n",
       "      <td>Y</td>\n",
       "      <td>0</td>\n",
       "      <td>202500.0</td>\n",
       "      <td>406597.5</td>\n",
       "      <td>...</td>\n",
       "      <td>0.0</td>\n",
       "      <td>0.0</td>\n",
       "      <td>0.0</td>\n",
       "      <td>0.0</td>\n",
       "      <td>0.0</td>\n",
       "      <td>0.0</td>\n",
       "      <td>0.0</td>\n",
       "      <td>0.0</td>\n",
       "      <td>0.0</td>\n",
       "      <td>0.0</td>\n",
       "    </tr>\n",
       "    <tr>\n",
       "      <th>1</th>\n",
       "      <td>1</td>\n",
       "      <td>100003</td>\n",
       "      <td>0</td>\n",
       "      <td>Cash loans</td>\n",
       "      <td>F</td>\n",
       "      <td>N</td>\n",
       "      <td>N</td>\n",
       "      <td>0</td>\n",
       "      <td>270000.0</td>\n",
       "      <td>1293502.5</td>\n",
       "      <td>...</td>\n",
       "      <td>0.0</td>\n",
       "      <td>0.0</td>\n",
       "      <td>0.0</td>\n",
       "      <td>0.0</td>\n",
       "      <td>0.0</td>\n",
       "      <td>0.0</td>\n",
       "      <td>0.0</td>\n",
       "      <td>0.0</td>\n",
       "      <td>0.0</td>\n",
       "      <td>0.0</td>\n",
       "    </tr>\n",
       "    <tr>\n",
       "      <th>2</th>\n",
       "      <td>2</td>\n",
       "      <td>100004</td>\n",
       "      <td>0</td>\n",
       "      <td>Revolving loans</td>\n",
       "      <td>M</td>\n",
       "      <td>Y</td>\n",
       "      <td>Y</td>\n",
       "      <td>0</td>\n",
       "      <td>67500.0</td>\n",
       "      <td>135000.0</td>\n",
       "      <td>...</td>\n",
       "      <td>0.0</td>\n",
       "      <td>0.0</td>\n",
       "      <td>0.0</td>\n",
       "      <td>0.0</td>\n",
       "      <td>0.0</td>\n",
       "      <td>0.0</td>\n",
       "      <td>0.0</td>\n",
       "      <td>0.0</td>\n",
       "      <td>0.0</td>\n",
       "      <td>0.0</td>\n",
       "    </tr>\n",
       "    <tr>\n",
       "      <th>3</th>\n",
       "      <td>3</td>\n",
       "      <td>100006</td>\n",
       "      <td>0</td>\n",
       "      <td>Cash loans</td>\n",
       "      <td>F</td>\n",
       "      <td>N</td>\n",
       "      <td>Y</td>\n",
       "      <td>0</td>\n",
       "      <td>135000.0</td>\n",
       "      <td>312682.5</td>\n",
       "      <td>...</td>\n",
       "      <td>0.0</td>\n",
       "      <td>0.0</td>\n",
       "      <td>0.0</td>\n",
       "      <td>0.0</td>\n",
       "      <td>0.0</td>\n",
       "      <td>0.0</td>\n",
       "      <td>0.0</td>\n",
       "      <td>0.0</td>\n",
       "      <td>0.0</td>\n",
       "      <td>0.0</td>\n",
       "    </tr>\n",
       "    <tr>\n",
       "      <th>4</th>\n",
       "      <td>4</td>\n",
       "      <td>100007</td>\n",
       "      <td>0</td>\n",
       "      <td>Cash loans</td>\n",
       "      <td>M</td>\n",
       "      <td>N</td>\n",
       "      <td>Y</td>\n",
       "      <td>0</td>\n",
       "      <td>121500.0</td>\n",
       "      <td>513000.0</td>\n",
       "      <td>...</td>\n",
       "      <td>0.0</td>\n",
       "      <td>0.0</td>\n",
       "      <td>0.0</td>\n",
       "      <td>0.0</td>\n",
       "      <td>0.0</td>\n",
       "      <td>0.0</td>\n",
       "      <td>0.0</td>\n",
       "      <td>0.0</td>\n",
       "      <td>0.0</td>\n",
       "      <td>0.0</td>\n",
       "    </tr>\n",
       "  </tbody>\n",
       "</table>\n",
       "<p>5 rows × 200 columns</p>\n",
       "</div>"
      ],
      "text/plain": [
       "   Unnamed: 0  SK_ID_CURR  TARGET NAME_CONTRACT_TYPE CODE_GENDER FLAG_OWN_CAR  \\\n",
       "0           0      100002       1         Cash loans           M            N   \n",
       "1           1      100003       0         Cash loans           F            N   \n",
       "2           2      100004       0    Revolving loans           M            Y   \n",
       "3           3      100006       0         Cash loans           F            N   \n",
       "4           4      100007       0         Cash loans           M            N   \n",
       "\n",
       "  FLAG_OWN_REALTY  CNT_CHILDREN  AMT_INCOME_TOTAL  AMT_CREDIT  \\\n",
       "0               Y             0          202500.0    406597.5   \n",
       "1               N             0          270000.0   1293502.5   \n",
       "2               Y             0           67500.0    135000.0   \n",
       "3               Y             0          135000.0    312682.5   \n",
       "4               Y             0          121500.0    513000.0   \n",
       "\n",
       "         ...          CREDIT_AMT_RECEIVABLE_PRINCIPAL  CREDIT_AMT_RECIVABLE  \\\n",
       "0        ...                                      0.0                   0.0   \n",
       "1        ...                                      0.0                   0.0   \n",
       "2        ...                                      0.0                   0.0   \n",
       "3        ...                                      0.0                   0.0   \n",
       "4        ...                                      0.0                   0.0   \n",
       "\n",
       "  CREDIT_AMT_TOTAL_RECEIVABLE CREDIT_CNT_DRAWINGS_ATM_CURRENT  \\\n",
       "0                         0.0                             0.0   \n",
       "1                         0.0                             0.0   \n",
       "2                         0.0                             0.0   \n",
       "3                         0.0                             0.0   \n",
       "4                         0.0                             0.0   \n",
       "\n",
       "  CREDIT_CNT_DRAWINGS_CURRENT CREDIT_CNT_DRAWINGS_OTHER_CURRENT  \\\n",
       "0                         0.0                               0.0   \n",
       "1                         0.0                               0.0   \n",
       "2                         0.0                               0.0   \n",
       "3                         0.0                               0.0   \n",
       "4                         0.0                               0.0   \n",
       "\n",
       "  CREDIT_CNT_DRAWINGS_POS_CURRENT  CREDIT_CNT_INSTALMENT_MATURE_CUM  \\\n",
       "0                             0.0                               0.0   \n",
       "1                             0.0                               0.0   \n",
       "2                             0.0                               0.0   \n",
       "3                             0.0                               0.0   \n",
       "4                             0.0                               0.0   \n",
       "\n",
       "   CREDIT_SK_DPD  CREDIT_SK_DPD_DEF  \n",
       "0            0.0                0.0  \n",
       "1            0.0                0.0  \n",
       "2            0.0                0.0  \n",
       "3            0.0                0.0  \n",
       "4            0.0                0.0  \n",
       "\n",
       "[5 rows x 200 columns]"
      ]
     },
     "execution_count": 2,
     "metadata": {},
     "output_type": "execute_result"
    }
   ],
   "source": [
    "# Read the data we already cleaned in the previous step.\n",
    "df = pd.read_csv('D:\\\\70. Study\\\\00 Data Science Springboard\\\\02-Project Capstone 1\\\\data\\\\cleaned_data.csv')\n",
    "df.head()"
   ]
  },
  {
   "cell_type": "code",
   "execution_count": 3,
   "metadata": {
    "collapsed": false
   },
   "outputs": [
    {
     "name": "stdout",
     "output_type": "stream",
     "text": [
      "<class 'pandas.core.frame.DataFrame'>\n",
      "RangeIndex: 307511 entries, 0 to 307510\n",
      "Columns: 200 entries, Unnamed: 0 to CREDIT_SK_DPD_DEF\n",
      "dtypes: float64(141), int64(43), object(16)\n",
      "memory usage: 469.2+ MB\n"
     ]
    }
   ],
   "source": [
    "df.info()"
   ]
  },
  {
   "cell_type": "markdown",
   "metadata": {},
   "source": [
    "The data has 200 features, in which 16 are categorical and the remaining are numerical"
   ]
  },
  {
   "cell_type": "code",
   "execution_count": 11,
   "metadata": {
    "collapsed": false
   },
   "outputs": [
    {
     "data": {
      "text/plain": [
       "NAME_CONTRACT_TYPE             2\n",
       "CODE_GENDER                    3\n",
       "FLAG_OWN_CAR                   2\n",
       "FLAG_OWN_REALTY                2\n",
       "NAME_TYPE_SUITE                7\n",
       "NAME_INCOME_TYPE               8\n",
       "NAME_EDUCATION_TYPE            5\n",
       "NAME_FAMILY_STATUS             6\n",
       "NAME_HOUSING_TYPE              6\n",
       "OCCUPATION_TYPE               18\n",
       "WEEKDAY_APPR_PROCESS_START     7\n",
       "ORGANIZATION_TYPE             58\n",
       "FONDKAPREMONT_MODE             4\n",
       "HOUSETYPE_MODE                 3\n",
       "WALLSMATERIAL_MODE             7\n",
       "EMERGENCYSTATE_MODE            2\n",
       "dtype: int64"
      ]
     },
     "execution_count": 11,
     "metadata": {},
     "output_type": "execute_result"
    }
   ],
   "source": [
    "### Number of unique classes in each category.\n",
    "df.select_dtypes('object').apply(pd.Series.nunique, axis = 0)"
   ]
  },
  {
   "cell_type": "code",
   "execution_count": 17,
   "metadata": {
    "collapsed": false
   },
   "outputs": [
    {
     "data": {
      "text/plain": [
       "array(['Unnamed: 0', 'SK_ID_CURR', 'TARGET', 'NAME_CONTRACT_TYPE',\n",
       "       'CODE_GENDER', 'FLAG_OWN_CAR', 'FLAG_OWN_REALTY', 'CNT_CHILDREN',\n",
       "       'AMT_INCOME_TOTAL', 'AMT_CREDIT', 'AMT_ANNUITY', 'AMT_GOODS_PRICE',\n",
       "       'NAME_TYPE_SUITE', 'NAME_INCOME_TYPE', 'NAME_EDUCATION_TYPE',\n",
       "       'NAME_FAMILY_STATUS', 'NAME_HOUSING_TYPE',\n",
       "       'REGION_POPULATION_RELATIVE', 'DAYS_BIRTH', 'DAYS_EMPLOYED',\n",
       "       'DAYS_REGISTRATION', 'DAYS_ID_PUBLISH', 'OWN_CAR_AGE', 'FLAG_MOBIL',\n",
       "       'FLAG_EMP_PHONE', 'FLAG_WORK_PHONE', 'FLAG_CONT_MOBILE',\n",
       "       'FLAG_PHONE', 'FLAG_EMAIL', 'OCCUPATION_TYPE', 'CNT_FAM_MEMBERS',\n",
       "       'REGION_RATING_CLIENT', 'REGION_RATING_CLIENT_W_CITY',\n",
       "       'WEEKDAY_APPR_PROCESS_START', 'HOUR_APPR_PROCESS_START',\n",
       "       'REG_REGION_NOT_LIVE_REGION', 'REG_REGION_NOT_WORK_REGION',\n",
       "       'LIVE_REGION_NOT_WORK_REGION', 'REG_CITY_NOT_LIVE_CITY',\n",
       "       'REG_CITY_NOT_WORK_CITY', 'LIVE_CITY_NOT_WORK_CITY',\n",
       "       'ORGANIZATION_TYPE', 'EXT_SOURCE_1', 'EXT_SOURCE_2', 'EXT_SOURCE_3',\n",
       "       'APARTMENTS_AVG', 'BASEMENTAREA_AVG', 'YEARS_BEGINEXPLUATATION_AVG',\n",
       "       'YEARS_BUILD_AVG', 'COMMONAREA_AVG', 'ELEVATORS_AVG',\n",
       "       'ENTRANCES_AVG', 'FLOORSMAX_AVG', 'FLOORSMIN_AVG', 'LANDAREA_AVG',\n",
       "       'LIVINGAPARTMENTS_AVG', 'LIVINGAREA_AVG', 'NONLIVINGAPARTMENTS_AVG',\n",
       "       'NONLIVINGAREA_AVG', 'APARTMENTS_MODE', 'BASEMENTAREA_MODE',\n",
       "       'YEARS_BEGINEXPLUATATION_MODE', 'YEARS_BUILD_MODE',\n",
       "       'COMMONAREA_MODE', 'ELEVATORS_MODE', 'ENTRANCES_MODE',\n",
       "       'FLOORSMAX_MODE', 'FLOORSMIN_MODE', 'LANDAREA_MODE',\n",
       "       'LIVINGAPARTMENTS_MODE', 'LIVINGAREA_MODE',\n",
       "       'NONLIVINGAPARTMENTS_MODE', 'NONLIVINGAREA_MODE', 'APARTMENTS_MEDI',\n",
       "       'BASEMENTAREA_MEDI', 'YEARS_BEGINEXPLUATATION_MEDI',\n",
       "       'YEARS_BUILD_MEDI', 'COMMONAREA_MEDI', 'ELEVATORS_MEDI',\n",
       "       'ENTRANCES_MEDI', 'FLOORSMAX_MEDI', 'FLOORSMIN_MEDI',\n",
       "       'LANDAREA_MEDI', 'LIVINGAPARTMENTS_MEDI', 'LIVINGAREA_MEDI',\n",
       "       'NONLIVINGAPARTMENTS_MEDI', 'NONLIVINGAREA_MEDI',\n",
       "       'FONDKAPREMONT_MODE', 'HOUSETYPE_MODE', 'TOTALAREA_MODE',\n",
       "       'WALLSMATERIAL_MODE', 'EMERGENCYSTATE_MODE',\n",
       "       'OBS_30_CNT_SOCIAL_CIRCLE', 'DEF_30_CNT_SOCIAL_CIRCLE',\n",
       "       'OBS_60_CNT_SOCIAL_CIRCLE', 'DEF_60_CNT_SOCIAL_CIRCLE',\n",
       "       'DAYS_LAST_PHONE_CHANGE', 'FLAG_DOCUMENT_2', 'FLAG_DOCUMENT_3',\n",
       "       'FLAG_DOCUMENT_4', 'FLAG_DOCUMENT_5', 'FLAG_DOCUMENT_6',\n",
       "       'FLAG_DOCUMENT_7', 'FLAG_DOCUMENT_8', 'FLAG_DOCUMENT_9',\n",
       "       'FLAG_DOCUMENT_10', 'FLAG_DOCUMENT_11', 'FLAG_DOCUMENT_12',\n",
       "       'FLAG_DOCUMENT_13', 'FLAG_DOCUMENT_14', 'FLAG_DOCUMENT_15',\n",
       "       'FLAG_DOCUMENT_16', 'FLAG_DOCUMENT_17', 'FLAG_DOCUMENT_18',\n",
       "       'FLAG_DOCUMENT_19', 'FLAG_DOCUMENT_20', 'FLAG_DOCUMENT_21',\n",
       "       'AMT_REQ_CREDIT_BUREAU_HOUR', 'AMT_REQ_CREDIT_BUREAU_DAY',\n",
       "       'AMT_REQ_CREDIT_BUREAU_WEEK', 'AMT_REQ_CREDIT_BUREAU_MON',\n",
       "       'AMT_REQ_CREDIT_BUREAU_QRT', 'AMT_REQ_CREDIT_BUREAU_YEAR',\n",
       "       'BUREAU_DAYS_CREDIT', 'BUREAU_CREDIT_DAY_OVERDUE',\n",
       "       'BUREAU_DAYS_CREDIT_ENDDATE', 'BUREAU_DAYS_ENDDATE_FACT',\n",
       "       'BUREAU_AMT_CREDIT_MAX_OVERDUE', 'BUREAU_CNT_CREDIT_PROLONG',\n",
       "       'BUREAU_AMT_CREDIT_SUM', 'BUREAU_AMT_CREDIT_SUM_DEBT',\n",
       "       'BUREAU_AMT_CREDIT_SUM_LIMIT', 'BUREAU_AMT_CREDIT_SUM_OVERDUE',\n",
       "       'BUREAU_DAYS_CREDIT_UPDATE', 'BUREAU_AMT_ANNUITY', 'PREV_APP_COUNT',\n",
       "       'PREV_AMT_ANNUITY', 'PREV_AMT_APPLICATION', 'PREV_AMT_CREDIT',\n",
       "       'PREV_AMT_DOWN_PAYMENT', 'PREV_AMT_GOODS_PRICE',\n",
       "       'PREV_HOUR_APPR_PROCESS_START', 'PREV_NFLAG_LAST_APPL_IN_DAY',\n",
       "       'PREV_RATE_DOWN_PAYMENT', 'PREV_RATE_INTEREST_PRIMARY',\n",
       "       'PREV_RATE_INTEREST_PRIVILEGED', 'PREV_DAYS_DECISION',\n",
       "       'PREV_SELLERPLACE_AREA', 'PREV_CNT_PAYMENT',\n",
       "       'PREV_DAYS_FIRST_DRAWING', 'PREV_DAYS_FIRST_DUE',\n",
       "       'PREV_DAYS_LAST_DUE_1ST_VERSION', 'PREV_DAYS_LAST_DUE',\n",
       "       'PREV_DAYS_TERMINATION', 'PREV_NFLAG_INSURED_ON_APPROVAL',\n",
       "       'POS_AMT_ANNUITY', 'POS_AMT_APPLICATION', 'POS_AMT_CREDIT',\n",
       "       'POS_AMT_DOWN_PAYMENT', 'POS_AMT_GOODS_PRICE',\n",
       "       'POS_HOUR_APPR_PROCESS_START', 'POS_NFLAG_LAST_APPL_IN_DAY',\n",
       "       'POS_RATE_DOWN_PAYMENT', 'POS_RATE_INTEREST_PRIMARY',\n",
       "       'POS_RATE_INTEREST_PRIVILEGED', 'POS_DAYS_DECISION',\n",
       "       'POS_SELLERPLACE_AREA', 'POS_CNT_PAYMENT', 'POS_DAYS_FIRST_DRAWING',\n",
       "       'POS_DAYS_FIRST_DUE', 'POS_DAYS_LAST_DUE_1ST_VERSION',\n",
       "       'POS_DAYS_LAST_DUE', 'POS_DAYS_TERMINATION',\n",
       "       'POS_NFLAG_INSURED_ON_APPROVAL', 'INSTA_NUM_INSTALMENT_VERSION',\n",
       "       'INSTA_NUM_INSTALMENT_NUMBER', 'INSTA_DAYS_INSTALMENT',\n",
       "       'INSTA_DAYS_ENTRY_PAYMENT', 'INSTA_AMT_INSTALMENT',\n",
       "       'INSTA_AMT_PAYMENT', 'CREDIT_MONTHS_BALANCE', 'CREDIT_AMT_BALANCE',\n",
       "       'CREDIT_AMT_CREDIT_LIMIT_ACTUAL', 'CREDIT_AMT_DRAWINGS_ATM_CURRENT',\n",
       "       'CREDIT_AMT_DRAWINGS_CURRENT', 'CREDIT_AMT_DRAWINGS_OTHER_CURRENT',\n",
       "       'CREDIT_AMT_DRAWINGS_POS_CURRENT', 'CREDIT_AMT_INST_MIN_REGULARITY',\n",
       "       'CREDIT_AMT_PAYMENT_CURRENT', 'CREDIT_AMT_PAYMENT_TOTAL_CURRENT',\n",
       "       'CREDIT_AMT_RECEIVABLE_PRINCIPAL', 'CREDIT_AMT_RECIVABLE',\n",
       "       'CREDIT_AMT_TOTAL_RECEIVABLE', 'CREDIT_CNT_DRAWINGS_ATM_CURRENT',\n",
       "       'CREDIT_CNT_DRAWINGS_CURRENT', 'CREDIT_CNT_DRAWINGS_OTHER_CURRENT',\n",
       "       'CREDIT_CNT_DRAWINGS_POS_CURRENT',\n",
       "       'CREDIT_CNT_INSTALMENT_MATURE_CUM', 'CREDIT_SK_DPD',\n",
       "       'CREDIT_SK_DPD_DEF'], dtype=object)"
      ]
     },
     "execution_count": 17,
     "metadata": {},
     "output_type": "execute_result"
    }
   ],
   "source": [
    "df.columns.values"
   ]
  },
  {
   "cell_type": "markdown",
   "metadata": {},
   "source": [
    "<b>Question 1: Is there any difference of income between female and male?</b></br>\n",
    "<ul>\n",
    "<li>\n",
    "$Ho$: There is no difference of income between female and male.</br>\n",
    "    * e.g. mean = 0\n",
    "</li>\n",
    "<li>\n",
    "$Ha$: There is a difference of income between female and male.</br>\n",
    "    * e.g. mean # 0\n",
    "</li>\n",
    "</ul>\n",
    "We use the means of 2 groups to deterine if there is any difference of income."
   ]
  },
  {
   "cell_type": "code",
   "execution_count": 3,
   "metadata": {
    "collapsed": false
   },
   "outputs": [],
   "source": [
    "male_income = df[df['CODE_GENDER']=='M']['AMT_INCOME_TOTAL']\n",
    "female_income = df[df['CODE_GENDER']=='F']['AMT_INCOME_TOTAL']"
   ]
  },
  {
   "cell_type": "code",
   "execution_count": 4,
   "metadata": {
    "collapsed": false
   },
   "outputs": [
    {
     "data": {
      "text/plain": [
       "37364.17290632744"
      ]
     },
     "execution_count": 4,
     "metadata": {},
     "output_type": "execute_result"
    }
   ],
   "source": [
    "# Difference of income mean between two groups.\n",
    "diff_mean = np.mean(male_income) - np.mean(female_income)\n",
    "diff_mean"
   ]
  },
  {
   "cell_type": "markdown",
   "metadata": {
    "collapsed": true
   },
   "source": [
    "Calculate the 95% confidence interval for the difference between the mean of female and male income. Calculate the differences over 10000 replicates. "
   ]
  },
  {
   "cell_type": "code",
   "execution_count": 5,
   "metadata": {
    "collapsed": true
   },
   "outputs": [],
   "source": [
    "# Create a function to draw the replicates.\n",
    "def draw_bs_reps(data, func, size=1):\n",
    "    # Initialize array of replicates: bs_replicates\n",
    "    bs_replicates = np.empty(size)\n",
    "    \n",
    "    # Generate replicates\n",
    "    for i in range(size):\n",
    "        bs_sample = np.random.choice(data, len(data))\n",
    "        bs_replicates[i] = func(bs_sample)\n",
    "    return bs_replicates"
   ]
  },
  {
   "cell_type": "code",
   "execution_count": 7,
   "metadata": {
    "collapsed": false
   },
   "outputs": [
    {
     "name": "stdout",
     "output_type": "stream",
     "text": [
      "[ 35773.12797434  38670.2247474 ]\n",
      "The 95% confidence interval of the difference in standard deviation between 2 groups is: [35773.12797433647,38670.22474739863]\n"
     ]
    }
   ],
   "source": [
    "# Calculate 95% Confidence Interval.\n",
    "np.random.seed(47)\n",
    "N_rep = 10000\n",
    "size = len(male_income)\n",
    "\n",
    "# Difference in bootstrap replicates (for N=10,000)\n",
    "bs_diff_mean = draw_bs_reps(male_income,np.mean, size=10000) - draw_bs_reps(female_income, np.mean, size=10000)\n",
    "\n",
    "# Getting 95% confidence interval.\n",
    "ci_95 = np.percentile(bs_diff_mean, [2.5,97.5])\n",
    "print(ci_95)\n",
    "\n",
    "print('The 95% confidence interval of the difference in mean between 2 groups is: [{},{}]'.format(ci_95[0],ci_95[1]))"
   ]
  },
  {
   "cell_type": "code",
   "execution_count": 9,
   "metadata": {
    "collapsed": false
   },
   "outputs": [
    {
     "data": {
      "image/png": "[encoded data removed]",
      "text/plain": [
       "<Figure size 432x288 with 1 Axes>"
      ]
     },
     "metadata": {},
     "output_type": "display_data"
    }
   ],
   "source": [
    "# Plot the histogram for random insured data.\n",
    "plt.hist(bs_diff_mean,density=True,bins=20,histtype='step')\n",
    "plt.axvline(ci_95[0], color='red',label='Lower Confidence Interval',linestyle='dashed',linewidth=1)\n",
    "plt.axvline(ci_95[1], color='green',linestyle='dashed',label='Upper Confidence Interval',linewidth=1)\n",
    "plt.xlabel('SMean differences of Income between 2 groups')\n",
    "plt.ylabel('probability')\n",
    "plt.title('Difference between male income and female income')\n",
    "plt.show()"
   ]
  },
  {
   "cell_type": "markdown",
   "metadata": {},
   "source": [
    "There is difference between income of female and male group."
   ]
  },
  {
   "cell_type": "markdown",
   "metadata": {},
   "source": [
    "<b>Question 2: Is there any difference between 2 means of female and male who paid for the loan and not paid for the loan.</b></br>\n",
    "\n",
    "    __A:__ For $\\alpha =0.05$,<br>\n",
    "$Ho $: There is no difference of income between paid and non paid groups.<br>\n",
    "* e.g. mean = 0<br>\n",
    "\n",
    "$Ha$: There is a difference of income between paid and non paid groups.<br>\n",
    "* e.g. mean # 0<br>\n",
    "\n",
    "We used the means of two groups to determine if there are any differences between 2 groups."
   ]
  },
  {
   "cell_type": "code",
   "execution_count": 19,
   "metadata": {
    "collapsed": false
   },
   "outputs": [],
   "source": [
    "# TARGET value:\n",
    "# ◾0 (will repay loan on time), \n",
    "# ◾1 (will have difficulty repaying loan)\n",
    "paid_income = df[df['TARGET']==0]['AMT_INCOME_TOTAL']\n",
    "nonpaid_income = df[df['TARGET']==1]['AMT_INCOME_TOTAL']"
   ]
  },
  {
   "cell_type": "code",
   "execution_count": 20,
   "metadata": {
    "collapsed": false
   },
   "outputs": [
    {
     "data": {
      "text/plain": [
       "3465.961359473469"
      ]
     },
     "execution_count": 20,
     "metadata": {},
     "output_type": "execute_result"
    }
   ],
   "source": [
    "# Difference of income mean between two groups.\n",
    "diff_mean = np.mean(paid_income) - np.mean(nonpaid_income)\n",
    "diff_mean"
   ]
  },
  {
   "cell_type": "markdown",
   "metadata": {},
   "source": [
    "Calculate the 95% confidence interval for the difference between the mean of paid and non paid income. Calculate the differences over 10000 replicates. "
   ]
  },
  {
   "cell_type": "code",
   "execution_count": 22,
   "metadata": {
    "collapsed": false
   },
   "outputs": [
    {
     "name": "stdout",
     "output_type": "stream",
     "text": [
      "[-6747.13228305  9053.15848286]\n",
      "The 95% confidence interval of the difference in mean between 2 groups is: [-6747.132283050792,9053.158482861734]\n"
     ]
    }
   ],
   "source": [
    "# Calculate 95% Confidence Interval.\n",
    "np.random.seed(47)\n",
    "N_rep = 10000\n",
    "size = len(paid_income)\n",
    "\n",
    "# Difference in bootstrap replicates (for N=10,000)\n",
    "bs_diff_mean = draw_bs_reps(paid_income,np.mean, size=10000) - draw_bs_reps(nonpaid_income, np.mean, size=10000)\n",
    "\n",
    "# Getting 95% confidence interval.\n",
    "ci_95 = np.percentile(bs_diff_mean, [2.5,97.5])\n",
    "print(ci_95)\n",
    "\n",
    "print('The 95% confidence interval of the difference in mean between 2 groups is: [{},{}]'.format(ci_95[0],ci_95[1]))"
   ]
  },
  {
   "cell_type": "code",
   "execution_count": 23,
   "metadata": {
    "collapsed": false
   },
   "outputs": [
    {
     "data": {
      "image/png": "[encoded data removed]",
      "text/plain": [
       "<Figure size 432x288 with 1 Axes>"
      ]
     },
     "metadata": {},
     "output_type": "display_data"
    }
   ],
   "source": [
    "# Plot the histogram for random insured data.\n",
    "plt.hist(bs_diff_mean,density=True,bins=20,histtype='step')\n",
    "plt.axvline(ci_95[0], color='red',label='Lower Confidence Interval',linestyle='dashed',linewidth=1)\n",
    "plt.axvline(ci_95[1], color='green',linestyle='dashed',label='Upper Confidence Interval',linewidth=1)\n",
    "plt.xlabel('SMean differences of Income between 2 groups')\n",
    "plt.ylabel('probability')\n",
    "plt.title('Difference between male income and female income')\n",
    "plt.show()"
   ]
  },
  {
   "cell_type": "code",
   "execution_count": null,
   "metadata": {
    "collapsed": true
   },
   "outputs": [],
   "source": [
    "Conclusion: There is a difference of income between people who paid for the loan and people who not paid for loan"
   ]
  }
 ],
 "metadata": {
  "kernelspec": {
   "display_name": "Python 3",
   "language": "python",
   "name": "python3"
  },
  "language_info": {
   "codemirror_mode": {
    "name": "ipython",
    "version": 3
   },
   "file_extension": ".py",
   "mimetype": "text/x-python",
   "name": "python",
   "nbconvert_exporter": "python",
   "pygments_lexer": "ipython3",
   "version": "3.6.8"
  }
 },
 "nbformat": 4,
 "nbformat_minor": 2
}
