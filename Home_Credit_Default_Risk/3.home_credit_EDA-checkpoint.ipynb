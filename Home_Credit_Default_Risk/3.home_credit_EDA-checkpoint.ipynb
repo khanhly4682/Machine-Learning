{
 "cells": [
  {
   "cell_type": "markdown",
   "metadata": {},
   "source": [
    "## HOME CREDIT Analysis - EDA\n"
   ]
  },
  {
   "cell_type": "markdown",
   "metadata": {},
   "source": [
    "*Data Link:*\n",
    "https://www.kaggle.com/c/home-credit-default-risk\n",
    "\n",
    "Objective:Use historical loan application data to predict if an application will be able to repay a loan.This is a standard supervised classification task:\n",
    "<ul>\n",
    "<li><b>Supervised</b>: The labels are included in the training data and the goal is to train a model to learn to predict the labels from the features.</li>\n",
    "<li><b>Classification</b>: The label is a binary variable, </li>\n",
    "  <ul>\n",
    "  <li>0 (will repay loan on time), </li>\n",
    "  <li>1 (will have difficulty repaying loan)</li>\n",
    "  </ul>\n",
    "\n",
    "\n",
    "<b>Data:</b>\n",
    "<ul>\n",
    "The data is provided by Home Credit, https://www.kaggle.com/c/home-credit-default-risk/data\n",
    "</ul>\n",
    "\n",
    "There are 7 different sources of data:\n",
    "<ul>\n",
    "  <li><b>application_train/application_test</b>: the main training and testing data with information about each loan application at Home Credit. Every loan has its own row and is identified by the feature SK_ID_CURR. The training application data comes with the TARGET indicating 0: the loan was repaid or 1: the loan was not repaid.</li>\n",
    "   <li><b>bureau</b>: data concerning client's previous credits from other financial institutions. Each previous credit has its own row in bureau, but one loan in the application data can have multiple previous credits.</li>\n",
    "   <li><b>bureau_balance</b>: monthly data about the previous credits in bureau. Each row is one month of a previous credit, and a single previous credit can have multiple rows, one for each month of the credit length.</li>\n",
    "  <li><b>previous_application</b>: previous applications for loans at Home Credit of clients who have loans in the application data. Each current loan in the application data can have multiple previous loans. Each previous application has one row and is identified by the feature SK_ID_PREV.</li>\n",
    "  <li><b>POS_CASH_balance</b>: monthly data about previous point of sale or cash loans clients have had with Home Credit. Each row is one month of a previous point of sale or cash loan, and a single previous loan can have many rows. _ credit_card_balance: monthly data about previous credit cards clients have had with Home Credit. Each row is one month of a credit card balance, and a single credit card can have many rows.</li>\n",
    "  <li><b>installments_payment</b>: payment history for previous loans at Home Credit. There is one row for every made payment and one row for every missed payment.</li>\n",
    "</ul>\n",
    "\n",
    "<b>Purpose of doing Exploratory Data Analysis(EDA): </b>\n",
    "<ul>\n",
    "<li>maximize insight into a data set;</li>\n",
    "<li>uncover underlying structure;</li>\n",
    "<li>extract important variables;</li>\n",
    "<li>detect outliers and anomalies;</li>\n",
    "<li>test underlying assumptions;</li>\n",
    "<li>develop parsimonious models; and</li>\n",
    "<li>determine optimal factor settings.</li>"
   ]
  },
  {
   "cell_type": "code",
   "execution_count": 26,
   "metadata": {
    "collapsed": true
   },
   "outputs": [],
   "source": [
    "import pandas as pd\n",
    "import numpy as np\n",
    "\n",
    "import matplotlib.pyplot as plt\n",
    "import seaborn as sns"
   ]
  },
  {
   "cell_type": "code",
   "execution_count": 2,
   "metadata": {
    "collapsed": false
   },
   "outputs": [
    {
     "data": {
      "text/html": [
       "<div>\n",
       "<style scoped>\n",
       "    .dataframe tbody tr th:only-of-type {\n",
       "        vertical-align: middle;\n",
       "    }\n",
       "\n",
       "    .dataframe tbody tr th {\n",
       "        vertical-align: top;\n",
       "    }\n",
       "\n",
       "    .dataframe thead th {\n",
       "        text-align: right;\n",
       "    }\n",
       "</style>\n",
       "<table border=\"1\" class=\"dataframe\">\n",
       "  <thead>\n",
       "    <tr style=\"text-align: right;\">\n",
       "      <th></th>\n",
       "      <th>Unnamed: 0</th>\n",
       "      <th>SK_ID_CURR</th>\n",
       "      <th>TARGET</th>\n",
       "      <th>NAME_CONTRACT_TYPE</th>\n",
       "      <th>CODE_GENDER</th>\n",
       "      <th>FLAG_OWN_CAR</th>\n",
       "      <th>FLAG_OWN_REALTY</th>\n",
       "      <th>CNT_CHILDREN</th>\n",
       "      <th>AMT_INCOME_TOTAL</th>\n",
       "      <th>AMT_CREDIT</th>\n",
       "      <th>...</th>\n",
       "      <th>CREDIT_AMT_RECEIVABLE_PRINCIPAL</th>\n",
       "      <th>CREDIT_AMT_RECIVABLE</th>\n",
       "      <th>CREDIT_AMT_TOTAL_RECEIVABLE</th>\n",
       "      <th>CREDIT_CNT_DRAWINGS_ATM_CURRENT</th>\n",
       "      <th>CREDIT_CNT_DRAWINGS_CURRENT</th>\n",
       "      <th>CREDIT_CNT_DRAWINGS_OTHER_CURRENT</th>\n",
       "      <th>CREDIT_CNT_DRAWINGS_POS_CURRENT</th>\n",
       "      <th>CREDIT_CNT_INSTALMENT_MATURE_CUM</th>\n",
       "      <th>CREDIT_SK_DPD</th>\n",
       "      <th>CREDIT_SK_DPD_DEF</th>\n",
       "    </tr>\n",
       "  </thead>\n",
       "  <tbody>\n",
       "    <tr>\n",
       "      <th>0</th>\n",
       "      <td>0</td>\n",
       "      <td>100002</td>\n",
       "      <td>1</td>\n",
       "      <td>Cash loans</td>\n",
       "      <td>M</td>\n",
       "      <td>N</td>\n",
       "      <td>Y</td>\n",
       "      <td>0</td>\n",
       "      <td>202500.0</td>\n",
       "      <td>406597.5</td>\n",
       "      <td>...</td>\n",
       "      <td>0.0</td>\n",
       "      <td>0.0</td>\n",
       "      <td>0.0</td>\n",
       "      <td>0.0</td>\n",
       "      <td>0.0</td>\n",
       "      <td>0.0</td>\n",
       "      <td>0.0</td>\n",
       "      <td>0.0</td>\n",
       "      <td>0.0</td>\n",
       "      <td>0.0</td>\n",
       "    </tr>\n",
       "    <tr>\n",
       "      <th>1</th>\n",
       "      <td>1</td>\n",
       "      <td>100003</td>\n",
       "      <td>0</td>\n",
       "      <td>Cash loans</td>\n",
       "      <td>F</td>\n",
       "      <td>N</td>\n",
       "      <td>N</td>\n",
       "      <td>0</td>\n",
       "      <td>270000.0</td>\n",
       "      <td>1293502.5</td>\n",
       "      <td>...</td>\n",
       "      <td>0.0</td>\n",
       "      <td>0.0</td>\n",
       "      <td>0.0</td>\n",
       "      <td>0.0</td>\n",
       "      <td>0.0</td>\n",
       "      <td>0.0</td>\n",
       "      <td>0.0</td>\n",
       "      <td>0.0</td>\n",
       "      <td>0.0</td>\n",
       "      <td>0.0</td>\n",
       "    </tr>\n",
       "    <tr>\n",
       "      <th>2</th>\n",
       "      <td>2</td>\n",
       "      <td>100004</td>\n",
       "      <td>0</td>\n",
       "      <td>Revolving loans</td>\n",
       "      <td>M</td>\n",
       "      <td>Y</td>\n",
       "      <td>Y</td>\n",
       "      <td>0</td>\n",
       "      <td>67500.0</td>\n",
       "      <td>135000.0</td>\n",
       "      <td>...</td>\n",
       "      <td>0.0</td>\n",
       "      <td>0.0</td>\n",
       "      <td>0.0</td>\n",
       "      <td>0.0</td>\n",
       "      <td>0.0</td>\n",
       "      <td>0.0</td>\n",
       "      <td>0.0</td>\n",
       "      <td>0.0</td>\n",
       "      <td>0.0</td>\n",
       "      <td>0.0</td>\n",
       "    </tr>\n",
       "    <tr>\n",
       "      <th>3</th>\n",
       "      <td>3</td>\n",
       "      <td>100006</td>\n",
       "      <td>0</td>\n",
       "      <td>Cash loans</td>\n",
       "      <td>F</td>\n",
       "      <td>N</td>\n",
       "      <td>Y</td>\n",
       "      <td>0</td>\n",
       "      <td>135000.0</td>\n",
       "      <td>312682.5</td>\n",
       "      <td>...</td>\n",
       "      <td>0.0</td>\n",
       "      <td>0.0</td>\n",
       "      <td>0.0</td>\n",
       "      <td>0.0</td>\n",
       "      <td>0.0</td>\n",
       "      <td>0.0</td>\n",
       "      <td>0.0</td>\n",
       "      <td>0.0</td>\n",
       "      <td>0.0</td>\n",
       "      <td>0.0</td>\n",
       "    </tr>\n",
       "    <tr>\n",
       "      <th>4</th>\n",
       "      <td>4</td>\n",
       "      <td>100007</td>\n",
       "      <td>0</td>\n",
       "      <td>Cash loans</td>\n",
       "      <td>M</td>\n",
       "      <td>N</td>\n",
       "      <td>Y</td>\n",
       "      <td>0</td>\n",
       "      <td>121500.0</td>\n",
       "      <td>513000.0</td>\n",
       "      <td>...</td>\n",
       "      <td>0.0</td>\n",
       "      <td>0.0</td>\n",
       "      <td>0.0</td>\n",
       "      <td>0.0</td>\n",
       "      <td>0.0</td>\n",
       "      <td>0.0</td>\n",
       "      <td>0.0</td>\n",
       "      <td>0.0</td>\n",
       "      <td>0.0</td>\n",
       "      <td>0.0</td>\n",
       "    </tr>\n",
       "  </tbody>\n",
       "</table>\n",
       "<p>5 rows × 200 columns</p>\n",
       "</div>"
      ],
      "text/plain": [
       "   Unnamed: 0  SK_ID_CURR  TARGET NAME_CONTRACT_TYPE CODE_GENDER FLAG_OWN_CAR  \\\n",
       "0           0      100002       1         Cash loans           M            N   \n",
       "1           1      100003       0         Cash loans           F            N   \n",
       "2           2      100004       0    Revolving loans           M            Y   \n",
       "3           3      100006       0         Cash loans           F            N   \n",
       "4           4      100007       0         Cash loans           M            N   \n",
       "\n",
       "  FLAG_OWN_REALTY  CNT_CHILDREN  AMT_INCOME_TOTAL  AMT_CREDIT  \\\n",
       "0               Y             0          202500.0    406597.5   \n",
       "1               N             0          270000.0   1293502.5   \n",
       "2               Y             0           67500.0    135000.0   \n",
       "3               Y             0          135000.0    312682.5   \n",
       "4               Y             0          121500.0    513000.0   \n",
       "\n",
       "         ...          CREDIT_AMT_RECEIVABLE_PRINCIPAL  CREDIT_AMT_RECIVABLE  \\\n",
       "0        ...                                      0.0                   0.0   \n",
       "1        ...                                      0.0                   0.0   \n",
       "2        ...                                      0.0                   0.0   \n",
       "3        ...                                      0.0                   0.0   \n",
       "4        ...                                      0.0                   0.0   \n",
       "\n",
       "  CREDIT_AMT_TOTAL_RECEIVABLE CREDIT_CNT_DRAWINGS_ATM_CURRENT  \\\n",
       "0                         0.0                             0.0   \n",
       "1                         0.0                             0.0   \n",
       "2                         0.0                             0.0   \n",
       "3                         0.0                             0.0   \n",
       "4                         0.0                             0.0   \n",
       "\n",
       "  CREDIT_CNT_DRAWINGS_CURRENT CREDIT_CNT_DRAWINGS_OTHER_CURRENT  \\\n",
       "0                         0.0                               0.0   \n",
       "1                         0.0                               0.0   \n",
       "2                         0.0                               0.0   \n",
       "3                         0.0                               0.0   \n",
       "4                         0.0                               0.0   \n",
       "\n",
       "  CREDIT_CNT_DRAWINGS_POS_CURRENT  CREDIT_CNT_INSTALMENT_MATURE_CUM  \\\n",
       "0                             0.0                               0.0   \n",
       "1                             0.0                               0.0   \n",
       "2                             0.0                               0.0   \n",
       "3                             0.0                               0.0   \n",
       "4                             0.0                               0.0   \n",
       "\n",
       "   CREDIT_SK_DPD  CREDIT_SK_DPD_DEF  \n",
       "0            0.0                0.0  \n",
       "1            0.0                0.0  \n",
       "2            0.0                0.0  \n",
       "3            0.0                0.0  \n",
       "4            0.0                0.0  \n",
       "\n",
       "[5 rows x 200 columns]"
      ]
     },
     "execution_count": 2,
     "metadata": {},
     "output_type": "execute_result"
    }
   ],
   "source": [
    "# Read the data we already cleaned in the previous step.\n",
    "df = pd.read_csv('D:\\\\70. Study\\\\00 Data Science Springboard\\\\02-Project Capstone 1\\\\data\\\\cleaned_data.csv')\n",
    "df.head()\n"
   ]
  },
  {
   "cell_type": "markdown",
   "metadata": {},
   "source": [
    "***\n",
    "### Columns Types\n",
    "***\n",
    "There are 16 **categorical** and, (141 + 43) **numeric** variables."
   ]
  },
  {
   "cell_type": "code",
   "execution_count": 3,
   "metadata": {
    "collapsed": false
   },
   "outputs": [
    {
     "data": {
      "text/plain": [
       "float64    141\n",
       "int64       43\n",
       "object      16\n",
       "dtype: int64"
      ]
     },
     "execution_count": 3,
     "metadata": {},
     "output_type": "execute_result"
    }
   ],
   "source": [
    "df.dtypes.value_counts()"
   ]
  },
  {
   "cell_type": "code",
   "execution_count": 4,
   "metadata": {
    "collapsed": false
   },
   "outputs": [
    {
     "data": {
      "text/plain": [
       "array(['Unnamed: 0', 'SK_ID_CURR', 'TARGET', 'NAME_CONTRACT_TYPE',\n",
       "       'CODE_GENDER', 'FLAG_OWN_CAR', 'FLAG_OWN_REALTY', 'CNT_CHILDREN',\n",
       "       'AMT_INCOME_TOTAL', 'AMT_CREDIT', 'AMT_ANNUITY', 'AMT_GOODS_PRICE',\n",
       "       'NAME_TYPE_SUITE', 'NAME_INCOME_TYPE', 'NAME_EDUCATION_TYPE',\n",
       "       'NAME_FAMILY_STATUS', 'NAME_HOUSING_TYPE',\n",
       "       'REGION_POPULATION_RELATIVE', 'DAYS_BIRTH', 'DAYS_EMPLOYED',\n",
       "       'DAYS_REGISTRATION', 'DAYS_ID_PUBLISH', 'OWN_CAR_AGE', 'FLAG_MOBIL',\n",
       "       'FLAG_EMP_PHONE', 'FLAG_WORK_PHONE', 'FLAG_CONT_MOBILE',\n",
       "       'FLAG_PHONE', 'FLAG_EMAIL', 'OCCUPATION_TYPE', 'CNT_FAM_MEMBERS',\n",
       "       'REGION_RATING_CLIENT', 'REGION_RATING_CLIENT_W_CITY',\n",
       "       'WEEKDAY_APPR_PROCESS_START', 'HOUR_APPR_PROCESS_START',\n",
       "       'REG_REGION_NOT_LIVE_REGION', 'REG_REGION_NOT_WORK_REGION',\n",
       "       'LIVE_REGION_NOT_WORK_REGION', 'REG_CITY_NOT_LIVE_CITY',\n",
       "       'REG_CITY_NOT_WORK_CITY', 'LIVE_CITY_NOT_WORK_CITY',\n",
       "       'ORGANIZATION_TYPE', 'EXT_SOURCE_1', 'EXT_SOURCE_2', 'EXT_SOURCE_3',\n",
       "       'APARTMENTS_AVG', 'BASEMENTAREA_AVG', 'YEARS_BEGINEXPLUATATION_AVG',\n",
       "       'YEARS_BUILD_AVG', 'COMMONAREA_AVG', 'ELEVATORS_AVG',\n",
       "       'ENTRANCES_AVG', 'FLOORSMAX_AVG', 'FLOORSMIN_AVG', 'LANDAREA_AVG',\n",
       "       'LIVINGAPARTMENTS_AVG', 'LIVINGAREA_AVG', 'NONLIVINGAPARTMENTS_AVG',\n",
       "       'NONLIVINGAREA_AVG', 'APARTMENTS_MODE', 'BASEMENTAREA_MODE',\n",
       "       'YEARS_BEGINEXPLUATATION_MODE', 'YEARS_BUILD_MODE',\n",
       "       'COMMONAREA_MODE', 'ELEVATORS_MODE', 'ENTRANCES_MODE',\n",
       "       'FLOORSMAX_MODE', 'FLOORSMIN_MODE', 'LANDAREA_MODE',\n",
       "       'LIVINGAPARTMENTS_MODE', 'LIVINGAREA_MODE',\n",
       "       'NONLIVINGAPARTMENTS_MODE', 'NONLIVINGAREA_MODE', 'APARTMENTS_MEDI',\n",
       "       'BASEMENTAREA_MEDI', 'YEARS_BEGINEXPLUATATION_MEDI',\n",
       "       'YEARS_BUILD_MEDI', 'COMMONAREA_MEDI', 'ELEVATORS_MEDI',\n",
       "       'ENTRANCES_MEDI', 'FLOORSMAX_MEDI', 'FLOORSMIN_MEDI',\n",
       "       'LANDAREA_MEDI', 'LIVINGAPARTMENTS_MEDI', 'LIVINGAREA_MEDI',\n",
       "       'NONLIVINGAPARTMENTS_MEDI', 'NONLIVINGAREA_MEDI',\n",
       "       'FONDKAPREMONT_MODE', 'HOUSETYPE_MODE', 'TOTALAREA_MODE',\n",
       "       'WALLSMATERIAL_MODE', 'EMERGENCYSTATE_MODE',\n",
       "       'OBS_30_CNT_SOCIAL_CIRCLE', 'DEF_30_CNT_SOCIAL_CIRCLE',\n",
       "       'OBS_60_CNT_SOCIAL_CIRCLE', 'DEF_60_CNT_SOCIAL_CIRCLE',\n",
       "       'DAYS_LAST_PHONE_CHANGE', 'FLAG_DOCUMENT_2', 'FLAG_DOCUMENT_3',\n",
       "       'FLAG_DOCUMENT_4', 'FLAG_DOCUMENT_5', 'FLAG_DOCUMENT_6',\n",
       "       'FLAG_DOCUMENT_7', 'FLAG_DOCUMENT_8', 'FLAG_DOCUMENT_9',\n",
       "       'FLAG_DOCUMENT_10', 'FLAG_DOCUMENT_11', 'FLAG_DOCUMENT_12',\n",
       "       'FLAG_DOCUMENT_13', 'FLAG_DOCUMENT_14', 'FLAG_DOCUMENT_15',\n",
       "       'FLAG_DOCUMENT_16', 'FLAG_DOCUMENT_17', 'FLAG_DOCUMENT_18',\n",
       "       'FLAG_DOCUMENT_19', 'FLAG_DOCUMENT_20', 'FLAG_DOCUMENT_21',\n",
       "       'AMT_REQ_CREDIT_BUREAU_HOUR', 'AMT_REQ_CREDIT_BUREAU_DAY',\n",
       "       'AMT_REQ_CREDIT_BUREAU_WEEK', 'AMT_REQ_CREDIT_BUREAU_MON',\n",
       "       'AMT_REQ_CREDIT_BUREAU_QRT', 'AMT_REQ_CREDIT_BUREAU_YEAR',\n",
       "       'BUREAU_DAYS_CREDIT', 'BUREAU_CREDIT_DAY_OVERDUE',\n",
       "       'BUREAU_DAYS_CREDIT_ENDDATE', 'BUREAU_DAYS_ENDDATE_FACT',\n",
       "       'BUREAU_AMT_CREDIT_MAX_OVERDUE', 'BUREAU_CNT_CREDIT_PROLONG',\n",
       "       'BUREAU_AMT_CREDIT_SUM', 'BUREAU_AMT_CREDIT_SUM_DEBT',\n",
       "       'BUREAU_AMT_CREDIT_SUM_LIMIT', 'BUREAU_AMT_CREDIT_SUM_OVERDUE',\n",
       "       'BUREAU_DAYS_CREDIT_UPDATE', 'BUREAU_AMT_ANNUITY', 'PREV_APP_COUNT',\n",
       "       'PREV_AMT_ANNUITY', 'PREV_AMT_APPLICATION', 'PREV_AMT_CREDIT',\n",
       "       'PREV_AMT_DOWN_PAYMENT', 'PREV_AMT_GOODS_PRICE',\n",
       "       'PREV_HOUR_APPR_PROCESS_START', 'PREV_NFLAG_LAST_APPL_IN_DAY',\n",
       "       'PREV_RATE_DOWN_PAYMENT', 'PREV_RATE_INTEREST_PRIMARY',\n",
       "       'PREV_RATE_INTEREST_PRIVILEGED', 'PREV_DAYS_DECISION',\n",
       "       'PREV_SELLERPLACE_AREA', 'PREV_CNT_PAYMENT',\n",
       "       'PREV_DAYS_FIRST_DRAWING', 'PREV_DAYS_FIRST_DUE',\n",
       "       'PREV_DAYS_LAST_DUE_1ST_VERSION', 'PREV_DAYS_LAST_DUE',\n",
       "       'PREV_DAYS_TERMINATION', 'PREV_NFLAG_INSURED_ON_APPROVAL',\n",
       "       'POS_AMT_ANNUITY', 'POS_AMT_APPLICATION', 'POS_AMT_CREDIT',\n",
       "       'POS_AMT_DOWN_PAYMENT', 'POS_AMT_GOODS_PRICE',\n",
       "       'POS_HOUR_APPR_PROCESS_START', 'POS_NFLAG_LAST_APPL_IN_DAY',\n",
       "       'POS_RATE_DOWN_PAYMENT', 'POS_RATE_INTEREST_PRIMARY',\n",
       "       'POS_RATE_INTEREST_PRIVILEGED', 'POS_DAYS_DECISION',\n",
       "       'POS_SELLERPLACE_AREA', 'POS_CNT_PAYMENT', 'POS_DAYS_FIRST_DRAWING',\n",
       "       'POS_DAYS_FIRST_DUE', 'POS_DAYS_LAST_DUE_1ST_VERSION',\n",
       "       'POS_DAYS_LAST_DUE', 'POS_DAYS_TERMINATION',\n",
       "       'POS_NFLAG_INSURED_ON_APPROVAL', 'INSTA_NUM_INSTALMENT_VERSION',\n",
       "       'INSTA_NUM_INSTALMENT_NUMBER', 'INSTA_DAYS_INSTALMENT',\n",
       "       'INSTA_DAYS_ENTRY_PAYMENT', 'INSTA_AMT_INSTALMENT',\n",
       "       'INSTA_AMT_PAYMENT', 'CREDIT_MONTHS_BALANCE', 'CREDIT_AMT_BALANCE',\n",
       "       'CREDIT_AMT_CREDIT_LIMIT_ACTUAL', 'CREDIT_AMT_DRAWINGS_ATM_CURRENT',\n",
       "       'CREDIT_AMT_DRAWINGS_CURRENT', 'CREDIT_AMT_DRAWINGS_OTHER_CURRENT',\n",
       "       'CREDIT_AMT_DRAWINGS_POS_CURRENT', 'CREDIT_AMT_INST_MIN_REGULARITY',\n",
       "       'CREDIT_AMT_PAYMENT_CURRENT', 'CREDIT_AMT_PAYMENT_TOTAL_CURRENT',\n",
       "       'CREDIT_AMT_RECEIVABLE_PRINCIPAL', 'CREDIT_AMT_RECIVABLE',\n",
       "       'CREDIT_AMT_TOTAL_RECEIVABLE', 'CREDIT_CNT_DRAWINGS_ATM_CURRENT',\n",
       "       'CREDIT_CNT_DRAWINGS_CURRENT', 'CREDIT_CNT_DRAWINGS_OTHER_CURRENT',\n",
       "       'CREDIT_CNT_DRAWINGS_POS_CURRENT',\n",
       "       'CREDIT_CNT_INSTALMENT_MATURE_CUM', 'CREDIT_SK_DPD',\n",
       "       'CREDIT_SK_DPD_DEF'], dtype=object)"
      ]
     },
     "execution_count": 4,
     "metadata": {},
     "output_type": "execute_result"
    }
   ],
   "source": [
    "# Data Columns.\n",
    "df.columns.values"
   ]
  },
  {
   "cell_type": "markdown",
   "metadata": {},
   "source": [
    "Let look at the number of unique entries in each categorical column."
   ]
  },
  {
   "cell_type": "code",
   "execution_count": 5,
   "metadata": {
    "collapsed": false
   },
   "outputs": [
    {
     "data": {
      "text/plain": [
       "NAME_CONTRACT_TYPE             2\n",
       "CODE_GENDER                    3\n",
       "FLAG_OWN_CAR                   2\n",
       "FLAG_OWN_REALTY                2\n",
       "NAME_TYPE_SUITE                7\n",
       "NAME_INCOME_TYPE               8\n",
       "NAME_EDUCATION_TYPE            5\n",
       "NAME_FAMILY_STATUS             6\n",
       "NAME_HOUSING_TYPE              6\n",
       "OCCUPATION_TYPE               18\n",
       "WEEKDAY_APPR_PROCESS_START     7\n",
       "ORGANIZATION_TYPE             58\n",
       "FONDKAPREMONT_MODE             4\n",
       "HOUSETYPE_MODE                 3\n",
       "WALLSMATERIAL_MODE             7\n",
       "EMERGENCYSTATE_MODE            2\n",
       "dtype: int64"
      ]
     },
     "execution_count": 5,
     "metadata": {},
     "output_type": "execute_result"
    }
   ],
   "source": [
    "### Number of unique classes in each category.\n",
    "df.select_dtypes('object').apply(pd.Series.nunique, axis = 0)"
   ]
  },
  {
   "cell_type": "code",
   "execution_count": 6,
   "metadata": {
    "collapsed": false
   },
   "outputs": [
    {
     "ename": "SyntaxError",
     "evalue": "invalid syntax (<ipython-input-6-c9d5a02abf75>, line 1)",
     "output_type": "error",
     "traceback": [
      "\u001b[0;36m  File \u001b[0;32m\"<ipython-input-6-c9d5a02abf75>\"\u001b[0;36m, line \u001b[0;32m1\u001b[0m\n\u001b[0;31m    ***\u001b[0m\n\u001b[0m     ^\u001b[0m\n\u001b[0;31mSyntaxError\u001b[0m\u001b[0;31m:\u001b[0m invalid syntax\n"
     ]
    }
   ],
   "source": [
    "***\n",
    "### Encoding Categorical Variables."
   ]
  },
  {
   "cell_type": "markdown",
   "metadata": {
    "collapsed": true
   },
   "source": [
    "***\n",
    "### Univariate Analysis\n",
    "***\n",
    "<div class=\"span5 alert alert-info\">\n",
    "At this stage, we explore variables one by one. Method to perform uni-variate analysis will depend on whether the variable type is categorical or continuous. \n",
    "\n",
    "<ul>\n",
    "  <li><b>Continuous Variables</b>:- In case of continuous variables, we need to understand the central tendency and spread of the variable.</li> These are measured using various statistical metrics visualization methods as shown below:\n",
    "\n",
    "Univariate analysis is also used to highlight missing and outlier values. \n",
    "\n",
    "<li><b>Categorical Variables</b>:\n",
    "  <li>- we’ll use frequency table to understand distribution of each category. </li>\n",
    "  <li>- We can also read as percentage of values under each category, using: Count and Count% against each category. </li>\n",
    "Bar chart can be used as visualization.\n",
    "</li>\n",
    "</div>"
   ]
  },
  {
   "cell_type": "markdown",
   "metadata": {},
   "source": [
    "***\n",
    "### Examing the distribution of TARGET values.\n",
    "***\n",
    "0 for the loan was repaid on time, or a 1 indicating the client had payment difficulties."
   ]
  },
  {
   "cell_type": "code",
   "execution_count": 54,
   "metadata": {
    "collapsed": false
   },
   "outputs": [
    {
     "data": {
      "image/png": "[encoded data removed]",
      "text/plain": [
       "<Figure size 432x288 with 1 Axes>"
      ]
     },
     "metadata": {},
     "output_type": "display_data"
    }
   ],
   "source": [
    "labels = ['Paid','Unpaid']\n",
    "plt.pie(df['TARGET'].value_counts(), labels = labels,autopct='%1.1f%%',\n",
    "        shadow=True, startangle=90)\n",
    "#df['TARGET'].value_counts().plot(kind='pie')\n",
    "plt.show()"
   ]
  },
  {
   "cell_type": "markdown",
   "metadata": {},
   "source": [
    "***\n",
    "### Examine the gender\n",
    "***"
   ]
  },
  {
   "cell_type": "code",
   "execution_count": null,
   "metadata": {
    "collapsed": false
   },
   "outputs": [],
   "source": [
    "#### Analyze gender.\n",
    "df['CODE_GENDER'].value_counts().plot(kind='bar')\n",
    "plt.show()"
   ]
  },
  {
   "cell_type": "code",
   "execution_count": null,
   "metadata": {
    "collapsed": false
   },
   "outputs": [],
   "source": [
    "### Examine the type of occupation\n",
    "labels = ['Laborers','Sales staff',        \n",
    "'Core staff',               \n",
    "'Managers',                  \n",
    "'Drivers',                   \n",
    "'High skill tech staff',     \n",
    "'Accountants',                \n",
    "'Medicine staff',             \n",
    "'Security staff',             \n",
    "'Cooking staff',              \n",
    "'Cleaning staff',             \n",
    "'Private service staff',      \n",
    "'Low-skill Laborers',         \n",
    "'Waiters/barmen staff',       \n",
    "'Secretaries',                \n",
    "'Realty agents',               \n",
    "'HR staff',                    \n",
    "'IT staff']                   \n",
    "\n",
    "df['OCCUPATION_TYPE'].value_counts().plot(kind='pie', labels = labels, autopct='%1.1f%%',\n",
    "        shadow=True, startangle=90)\n",
    "plt.show()"
   ]
  },
  {
   "cell_type": "markdown",
   "metadata": {
    "collapsed": true
   },
   "source": [
    "***\n",
    "### Bivariate Analysis\n",
    "***\n",
    "<div class=\"span5 alert alert-info\">\n",
    "Bi-variate Analysis finds out the relationship between two variables. Here, we look for association and disassociation between variables at a pre-defined significance level. We can perform bi-variate analysis for any combination of categorical and continuous variables. The combination can be: \n",
    "<ul>\n",
    "   <li>Categorical & Categorical, </li>\n",
    "   <li>Categorical & Continuous and </li>\n",
    "   <li>Continuous & Continuous.</li>\n",
    "</ul>\n",
    "\n",
    "\n",
    "Scatter plot shows the relationship between two variable but does not indicates the strength of relationship amongst them. To find the strength of the relationship, we use Correlation. Correlation varies between -1 and +1.\n",
    "<ul>\n",
    "  <li>-1: perfect negative linear correlation</li>\n",
    "  <li>+1:perfect positive linear correlation and </li>\n",
    "  <li>0: No correlation</li>\n",
    "</ul>\n",
    "</div>"
   ]
  },
  {
   "cell_type": "code",
   "execution_count": null,
   "metadata": {
    "collapsed": false
   },
   "outputs": [],
   "source": [
    "df['NAME_INCOME_TYPE'].dtypes"
   ]
  },
  {
   "cell_type": "markdown",
   "metadata": {},
   "source": [
    "### Anomalies\n",
    "One problem we always want to be on the lookout for when doing EDA is anomalies within the data. These may be due to mis-typed numbers, errors in measuring equipment, or they could be valid but extreme measurements. One way to support anomalies quantitatively is by looking at the statistics of a column using the describe method. The numbers in the DAYS_BIRTH column are negative because they are recorded relative to the current loan application. To see these stats in years, we can mutliple by -1 and divide by the number of days in a year:"
   ]
  },
  {
   "cell_type": "code",
   "execution_count": null,
   "metadata": {
    "collapsed": false
   },
   "outputs": [],
   "source": [
    "(df['DAYS_BIRTH']/-365).describe()"
   ]
  },
  {
   "cell_type": "markdown",
   "metadata": {},
   "source": [
    "Those ages look reasonable. There are no outliers for the age on either the high or low end.\n",
    "\n"
   ]
  },
  {
   "cell_type": "code",
   "execution_count": null,
   "metadata": {
    "collapsed": false
   },
   "outputs": [],
   "source": [
    "(df['DAYS_BIRTH']/-365).plot.hist()\n",
    "plt.show()"
   ]
  },
  {
   "cell_type": "markdown",
   "metadata": {},
   "source": [
    "Most of people in age from 30 to 45 have loan."
   ]
  },
  {
   "cell_type": "markdown",
   "metadata": {},
   "source": [
    "#### Explore the days of employments"
   ]
  },
  {
   "cell_type": "code",
   "execution_count": null,
   "metadata": {
    "collapsed": true
   },
   "outputs": [],
   "source": []
  },
  {
   "cell_type": "code",
   "execution_count": null,
   "metadata": {
    "collapsed": false
   },
   "outputs": [],
   "source": [
    "# Calculate the number of years working by divide #of days to 365.\n",
    "# 'DAYS_EMPLOYED': How many days before the application the person started current employment\n",
    "(df['DAYS_EMPLOYED']/365).describe()"
   ]
  },
  {
   "cell_type": "markdown",
   "metadata": {},
   "source": [
    "The maximum years of working is 1000 years. It doesn't seem right."
   ]
  },
  {
   "cell_type": "code",
   "execution_count": null,
   "metadata": {
    "collapsed": false
   },
   "outputs": [],
   "source": [
    "(df['DAYS_EMPLOYED']/365).plot.hist(title = 'Years of Employments')\n",
    "plt.show()"
   ]
  },
  {
   "cell_type": "markdown",
   "metadata": {},
   "source": [
    "***\n",
    "### Correlation\n",
    "We try to understand the data by lookig at the correlation between TARGET and other feature. We can calculate the Pearson correlation coefficient between the target and other variable using corr. method."
   ]
  },
  {
   "cell_type": "code",
   "execution_count": 45,
   "metadata": {
    "collapsed": false
   },
   "outputs": [
    {
     "name": "stdout",
     "output_type": "stream",
     "text": [
      " Most Positive Correlations:  CREDIT_AMT_RECEIVABLE_PRINCIPAL    0.048005\n",
      "CREDIT_AMT_RECIVABLE               0.048192\n",
      "CREDIT_AMT_TOTAL_RECEIVABLE        0.048198\n",
      "CREDIT_AMT_BALANCE                 0.048523\n",
      "REG_CITY_NOT_WORK_CITY             0.050994\n",
      "DAYS_ID_PUBLISH                    0.051457\n",
      "DAYS_LAST_PHONE_CHANGE             0.055218\n",
      "REGION_RATING_CLIENT               0.058899\n",
      "REGION_RATING_CLIENT_W_CITY        0.060893\n",
      "CREDIT_CNT_DRAWINGS_ATM_CURRENT    0.063904\n",
      "BUREAU_DAYS_ENDDATE_FACT           0.067175\n",
      "BUREAU_DAYS_CREDIT_UPDATE          0.069687\n",
      "DAYS_BIRTH                         0.078239\n",
      "BUREAU_DAYS_CREDIT                 0.083960\n",
      "TARGET                             1.000000\n",
      "Name: TARGET, dtype: float64\n",
      " Most Positive Correlations:  EXT_SOURCE_2                 -0.160303\n",
      "EXT_SOURCE_3                 -0.157397\n",
      "EXT_SOURCE_1                 -0.099152\n",
      "DAYS_EMPLOYED                -0.044932\n",
      "AMT_GOODS_PRICE              -0.039628\n",
      "REGION_POPULATION_RELATIVE   -0.037227\n",
      "POS_RATE_DOWN_PAYMENT        -0.031118\n",
      "PREV_RATE_DOWN_PAYMENT       -0.031118\n",
      "AMT_CREDIT                   -0.030369\n",
      "FLOORSMAX_AVG                -0.029145\n",
      "FLOORSMAX_MEDI               -0.028989\n",
      "FLOORSMAX_MODE               -0.028631\n",
      "FLAG_DOCUMENT_6              -0.028602\n",
      "POS_AMT_ANNUITY              -0.026242\n",
      "PREV_AMT_ANNUITY             -0.026242\n",
      "Name: TARGET, dtype: float64\n"
     ]
    }
   ],
   "source": [
    "# Find correlations with the target\n",
    "correlations = df.corr()['TARGET'].sort_values()\n",
    "\n",
    "# Display correlations.\n",
    "print(' Most Positive Correlations: ', correlations.tail(15))\n",
    "print(' Most Positive Correlations: ', correlations.head(15))\n"
   ]
  },
  {
   "cell_type": "markdown",
   "metadata": {},
   "source": [
    "**DAYS_BIRTH** is the most positive correlation. **DAYS_BIRTH** is client's age in days at the time of application"
   ]
  },
  {
   "cell_type": "code",
   "execution_count": null,
   "metadata": {
    "collapsed": false
   },
   "outputs": [],
   "source": [
    "### Effect of Age on Repayment\n",
    "df['DAYS_BIRTH'].corr(df['TARGET'])"
   ]
  },
  {
   "cell_type": "markdown",
   "metadata": {},
   "source": [
    "We will look at the relationship and evaluate the repay loans by age. We will cut the age category into bins of 10 years."
   ]
  },
  {
   "cell_type": "code",
   "execution_count": null,
   "metadata": {
    "collapsed": true
   },
   "outputs": [],
   "source": [
    "# Create a separate dataframe to save age inforation.\n",
    "age_year = df['DAYS_BIRTH']/365\n",
    "age_data = df[['TARGET','DAYS_BIRTH']]\n",
    "age_data['AGE'] = df['DAYS_BIRTH']/-365 # Create AGE col' by dividing days of birth / 365 days.\n",
    "age_data['AGE_GROUP'] = pd.cut(age_data['AGE'], bins=[20,25,30,35,40,45,50,55,60,65,70])\n",
    "\n",
    "# Count number of loan pay per age_group\n",
    "#age_groups = age_data.groupby('AGE_GROUP').mean()\n",
    "#print(age_groups.head())\n",
    "groups = age_data[['TARGET','AGE_GROUP']]\n",
    "#groups_count =groups['AGE_GROUP'].value_counts().sort_index()\n",
    "#print('Number of groups_count:\\n', groups_count)\n",
    "print(groups.groupby(['TARGET'])['AGE_GROUP'].count())"
   ]
  },
  {
   "cell_type": "code",
   "execution_count": 9,
   "metadata": {
    "collapsed": false
   },
   "outputs": [
    {
     "name": "stdout",
     "output_type": "stream",
     "text": [
      "   TARGET  DAYS_BIRTH        AGE\n",
      "0       1       -9461  25.920548\n",
      "1       0      -16765  45.931507\n",
      "2       0      -19046  52.180822\n",
      "3       0      -19005  52.068493\n",
      "4       0      -19932  54.608219\n"
     ]
    },
    {
     "data": {
      "text/plain": [
       "<pandas.core.groupby.groupby.DataFrameGroupBy object at 0x0000024FBA922240>"
      ]
     },
     "execution_count": 9,
     "metadata": {},
     "output_type": "execute_result"
    }
   ],
   "source": [
    "print(age_data.head())\n",
    "sample = age_data[['TARGET','AGE']]\n",
    "sample.groupby('TARGET')"
   ]
  },
  {
   "cell_type": "code",
   "execution_count": null,
   "metadata": {
    "collapsed": true
   },
   "outputs": [],
   "source": [
    "#https://www.kaggle.com/willkoehrsen/start-here-a-gentle-introduction\n",
    "### "
   ]
  },
  {
   "cell_type": "markdown",
   "metadata": {},
   "source": [
    "**'BUREAU_DAYS_CREDIT'** is one of the most correlated features. <br>\n",
    "**'BUREAU_DAYS_CREDIT'** is the number of days before current application did client apply for Credit Bureau credit"
   ]
  },
  {
   "cell_type": "code",
   "execution_count": 46,
   "metadata": {
    "collapsed": false
   },
   "outputs": [
    {
     "data": {
      "text/plain": [
       "count    307511.000000\n",
       "mean       -928.009619\n",
       "std         644.815919\n",
       "min       -2922.000000\n",
       "25%       -1362.600000\n",
       "50%        -927.600000\n",
       "75%        -423.600000\n",
       "max           0.000000\n",
       "Name: BUREAU_DAYS_CREDIT, dtype: float64"
      ]
     },
     "execution_count": 46,
     "metadata": {},
     "output_type": "execute_result"
    }
   ],
   "source": [
    "df['BUREAU_DAYS_CREDIT'].describe()"
   ]
  },
  {
   "cell_type": "code",
   "execution_count": 49,
   "metadata": {
    "collapsed": false
   },
   "outputs": [
    {
     "data": {
      "image/png": "[encoded data removed]",
      "text/plain": [
       "<Figure size 432x288 with 1 Axes>"
      ]
     },
     "metadata": {},
     "output_type": "display_data"
    }
   ],
   "source": [
    "plt.boxplot(df['BUREAU_DAYS_CREDIT'])\n",
    "plt.show()"
   ]
  },
  {
   "cell_type": "markdown",
   "metadata": {},
   "source": [
    "***\n",
    "### Types of loan\n",
    "** Revolving loans:** Arrangement which allows for the loan amount to be withdrawn, repaid, and redrawn again in any manner and any number of times, until the arrangement expires. Credit card loans and overdrafts are revolving loans. Also called evergreen loan"
   ]
  },
  {
   "cell_type": "code",
   "execution_count": 55,
   "metadata": {
    "collapsed": false
   },
   "outputs": [
    {
     "data": {
      "image/png": "[encoded data removed]",
      "text/plain": [
       "<Figure size 432x288 with 1 Axes>"
      ]
     },
     "metadata": {},
     "output_type": "display_data"
    }
   ],
   "source": [
    "df['NAME_CONTRACT_TYPE'].value_counts().plot(kind='pie',autopct='%1.1f%%',\n",
    "        shadow=True, startangle=90)\n",
    "plt.show()"
   ]
  },
  {
   "cell_type": "markdown",
   "metadata": {},
   "source": [
    "Most of the loans are Cash loans 90.5 %."
   ]
  },
  {
   "cell_type": "markdown",
   "metadata": {},
   "source": [
    "*** \n",
    "### Own Realty"
   ]
  },
  {
   "cell_type": "code",
   "execution_count": 64,
   "metadata": {
    "collapsed": false
   },
   "outputs": [
    {
     "data": {
      "image/png": "[encoded data removed]",
      "text/plain": [
       "<Figure size 432x288 with 1 Axes>"
      ]
     },
     "metadata": {},
     "output_type": "display_data"
    }
   ],
   "source": [
    "\n",
    "labels = ['Own REALTY', 'Not own REALTY']\n",
    "df['FLAG_OWN_REALTY'].value_counts().plot(kind='pie',labels = labels,autopct='%1.1f%%',\n",
    "        shadow=True, startangle=90)\n",
    "plt.show()"
   ]
  },
  {
   "cell_type": "markdown",
   "metadata": {},
   "source": [
    "Most of applicant own realty (69%)"
   ]
  },
  {
   "cell_type": "code",
   "execution_count": null,
   "metadata": {
    "collapsed": true
   },
   "outputs": [],
   "source": [
    "***"
   ]
  },
  {
   "cell_type": "code",
   "execution_count": 68,
   "metadata": {
    "collapsed": false
   },
   "outputs": [
    {
     "data": {
      "image/png": "[encoded data removed]",
      "text/plain": [
       "<Figure size 432x288 with 1 Axes>"
      ]
     },
     "metadata": {},
     "output_type": "display_data"
    }
   ],
   "source": [
    "df['FLAG_OWN_CAR'].value_counts().plot(kind='pie',autopct='%1.1f%%',\n",
    "        shadow=True, startangle=90)\n",
    "plt.show()"
   ]
  },
  {
   "cell_type": "markdown",
   "metadata": {},
   "source": [
    "*** \n",
    "### Income Type"
   ]
  },
  {
   "cell_type": "code",
   "execution_count": 70,
   "metadata": {
    "collapsed": false
   },
   "outputs": [
    {
     "data": {
      "image/png": "[encoded data removed]",
      "text/plain": [
       "<Figure size 432x288 with 1 Axes>"
      ]
     },
     "metadata": {},
     "output_type": "display_data"
    }
   ],
   "source": [
    "df['NAME_INCOME_TYPE'].value_counts().plot(kind='pie',autopct='%1.1f%%',\n",
    "        shadow=True, startangle=90)\n",
    "plt.show()"
   ]
  },
  {
   "cell_type": "code",
   "execution_count": null,
   "metadata": {
    "collapsed": true
   },
   "outputs": [],
   "source": []
  }
 ],
 "metadata": {
  "kernelspec": {
   "display_name": "Python 3",
   "language": "python",
   "name": "python3"
  },
  "language_info": {
   "codemirror_mode": {
    "name": "ipython",
    "version": 3
   },
   "file_extension": ".py",
   "mimetype": "text/x-python",
   "name": "python",
   "nbconvert_exporter": "python",
   "pygments_lexer": "ipython3",
   "version": "3.6.8"
  }
 },
 "nbformat": 4,
 "nbformat_minor": 2
}
