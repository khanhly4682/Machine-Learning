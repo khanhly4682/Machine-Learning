{
 "cells": [
  {
   "cell_type": "markdown",
   "metadata": {},
   "source": [
    "# Inferential Statistics III - Bayesian"
   ]
  },
  {
   "cell_type": "markdown",
   "metadata": {},
   "source": [
    "## Introduction"
   ]
  },
  {
   "cell_type": "markdown",
   "metadata": {},
   "source": [
    "In the last two subunits, you've encountered two schools for performing inference from samples. The Frequentist school calls upon a body of theory established over the past couple of centuries or so. Under certain assumptions and conditions, this allows us to calculate what we would expect to see if an experiment were to be repeated again and again and again. The expected value of the average of a sample is one such statistic we can calculate a result for, even if the originating distribution is far from normal. The bootstrap school, on the other hand, literally does (virtually) run that experiment again and again and again and empirically observes the multitude of outcomes. It then empirically calculates a statistic of interest. While this can be for exactly the same statistics that frequentism calculates (e.g. the mean of a sample) this empirical approach can also perform inference on statistics that do not have well known sampling distributions. Because of the requirement to repeat many, many redraws (with replacement) from the sample, this approach only became feasible with modern computing power.\n",
    "\n",
    "And thus we come to the Bayesian school of inference. Here we frame our probabilities not so much in terms of \"how many times would I expect this event to occur if the experiment were to be rerun many times\" but rather in terms of \"what is my belief in the likelihood of this event occurring?\" In a Bayesian probabilistic programming context, we can build models for systems and then let the data tell us how likely certain values for our model parameters are. This can be a very useful way to incorporate prior knowledge and deal with limited data. It can just be more than a _little_ fiddly to produce a good model!"
   ]
  },
  {
   "cell_type": "markdown",
   "metadata": {},
   "source": [
    "## Medical charge data set"
   ]
  },
  {
   "cell_type": "markdown",
   "metadata": {},
   "source": [
    "For the final mini-project of the stats unit, you'll once again return tot he medical charge data you've used for the other mini-projects. Previously, we considered whether we believed that the actual average(non-insured) charge had fallen below a certain threshold.\n",
    "\n",
    "The hospital is now reviewing its financial resiliency plan, which requires a model for revenue under a range of conditions that include the number of patients treated. Its current model is based on a confidence interval for the mean, and scaling that by different numbers of patients for each scenario. This approach has a number of limitations, most acutely the breakdown of the central limit theorem for low patient volumes; the current model does not do a good job of reflecting the variability in revenue you would see as the number of cases drops. A bootstrap approach would return samples of the same size as the original. Taking subsamples would restrict the sampling to the values already present in the original sample and would not do a good job of representing the actual variability you might see. What is needed is a better model of individual charges.\n",
    "\n",
    "So the problem here is that we want to model the distribution of individual charges and _we also really want to be able to capture our uncertainty about that distribution_ so we can better capture the range of values we might see. This naturally leads us to a powerful, probabilistic approach — we'll use the pymc3 library to perform Bayesian inference."
   ]
  },
  {
   "cell_type": "markdown",
   "metadata": {},
   "source": [
    "### Loading the data and performing an initial view"
   ]
  },
  {
   "cell_type": "code",
   "execution_count": 1,
   "metadata": {
    "collapsed": false
   },
   "outputs": [
    {
     "name": "stderr",
     "output_type": "stream",
     "text": [
      "WARNING (theano.configdefaults): g++ not available, if using conda: `conda install m2w64-toolchain`\n",
      "C:\\Users\\samsung\\Anaconda3\\lib\\site-packages\\theano\\configdefaults.py:560: UserWarning: DeprecationWarning: there is no c++ compiler.This is deprecated and with Theano 0.11 a c++ compiler will be mandatory\n",
      "  warnings.warn(\"DeprecationWarning: there is no c++ compiler.\"\n",
      "WARNING (theano.configdefaults): g++ not detected ! Theano will be unable to execute optimized C-implementations (for both CPU and GPU) and will default to Python implementations. Performance will be severely degraded. To remove this warning, set Theano flags cxx to an empty string.\n",
      "WARNING (theano.tensor.blas): Using NumPy C-API based implementation for BLAS functions.\n"
     ]
    }
   ],
   "source": [
    "import pymc3 as pm\n",
    "import pandas as pd\n",
    "import numpy as np\n",
    "from numpy.random import seed\n",
    "import matplotlib.pyplot as plt\n",
    "from scipy.stats import gamma\n",
    "# there has been some incompatibilty between theano and numpy, if you encounter\n",
    "# an error with the latest packages from anaconda, then the included\n",
    "# package-list-txt should allow you to create a conda environment with compatible\n",
    "# packages."
   ]
  },
  {
   "cell_type": "code",
   "execution_count": 2,
   "metadata": {
    "collapsed": false
   },
   "outputs": [],
   "source": [
    "medical = pd.read_csv('D:\\\\70. Study\\\\00 Data Science Springboard\\\\08-Statistics\\\\8.3. Bayesian Inference\\Bayesian_stats_Q6.28\\\\data\\\\insurance2.csv')"
   ]
  },
  {
   "cell_type": "code",
   "execution_count": 8,
   "metadata": {
    "collapsed": false
   },
   "outputs": [
    {
     "data": {
      "text/html": [
       "<div>\n",
       "<style scoped>\n",
       "    .dataframe tbody tr th:only-of-type {\n",
       "        vertical-align: middle;\n",
       "    }\n",
       "\n",
       "    .dataframe tbody tr th {\n",
       "        vertical-align: top;\n",
       "    }\n",
       "\n",
       "    .dataframe thead th {\n",
       "        text-align: right;\n",
       "    }\n",
       "</style>\n",
       "<table border=\"1\" class=\"dataframe\">\n",
       "  <thead>\n",
       "    <tr style=\"text-align: right;\">\n",
       "      <th></th>\n",
       "      <th>age</th>\n",
       "      <th>sex</th>\n",
       "      <th>bmi</th>\n",
       "      <th>children</th>\n",
       "      <th>smoker</th>\n",
       "      <th>region</th>\n",
       "      <th>charges</th>\n",
       "      <th>insuranceclaim</th>\n",
       "    </tr>\n",
       "  </thead>\n",
       "  <tbody>\n",
       "    <tr>\n",
       "      <th>0</th>\n",
       "      <td>19</td>\n",
       "      <td>0</td>\n",
       "      <td>27.900</td>\n",
       "      <td>0</td>\n",
       "      <td>1</td>\n",
       "      <td>3</td>\n",
       "      <td>16884.92400</td>\n",
       "      <td>1</td>\n",
       "    </tr>\n",
       "    <tr>\n",
       "      <th>1</th>\n",
       "      <td>18</td>\n",
       "      <td>1</td>\n",
       "      <td>33.770</td>\n",
       "      <td>1</td>\n",
       "      <td>0</td>\n",
       "      <td>2</td>\n",
       "      <td>1725.55230</td>\n",
       "      <td>1</td>\n",
       "    </tr>\n",
       "    <tr>\n",
       "      <th>2</th>\n",
       "      <td>28</td>\n",
       "      <td>1</td>\n",
       "      <td>33.000</td>\n",
       "      <td>3</td>\n",
       "      <td>0</td>\n",
       "      <td>2</td>\n",
       "      <td>4449.46200</td>\n",
       "      <td>0</td>\n",
       "    </tr>\n",
       "    <tr>\n",
       "      <th>3</th>\n",
       "      <td>33</td>\n",
       "      <td>1</td>\n",
       "      <td>22.705</td>\n",
       "      <td>0</td>\n",
       "      <td>0</td>\n",
       "      <td>1</td>\n",
       "      <td>21984.47061</td>\n",
       "      <td>0</td>\n",
       "    </tr>\n",
       "    <tr>\n",
       "      <th>4</th>\n",
       "      <td>32</td>\n",
       "      <td>1</td>\n",
       "      <td>28.880</td>\n",
       "      <td>0</td>\n",
       "      <td>0</td>\n",
       "      <td>1</td>\n",
       "      <td>3866.85520</td>\n",
       "      <td>1</td>\n",
       "    </tr>\n",
       "  </tbody>\n",
       "</table>\n",
       "</div>"
      ],
      "text/plain": [
       "   age  sex     bmi  children  smoker  region      charges  insuranceclaim\n",
       "0   19    0  27.900         0       1       3  16884.92400               1\n",
       "1   18    1  33.770         1       0       2   1725.55230               1\n",
       "2   28    1  33.000         3       0       2   4449.46200               0\n",
       "3   33    1  22.705         0       0       1  21984.47061               0\n",
       "4   32    1  28.880         0       0       1   3866.85520               1"
      ]
     },
     "execution_count": 8,
     "metadata": {},
     "output_type": "execute_result"
    }
   ],
   "source": [
    "medical.head()"
   ]
  },
  {
   "cell_type": "code",
   "execution_count": 3,
   "metadata": {
    "collapsed": true
   },
   "outputs": [],
   "source": [
    "insurance = medical.charges[medical.insuranceclaim == 1]\n",
    "no_insurance = medical.charges[medical.insuranceclaim == 0]\n",
    "n_ins = len(insurance)\n",
    "n_no_ins = len(no_insurance)"
   ]
  },
  {
   "cell_type": "code",
   "execution_count": 4,
   "metadata": {
    "collapsed": false
   },
   "outputs": [
    {
     "data": {
      "image/png": "[encoded data removed]",
      "text/plain": [
       "<Figure size 432x288 with 1 Axes>"
      ]
     },
     "metadata": {},
     "output_type": "display_data"
    }
   ],
   "source": [
    "_ = plt.hist(insurance, bins=30, alpha=0.5, label='insurance claim')\n",
    "_ = plt.hist(no_insurance, bins=30, alpha=0.5, label='not insurance claim')\n",
    "_ = plt.xlabel('Charge amount')\n",
    "_ = plt.ylabel('Frequency')\n",
    "_ = plt.legend()\n",
    "plt.show()"
   ]
  },
  {
   "cell_type": "markdown",
   "metadata": {},
   "source": [
    "We may suspect from the above that there is some sort of exponential-like distribution at play here. The charges that were not insurance claims seem most like this. The insurance claim charges may possibly be multimodal. The gamma distribution may be applicable and we could test this for the distribution of charges that weren't insurance claims first. Developing our new method for the easiest looking case first is a common and sound approach that can demonstrate a minimum viable solution/product and get, or keep, stakeholders on board."
   ]
  },
  {
   "cell_type": "markdown",
   "metadata": {},
   "source": [
    "### Initial parameter estimation"
   ]
  },
  {
   "cell_type": "markdown",
   "metadata": {},
   "source": [
    "An initial guess for the gamma distribution's $\\alpha$ and $\\beta$ parameters can be made as described [here](https://wiki.analytica.com/index.php?title=Gamma_distribution)."
   ]
  },
  {
   "cell_type": "code",
   "execution_count": 5,
   "metadata": {
    "collapsed": false
   },
   "outputs": [
    {
     "data": {
      "text/plain": [
       "(1.8759059725250857, 4702.486170152821)"
      ]
     },
     "execution_count": 5,
     "metadata": {},
     "output_type": "execute_result"
    }
   ],
   "source": [
    "alpha_est = np.mean(no_insurance)**2 / np.var(no_insurance)\n",
    "beta_est = np.var(no_insurance) / np.mean(no_insurance)\n",
    "alpha_est, beta_est"
   ]
  },
  {
   "cell_type": "markdown",
   "metadata": {},
   "source": [
    "### Initial simulation"
   ]
  },
  {
   "cell_type": "markdown",
   "metadata": {},
   "source": [
    "Let's draw the same number of random variates from this distribution and compare to our observed data."
   ]
  },
  {
   "cell_type": "code",
   "execution_count": 6,
   "metadata": {
    "collapsed": true
   },
   "outputs": [],
   "source": [
    "seed(47)\n",
    "no_ins_model_rvs = gamma(alpha_est, scale=beta_est).rvs(n_no_ins)"
   ]
  },
  {
   "cell_type": "code",
   "execution_count": 7,
   "metadata": {
    "collapsed": false
   },
   "outputs": [
    {
     "data": {
      "image/png": "[encoded data removed]",
      "text/plain": [
       "<Figure size 432x288 with 1 Axes>"
      ]
     },
     "metadata": {},
     "output_type": "display_data"
    }
   ],
   "source": [
    "_ = plt.hist(no_ins_model_rvs, bins=30, alpha=0.5, label='simulated')\n",
    "_ = plt.hist(no_insurance, bins=30, alpha=0.5, label='observed')\n",
    "_ = plt.xlabel('Charge amount')\n",
    "_ = plt.ylabel('Frequency')\n",
    "_ = plt.legend()\n",
    "plt.show()"
   ]
  },
  {
   "cell_type": "markdown",
   "metadata": {},
   "source": [
    "Well it doesn't look too bad! We're not a million miles off. But can we do better? We have a plausible form for the distribution of charge amounts and potential values for that distribution's parameters so we can already draw random variates from that distribution to perform simulations. But we don't know if we have a _best_ estimate for the population parameters, and we also only have a single estimate each for $\\alpha$ and $\\beta$; we aren't capturing our uncertainty in their values. Can we take a Bayesian inference approach to estimate the parameters?"
   ]
  },
  {
   "cell_type": "markdown",
   "metadata": {},
   "source": [
    "### Creating a PyMC3 model"
   ]
  },
  {
   "cell_type": "code",
   "execution_count": 8,
   "metadata": {
    "collapsed": false
   },
   "outputs": [
    {
     "data": {
      "text/plain": [
       "(1.8759059725250857, 0.00021265346963636093)"
      ]
     },
     "execution_count": 8,
     "metadata": {},
     "output_type": "execute_result"
    }
   ],
   "source": [
    "# PyMC3 Gamma seems to use rate = 1/beta\n",
    "rate_est = 1/beta_est\n",
    "# Initial parameter estimates we'll use below\n",
    "alpha_est, rate_est"
   ]
  },
  {
   "cell_type": "markdown",
   "metadata": {},
   "source": [
    "__Q:__ You are now going to create your own PyMC3 model!\n",
    "1. Use an [exponential](https://docs.pymc.io/api/distributions/continuous.html#pymc3.distributions.continuous.Exponential) prior for alpha. Call this stochastic variable `alpha_`.\n",
    "2. Similarly, use an exponential prior for the rate ([$1/\\beta$](https://wiki.analytica.com/index.php?title=Gamma_distribution)) parameter in PyMC3's [Gamma](https://docs.pymc.io/api/distributions/continuous.html#pymc3.distributions.continuous.Gamma). Call this stochastic variable `rate_` (but it will be supplied as `pm.Gamma`'s `beta` parameter). Hint: to set up a prior with an exponential distribution for $x$ where you have an initial estimate for $x$ of $x_0$, use a scale parameter of $1/x_0$.\n",
    "5. Create your Gamma distribution with your `alpha_` and `rate_` stochastic variables and the observed data.\n",
    "6. Perform 10000 draws."
   ]
  },
  {
   "cell_type": "markdown",
   "metadata": {},
   "source": [
    "Hint: you may find it helpful to work backwards. Start with your `pm.Gamma`, and note the required stochastic variables `alpha` and `beta`. Then, before that, you need to create those stochastic variables using `pm.Exponential` and the correct parameters."
   ]
  },
  {
   "cell_type": "markdown",
   "metadata": {},
   "source": [
    "__A:__"
   ]
  },
  {
   "cell_type": "code",
   "execution_count": 9,
   "metadata": {
    "collapsed": false
   },
   "outputs": [
    {
     "name": "stderr",
     "output_type": "stream",
     "text": [
      "Auto-assigning NUTS sampler...\n",
      "Initializing NUTS using jitter+adapt_diag...\n",
      "Multiprocess sampling (4 chains in 4 jobs)\n",
      "NUTS: [beta, alpha]\n",
      "Sampling 4 chains, 0 divergences: 100%|███████████████████████████████████████| 42000/42000 [26:21<00:00, 26.56draws/s]\n",
      "The acceptance probability does not match the target. It is 0.879801397889, but should be close to 0.8. Try to increase the number of tuning steps.\n",
      "The number of effective samples is smaller than 25% for some parameters.\n"
     ]
    }
   ],
   "source": [
    "with pm.Model() as gamma_model:\n",
    "    alpha_ = pm.Exponential('alpha', 1/alpha_est)\n",
    "    rate_ = pm.Exponential('beta', 1/rate_est)\n",
    "    \n",
    "    no_ins = pm.Gamma('no_ins', alpha=alpha_, beta=rate_, observed=no_insurance)\n",
    "    trace = pm.sample(10000)"
   ]
  },
  {
   "cell_type": "markdown",
   "metadata": {},
   "source": [
    "If you get a warning about acceptance probability not matching the target, and that it's around 0.88 when it should be close to 0.8, don't worry. We encourage you to read up on this and see if you can adjust the parameters and/or arguments to pm.sample, but if your model runs without any additional warnings or errors then you should be doing great!"
   ]
  },
  {
   "cell_type": "markdown",
   "metadata": {},
   "source": [
    "__Q:__ Explore your posteriors for $\\alpha$ and $\\beta$ (from the trace).\n",
    "* Calculate the 95% credible interval for $\\alpha$ and $\\beta$.\n",
    "* Plot your posterior values of $\\alpha$ and $\\beta$ (both line plots and histograms). \n",
    "* Mark your CIs on the histograms.\n",
    "* Do they look okay? What would bad plots look like?"
   ]
  },
  {
   "cell_type": "markdown",
   "metadata": {},
   "source": [
    "__A:__"
   ]
  },
  {
   "cell_type": "code",
   "execution_count": 11,
   "metadata": {
    "collapsed": true
   },
   "outputs": [],
   "source": [
    "# Alpha and Beta statistics from trace samples\n",
    "alpha_trace = trace['alpha']\n",
    "beta_trace = trace['beta']"
   ]
  },
  {
   "cell_type": "code",
   "execution_count": 12,
   "metadata": {
    "collapsed": false
   },
   "outputs": [
    {
     "name": "stdout",
     "output_type": "stream",
     "text": [
      "CI for alpha: [ 1.98781352  2.48727741]\n",
      "CI for beta: [ 0.00022195  0.0002856 ]\n"
     ]
    }
   ],
   "source": [
    "# 95%  intervals for Alpha and Beta\n",
    "alpha_CI = np.percentile(alpha_trace, [2.5, 97.5])\n",
    "beta_CI = np.percentile(beta_trace, [2.5, 97.5])\n",
    "print(\"CI for alpha:\", alpha_CI)\n",
    "print(\"CI for beta:\", beta_CI)"
   ]
  },
  {
   "cell_type": "code",
   "execution_count": 13,
   "metadata": {
    "collapsed": false
   },
   "outputs": [
    {
     "name": "stderr",
     "output_type": "stream",
     "text": [
      "C:\\Users\\samsung\\Anaconda3\\lib\\site-packages\\ipykernel\\__main__.py:2: MatplotlibDeprecationWarning: \n",
      "The 'normed' kwarg was deprecated in Matplotlib 2.1 and will be removed in 3.1. Use 'density' instead.\n",
      "  from ipykernel import kernelapp as app\n"
     ]
    },
    {
     "data": {
      "image/png": "[encoded data removed]",
      "text/plain": [
       "<Figure size 432x288 with 1 Axes>"
      ]
     },
     "metadata": {},
     "output_type": "display_data"
    }
   ],
   "source": [
    "# Histogram for posterior alpha values\n",
    "plt.hist(alpha_trace, bins=30, normed=True)\n",
    "plt.title(\"Posterior Alpha Values\")\n",
    "plt.xlabel(\"Alpha Value\")\n",
    "plt.ylabel(\"Frequency\")\n",
    "plt.axvline(alpha_CI[0], color='r', linestyle='--')\n",
    "plt.axvline(alpha_CI[1], color='r', linestyle='--')\n",
    "plt.show()"
   ]
  },
  {
   "cell_type": "code",
   "execution_count": 14,
   "metadata": {
    "collapsed": false
   },
   "outputs": [
    {
     "name": "stderr",
     "output_type": "stream",
     "text": [
      "C:\\Users\\samsung\\Anaconda3\\lib\\site-packages\\ipykernel\\__main__.py:2: MatplotlibDeprecationWarning: \n",
      "The 'normed' kwarg was deprecated in Matplotlib 2.1 and will be removed in 3.1. Use 'density' instead.\n",
      "  from ipykernel import kernelapp as app\n"
     ]
    },
    {
     "data": {
      "image/png": "[encoded data removed]",
      "text/plain": [
       "<Figure size 432x288 with 1 Axes>"
      ]
     },
     "metadata": {},
     "output_type": "display_data"
    }
   ],
   "source": [
    "# Histogram for posterior beta values\n",
    "plt.hist(beta_trace, bins=30, normed=True)\n",
    "plt.title(\"Posterior Beta Values\")\n",
    "plt.xlabel(\"Beta Value\")\n",
    "plt.ylabel(\"Frequency\")\n",
    "plt.axvline(beta_CI[0], color='r', linestyle='--')\n",
    "plt.axvline(beta_CI[1], color='r', linestyle='--')\n",
    "plt.show()"
   ]
  },
  {
   "cell_type": "code",
   "execution_count": null,
   "metadata": {
    "collapsed": false
   },
   "outputs": [],
   "source": []
  },
  {
   "cell_type": "code",
   "execution_count": null,
   "metadata": {
    "collapsed": true
   },
   "outputs": [],
   "source": []
  },
  {
   "cell_type": "markdown",
   "metadata": {},
   "source": []
  },
  {
   "cell_type": "markdown",
   "metadata": {},
   "source": [
    "__Q:__ Play around with some of the built-in diagnostic plots for your model. We suggest at least checking out the traceplot for alpha and beta. How do they look?"
   ]
  },
  {
   "cell_type": "markdown",
   "metadata": {},
   "source": [
    "__A:__"
   ]
  },
  {
   "cell_type": "code",
   "execution_count": 18,
   "metadata": {
    "collapsed": false
   },
   "outputs": [
    {
     "data": {
      "image/png": "[encoded data removed]",
      "text/plain": [
       "<Figure size 720x432 with 2 Axes>"
      ]
     },
     "metadata": {},
     "output_type": "display_data"
    }
   ],
   "source": [
    "# Line Plot for posterior alpha values\n",
    "plt.plot(alpha_trace)\n",
    "plt.title(\"Posterior Alpha Values\")\n",
    "plt.xlabel(\"Sample Number\")\n",
    "plt.ylabel(\"Alpha Value\")\n",
    "plt.show()"
   ]
  },
  {
   "cell_type": "markdown",
   "metadata": {},
   "source": []
  },
  {
   "cell_type": "code",
   "execution_count": 19,
   "metadata": {
    "collapsed": false
   },
   "outputs": [
    {
     "data": {
      "image/png": "[encoded data removed]",
      "text/plain": [
       "<Figure size 432x288 with 1 Axes>"
      ]
     },
     "metadata": {},
     "output_type": "display_data"
    }
   ],
   "source": [
    "# Line Plot for posterior beta values\n",
    "plt.plot(beta_trace)\n",
    "plt.title(\"Posterior Beta Values\")\n",
    "plt.xlabel(\"Sample Number\")\n",
    "plt.ylabel(\"Beta Value\")\n",
    "plt.show()"
   ]
  },
  {
   "cell_type": "markdown",
   "metadata": {},
   "source": [
    "__Q:__ Take your best shot at a new simulated sequence of medical charges using scipy.stat's gamma distribution. Don't forget the difference between functions that take $\\beta$ and functions that use $1/\\beta$ for the scale parameter. Simulate a data set the same size as the number of observations in the data and overlay the two histograms (simulated and observed)."
   ]
  },
  {
   "cell_type": "markdown",
   "metadata": {},
   "source": [
    "__A:__"
   ]
  },
  {
   "cell_type": "code",
   "execution_count": 20,
   "metadata": {
    "collapsed": false
   },
   "outputs": [
    {
     "data": {
      "text/plain": [
       "array([  7757.38641385,    731.18653247,  11894.4722905 ,   7318.06781005,\n",
       "         4526.66114054,   6324.24733831,   7212.82780127,  13022.41442145,\n",
       "         2402.13327388,  10950.73381408,   6076.61815139,   3517.00305572,\n",
       "         1892.32616914,  12399.03829134,   4853.6616149 ,  10963.33293758,\n",
       "        19135.02383852,   5686.36651721,   5604.81834637,   3054.75401697,\n",
       "         7855.18165917,  14830.8425103 ,  17341.84212298,   7354.36674745,\n",
       "         3349.59242119,   4043.28678772,   3769.21409542,  11262.63833876,\n",
       "         1959.80929909,  30499.12605768,   7170.16727015,   3293.12635557,\n",
       "         7942.43434752,  21295.43199537,   7231.7452122 ,   4978.4662191 ,\n",
       "         4487.97786145,  10031.15280718,  18136.91223021,   5679.05345048,\n",
       "        13950.0713228 ,  10599.95377545,   2880.37918024,  11847.08297521,\n",
       "        11072.89420536,  14903.82623272,   3271.12704375,  11674.15177902,\n",
       "         1391.46358625,  10173.89589895,    779.49737764,   4585.15195367,\n",
       "         4966.17703054,   5713.08490202,   8256.79207634,   6270.12912659,\n",
       "         5833.78212417,   6222.12069152,   8518.62338179,   7262.27968564,\n",
       "        13414.26811236,   3309.57611185,    738.51194817,   8712.78586917,\n",
       "         9660.60625122,   2503.89197167,   6557.92200376,  10849.89553855,\n",
       "         1412.47898631,   7593.26720679,  18495.6960521 ,  10000.58021289,\n",
       "         1478.15437667,  29021.22413268,   4520.21013514,   2467.40866029,\n",
       "         8057.77505471,   6940.39655124,  11899.28132932,   9130.82235307,\n",
       "         7153.04103866,  12851.44626615,   2793.03239513,  12247.71896151,\n",
       "         5626.54784789,   7715.86812526,   1349.42356015,   6507.87725248,\n",
       "         3933.07843395,    405.41689019,  11039.5058144 ,   2778.68819983,\n",
       "         2121.86884176,   5480.88309555,   3391.26319395,   7632.6868031 ,\n",
       "         3642.19799277,  34429.53534618,   8968.24791507,  10742.72679353,\n",
       "        16427.57823149,  11236.82974004,   7166.76952764,   4909.73681762,\n",
       "         5777.571895  ,  16466.14809187,   5389.94382707,   9380.34798244,\n",
       "         4033.98953545,   5910.41901873,   8223.38130459,   3540.93808224,\n",
       "        30250.21947161,   7181.01664532,   9944.78819553,   3016.98449249,\n",
       "         8904.05774197,  16615.18846508,   4229.66573565,  15456.25297285,\n",
       "        14071.11716794,   4214.13364131,   8103.28927626,   6778.91970339,\n",
       "        10536.60727154,   6232.22799418,  22559.13644772,  13949.85763309,\n",
       "        10246.78610733,   6793.86012023,   5990.60767733,  11199.41302471,\n",
       "         3114.48610674,  22908.66953977,   8855.37596118,   6745.73427192,\n",
       "         9475.10073443,   6125.64045045,   3810.0976638 ,  19228.11948058,\n",
       "         2437.12171647,   8866.80206727,  11523.11074913,   8927.20617885,\n",
       "         1513.0231606 ,   2732.03540627,  12213.90238609,  12332.18240302,\n",
       "         3800.70049062,   3020.10744581,   4183.69619783,   8419.30174112,\n",
       "         7223.76100968,   7832.62293408,   4058.86721069,   7025.65098032,\n",
       "         2039.15697637,  14017.61993561,   5707.67751241,   6412.71715051,\n",
       "         3070.7413337 ,   5357.20760747,   8816.20182165,   7529.39254644,\n",
       "         6559.55018624,   7661.43772886,   6687.8563056 ,  29890.13683198,\n",
       "         6046.30731644,   3584.34455018,   5859.51999291,  16559.29819378,\n",
       "         5892.54264269,  11300.34883385,   5612.2606581 ,  13442.0402661 ,\n",
       "         8340.96239336,   6747.51548556,   3247.2447003 ,  12488.28527641,\n",
       "         7233.13629343,  10869.91989175,   3135.5095945 ,   3099.11370984,\n",
       "         4757.81585234,   2013.94343728,  15503.25592092,  14423.0214378 ,\n",
       "         8549.65936305,   9936.94836474,   6720.50608577,  17247.67549092,\n",
       "         5926.90998486,   4046.62483488,  12720.85138528,   4861.83416699,\n",
       "         8645.26842531,   2353.36697546,  12114.48522367,   1597.18795324,\n",
       "        12484.36005104,   3122.25366265,   7977.81359543,  13200.24849677,\n",
       "         1764.31813847,  16853.30989894,   4444.27370868,   6421.6814851 ,\n",
       "         2219.76991878,  12645.04752566,   8826.36368247,   4074.01308772,\n",
       "          297.98901044,  15135.22807361,  15727.2022396 ,  16289.30930641,\n",
       "         1700.41003069,   4574.62061256,   4929.61127838,   4130.93077862,\n",
       "         3867.17827521,   6634.20524689,  10462.25761343,   6091.32622616,\n",
       "        19342.48285792,   7570.6574372 ,   8790.40097484,  10566.47682704,\n",
       "         9976.55156833,  17821.07337774,   4459.42647033,  18458.30236326,\n",
       "         6385.30362415,  12034.7828834 ,   9615.35454795,  10502.18089749,\n",
       "         7964.79374706,  19418.37792368,   4806.66703277,  11097.81467788,\n",
       "        13074.27994187,   4561.17416243,  16176.98504644,   7856.1007439 ,\n",
       "         4564.49417619,   3144.37802198,   1994.51893736,  13010.19666453,\n",
       "         3759.26626458,   3089.36330683,   7758.65691458,   9011.43086083,\n",
       "         3387.53458011,    849.58585551,  12070.51099819,   6144.09267198,\n",
       "         8480.98913664,   6717.15718927,  33802.59499076,   9445.69923325,\n",
       "         3306.59200238,   7279.16653961,   2244.81556736,   1497.9773828 ,\n",
       "         4632.16018282,  14604.86962546,   6857.46010725,  15246.0693228 ,\n",
       "         1997.58132063,  19292.7626771 ,   2038.77049222,   7517.24904823,\n",
       "         3227.78441125,   7981.31906446,   1876.67008528,   3810.11694834,\n",
       "         5673.97796904,   4922.17774467,   3057.60699081,   7918.08464013,\n",
       "         6326.62795601,   7009.85438694,  13473.19281421,  10195.74676318,\n",
       "        13061.3864388 ,   7063.78246499,  13100.22829005,   7110.45462953,\n",
       "         5866.6678138 ,   6865.30155324,   6115.8945329 ,  16334.53513731,\n",
       "         7067.12935541,  16652.04281528,   4671.37551834,   5429.30967021,\n",
       "         3832.4494345 ,  11990.48571222,  10393.669329  ,  10500.01109766,\n",
       "         3292.55456712,   4562.28243859,  15570.12321454,  30423.38075963,\n",
       "         7794.8439225 ,   4915.964324  ,  10695.43526613,  11521.65687783,\n",
       "        17441.02125911,  17461.4387786 ,  11364.75458883,   8854.56872331,\n",
       "        16077.70501046,  25129.34113507,  10543.94714395,   8395.57699789,\n",
       "         7699.84072632,   2700.31068646,  18916.30103494,  16238.66199914,\n",
       "         1341.92087283,   3256.06986964,   3533.57589395,   4396.48221963,\n",
       "         8829.20030972,  24193.97262135,  21335.21935635,   9199.41921806,\n",
       "        11995.92386988,   2232.77812018,   7773.88010148,   5671.91412926,\n",
       "         4523.88993117,  10202.28871733,   6381.28964355,  26033.72560465,\n",
       "        14688.10163057,  10257.89533071,   2471.58040642,   4456.6825055 ,\n",
       "         4099.41070795,  22978.97835308,   2758.51822123,   6290.66783586,\n",
       "        11518.72782727,  11242.91272701,   6730.59358478,   3675.53175998,\n",
       "         2209.86982887,   5131.93237851,  11508.91328808,  26022.7104735 ,\n",
       "         3732.31159581,   9998.78011331,   3942.46520345,   2831.42447332,\n",
       "         6835.18608458,   4330.82511894,  25495.13849726,  29668.40611466,\n",
       "         5248.64647843,   9202.25561313,   8559.68784132,   7949.05218034,\n",
       "        12912.20844199,   3521.89489747,   5833.97819686,   5218.77757565,\n",
       "         2738.70381513,  17447.94971926,  11153.32016789,  11368.44837396,\n",
       "         2992.0024355 ,   4397.70958562,   4216.16674267,  10369.49111936,\n",
       "        21141.50334161,   1320.97912272,  15091.38415752,   5847.3529692 ,\n",
       "        10074.29335717,  26785.88829361,   7414.69963893,   7938.45639687,\n",
       "         3600.60836126,   6386.10023164,  13741.32436688,   5698.81280323,\n",
       "         6357.41301927,   8069.07623425,   6231.79022819,   3842.75389255,\n",
       "        30630.06238856,  11762.88239836,   1545.69478579,  24813.86530645,\n",
       "        16802.41049437,   2077.38674581,   8179.01859181,   7792.46382402,\n",
       "         1283.47072528,  17794.64877232,   6914.22643221,   5372.66634029,\n",
       "         4240.27712271,   4068.62659702,   2802.36842507,   5800.11123606,\n",
       "         7425.48578648,  12888.87969525,  12582.29946046,    358.10549651,\n",
       "         4954.55146237,   5641.38049865,  18640.82183532,   2366.84523596,\n",
       "        14752.59764523,   7077.05496421,   6522.58630788,   5982.020436  ,\n",
       "         8988.93120998,  11500.75878683,   9578.83821999,    134.61184944,\n",
       "        11226.57999391,   9842.7069279 ,   9555.06307432,   4883.6940512 ,\n",
       "         6048.83935035,   9329.3696183 ,  12602.32425115,   4137.63818972,\n",
       "         3395.64176113,   8369.87744902,   4533.32193314,    385.87341628,\n",
       "         4452.64379139,   7457.42954036,    987.35025255,   4485.4874361 ,\n",
       "         7129.91898458,   5773.0584671 ,  15575.22499193,  13704.04296976,\n",
       "         4318.27801609,  34110.09452342,   5036.41326429,   5494.01890779,\n",
       "        10208.45712812,   3810.62556539,  11681.02484832,   3769.11229181,\n",
       "         4735.00509983,    962.21192747,   6566.11456661,   1325.43240207,\n",
       "         5125.58793794,   6990.81212205,   9489.63145372,   4920.45035128,\n",
       "         6118.85692491,   1047.83983707,  13903.9141015 ,   1410.23809863,\n",
       "         5659.94061264,   1273.58809134,   5866.95313437,  27318.25445991,\n",
       "         4993.26424068,  12042.56622103,   6668.90421645,   6710.02917241,\n",
       "         3513.20602255,   4978.08341977,   5693.53757599,  10865.2303027 ,\n",
       "         2139.19815338,  15068.14300442,  15165.38450904,    671.48906991,\n",
       "        12198.01782003,    742.93715514,  14005.07326309,  11343.31851849,\n",
       "         2748.67443438,   5406.26408454,   2095.43316567,   2774.72905706,\n",
       "         4548.60621339,  17225.284967  ,   1494.81937064,   7331.43214664,\n",
       "         5705.93970893,   6858.75298245,   9965.05259272,   4951.8891361 ,\n",
       "        12846.48501549,   1941.60818049,  29060.92265468,   5800.4752197 ,\n",
       "         3793.89368417,  25263.85514048,   5830.59593693,   2909.24213796,\n",
       "        14264.3569321 ,   4088.79637427,   2102.96858653,   3566.60153593,\n",
       "        16297.11113386,   5574.64700352,  11786.95389325,   9163.18801667,\n",
       "        20846.21949594,   4571.43391809,   9335.97893755,   3873.29788096,\n",
       "         6200.0126705 ,   5788.86713943,   5310.01610189,   3333.55351955,\n",
       "        19187.45047944,  16022.42750633,   2929.10755026,    990.59082829,\n",
       "         1869.30710895,  12665.47929708,  15486.35803158,  28161.70886935,\n",
       "         2011.65973259,  10027.15963915,  35583.49612837,   1890.15452827,\n",
       "         7880.60585535,   5943.42640652,  16535.52498277,   2301.69495458,\n",
       "         6407.83297004,   2893.13341842,   6114.77836278,  12270.75216627,\n",
       "        22749.58390364,   8228.17838068,   9831.22031465,   6014.84159566,\n",
       "         6054.23697375,  11692.62630182,   6989.15229091,   2164.00674718,\n",
       "         5416.86159789,   1844.40827083,   1445.04014615,   7364.24609178,\n",
       "         5870.41522768,  11911.84845429,   2078.93959761])"
      ]
     },
     "execution_count": 20,
     "metadata": {},
     "output_type": "execute_result"
    }
   ],
   "source": [
    "gamma(alpha_est, scale=beta_est).rvs(n_no_ins)"
   ]
  },
  {
   "cell_type": "code",
   "execution_count": 27,
   "metadata": {
    "collapsed": false
   },
   "outputs": [
    {
     "data": {
      "image/png": "[encoded data removed]",
      "text/plain": [
       "<Figure size 432x288 with 1 Axes>"
      ]
     },
     "metadata": {},
     "output_type": "display_data"
    }
   ],
   "source": [
    "#_ = plt.hist(best_shot_simulated, bins=30, alpha=0.5, label='MCMC_simulated')\n",
    "_ = plt.hist(no_ins_model_rvs, bins=30, alpha=0.5, label='first_simulated')\n",
    "_ = plt.hist(no_insurance, bins=30, alpha=0.5, label='observed')\n",
    "_ = plt.xlabel('Charge amount')\n",
    "_ = plt.ylabel('Frequency')\n",
    "_ = plt.legend()\n",
    "plt.show()\n",
    "# # Compare the below histogram with the first gamma simulation we did above\n",
    "# # (no_ins_model_rvs)\n",
    "# # Right now all three histograms overlaid together"
   ]
  },
  {
   "cell_type": "markdown",
   "metadata": {},
   "source": [
    "## Summary"
   ]
  },
  {
   "cell_type": "markdown",
   "metadata": {},
   "source": [
    "In this exercise, we have postulated a distribution to describe the individual charge amounts for non-insured cases. This distribution has two required parameters, which we do not know, but we used PyMC3 to perform Bayesian inference to find our level of \"belief\" in a range of values for them. We then used the average parameter values to create one simulated data set of the same size as the original, but the distribution of our posteriors for these parameters will allow us to perform simulations of any sample size we desire and for a range of scenarios of different $\\alpha$ and $\\beta$. This could be a powerful tool to model different financial conditions for the hospital. \n",
    "\n",
    "Well done making it through this tricky subject. Starting think Bayesian _and_ starting to get to grips with something like PyMC3 is no easy task. As a data scientist, the most important thing is to be aware that this statistical approach exists, though you may not actually use this approach as much as you use the other approaches you've learned about. Still, we encourage you to think of ways that this approach could apply to the work that you do in this course and throughout your career.  "
   ]
  }
 ],
 "metadata": {
  "kernelspec": {
   "display_name": "Python 3",
   "language": "python",
   "name": "python3"
  },
  "language_info": {
   "codemirror_mode": {
    "name": "ipython",
    "version": 3
   },
   "file_extension": ".py",
   "mimetype": "text/x-python",
   "name": "python",
   "nbconvert_exporter": "python",
   "pygments_lexer": "ipython3",
   "version": "3.6.8"
  }
 },
 "nbformat": 4,
 "nbformat_minor": 2
}
