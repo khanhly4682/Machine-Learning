{
 "cells": [
  {
   "cell_type": "markdown",
   "metadata": {},
   "source": [
    "# Zillow's Home Value Prediction"
   ]
  },
  {
   "cell_type": "markdown",
   "metadata": {},
   "source": [
    "__Objective:__\n",
    "\n",
    "This project is to predict the log-error between their Zestimate and the actual sale price, given all the features of a home. The dataset consists of 2 separate csv files containing logerror house price prediction and properties of the house.\n",
    "\n",
    "The log error is defined as:\n",
    "- _logerror=log(Zestimate)−log(SalePrice)_\n",
    "\n",
    "and it is recorded in the transactions file train.csv. \n",
    "\n",
    "__Dataset__:\n",
    "\n",
    "https://www.kaggle.com/c/zillow-prize-1/data?\n",
    "\n",
    "train_2017.csv\n",
    "properties.csv\n",
    "\n",
    "We will extract relevant data that is available across all the files, aggregate the data, and reformat the tables within Pandas dataframes so information is consistent. Lastly, we will perform some cleaning so the tables do not contain missing values.\n",
    "\n",
    "This notebook contain the following steps:\n",
    "\n",
    "(6) Build a baseline model notebook for your CP\n",
    "using \"pmdarima\" (see \"Resources\" below).\n",
    "\n",
    "(6.1) To assess the performance of your model/s, do the following:\n",
    "\n",
    "(a) Split the dataset into training and test set, determining\n",
    "an appropriate split. For time series forecasting, it is\n",
    "customary for the training set to be in the chronological\n",
    "past, and for the test set in the chronological future of\n",
    "the training set. Let's discuss specifics associated with\n",
    "your project in a meeting before you begin working on this\n",
    "task.\n",
    "\n",
    "(b) Build time series model/s using the training set.\n",
    "\n",
    "(c) Compute RMSE, MAPE (*) and R^2 for the training set.\n",
    "\n",
    "This might be implemented in different ways depending\n",
    "on the package you are using (see \"Resources\" below).\n",
    "\n",
    "(d) Compute RMSE, MAPE and R^2 for the test set.\n",
    "\n",
    "(e) Determine if there is overfitting, by comparing (c)\n",
    "and (d).\n",
    "\n",
    "(f) Show the following graphs:\n",
    "\n",
    "(f.1) Predicted vs Actual scatterplot.\n",
    "\n",
    "(f.2) Predicted vs Residuals scatterplot.\n",
    "\n",
    "(f.3) Histogram of Residuals, identifying positive\n",
    "and negative residual worst-cases for 90% and\n",
    "95% of the histogram density. \n",
    "\n",
    "(6.2) Present an analysis of the performance of the model/s\n",
    "in light of (6.1)."
   ]
  },
  {
   "cell_type": "code",
   "execution_count": 23,
   "metadata": {},
   "outputs": [],
   "source": [
    "import pandas as pd\n",
    "import numpy as np\n",
    "import math\n",
    "\n",
    "from matplotlib import pyplot as plt\n",
    "from matplotlib.legend_handler import HandlerBase\n",
    "from matplotlib.text import Text\n",
    "\n",
    "from sklearn.model_selection import train_test_split\n",
    "from sklearn.linear_model import LinearRegression\n",
    "\n",
    "from sklearn.metrics import mean_squared_error\n",
    "from sklearn.metrics import r2_score\n",
    "\n",
    "from statsmodels.tsa.arima_model import ARIMA\n",
    "\n",
    "import seaborn as sns"
   ]
  },
  {
   "cell_type": "markdown",
   "metadata": {},
   "source": [
    "#### Data"
   ]
  },
  {
   "cell_type": "code",
   "execution_count": 2,
   "metadata": {},
   "outputs": [
    {
     "data": {
      "text/html": [
       "<div>\n",
       "<style scoped>\n",
       "    .dataframe tbody tr th:only-of-type {\n",
       "        vertical-align: middle;\n",
       "    }\n",
       "\n",
       "    .dataframe tbody tr th {\n",
       "        vertical-align: top;\n",
       "    }\n",
       "\n",
       "    .dataframe thead th {\n",
       "        text-align: right;\n",
       "    }\n",
       "</style>\n",
       "<table border=\"1\" class=\"dataframe\">\n",
       "  <thead>\n",
       "    <tr style=\"text-align: right;\">\n",
       "      <th></th>\n",
       "      <th>logerror</th>\n",
       "      <th>transactiondate</th>\n",
       "      <th>bathroomcnt</th>\n",
       "      <th>bedroomcnt</th>\n",
       "      <th>buildingqualitytypeid</th>\n",
       "      <th>calculatedfinishedsquarefeet</th>\n",
       "      <th>fips</th>\n",
       "      <th>heatingorsystemtypeid</th>\n",
       "      <th>latitude</th>\n",
       "      <th>longitude</th>\n",
       "      <th>...</th>\n",
       "      <th>propertyzoningdesc</th>\n",
       "      <th>regionidcity</th>\n",
       "      <th>regionidcounty</th>\n",
       "      <th>regionidneighborhood</th>\n",
       "      <th>regionidzip</th>\n",
       "      <th>roomcnt</th>\n",
       "      <th>unitcnt</th>\n",
       "      <th>yearbuilt</th>\n",
       "      <th>structuretaxvaluedollarcnt</th>\n",
       "      <th>taxvaluedollarcnt</th>\n",
       "    </tr>\n",
       "  </thead>\n",
       "  <tbody>\n",
       "    <tr>\n",
       "      <th>0</th>\n",
       "      <td>0.055619</td>\n",
       "      <td>1/1/2017</td>\n",
       "      <td>1.0</td>\n",
       "      <td>2</td>\n",
       "      <td>6</td>\n",
       "      <td>1465</td>\n",
       "      <td>6111</td>\n",
       "      <td>2</td>\n",
       "      <td>34449266</td>\n",
       "      <td>-119281531</td>\n",
       "      <td>...</td>\n",
       "      <td>LAR1</td>\n",
       "      <td>13091</td>\n",
       "      <td>2061</td>\n",
       "      <td>118208</td>\n",
       "      <td>97099</td>\n",
       "      <td>5</td>\n",
       "      <td>1</td>\n",
       "      <td>1967.0</td>\n",
       "      <td>88000</td>\n",
       "      <td>464000</td>\n",
       "    </tr>\n",
       "    <tr>\n",
       "      <th>1</th>\n",
       "      <td>0.005383</td>\n",
       "      <td>1/1/2017</td>\n",
       "      <td>2.0</td>\n",
       "      <td>3</td>\n",
       "      <td>6</td>\n",
       "      <td>1243</td>\n",
       "      <td>6059</td>\n",
       "      <td>2</td>\n",
       "      <td>33886168</td>\n",
       "      <td>-117823170</td>\n",
       "      <td>...</td>\n",
       "      <td>LAR1</td>\n",
       "      <td>21412</td>\n",
       "      <td>1286</td>\n",
       "      <td>118208</td>\n",
       "      <td>97078</td>\n",
       "      <td>6</td>\n",
       "      <td>1</td>\n",
       "      <td>1962.0</td>\n",
       "      <td>85289</td>\n",
       "      <td>564778</td>\n",
       "    </tr>\n",
       "    <tr>\n",
       "      <th>2</th>\n",
       "      <td>-0.103410</td>\n",
       "      <td>1/1/2017</td>\n",
       "      <td>3.0</td>\n",
       "      <td>4</td>\n",
       "      <td>8</td>\n",
       "      <td>2376</td>\n",
       "      <td>6037</td>\n",
       "      <td>2</td>\n",
       "      <td>34245180</td>\n",
       "      <td>-118240722</td>\n",
       "      <td>...</td>\n",
       "      <td>LCR110000*</td>\n",
       "      <td>396551</td>\n",
       "      <td>3101</td>\n",
       "      <td>118208</td>\n",
       "      <td>96330</td>\n",
       "      <td>0</td>\n",
       "      <td>1</td>\n",
       "      <td>1970.0</td>\n",
       "      <td>108918</td>\n",
       "      <td>145143</td>\n",
       "    </tr>\n",
       "    <tr>\n",
       "      <th>3</th>\n",
       "      <td>-0.020526</td>\n",
       "      <td>1/1/2017</td>\n",
       "      <td>2.0</td>\n",
       "      <td>3</td>\n",
       "      <td>6</td>\n",
       "      <td>1492</td>\n",
       "      <td>6111</td>\n",
       "      <td>2</td>\n",
       "      <td>34230044</td>\n",
       "      <td>-118993991</td>\n",
       "      <td>...</td>\n",
       "      <td>LAR1</td>\n",
       "      <td>51239</td>\n",
       "      <td>2061</td>\n",
       "      <td>118208</td>\n",
       "      <td>97091</td>\n",
       "      <td>6</td>\n",
       "      <td>1</td>\n",
       "      <td>1982.0</td>\n",
       "      <td>198640</td>\n",
       "      <td>331064</td>\n",
       "    </tr>\n",
       "    <tr>\n",
       "      <th>4</th>\n",
       "      <td>0.101723</td>\n",
       "      <td>1/1/2017</td>\n",
       "      <td>1.0</td>\n",
       "      <td>2</td>\n",
       "      <td>5</td>\n",
       "      <td>738</td>\n",
       "      <td>6037</td>\n",
       "      <td>2</td>\n",
       "      <td>34149214</td>\n",
       "      <td>-118239357</td>\n",
       "      <td>...</td>\n",
       "      <td>GLR4YY</td>\n",
       "      <td>45457</td>\n",
       "      <td>3101</td>\n",
       "      <td>276258</td>\n",
       "      <td>96325</td>\n",
       "      <td>0</td>\n",
       "      <td>1</td>\n",
       "      <td>1922.0</td>\n",
       "      <td>18890</td>\n",
       "      <td>218552</td>\n",
       "    </tr>\n",
       "  </tbody>\n",
       "</table>\n",
       "<p>5 rows × 23 columns</p>\n",
       "</div>"
      ],
      "text/plain": [
       "   logerror transactiondate  bathroomcnt  bedroomcnt  buildingqualitytypeid  \\\n",
       "0  0.055619        1/1/2017          1.0           2                      6   \n",
       "1  0.005383        1/1/2017          2.0           3                      6   \n",
       "2 -0.103410        1/1/2017          3.0           4                      8   \n",
       "3 -0.020526        1/1/2017          2.0           3                      6   \n",
       "4  0.101723        1/1/2017          1.0           2                      5   \n",
       "\n",
       "   calculatedfinishedsquarefeet  fips  heatingorsystemtypeid  latitude  \\\n",
       "0                          1465  6111                      2  34449266   \n",
       "1                          1243  6059                      2  33886168   \n",
       "2                          2376  6037                      2  34245180   \n",
       "3                          1492  6111                      2  34230044   \n",
       "4                           738  6037                      2  34149214   \n",
       "\n",
       "   longitude  ...  propertyzoningdesc regionidcity  regionidcounty  \\\n",
       "0 -119281531  ...                LAR1        13091            2061   \n",
       "1 -117823170  ...                LAR1        21412            1286   \n",
       "2 -118240722  ...          LCR110000*       396551            3101   \n",
       "3 -118993991  ...                LAR1        51239            2061   \n",
       "4 -118239357  ...              GLR4YY        45457            3101   \n",
       "\n",
       "  regionidneighborhood  regionidzip  roomcnt  unitcnt  yearbuilt  \\\n",
       "0               118208        97099        5        1     1967.0   \n",
       "1               118208        97078        6        1     1962.0   \n",
       "2               118208        96330        0        1     1970.0   \n",
       "3               118208        97091        6        1     1982.0   \n",
       "4               276258        96325        0        1     1922.0   \n",
       "\n",
       "   structuretaxvaluedollarcnt  taxvaluedollarcnt  \n",
       "0                       88000             464000  \n",
       "1                       85289             564778  \n",
       "2                      108918             145143  \n",
       "3                      198640             331064  \n",
       "4                       18890             218552  \n",
       "\n",
       "[5 rows x 23 columns]"
      ]
     },
     "execution_count": 2,
     "metadata": {},
     "output_type": "execute_result"
    }
   ],
   "source": [
    "df = pd.read_csv('D:\\\\70. Study\\\\00 Data Science Springboard\\\\02-Project Capstone 1\\\\Project 2 - Zillow price\\\\data\\\\zillow_price_wrangled.csv')\n",
    "df.head()"
   ]
  },
  {
   "cell_type": "markdown",
   "metadata": {},
   "source": [
    "- The data includes 40372 rows and 23 columns.\n",
    "- Categorical columns: 3 (including propertycountylandusecode, and propertyzoningdesc; transactiondate is datetime type.\n",
    "- Numerical columns: 20\n",
    "\n",
    "We have 3 counties in California which their FIPS code are listed as:\n",
    "- 6037 Los Angeles. \n",
    "- 6059 Orange\n",
    "- 6111 Ventura\n",
    "\n",
    "Based on the FIPS codes, I will perform time series analysis for each county.\n"
   ]
  },
  {
   "cell_type": "code",
   "execution_count": 3,
   "metadata": {},
   "outputs": [
    {
     "name": "stdout",
     "output_type": "stream",
     "text": [
      "<class 'pandas.core.frame.DataFrame'>\n",
      "RangeIndex: 40372 entries, 0 to 40371\n",
      "Data columns (total 23 columns):\n",
      "logerror                        40372 non-null float64\n",
      "transactiondate                 40372 non-null object\n",
      "bathroomcnt                     40372 non-null float64\n",
      "bedroomcnt                      40372 non-null int64\n",
      "buildingqualitytypeid           40372 non-null int64\n",
      "calculatedfinishedsquarefeet    40372 non-null int64\n",
      "fips                            40372 non-null int64\n",
      "heatingorsystemtypeid           40372 non-null int64\n",
      "latitude                        40372 non-null int64\n",
      "longitude                       40372 non-null int64\n",
      "lotsizesquarefeet               40372 non-null int64\n",
      "propertycountylandusecode       40372 non-null object\n",
      "propertylandusetypeid           40372 non-null int64\n",
      "propertyzoningdesc              40372 non-null object\n",
      "regionidcity                    40372 non-null int64\n",
      "regionidcounty                  40372 non-null int64\n",
      "regionidneighborhood            40372 non-null int64\n",
      "regionidzip                     40372 non-null int64\n",
      "roomcnt                         40372 non-null int64\n",
      "unitcnt                         40372 non-null int64\n",
      "yearbuilt                       40372 non-null float64\n",
      "structuretaxvaluedollarcnt      40372 non-null int64\n",
      "taxvaluedollarcnt               40372 non-null int64\n",
      "dtypes: float64(3), int64(17), object(3)\n",
      "memory usage: 7.1+ MB\n"
     ]
    }
   ],
   "source": [
    "df.info()"
   ]
  },
  {
   "cell_type": "markdown",
   "metadata": {},
   "source": [
    "### Prepare data"
   ]
  },
  {
   "cell_type": "markdown",
   "metadata": {},
   "source": [
    "Split the dataset into training and test set, determining\n",
    "an appropriate split. For time series forecasting, it is\n",
    "customary for the training set to be in the chronological\n",
    "past, and for the test set in the chronological future of\n",
    "the training set. \n",
    "\n",
    "- y = prediction log error (called 'logerror')\n",
    "- X = other features,\n",
    "which we will use to fit a linear regression model and predict the log error of the Zillow housing price.\n",
    "\n",
    "I will drop some of features that are not used in the models (e.g. transaction dates, 'propertycountylandusecode','propertyzoningdesc'\n"
   ]
  },
  {
   "cell_type": "code",
   "execution_count": 4,
   "metadata": {},
   "outputs": [],
   "source": [
    "data = df.drop(columns=['propertycountylandusecode', 'propertyzoningdesc'])"
   ]
  },
  {
   "cell_type": "code",
   "execution_count": 5,
   "metadata": {
    "scrolled": true
   },
   "outputs": [
    {
     "data": {
      "text/plain": [
       "0       2017-01-01\n",
       "1       2017-01-01\n",
       "2       2017-01-01\n",
       "3       2017-01-01\n",
       "4       2017-01-01\n",
       "5       2017-01-02\n",
       "6       2017-01-02\n",
       "7       2017-01-02\n",
       "8       2017-01-02\n",
       "9       2017-01-02\n",
       "10      2017-01-02\n",
       "11      2017-01-02\n",
       "12      2017-01-02\n",
       "13      2017-01-02\n",
       "14      2017-01-02\n",
       "15      2017-01-02\n",
       "16      2017-01-02\n",
       "17      2017-01-02\n",
       "18      2017-01-02\n",
       "19      2017-01-02\n",
       "20      2017-01-02\n",
       "21      2017-01-02\n",
       "22      2017-01-02\n",
       "23      2017-01-02\n",
       "24      2017-01-02\n",
       "25      2017-01-02\n",
       "26      2017-01-02\n",
       "27      2017-01-02\n",
       "28      2017-01-02\n",
       "29      2017-01-02\n",
       "           ...    \n",
       "40342   2017-09-19\n",
       "40343   2017-09-19\n",
       "40344   2017-09-19\n",
       "40345   2017-09-19\n",
       "40346   2017-09-19\n",
       "40347   2017-09-19\n",
       "40348   2017-09-19\n",
       "40349   2017-09-19\n",
       "40350   2017-09-19\n",
       "40351   2017-09-19\n",
       "40352   2017-09-19\n",
       "40353   2017-09-19\n",
       "40354   2017-09-19\n",
       "40355   2017-09-19\n",
       "40356   2017-09-19\n",
       "40357   2017-09-19\n",
       "40358   2017-09-19\n",
       "40359   2017-09-19\n",
       "40360   2017-09-19\n",
       "40361   2017-09-19\n",
       "40362   2017-09-19\n",
       "40363   2017-09-19\n",
       "40364   2017-09-19\n",
       "40365   2017-09-19\n",
       "40366   2017-09-19\n",
       "40367   2017-09-19\n",
       "40368   2017-09-19\n",
       "40369   2017-09-21\n",
       "40370   2017-09-21\n",
       "40371   2017-09-25\n",
       "Name: transactiondate, Length: 40372, dtype: datetime64[ns]"
      ]
     },
     "execution_count": 5,
     "metadata": {},
     "output_type": "execute_result"
    }
   ],
   "source": [
    "pd.to_datetime(data.transactiondate)"
   ]
  },
  {
   "cell_type": "code",
   "execution_count": 6,
   "metadata": {},
   "outputs": [
    {
     "name": "stdout",
     "output_type": "stream",
     "text": [
      "(31483, 21)\n",
      "(8554, 21)\n"
     ]
    }
   ],
   "source": [
    "# Split training and test set based on time order.\n",
    "train = data[data.transactiondate < '7/31/2017']\n",
    "test = data[data.transactiondate > '7/31/2017']\n",
    "print(train.shape)\n",
    "print(test.shape)"
   ]
  },
  {
   "cell_type": "code",
   "execution_count": 7,
   "metadata": {},
   "outputs": [],
   "source": [
    "# Train data\n",
    "X_train = train.drop(columns=['logerror'])\n",
    "y_train = train['logerror']\n",
    "\n",
    "# test data\n",
    "X_test = test.drop(columns=['logerror'])\n",
    "y_test = test['logerror']"
   ]
  },
  {
   "cell_type": "code",
   "execution_count": 13,
   "metadata": {
    "scrolled": true
   },
   "outputs": [],
   "source": [
    "# Drop the transactiondate\n",
    "X_train=X_train.drop(columns=['transactiondate'])\n",
    "y_train=y_train.drop(columns=['transactiondate'])\n",
    "X_test=X_test.drop(columns=['transactiondate'])\n",
    "y_test=y_test.drop(columns=['transactiondate'])"
   ]
  },
  {
   "cell_type": "code",
   "execution_count": 14,
   "metadata": {},
   "outputs": [
    {
     "data": {
      "text/html": [
       "<div>\n",
       "<style scoped>\n",
       "    .dataframe tbody tr th:only-of-type {\n",
       "        vertical-align: middle;\n",
       "    }\n",
       "\n",
       "    .dataframe tbody tr th {\n",
       "        vertical-align: top;\n",
       "    }\n",
       "\n",
       "    .dataframe thead th {\n",
       "        text-align: right;\n",
       "    }\n",
       "</style>\n",
       "<table border=\"1\" class=\"dataframe\">\n",
       "  <thead>\n",
       "    <tr style=\"text-align: right;\">\n",
       "      <th></th>\n",
       "      <th>bathroomcnt</th>\n",
       "      <th>bedroomcnt</th>\n",
       "      <th>buildingqualitytypeid</th>\n",
       "      <th>calculatedfinishedsquarefeet</th>\n",
       "      <th>fips</th>\n",
       "      <th>heatingorsystemtypeid</th>\n",
       "      <th>latitude</th>\n",
       "      <th>longitude</th>\n",
       "      <th>lotsizesquarefeet</th>\n",
       "      <th>propertylandusetypeid</th>\n",
       "      <th>regionidcity</th>\n",
       "      <th>regionidcounty</th>\n",
       "      <th>regionidneighborhood</th>\n",
       "      <th>regionidzip</th>\n",
       "      <th>roomcnt</th>\n",
       "      <th>unitcnt</th>\n",
       "      <th>yearbuilt</th>\n",
       "      <th>structuretaxvaluedollarcnt</th>\n",
       "      <th>taxvaluedollarcnt</th>\n",
       "    </tr>\n",
       "  </thead>\n",
       "  <tbody>\n",
       "    <tr>\n",
       "      <th>0</th>\n",
       "      <td>1.0</td>\n",
       "      <td>2</td>\n",
       "      <td>6</td>\n",
       "      <td>1465</td>\n",
       "      <td>6111</td>\n",
       "      <td>2</td>\n",
       "      <td>34449266</td>\n",
       "      <td>-119281531</td>\n",
       "      <td>12647</td>\n",
       "      <td>261</td>\n",
       "      <td>13091</td>\n",
       "      <td>2061</td>\n",
       "      <td>118208</td>\n",
       "      <td>97099</td>\n",
       "      <td>5</td>\n",
       "      <td>1</td>\n",
       "      <td>1967.0</td>\n",
       "      <td>88000</td>\n",
       "      <td>464000</td>\n",
       "    </tr>\n",
       "    <tr>\n",
       "      <th>1</th>\n",
       "      <td>2.0</td>\n",
       "      <td>3</td>\n",
       "      <td>6</td>\n",
       "      <td>1243</td>\n",
       "      <td>6059</td>\n",
       "      <td>2</td>\n",
       "      <td>33886168</td>\n",
       "      <td>-117823170</td>\n",
       "      <td>8432</td>\n",
       "      <td>261</td>\n",
       "      <td>21412</td>\n",
       "      <td>1286</td>\n",
       "      <td>118208</td>\n",
       "      <td>97078</td>\n",
       "      <td>6</td>\n",
       "      <td>1</td>\n",
       "      <td>1962.0</td>\n",
       "      <td>85289</td>\n",
       "      <td>564778</td>\n",
       "    </tr>\n",
       "    <tr>\n",
       "      <th>2</th>\n",
       "      <td>3.0</td>\n",
       "      <td>4</td>\n",
       "      <td>8</td>\n",
       "      <td>2376</td>\n",
       "      <td>6037</td>\n",
       "      <td>2</td>\n",
       "      <td>34245180</td>\n",
       "      <td>-118240722</td>\n",
       "      <td>13038</td>\n",
       "      <td>261</td>\n",
       "      <td>396551</td>\n",
       "      <td>3101</td>\n",
       "      <td>118208</td>\n",
       "      <td>96330</td>\n",
       "      <td>0</td>\n",
       "      <td>1</td>\n",
       "      <td>1970.0</td>\n",
       "      <td>108918</td>\n",
       "      <td>145143</td>\n",
       "    </tr>\n",
       "    <tr>\n",
       "      <th>3</th>\n",
       "      <td>2.0</td>\n",
       "      <td>3</td>\n",
       "      <td>6</td>\n",
       "      <td>1492</td>\n",
       "      <td>6111</td>\n",
       "      <td>2</td>\n",
       "      <td>34230044</td>\n",
       "      <td>-118993991</td>\n",
       "      <td>903</td>\n",
       "      <td>266</td>\n",
       "      <td>51239</td>\n",
       "      <td>2061</td>\n",
       "      <td>118208</td>\n",
       "      <td>97091</td>\n",
       "      <td>6</td>\n",
       "      <td>1</td>\n",
       "      <td>1982.0</td>\n",
       "      <td>198640</td>\n",
       "      <td>331064</td>\n",
       "    </tr>\n",
       "    <tr>\n",
       "      <th>4</th>\n",
       "      <td>1.0</td>\n",
       "      <td>2</td>\n",
       "      <td>5</td>\n",
       "      <td>738</td>\n",
       "      <td>6037</td>\n",
       "      <td>2</td>\n",
       "      <td>34149214</td>\n",
       "      <td>-118239357</td>\n",
       "      <td>4214</td>\n",
       "      <td>261</td>\n",
       "      <td>45457</td>\n",
       "      <td>3101</td>\n",
       "      <td>276258</td>\n",
       "      <td>96325</td>\n",
       "      <td>0</td>\n",
       "      <td>1</td>\n",
       "      <td>1922.0</td>\n",
       "      <td>18890</td>\n",
       "      <td>218552</td>\n",
       "    </tr>\n",
       "  </tbody>\n",
       "</table>\n",
       "</div>"
      ],
      "text/plain": [
       "   bathroomcnt  bedroomcnt  buildingqualitytypeid  \\\n",
       "0          1.0           2                      6   \n",
       "1          2.0           3                      6   \n",
       "2          3.0           4                      8   \n",
       "3          2.0           3                      6   \n",
       "4          1.0           2                      5   \n",
       "\n",
       "   calculatedfinishedsquarefeet  fips  heatingorsystemtypeid  latitude  \\\n",
       "0                          1465  6111                      2  34449266   \n",
       "1                          1243  6059                      2  33886168   \n",
       "2                          2376  6037                      2  34245180   \n",
       "3                          1492  6111                      2  34230044   \n",
       "4                           738  6037                      2  34149214   \n",
       "\n",
       "   longitude  lotsizesquarefeet  propertylandusetypeid  regionidcity  \\\n",
       "0 -119281531              12647                    261         13091   \n",
       "1 -117823170               8432                    261         21412   \n",
       "2 -118240722              13038                    261        396551   \n",
       "3 -118993991                903                    266         51239   \n",
       "4 -118239357               4214                    261         45457   \n",
       "\n",
       "   regionidcounty  regionidneighborhood  regionidzip  roomcnt  unitcnt  \\\n",
       "0            2061                118208        97099        5        1   \n",
       "1            1286                118208        97078        6        1   \n",
       "2            3101                118208        96330        0        1   \n",
       "3            2061                118208        97091        6        1   \n",
       "4            3101                276258        96325        0        1   \n",
       "\n",
       "   yearbuilt  structuretaxvaluedollarcnt  taxvaluedollarcnt  \n",
       "0     1967.0                       88000             464000  \n",
       "1     1962.0                       85289             564778  \n",
       "2     1970.0                      108918             145143  \n",
       "3     1982.0                      198640             331064  \n",
       "4     1922.0                       18890             218552  "
      ]
     },
     "execution_count": 14,
     "metadata": {},
     "output_type": "execute_result"
    }
   ],
   "source": [
    "X_train.head()"
   ]
  },
  {
   "cell_type": "code",
   "execution_count": 15,
   "metadata": {},
   "outputs": [
    {
     "name": "stdout",
     "output_type": "stream",
     "text": [
      "X train data: (31483, 19)\n",
      "X test data: (8554, 19)\n",
      "y train data: (31483,)\n",
      "y test data: (8554,)\n"
     ]
    }
   ],
   "source": [
    "print('X train data:',X_train.shape)\n",
    "print('X test data:',X_test.shape)\n",
    "print('y train data:',y_train.shape)\n",
    "print('y test data:',y_test.shape)"
   ]
  },
  {
   "cell_type": "markdown",
   "metadata": {},
   "source": [
    "## 1 - Linear Regression\n",
    "\n"
   ]
  },
  {
   "cell_type": "code",
   "execution_count": 17,
   "metadata": {},
   "outputs": [],
   "source": [
    "# Linear Regression model\n",
    "lr = LinearRegression()\n",
    "\n",
    "# Fit the data\n",
    "lr.fit(X_train, y_train)\n",
    "\n",
    "# Predict\n",
    "y_pred = lr.predict(X_test)"
   ]
  },
  {
   "cell_type": "markdown",
   "metadata": {},
   "source": [
    "### Training set predict\n",
    "\n",
    "Compute RMSE, MAPE (*) and R^2 for the training set."
   ]
  },
  {
   "cell_type": "code",
   "execution_count": 28,
   "metadata": {},
   "outputs": [
    {
     "name": "stdout",
     "output_type": "stream",
     "text": [
      "MSE: 0.0019752238505990486\n",
      "RMSE: 0.0448303328025569\n",
      "MAPE: 194.35801613713275\n",
      "R-squared: -0.0037297388075423488\n"
     ]
    }
   ],
   "source": [
    "# Training set predict\n",
    "y_train_pred = lr.predict(X_train)\n",
    "\n",
    "# Compute RMSE, MAPE (*) and R^2 for the training set.\n",
    "mse_train = mean_squared_error(y_train, y_train_pred)\n",
    "\n",
    "# Root Mean Squared Error (RMSE)\n",
    "rmse = np.sqrt(mean_squared_error(y_train, y_train_pred))\n",
    "\n",
    "# MAPE = Mean Absolute Percent Error\n",
    "#   where Percent Error = [(Actual - Predicted) / Actual] * 100\n",
    "mape = np.mean(np.abs((y_train - y_train_pred) / y_train)) * 100\n",
    "\n",
    "# r-squared\n",
    "r2 = r2_score(y_test, y_pred)\n",
    "\n",
    "print('MSE:',mse)\n",
    "print('RMSE:',rmse)\n",
    "print('MAPE:',mape)\n",
    "print('R-squared:',r2)"
   ]
  },
  {
   "cell_type": "markdown",
   "metadata": {},
   "source": [
    "### Test set predict\n",
    "\n",
    "Compute RMSE, MAPE and R^2 for the test set."
   ]
  },
  {
   "cell_type": "code",
   "execution_count": 27,
   "metadata": {},
   "outputs": [
    {
     "name": "stdout",
     "output_type": "stream",
     "text": [
      "MSE: 0.0019752238505990486\n",
      "RMSE: 0.04444349053122457\n",
      "MAPE: 169.1954109235637\n",
      "R-squared: -0.0037297388075423488\n"
     ]
    }
   ],
   "source": [
    "# Test set predict result\n",
    "# Mean Squared Error (MSE)\n",
    "mse = mean_squared_error(y_test, y_pred)\n",
    "\n",
    "# Root Mean Squared Error (RMSE)\n",
    "rmse = np.sqrt(mean_squared_error(y_test, y_pred))\n",
    "\n",
    "# MAPE = Mean Absolute Percent Error\n",
    "#   where Percent Error = [(Actual - Predicted) / Actual] * 100\n",
    "mape = np.mean(np.abs((y_test - y_pred) / y_test)) * 100\n",
    "\n",
    "# r-squared\n",
    "r2 = r2_score(y_test, y_pred)\n",
    "\n",
    "print('MSE:',mse)\n",
    "print('RMSE:',rmse)\n",
    "print('MAPE:',mape)\n",
    "print('R-squared:',r2)"
   ]
  },
  {
   "cell_type": "markdown",
   "metadata": {},
   "source": [
    "We can see that the results from training set and test set are not much different. So the model works fit the training data well. There is no overfitting problem.\n",
    "\n",
    "|             |   MSE   |  RMSE  |   MAPE  |  R2     |\n",
    "| ----------- | ------- | ------ | ------- |---------|\n",
    "| Training set| 0.00197 | 0.0444 | 194.358 | -0.0037 | \n",
    "| Test set    | 0.00197 | 0.0444 | 169.195 | -0.0037 |\n"
   ]
  },
  {
   "cell_type": "markdown",
   "metadata": {},
   "source": [
    "### Actual  and predicted value plot"
   ]
  },
  {
   "cell_type": "code",
   "execution_count": 20,
   "metadata": {},
   "outputs": [
    {
     "data": {
      "text/html": [
       "<div>\n",
       "<style scoped>\n",
       "    .dataframe tbody tr th:only-of-type {\n",
       "        vertical-align: middle;\n",
       "    }\n",
       "\n",
       "    .dataframe tbody tr th {\n",
       "        vertical-align: top;\n",
       "    }\n",
       "\n",
       "    .dataframe thead th {\n",
       "        text-align: right;\n",
       "    }\n",
       "</style>\n",
       "<table border=\"1\" class=\"dataframe\">\n",
       "  <thead>\n",
       "    <tr style=\"text-align: right;\">\n",
       "      <th></th>\n",
       "      <th>Actual</th>\n",
       "      <th>Predicted</th>\n",
       "    </tr>\n",
       "  </thead>\n",
       "  <tbody>\n",
       "    <tr>\n",
       "      <th>1935</th>\n",
       "      <td>-0.064447</td>\n",
       "      <td>0.003249</td>\n",
       "    </tr>\n",
       "    <tr>\n",
       "      <th>2524</th>\n",
       "      <td>-0.027589</td>\n",
       "      <td>0.000110</td>\n",
       "    </tr>\n",
       "    <tr>\n",
       "      <th>3014</th>\n",
       "      <td>0.127325</td>\n",
       "      <td>0.000869</td>\n",
       "    </tr>\n",
       "    <tr>\n",
       "      <th>3564</th>\n",
       "      <td>0.039378</td>\n",
       "      <td>0.011218</td>\n",
       "    </tr>\n",
       "    <tr>\n",
       "      <th>3834</th>\n",
       "      <td>-0.100412</td>\n",
       "      <td>-0.000092</td>\n",
       "    </tr>\n",
       "  </tbody>\n",
       "</table>\n",
       "</div>"
      ],
      "text/plain": [
       "        Actual  Predicted\n",
       "1935 -0.064447   0.003249\n",
       "2524 -0.027589   0.000110\n",
       "3014  0.127325   0.000869\n",
       "3564  0.039378   0.011218\n",
       "3834 -0.100412  -0.000092"
      ]
     },
     "execution_count": 20,
     "metadata": {},
     "output_type": "execute_result"
    }
   ],
   "source": [
    "df1 = pd.DataFrame({'Actual':y_test, 'Predicted':y_pred})\n",
    "df1.head()"
   ]
  },
  {
   "cell_type": "markdown",
   "metadata": {},
   "source": [
    "Now let's plot the comparison of Actual and Predicted values"
   ]
  },
  {
   "cell_type": "code",
   "execution_count": 47,
   "metadata": {
    "scrolled": false
   },
   "outputs": [
    {
     "data": {
      "image/png": "[encoded data removed]",
      "text/plain": [
       "<Figure size 720x360 with 1 Axes>"
      ]
     },
     "metadata": {
      "needs_background": "light"
     },
     "output_type": "display_data"
    }
   ],
   "source": [
    "df1.plot(kind='bar',figsize=(10,5))\n",
    "plt.show()"
   ]
  },
  {
   "cell_type": "code",
   "execution_count": 46,
   "metadata": {},
   "outputs": [
    {
     "data": {
      "image/png": "[encoded data removed]",
      "text/plain": [
       "<Figure size 720x360 with 1 Axes>"
      ]
     },
     "metadata": {
      "needs_background": "light"
     },
     "output_type": "display_data"
    }
   ],
   "source": [
    "df1.plot(figsize=(10,5))\n",
    "plt.show()"
   ]
  },
  {
   "cell_type": "markdown",
   "metadata": {},
   "source": [
    "### Predicted and Actual scatter plot"
   ]
  },
  {
   "cell_type": "code",
   "execution_count": 38,
   "metadata": {},
   "outputs": [
    {
     "data": {
      "text/plain": [
       "(31483,)"
      ]
     },
     "execution_count": 38,
     "metadata": {},
     "output_type": "execute_result"
    }
   ],
   "source": [
    "y_train.shape"
   ]
  },
  {
   "cell_type": "code",
   "execution_count": 36,
   "metadata": {},
   "outputs": [
    {
     "data": {
      "text/plain": [
       "(31483, 19)"
      ]
     },
     "execution_count": 36,
     "metadata": {},
     "output_type": "execute_result"
    }
   ],
   "source": [
    "X_train.shape"
   ]
  },
  {
   "cell_type": "code",
   "execution_count": 42,
   "metadata": {
    "scrolled": true
   },
   "outputs": [
    {
     "ename": "ValueError",
     "evalue": "x and y must be the same size",
     "output_type": "error",
     "traceback": [
      "\u001b[1;31m---------------------------------------------------------------------------\u001b[0m",
      "\u001b[1;31mValueError\u001b[0m                                Traceback (most recent call last)",
      "\u001b[1;32m<ipython-input-42-ff8b00b8c792>\u001b[0m in \u001b[0;36m<module>\u001b[1;34m\u001b[0m\n\u001b[1;32m----> 1\u001b[1;33m \u001b[0mplt\u001b[0m\u001b[1;33m.\u001b[0m\u001b[0mscatter\u001b[0m\u001b[1;33m(\u001b[0m\u001b[0my_test\u001b[0m\u001b[1;33m,\u001b[0m \u001b[0my_train\u001b[0m\u001b[1;33m,\u001b[0m \u001b[0mcolor\u001b[0m \u001b[1;33m=\u001b[0m \u001b[1;34m'red'\u001b[0m\u001b[1;33m)\u001b[0m\u001b[1;33m\u001b[0m\u001b[1;33m\u001b[0m\u001b[0m\n\u001b[0m\u001b[0;32m      2\u001b[0m \u001b[1;31m#plt.plot(X_train, lr.predict(X_train), color = 'blue')\u001b[0m\u001b[1;33m\u001b[0m\u001b[1;33m\u001b[0m\u001b[1;33m\u001b[0m\u001b[0m\n\u001b[0;32m      3\u001b[0m \u001b[0mplt\u001b[0m\u001b[1;33m.\u001b[0m\u001b[0mshow\u001b[0m\u001b[1;33m(\u001b[0m\u001b[1;33m)\u001b[0m\u001b[1;33m\u001b[0m\u001b[1;33m\u001b[0m\u001b[0m\n",
      "\u001b[1;32m~\\Anaconda3\\lib\\site-packages\\matplotlib\\pyplot.py\u001b[0m in \u001b[0;36mscatter\u001b[1;34m(x, y, s, c, marker, cmap, norm, vmin, vmax, alpha, linewidths, verts, edgecolors, plotnonfinite, data, **kwargs)\u001b[0m\n\u001b[0;32m   2839\u001b[0m         \u001b[0mverts\u001b[0m\u001b[1;33m=\u001b[0m\u001b[0mverts\u001b[0m\u001b[1;33m,\u001b[0m \u001b[0medgecolors\u001b[0m\u001b[1;33m=\u001b[0m\u001b[0medgecolors\u001b[0m\u001b[1;33m,\u001b[0m\u001b[1;33m\u001b[0m\u001b[1;33m\u001b[0m\u001b[0m\n\u001b[0;32m   2840\u001b[0m         plotnonfinite=plotnonfinite, **({\"data\": data} if data is not\n\u001b[1;32m-> 2841\u001b[1;33m         None else {}), **kwargs)\n\u001b[0m\u001b[0;32m   2842\u001b[0m     \u001b[0msci\u001b[0m\u001b[1;33m(\u001b[0m\u001b[0m__ret\u001b[0m\u001b[1;33m)\u001b[0m\u001b[1;33m\u001b[0m\u001b[1;33m\u001b[0m\u001b[0m\n\u001b[0;32m   2843\u001b[0m     \u001b[1;32mreturn\u001b[0m \u001b[0m__ret\u001b[0m\u001b[1;33m\u001b[0m\u001b[1;33m\u001b[0m\u001b[0m\n",
      "\u001b[1;32m~\\Anaconda3\\lib\\site-packages\\matplotlib\\__init__.py\u001b[0m in \u001b[0;36minner\u001b[1;34m(ax, data, *args, **kwargs)\u001b[0m\n\u001b[0;32m   1587\u001b[0m     \u001b[1;32mdef\u001b[0m \u001b[0minner\u001b[0m\u001b[1;33m(\u001b[0m\u001b[0max\u001b[0m\u001b[1;33m,\u001b[0m \u001b[1;33m*\u001b[0m\u001b[0margs\u001b[0m\u001b[1;33m,\u001b[0m \u001b[0mdata\u001b[0m\u001b[1;33m=\u001b[0m\u001b[1;32mNone\u001b[0m\u001b[1;33m,\u001b[0m \u001b[1;33m**\u001b[0m\u001b[0mkwargs\u001b[0m\u001b[1;33m)\u001b[0m\u001b[1;33m:\u001b[0m\u001b[1;33m\u001b[0m\u001b[1;33m\u001b[0m\u001b[0m\n\u001b[0;32m   1588\u001b[0m         \u001b[1;32mif\u001b[0m \u001b[0mdata\u001b[0m \u001b[1;32mis\u001b[0m \u001b[1;32mNone\u001b[0m\u001b[1;33m:\u001b[0m\u001b[1;33m\u001b[0m\u001b[1;33m\u001b[0m\u001b[0m\n\u001b[1;32m-> 1589\u001b[1;33m             \u001b[1;32mreturn\u001b[0m \u001b[0mfunc\u001b[0m\u001b[1;33m(\u001b[0m\u001b[0max\u001b[0m\u001b[1;33m,\u001b[0m \u001b[1;33m*\u001b[0m\u001b[0mmap\u001b[0m\u001b[1;33m(\u001b[0m\u001b[0msanitize_sequence\u001b[0m\u001b[1;33m,\u001b[0m \u001b[0margs\u001b[0m\u001b[1;33m)\u001b[0m\u001b[1;33m,\u001b[0m \u001b[1;33m**\u001b[0m\u001b[0mkwargs\u001b[0m\u001b[1;33m)\u001b[0m\u001b[1;33m\u001b[0m\u001b[1;33m\u001b[0m\u001b[0m\n\u001b[0m\u001b[0;32m   1590\u001b[0m \u001b[1;33m\u001b[0m\u001b[0m\n\u001b[0;32m   1591\u001b[0m         \u001b[0mbound\u001b[0m \u001b[1;33m=\u001b[0m \u001b[0mnew_sig\u001b[0m\u001b[1;33m.\u001b[0m\u001b[0mbind\u001b[0m\u001b[1;33m(\u001b[0m\u001b[0max\u001b[0m\u001b[1;33m,\u001b[0m \u001b[1;33m*\u001b[0m\u001b[0margs\u001b[0m\u001b[1;33m,\u001b[0m \u001b[1;33m**\u001b[0m\u001b[0mkwargs\u001b[0m\u001b[1;33m)\u001b[0m\u001b[1;33m\u001b[0m\u001b[1;33m\u001b[0m\u001b[0m\n",
      "\u001b[1;32m~\\Anaconda3\\lib\\site-packages\\matplotlib\\axes\\_axes.py\u001b[0m in \u001b[0;36mscatter\u001b[1;34m(self, x, y, s, c, marker, cmap, norm, vmin, vmax, alpha, linewidths, verts, edgecolors, plotnonfinite, **kwargs)\u001b[0m\n\u001b[0;32m   4434\u001b[0m         \u001b[0my\u001b[0m \u001b[1;33m=\u001b[0m \u001b[0mnp\u001b[0m\u001b[1;33m.\u001b[0m\u001b[0mma\u001b[0m\u001b[1;33m.\u001b[0m\u001b[0mravel\u001b[0m\u001b[1;33m(\u001b[0m\u001b[0my\u001b[0m\u001b[1;33m)\u001b[0m\u001b[1;33m\u001b[0m\u001b[1;33m\u001b[0m\u001b[0m\n\u001b[0;32m   4435\u001b[0m         \u001b[1;32mif\u001b[0m \u001b[0mx\u001b[0m\u001b[1;33m.\u001b[0m\u001b[0msize\u001b[0m \u001b[1;33m!=\u001b[0m \u001b[0my\u001b[0m\u001b[1;33m.\u001b[0m\u001b[0msize\u001b[0m\u001b[1;33m:\u001b[0m\u001b[1;33m\u001b[0m\u001b[1;33m\u001b[0m\u001b[0m\n\u001b[1;32m-> 4436\u001b[1;33m             \u001b[1;32mraise\u001b[0m \u001b[0mValueError\u001b[0m\u001b[1;33m(\u001b[0m\u001b[1;34m\"x and y must be the same size\"\u001b[0m\u001b[1;33m)\u001b[0m\u001b[1;33m\u001b[0m\u001b[1;33m\u001b[0m\u001b[0m\n\u001b[0m\u001b[0;32m   4437\u001b[0m \u001b[1;33m\u001b[0m\u001b[0m\n\u001b[0;32m   4438\u001b[0m         \u001b[1;32mif\u001b[0m \u001b[0ms\u001b[0m \u001b[1;32mis\u001b[0m \u001b[1;32mNone\u001b[0m\u001b[1;33m:\u001b[0m\u001b[1;33m\u001b[0m\u001b[1;33m\u001b[0m\u001b[0m\n",
      "\u001b[1;31mValueError\u001b[0m: x and y must be the same size"
     ]
    },
    {
     "data": {
      "image/png": "[encoded data removed]",
      "text/plain": [
       "<Figure size 432x288 with 1 Axes>"
      ]
     },
     "metadata": {
      "needs_background": "light"
     },
     "output_type": "display_data"
    }
   ],
   "source": [
    "plt.scatter(y_test, y_train, color = 'red')\n",
    "#plt.plot(X_train, lr.predict(X_train), color = 'blue')\n",
    "plt.show()"
   ]
  },
  {
   "cell_type": "markdown",
   "metadata": {},
   "source": [
    "## ARIMA"
   ]
  },
  {
   "cell_type": "markdown",
   "metadata": {
    "collapsed": true
   },
   "source": [
    "We are going to apply one of the most commonly used method for time-series forecasting, known as ARIMA, which stands for Autoregressive Integrated Moving Average.\n",
    "\n",
    "ARIMA models are denoted with the notation ARIMA(p, d, q). These three parameters account for seasonality, trend, and noise in data:\n",
    "\n",
    "- 'p’ is the order of the ‘Auto Regressive’ (AR) term. It refers to the number of lags of Y to be used as predictors. It allows us to incorporate the effect of past values into our model. Intuitively, this would be similar to stating that it is likely to be warm tomorrow if it has been warm the past 3 days.\n",
    "- ‘q’ is the order of the ‘Moving Average’ (MA) term. It refers to the number of lagged forecast errors that should go into the ARIMA Model. This allows us to set the error of our model as a linear combination of the error values observed at previous time points in the past.\n",
    "\n",
    "- 'd' is the minimum number of differencing needed to make the series stationary. And if the time series is already stationary, then d = 0.Intuitively, this would be similar to stating that it is likely to be same temperature tomorrow if the difference in temperature in the last three days has been very small.\n",
    "\n",
    "\n",
    "An ARIMA model can be created using the statsmodels library as follows:\n",
    "\n",
    "- Define the model by calling ARIMA() and passing in the p, d, and q parameters.\n",
    "- The model is prepared on the training data by calling the fit() function.\n",
    "- Predictions can be made by calling the predict() function and specifying the index of the time or times to be predicted."
   ]
  },
  {
   "cell_type": "code",
   "execution_count": 80,
   "metadata": {},
   "outputs": [
    {
     "name": "stdout",
     "output_type": "stream",
     "text": [
      "Train: (31483,)\n",
      "Test: (8554,)\n"
     ]
    }
   ],
   "source": [
    "# Data with transactiondate\n",
    "#logerror_train = train[['transactiondate','logerror']]\n",
    "#logerror_test = test[['transactiondate','logerror']]\n",
    "\n",
    "# Logerror without transactiondate\n",
    "logerror_train = train['logerror']\n",
    "logerror_test = test['logerror']\n",
    "\n",
    "print('Train:',logerror_train.shape)\n",
    "print('Test:',logerror_test.shape)"
   ]
  },
  {
   "cell_type": "code",
   "execution_count": 66,
   "metadata": {},
   "outputs": [],
   "source": [
    "# Set index.\n",
    "#logerror_train=logerror_train.set_index('transactiondate')\n",
    "#logerror_test=logerror_test.set_index('transactiondate')"
   ]
  },
  {
   "cell_type": "code",
   "execution_count": 81,
   "metadata": {},
   "outputs": [
    {
     "data": {
      "text/plain": [
       "0    0.055619\n",
       "1    0.005383\n",
       "2   -0.103410\n",
       "3   -0.020526\n",
       "4    0.101723\n",
       "Name: logerror, dtype: float64"
      ]
     },
     "execution_count": 81,
     "metadata": {},
     "output_type": "execute_result"
    }
   ],
   "source": [
    "logerror_train.head()"
   ]
  },
  {
   "cell_type": "markdown",
   "metadata": {},
   "source": [
    "We have tested if the logerror is stationary by using the Augmented Dickey Fuller test. Because we need differencing only if the series is non-stationary. Else, no differencing is needed, that is, d=0.\n",
    "\n",
    "In this case, we have d=0.\n",
    "\n",
    "More information: https://www.machinelearningplus.com/time-series/arima-model-time-series-forecasting-python/"
   ]
  },
  {
   "cell_type": "code",
   "execution_count": 71,
   "metadata": {},
   "outputs": [
    {
     "data": {
      "text/plain": [
       "pandas.core.frame.DataFrame"
      ]
     },
     "execution_count": 71,
     "metadata": {},
     "output_type": "execute_result"
    }
   ],
   "source": [
    "a = (logerror_train)"
   ]
  },
  {
   "cell_type": "code",
   "execution_count": 68,
   "metadata": {},
   "outputs": [
    {
     "data": {
      "image/png": "[encoded data removed]",
      "text/plain": [
       "<Figure size 432x288 with 1 Axes>"
      ]
     },
     "metadata": {},
     "output_type": "display_data"
    }
   ],
   "source": [
    "sns.set()\n",
    "logerror_train.groupby('transactiondate').mean().plot()\n",
    "plt.show()"
   ]
  },
  {
   "cell_type": "code",
   "execution_count": 84,
   "metadata": {},
   "outputs": [
    {
     "name": "stderr",
     "output_type": "stream",
     "text": [
      "C:\\Users\\samsung\\Anaconda3\\lib\\site-packages\\statsmodels\\tsa\\base\\tsa_model.py:215: ValueWarning: An unsupported index was provided and will be ignored when e.g. forecasting.\n",
      "  ' ignored when e.g. forecasting.', ValueWarning)\n",
      "C:\\Users\\samsung\\Anaconda3\\lib\\site-packages\\statsmodels\\tsa\\base\\tsa_model.py:215: ValueWarning: An unsupported index was provided and will be ignored when e.g. forecasting.\n",
      "  ' ignored when e.g. forecasting.', ValueWarning)\n"
     ]
    },
    {
     "name": "stdout",
     "output_type": "stream",
     "text": [
      "                             ARIMA Model Results                              \n",
      "==============================================================================\n",
      "Dep. Variable:             D.logerror   No. Observations:                31482\n",
      "Model:                 ARIMA(5, 1, 0)   Log Likelihood               50645.216\n",
      "Method:                       css-mle   S.D. of innovations              0.048\n",
      "Date:                Fri, 29 May 2020   AIC                        -101276.432\n",
      "Time:                        15:27:57   BIC                        -101217.931\n",
      "Sample:                             1   HQIC                       -101257.704\n",
      "                                                                              \n",
      "====================================================================================\n",
      "                       coef    std err          z      P>|z|      [0.025      0.975]\n",
      "------------------------------------------------------------------------------------\n",
      "const            -3.515e-07   7.75e-05     -0.005      0.996      -0.000       0.000\n",
      "ar.L1.D.logerror    -0.8362      0.006   -150.612      0.000      -0.847      -0.825\n",
      "ar.L2.D.logerror    -0.6711      0.007    -95.540      0.000      -0.685      -0.657\n",
      "ar.L3.D.logerror    -0.5040      0.007    -67.595      0.000      -0.519      -0.489\n",
      "ar.L4.D.logerror    -0.3410      0.007    -48.538      0.000      -0.355      -0.327\n",
      "ar.L5.D.logerror    -0.1719      0.006    -30.964      0.000      -0.183      -0.161\n",
      "                                    Roots                                    \n",
      "=============================================================================\n",
      "                  Real          Imaginary           Modulus         Frequency\n",
      "-----------------------------------------------------------------------------\n",
      "AR.1            0.5526           -1.2449j            1.3620           -0.1835\n",
      "AR.2            0.5526           +1.2449j            1.3620            0.1835\n",
      "AR.3           -1.4874           -0.0000j            1.4874           -0.5000\n",
      "AR.4           -0.8006           -1.2112j            1.4518           -0.3430\n",
      "AR.5           -0.8006           +1.2112j            1.4518            0.3430\n",
      "-----------------------------------------------------------------------------\n"
     ]
    }
   ],
   "source": [
    "model = ARIMA(logerror_train, order=(5,1,0))\n",
    "model_fit = model.fit(disp=0)\n",
    "print(model_fit.summary())"
   ]
  },
  {
   "cell_type": "code",
   "execution_count": 82,
   "metadata": {},
   "outputs": [
    {
     "name": "stderr",
     "output_type": "stream",
     "text": [
      "C:\\Users\\samsung\\Anaconda3\\lib\\site-packages\\statsmodels\\tsa\\base\\tsa_model.py:215: ValueWarning: An unsupported index was provided and will be ignored when e.g. forecasting.\n",
      "  ' ignored when e.g. forecasting.', ValueWarning)\n"
     ]
    },
    {
     "ename": "ValueError",
     "evalue": "The computed initial AR coefficients are not stationary\nYou should induce stationarity, choose a different model order, or you can\npass your own start_params.",
     "output_type": "error",
     "traceback": [
      "\u001b[1;31m---------------------------------------------------------------------------\u001b[0m",
      "\u001b[1;31mValueError\u001b[0m                                Traceback (most recent call last)",
      "\u001b[1;32m<ipython-input-82-fa5286e5f86b>\u001b[0m in \u001b[0;36m<module>\u001b[1;34m\u001b[0m\n\u001b[0;32m      5\u001b[0m \u001b[1;33m\u001b[0m\u001b[0m\n\u001b[0;32m      6\u001b[0m \u001b[1;31m# Fit model.\u001b[0m\u001b[1;33m\u001b[0m\u001b[1;33m\u001b[0m\u001b[1;33m\u001b[0m\u001b[0m\n\u001b[1;32m----> 7\u001b[1;33m \u001b[0mresults\u001b[0m \u001b[1;33m=\u001b[0m \u001b[0mmodel\u001b[0m\u001b[1;33m.\u001b[0m\u001b[0mfit\u001b[0m\u001b[1;33m(\u001b[0m\u001b[1;33m)\u001b[0m\u001b[1;33m\u001b[0m\u001b[1;33m\u001b[0m\u001b[0m\n\u001b[0m\u001b[0;32m      8\u001b[0m \u001b[1;33m\u001b[0m\u001b[0m\n\u001b[0;32m      9\u001b[0m \u001b[1;31m#print(model_fit.summary())\u001b[0m\u001b[1;33m\u001b[0m\u001b[1;33m\u001b[0m\u001b[1;33m\u001b[0m\u001b[0m\n",
      "\u001b[1;32m~\\Anaconda3\\lib\\site-packages\\statsmodels\\tsa\\arima_model.py\u001b[0m in \u001b[0;36mfit\u001b[1;34m(self, start_params, trend, method, transparams, solver, maxiter, full_output, disp, callback, start_ar_lags, **kwargs)\u001b[0m\n\u001b[0;32m    936\u001b[0m         \u001b[1;32melse\u001b[0m\u001b[1;33m:\u001b[0m  \u001b[1;31m# estimate starting parameters\u001b[0m\u001b[1;33m\u001b[0m\u001b[1;33m\u001b[0m\u001b[0m\n\u001b[0;32m    937\u001b[0m             start_params = self._fit_start_params((k_ar, k_ma, k), method,\n\u001b[1;32m--> 938\u001b[1;33m                                                   start_ar_lags)\n\u001b[0m\u001b[0;32m    939\u001b[0m \u001b[1;33m\u001b[0m\u001b[0m\n\u001b[0;32m    940\u001b[0m         \u001b[1;32mif\u001b[0m \u001b[0mtransparams\u001b[0m\u001b[1;33m:\u001b[0m  \u001b[1;31m# transform initial parameters to ensure invertibility\u001b[0m\u001b[1;33m\u001b[0m\u001b[1;33m\u001b[0m\u001b[0m\n",
      "\u001b[1;32m~\\Anaconda3\\lib\\site-packages\\statsmodels\\tsa\\arima_model.py\u001b[0m in \u001b[0;36m_fit_start_params\u001b[1;34m(self, order, method, start_ar_lags)\u001b[0m\n\u001b[0;32m    552\u001b[0m             \u001b[0mfunc\u001b[0m \u001b[1;33m=\u001b[0m \u001b[1;32mlambda\u001b[0m \u001b[0mparams\u001b[0m\u001b[1;33m:\u001b[0m \u001b[1;33m-\u001b[0m\u001b[0mself\u001b[0m\u001b[1;33m.\u001b[0m\u001b[0mloglike_css\u001b[0m\u001b[1;33m(\u001b[0m\u001b[0mparams\u001b[0m\u001b[1;33m)\u001b[0m\u001b[1;33m\u001b[0m\u001b[1;33m\u001b[0m\u001b[0m\n\u001b[0;32m    553\u001b[0m             \u001b[1;31m#start_params = [.1]*(k_ar+k_ma+k_exog) # different one for k?\u001b[0m\u001b[1;33m\u001b[0m\u001b[1;33m\u001b[0m\u001b[1;33m\u001b[0m\u001b[0m\n\u001b[1;32m--> 554\u001b[1;33m             \u001b[0mstart_params\u001b[0m \u001b[1;33m=\u001b[0m \u001b[0mself\u001b[0m\u001b[1;33m.\u001b[0m\u001b[0m_fit_start_params_hr\u001b[0m\u001b[1;33m(\u001b[0m\u001b[0morder\u001b[0m\u001b[1;33m,\u001b[0m \u001b[0mstart_ar_lags\u001b[0m\u001b[1;33m)\u001b[0m\u001b[1;33m\u001b[0m\u001b[1;33m\u001b[0m\u001b[0m\n\u001b[0m\u001b[0;32m    555\u001b[0m             \u001b[1;32mif\u001b[0m \u001b[0mself\u001b[0m\u001b[1;33m.\u001b[0m\u001b[0mtransparams\u001b[0m\u001b[1;33m:\u001b[0m\u001b[1;33m\u001b[0m\u001b[1;33m\u001b[0m\u001b[0m\n\u001b[0;32m    556\u001b[0m                 \u001b[0mstart_params\u001b[0m \u001b[1;33m=\u001b[0m \u001b[0mself\u001b[0m\u001b[1;33m.\u001b[0m\u001b[0m_invtransparams\u001b[0m\u001b[1;33m(\u001b[0m\u001b[0mstart_params\u001b[0m\u001b[1;33m)\u001b[0m\u001b[1;33m\u001b[0m\u001b[1;33m\u001b[0m\u001b[0m\n",
      "\u001b[1;32m~\\Anaconda3\\lib\\site-packages\\statsmodels\\tsa\\arima_model.py\u001b[0m in \u001b[0;36m_fit_start_params_hr\u001b[1;34m(self, order, start_ar_lags)\u001b[0m\n\u001b[0;32m    531\u001b[0m         if p and not np.all(np.abs(np.roots(np.r_[1, -start_params[k:k + p]]\n\u001b[0;32m    532\u001b[0m                                             )) < 1):\n\u001b[1;32m--> 533\u001b[1;33m             raise ValueError(\"The computed initial AR coefficients are not \"\n\u001b[0m\u001b[0;32m    534\u001b[0m                              \u001b[1;34m\"stationary\\nYou should induce stationarity, \"\u001b[0m\u001b[1;33m\u001b[0m\u001b[1;33m\u001b[0m\u001b[0m\n\u001b[0;32m    535\u001b[0m                              \u001b[1;34m\"choose a different model order, or you can\\n\"\u001b[0m\u001b[1;33m\u001b[0m\u001b[1;33m\u001b[0m\u001b[0m\n",
      "\u001b[1;31mValueError\u001b[0m: The computed initial AR coefficients are not stationary\nYou should induce stationarity, choose a different model order, or you can\npass your own start_params."
     ]
    }
   ],
   "source": [
    "from statsmodels.tsa.arima_model import ARMA\n",
    "\n",
    "# Create ARMA model\n",
    "model = ARMA(logerror_train, order=(1,1))\n",
    "\n",
    "# Fit model.\n",
    "results = model.fit()\n",
    "\n",
    "#print(model_fit.summary())"
   ]
  },
  {
   "cell_type": "markdown",
   "metadata": {},
   "source": [
    "### Selection of features\n",
    "\n",
    "\n",
    "The dataset contains 61 features, and a lot of them have missing values. In order to select the best features for the model, I use RandomForest to calculate the importance of features."
   ]
  },
  {
   "cell_type": "markdown",
   "metadata": {},
   "source": [
    "#### Check feature importance"
   ]
  },
  {
   "cell_type": "code",
   "execution_count": null,
   "metadata": {},
   "outputs": [],
   "source": [
    "rf.feature_importances_"
   ]
  },
  {
   "cell_type": "code",
   "execution_count": null,
   "metadata": {
    "collapsed": true
   },
   "outputs": [],
   "source": []
  }
 ],
 "metadata": {
  "kernelspec": {
   "display_name": "Python 3",
   "language": "python",
   "name": "python3"
  },
  "language_info": {
   "codemirror_mode": {
    "name": "ipython",
    "version": 3
   },
   "file_extension": ".py",
   "mimetype": "text/x-python",
   "name": "python",
   "nbconvert_exporter": "python",
   "pygments_lexer": "ipython3",
   "version": "3.7.3"
  }
 },
 "nbformat": 4,
 "nbformat_minor": 2
}
