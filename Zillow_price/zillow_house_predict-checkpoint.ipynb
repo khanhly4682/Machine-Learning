{
 "cells": [
  {
   "cell_type": "markdown",
   "metadata": {},
   "source": [
    "# Zillow's Home Value Prediction"
   ]
  },
  {
   "cell_type": "markdown",
   "metadata": {},
   "source": [
    "__Objective:__\n",
    "\n",
    "This project is to predict the log-error between their Zestimate and the actual sale price, given all the features of a home. The dataset consists of 2 separate csv files containing logerror house price prediction and properties of the house.\n",
    "\n",
    "The log error is defined as:\n",
    "- _logerror=log(Zestimate)−log(SalePrice)_\n",
    "\n",
    "and it is recorded in the transactions file train.csv. \n",
    "\n",
    "__Dataset__:\n",
    "\n",
    "https://www.kaggle.com/c/zillow-prize-1/data?\n",
    "\n",
    "train_2017.csv\n",
    "properties.csv\n",
    "\n",
    "We will extract relevant data that is available across all the files, aggregate the data, and reformat the tables within Pandas dataframes so information is consistent. Lastly, we will perform some cleaning so the tables do not contain missing values.\n",
    "\n",
    "This notebook contain the following steps:\n",
    "\n",
    "(6) Build a baseline model notebook for your CP\n",
    "using \"pmdarima\" (see \"Resources\" below).\n",
    "\n",
    "(6.1) To assess the performance of your model/s, do the following:\n",
    "\n",
    "(a) Split the dataset into training and test set, determining\n",
    "an appropriate split. For time series forecasting, it is\n",
    "customary for the training set to be in the chronological\n",
    "past, and for the test set in the chronological future of\n",
    "the training set. Let's discuss specifics associated with\n",
    "your project in a meeting before you begin working on this\n",
    "task.\n",
    "\n",
    "(b) Build time series model/s using the training set.\n",
    "\n",
    "(c) Compute RMSE, MAPE (*) and R^2 for the training set.\n",
    "\n",
    "This might be implemented in different ways depending\n",
    "on the package you are using (see \"Resources\" below).\n",
    "\n",
    "(d) Compute RMSE, MAPE and R^2 for the test set.\n",
    "\n",
    "(e) Determine if there is overfitting, by comparing (c)\n",
    "and (d).\n",
    "\n",
    "(f) Show the following graphs:\n",
    "\n",
    "(f.1) Predicted vs Actual scatterplot.\n",
    "\n",
    "(f.2) Predicted vs Residuals scatterplot.\n",
    "\n",
    "(f.3) Histogram of Residuals, identifying positive\n",
    "and negative residual worst-cases for 90% and\n",
    "95% of the histogram density. \n",
    "\n",
    "(6.2) Present an analysis of the performance of the model/s\n",
    "in light of (6.1)."
   ]
  },
  {
   "cell_type": "code",
   "execution_count": 23,
   "metadata": {},
   "outputs": [],
   "source": [
    "import pandas as pd\n",
    "import numpy as np\n",
    "import math\n",
    "\n",
    "from matplotlib import pyplot as plt\n",
    "from matplotlib.legend_handler import HandlerBase\n",
    "from matplotlib.text import Text\n",
    "\n",
    "from sklearn.model_selection import train_test_split\n",
    "from sklearn.linear_model import LinearRegression\n",
    "\n",
    "from sklearn.metrics import mean_squared_error\n",
    "from sklearn.metrics import r2_score\n",
    "\n",
    "from statsmodels.tsa.arima_model import ARIMA\n",
    "\n",
    "import seaborn as sns"
   ]
  },
  {
   "cell_type": "markdown",
   "metadata": {},
   "source": [
    "#### Data"
   ]
  },
  {
   "cell_type": "code",
   "execution_count": 2,
   "metadata": {},
   "outputs": [
    {
     "data": {
      "text/html": [
       "<div>\n",
       "<style scoped>\n",
       "    .dataframe tbody tr th:only-of-type {\n",
       "        vertical-align: middle;\n",
       "    }\n",
       "\n",
       "    .dataframe tbody tr th {\n",
       "        vertical-align: top;\n",
       "    }\n",
       "\n",
       "    .dataframe thead th {\n",
       "        text-align: right;\n",
       "    }\n",
       "</style>\n",
       "<table border=\"1\" class=\"dataframe\">\n",
       "  <thead>\n",
       "    <tr style=\"text-align: right;\">\n",
       "      <th></th>\n",
       "      <th>logerror</th>\n",
       "      <th>transactiondate</th>\n",
       "      <th>bathroomcnt</th>\n",
       "      <th>bedroomcnt</th>\n",
       "      <th>buildingqualitytypeid</th>\n",
       "      <th>calculatedfinishedsquarefeet</th>\n",
       "      <th>fips</th>\n",
       "      <th>heatingorsystemtypeid</th>\n",
       "      <th>latitude</th>\n",
       "      <th>longitude</th>\n",
       "      <th>...</th>\n",
       "      <th>propertyzoningdesc</th>\n",
       "      <th>regionidcity</th>\n",
       "      <th>regionidcounty</th>\n",
       "      <th>regionidneighborhood</th>\n",
       "      <th>regionidzip</th>\n",
       "      <th>roomcnt</th>\n",
       "      <th>unitcnt</th>\n",
       "      <th>yearbuilt</th>\n",
       "      <th>structuretaxvaluedollarcnt</th>\n",
       "      <th>taxvaluedollarcnt</th>\n",
       "    </tr>\n",
       "  </thead>\n",
       "  <tbody>\n",
       "    <tr>\n",
       "      <th>0</th>\n",
       "      <td>0.055619</td>\n",
       "      <td>1/1/2017</td>\n",
       "      <td>1.0</td>\n",
       "      <td>2</td>\n",
       "      <td>6</td>\n",
       "      <td>1465</td>\n",
       "      <td>6111</td>\n",
       "      <td>2</td>\n",
       "      <td>34449266</td>\n",
       "      <td>-119281531</td>\n",
       "      <td>...</td>\n",
       "      <td>LAR1</td>\n",
       "      <td>13091</td>\n",
       "      <td>2061</td>\n",
       "      <td>118208</td>\n",
       "      <td>97099</td>\n",
       "      <td>5</td>\n",
       "      <td>1</td>\n",
       "      <td>1967.0</td>\n",
       "      <td>88000</td>\n",
       "      <td>464000</td>\n",
       "    </tr>\n",
       "    <tr>\n",
       "      <th>1</th>\n",
       "      <td>0.005383</td>\n",
       "      <td>1/1/2017</td>\n",
       "      <td>2.0</td>\n",
       "      <td>3</td>\n",
       "      <td>6</td>\n",
       "      <td>1243</td>\n",
       "      <td>6059</td>\n",
       "      <td>2</td>\n",
       "      <td>33886168</td>\n",
       "      <td>-117823170</td>\n",
       "      <td>...</td>\n",
       "      <td>LAR1</td>\n",
       "      <td>21412</td>\n",
       "      <td>1286</td>\n",
       "      <td>118208</td>\n",
       "      <td>97078</td>\n",
       "      <td>6</td>\n",
       "      <td>1</td>\n",
       "      <td>1962.0</td>\n",
       "      <td>85289</td>\n",
       "      <td>564778</td>\n",
       "    </tr>\n",
       "    <tr>\n",
       "      <th>2</th>\n",
       "      <td>-0.103410</td>\n",
       "      <td>1/1/2017</td>\n",
       "      <td>3.0</td>\n",
       "      <td>4</td>\n",
       "      <td>8</td>\n",
       "      <td>2376</td>\n",
       "      <td>6037</td>\n",
       "      <td>2</td>\n",
       "      <td>34245180</td>\n",
       "      <td>-118240722</td>\n",
       "      <td>...</td>\n",
       "      <td>LCR110000*</td>\n",
       "      <td>396551</td>\n",
       "      <td>3101</td>\n",
       "      <td>118208</td>\n",
       "      <td>96330</td>\n",
       "      <td>0</td>\n",
       "      <td>1</td>\n",
       "      <td>1970.0</td>\n",
       "      <td>108918</td>\n",
       "      <td>145143</td>\n",
       "    </tr>\n",
       "    <tr>\n",
       "      <th>3</th>\n",
       "      <td>-0.020526</td>\n",
       "      <td>1/1/2017</td>\n",
       "      <td>2.0</td>\n",
       "      <td>3</td>\n",
       "      <td>6</td>\n",
       "      <td>1492</td>\n",
       "      <td>6111</td>\n",
       "      <td>2</td>\n",
       "      <td>34230044</td>\n",
       "      <td>-118993991</td>\n",
       "      <td>...</td>\n",
       "      <td>LAR1</td>\n",
       "      <td>51239</td>\n",
       "      <td>2061</td>\n",
       "      <td>118208</td>\n",
       "      <td>97091</td>\n",
       "      <td>6</td>\n",
       "      <td>1</td>\n",
       "      <td>1982.0</td>\n",
       "      <td>198640</td>\n",
       "      <td>331064</td>\n",
       "    </tr>\n",
       "    <tr>\n",
       "      <th>4</th>\n",
       "      <td>0.101723</td>\n",
       "      <td>1/1/2017</td>\n",
       "      <td>1.0</td>\n",
       "      <td>2</td>\n",
       "      <td>5</td>\n",
       "      <td>738</td>\n",
       "      <td>6037</td>\n",
       "      <td>2</td>\n",
       "      <td>34149214</td>\n",
       "      <td>-118239357</td>\n",
       "      <td>...</td>\n",
       "      <td>GLR4YY</td>\n",
       "      <td>45457</td>\n",
       "      <td>3101</td>\n",
       "      <td>276258</td>\n",
       "      <td>96325</td>\n",
       "      <td>0</td>\n",
       "      <td>1</td>\n",
       "      <td>1922.0</td>\n",
       "      <td>18890</td>\n",
       "      <td>218552</td>\n",
       "    </tr>\n",
       "  </tbody>\n",
       "</table>\n",
       "<p>5 rows × 23 columns</p>\n",
       "</div>"
      ],
      "text/plain": [
       "   logerror transactiondate  bathroomcnt  bedroomcnt  buildingqualitytypeid  \\\n",
       "0  0.055619        1/1/2017          1.0           2                      6   \n",
       "1  0.005383        1/1/2017          2.0           3                      6   \n",
       "2 -0.103410        1/1/2017          3.0           4                      8   \n",
       "3 -0.020526        1/1/2017          2.0           3                      6   \n",
       "4  0.101723        1/1/2017          1.0           2                      5   \n",
       "\n",
       "   calculatedfinishedsquarefeet  fips  heatingorsystemtypeid  latitude  \\\n",
       "0                          1465  6111                      2  34449266   \n",
       "1                          1243  6059                      2  33886168   \n",
       "2                          2376  6037                      2  34245180   \n",
       "3                          1492  6111                      2  34230044   \n",
       "4                           738  6037                      2  34149214   \n",
       "\n",
       "   longitude  ...  propertyzoningdesc regionidcity  regionidcounty  \\\n",
       "0 -119281531  ...                LAR1        13091            2061   \n",
       "1 -117823170  ...                LAR1        21412            1286   \n",
       "2 -118240722  ...          LCR110000*       396551            3101   \n",
       "3 -118993991  ...                LAR1        51239            2061   \n",
       "4 -118239357  ...              GLR4YY        45457            3101   \n",
       "\n",
       "  regionidneighborhood  regionidzip  roomcnt  unitcnt  yearbuilt  \\\n",
       "0               118208        97099        5        1     1967.0   \n",
       "1               118208        97078        6        1     1962.0   \n",
       "2               118208        96330        0        1     1970.0   \n",
       "3               118208        97091        6        1     1982.0   \n",
       "4               276258        96325        0        1     1922.0   \n",
       "\n",
       "   structuretaxvaluedollarcnt  taxvaluedollarcnt  \n",
       "0                       88000             464000  \n",
       "1                       85289             564778  \n",
       "2                      108918             145143  \n",
       "3                      198640             331064  \n",
       "4                       18890             218552  \n",
       "\n",
       "[5 rows x 23 columns]"
      ]
     },
     "execution_count": 2,
     "metadata": {},
     "output_type": "execute_result"
    }
   ],
   "source": [
    "df = pd.read_csv('D:\\\\70. Study\\\\00 Data Science Springboard\\\\02-Project Capstone 1\\\\Project 2 - Zillow price\\\\data\\\\zillow_price_wrangled.csv')\n",
    "df.head()"
   ]
  },
  {
   "cell_type": "markdown",
   "metadata": {},
   "source": [
    "- The data includes 40372 rows and 23 columns.\n",
    "- Categorical columns: 3 (including propertycountylandusecode, and propertyzoningdesc; transactiondate is datetime type.\n",
    "- Numerical columns: 20\n",
    "\n",
    "We have 3 counties in California which their FIPS code are listed as:\n",
    "- 6037 Los Angeles. \n",
    "- 6059 Orange\n",
    "- 6111 Ventura\n",
    "\n",
    "Based on the FIPS codes, I will perform time series analysis for each county.\n"
   ]
  },
  {
   "cell_type": "code",
   "execution_count": 3,
   "metadata": {},
   "outputs": [
    {
     "name": "stdout",
     "output_type": "stream",
     "text": [
      "<class 'pandas.core.frame.DataFrame'>\n",
      "RangeIndex: 40372 entries, 0 to 40371\n",
      "Data columns (total 23 columns):\n",
      "logerror                        40372 non-null float64\n",
      "transactiondate                 40372 non-null object\n",
      "bathroomcnt                     40372 non-null float64\n",
      "bedroomcnt                      40372 non-null int64\n",
      "buildingqualitytypeid           40372 non-null int64\n",
      "calculatedfinishedsquarefeet    40372 non-null int64\n",
      "fips                            40372 non-null int64\n",
      "heatingorsystemtypeid           40372 non-null int64\n",
      "latitude                        40372 non-null int64\n",
      "longitude                       40372 non-null int64\n",
      "lotsizesquarefeet               40372 non-null int64\n",
      "propertycountylandusecode       40372 non-null object\n",
      "propertylandusetypeid           40372 non-null int64\n",
      "propertyzoningdesc              40372 non-null object\n",
      "regionidcity                    40372 non-null int64\n",
      "regionidcounty                  40372 non-null int64\n",
      "regionidneighborhood            40372 non-null int64\n",
      "regionidzip                     40372 non-null int64\n",
      "roomcnt                         40372 non-null int64\n",
      "unitcnt                         40372 non-null int64\n",
      "yearbuilt                       40372 non-null float64\n",
      "structuretaxvaluedollarcnt      40372 non-null int64\n",
      "taxvaluedollarcnt               40372 non-null int64\n",
      "dtypes: float64(3), int64(17), object(3)\n",
      "memory usage: 7.1+ MB\n"
     ]
    }
   ],
   "source": [
    "df.info()"
   ]
  },
  {
   "cell_type": "markdown",
   "metadata": {},
   "source": [
    "### Prepare data"
   ]
  },
  {
   "cell_type": "markdown",
   "metadata": {},
   "source": [
    "Split the dataset into training and test set, determining\n",
    "an appropriate split. For time series forecasting, it is\n",
    "customary for the training set to be in the chronological\n",
    "past, and for the test set in the chronological future of\n",
    "the training set. \n",
    "\n",
    "- y = prediction log error (called 'logerror')\n",
    "- X = other features,\n",
    "which we will use to fit a linear regression model and predict the log error of the Zillow housing price.\n",
    "\n",
    "I will drop some of features that are not used in the models (e.g. transaction dates, 'propertycountylandusecode','propertyzoningdesc'\n"
   ]
  },
  {
   "cell_type": "code",
   "execution_count": 92,
   "metadata": {},
   "outputs": [],
   "source": [
    "# Drop unnessary columns\n",
    "cols = ['propertycountylandusecode', 'propertyzoningdesc','buildingqualitytypeid',\n",
    "       'heatingorsystemtypeid','latitude', 'longitude','propertylandusetypeid', 'regionidcity', 'regionidcounty',\n",
    "       'regionidneighborhood', 'regionidzip']\n",
    "data = df.drop(columns=cols)"
   ]
  },
  {
   "cell_type": "code",
   "execution_count": 94,
   "metadata": {},
   "outputs": [
    {
     "data": {
      "text/html": [
       "<div>\n",
       "<style scoped>\n",
       "    .dataframe tbody tr th:only-of-type {\n",
       "        vertical-align: middle;\n",
       "    }\n",
       "\n",
       "    .dataframe tbody tr th {\n",
       "        vertical-align: top;\n",
       "    }\n",
       "\n",
       "    .dataframe thead th {\n",
       "        text-align: right;\n",
       "    }\n",
       "</style>\n",
       "<table border=\"1\" class=\"dataframe\">\n",
       "  <thead>\n",
       "    <tr style=\"text-align: right;\">\n",
       "      <th></th>\n",
       "      <th>logerror</th>\n",
       "      <th>transactiondate</th>\n",
       "      <th>bathroomcnt</th>\n",
       "      <th>bedroomcnt</th>\n",
       "      <th>calculatedfinishedsquarefeet</th>\n",
       "      <th>fips</th>\n",
       "      <th>lotsizesquarefeet</th>\n",
       "      <th>roomcnt</th>\n",
       "      <th>unitcnt</th>\n",
       "      <th>yearbuilt</th>\n",
       "      <th>structuretaxvaluedollarcnt</th>\n",
       "      <th>taxvaluedollarcnt</th>\n",
       "    </tr>\n",
       "  </thead>\n",
       "  <tbody>\n",
       "    <tr>\n",
       "      <th>0</th>\n",
       "      <td>0.055619</td>\n",
       "      <td>1/1/2017</td>\n",
       "      <td>1.0</td>\n",
       "      <td>2</td>\n",
       "      <td>1465</td>\n",
       "      <td>6111</td>\n",
       "      <td>12647</td>\n",
       "      <td>5</td>\n",
       "      <td>1</td>\n",
       "      <td>1967.0</td>\n",
       "      <td>88000</td>\n",
       "      <td>464000</td>\n",
       "    </tr>\n",
       "    <tr>\n",
       "      <th>1</th>\n",
       "      <td>0.005383</td>\n",
       "      <td>1/1/2017</td>\n",
       "      <td>2.0</td>\n",
       "      <td>3</td>\n",
       "      <td>1243</td>\n",
       "      <td>6059</td>\n",
       "      <td>8432</td>\n",
       "      <td>6</td>\n",
       "      <td>1</td>\n",
       "      <td>1962.0</td>\n",
       "      <td>85289</td>\n",
       "      <td>564778</td>\n",
       "    </tr>\n",
       "    <tr>\n",
       "      <th>2</th>\n",
       "      <td>-0.103410</td>\n",
       "      <td>1/1/2017</td>\n",
       "      <td>3.0</td>\n",
       "      <td>4</td>\n",
       "      <td>2376</td>\n",
       "      <td>6037</td>\n",
       "      <td>13038</td>\n",
       "      <td>0</td>\n",
       "      <td>1</td>\n",
       "      <td>1970.0</td>\n",
       "      <td>108918</td>\n",
       "      <td>145143</td>\n",
       "    </tr>\n",
       "    <tr>\n",
       "      <th>3</th>\n",
       "      <td>-0.020526</td>\n",
       "      <td>1/1/2017</td>\n",
       "      <td>2.0</td>\n",
       "      <td>3</td>\n",
       "      <td>1492</td>\n",
       "      <td>6111</td>\n",
       "      <td>903</td>\n",
       "      <td>6</td>\n",
       "      <td>1</td>\n",
       "      <td>1982.0</td>\n",
       "      <td>198640</td>\n",
       "      <td>331064</td>\n",
       "    </tr>\n",
       "    <tr>\n",
       "      <th>4</th>\n",
       "      <td>0.101723</td>\n",
       "      <td>1/1/2017</td>\n",
       "      <td>1.0</td>\n",
       "      <td>2</td>\n",
       "      <td>738</td>\n",
       "      <td>6037</td>\n",
       "      <td>4214</td>\n",
       "      <td>0</td>\n",
       "      <td>1</td>\n",
       "      <td>1922.0</td>\n",
       "      <td>18890</td>\n",
       "      <td>218552</td>\n",
       "    </tr>\n",
       "  </tbody>\n",
       "</table>\n",
       "</div>"
      ],
      "text/plain": [
       "   logerror transactiondate  bathroomcnt  bedroomcnt  \\\n",
       "0  0.055619        1/1/2017          1.0           2   \n",
       "1  0.005383        1/1/2017          2.0           3   \n",
       "2 -0.103410        1/1/2017          3.0           4   \n",
       "3 -0.020526        1/1/2017          2.0           3   \n",
       "4  0.101723        1/1/2017          1.0           2   \n",
       "\n",
       "   calculatedfinishedsquarefeet  fips  lotsizesquarefeet  roomcnt  unitcnt  \\\n",
       "0                          1465  6111              12647        5        1   \n",
       "1                          1243  6059               8432        6        1   \n",
       "2                          2376  6037              13038        0        1   \n",
       "3                          1492  6111                903        6        1   \n",
       "4                           738  6037               4214        0        1   \n",
       "\n",
       "   yearbuilt  structuretaxvaluedollarcnt  taxvaluedollarcnt  \n",
       "0     1967.0                       88000             464000  \n",
       "1     1962.0                       85289             564778  \n",
       "2     1970.0                      108918             145143  \n",
       "3     1982.0                      198640             331064  \n",
       "4     1922.0                       18890             218552  "
      ]
     },
     "execution_count": 94,
     "metadata": {},
     "output_type": "execute_result"
    }
   ],
   "source": [
    "data.head()"
   ]
  },
  {
   "cell_type": "code",
   "execution_count": 5,
   "metadata": {
    "scrolled": true
   },
   "outputs": [
    {
     "data": {
      "text/plain": [
       "0       2017-01-01\n",
       "1       2017-01-01\n",
       "2       2017-01-01\n",
       "3       2017-01-01\n",
       "4       2017-01-01\n",
       "5       2017-01-02\n",
       "6       2017-01-02\n",
       "7       2017-01-02\n",
       "8       2017-01-02\n",
       "9       2017-01-02\n",
       "10      2017-01-02\n",
       "11      2017-01-02\n",
       "12      2017-01-02\n",
       "13      2017-01-02\n",
       "14      2017-01-02\n",
       "15      2017-01-02\n",
       "16      2017-01-02\n",
       "17      2017-01-02\n",
       "18      2017-01-02\n",
       "19      2017-01-02\n",
       "20      2017-01-02\n",
       "21      2017-01-02\n",
       "22      2017-01-02\n",
       "23      2017-01-02\n",
       "24      2017-01-02\n",
       "25      2017-01-02\n",
       "26      2017-01-02\n",
       "27      2017-01-02\n",
       "28      2017-01-02\n",
       "29      2017-01-02\n",
       "           ...    \n",
       "40342   2017-09-19\n",
       "40343   2017-09-19\n",
       "40344   2017-09-19\n",
       "40345   2017-09-19\n",
       "40346   2017-09-19\n",
       "40347   2017-09-19\n",
       "40348   2017-09-19\n",
       "40349   2017-09-19\n",
       "40350   2017-09-19\n",
       "40351   2017-09-19\n",
       "40352   2017-09-19\n",
       "40353   2017-09-19\n",
       "40354   2017-09-19\n",
       "40355   2017-09-19\n",
       "40356   2017-09-19\n",
       "40357   2017-09-19\n",
       "40358   2017-09-19\n",
       "40359   2017-09-19\n",
       "40360   2017-09-19\n",
       "40361   2017-09-19\n",
       "40362   2017-09-19\n",
       "40363   2017-09-19\n",
       "40364   2017-09-19\n",
       "40365   2017-09-19\n",
       "40366   2017-09-19\n",
       "40367   2017-09-19\n",
       "40368   2017-09-19\n",
       "40369   2017-09-21\n",
       "40370   2017-09-21\n",
       "40371   2017-09-25\n",
       "Name: transactiondate, Length: 40372, dtype: datetime64[ns]"
      ]
     },
     "execution_count": 5,
     "metadata": {},
     "output_type": "execute_result"
    }
   ],
   "source": [
    "pd.to_datetime(data.transactiondate)"
   ]
  },
  {
   "cell_type": "markdown",
   "metadata": {},
   "source": [
    "We will split data into groups of properties based on FIPS code and build machine learning models for each FIPS code. "
   ]
  },
  {
   "cell_type": "code",
   "execution_count": 87,
   "metadata": {},
   "outputs": [],
   "source": [
    "# Split data using FIPS code\n",
    "la_data = data[data['fips']==6037]\n",
    "or_data=data[data['fips']==6059]\n",
    "ve_data=data[data['fips']==6111]"
   ]
  },
  {
   "cell_type": "code",
   "execution_count": 100,
   "metadata": {},
   "outputs": [],
   "source": [
    "## Linear Regression"
   ]
  },
  {
   "cell_type": "markdown",
   "metadata": {},
   "source": [
    "#### 1. Los Angeles"
   ]
  },
  {
   "cell_type": "code",
   "execution_count": 114,
   "metadata": {},
   "outputs": [],
   "source": [
    "def lr(data):\n",
    "    # Split training and test set based on time order.\n",
    "    train = data[data.transactiondate < '7/31/2017']\n",
    "    test = data[data.transactiondate > '7/31/2017']\n",
    "    \n",
    "    # Train data\n",
    "    X_train = train.drop(columns=['logerror'])\n",
    "    y_train = train['logerror']\n",
    "\n",
    "    # test data\n",
    "    X_test = test.drop(columns=['logerror'])\n",
    "    y_test = test['logerror']\n",
    "\n",
    "    # Drop the transactiondate\n",
    "    X_train = X_train.drop(columns=['transactiondate'])\n",
    "    y_train = y_train.drop(columns=['transactiondate'])\n",
    "    X_test = X_test.drop(columns=['transactiondate'])\n",
    "    y_test = y_test.drop(columns=['transactiondate'])\n",
    "    \n",
    "    print('X train data:',X_train.shape)\n",
    "    print('X test data:',X_test.shape)\n",
    "    print('y train data:',y_train.shape)\n",
    "    print('y test data:',y_test.shape)\n",
    "    \n",
    "    # Linear Regression model\n",
    "    lr = LinearRegression()\n",
    "\n",
    "    # Fit the data\n",
    "    lr.fit(X_train, y_train)\n",
    "\n",
    "    # Predict\n",
    "    y_pred = lr.predict(X_test)\n",
    "    \n",
    "    # ***Training set predict***\n",
    "    y_train_pred = lr.predict(X_train)\n",
    "    # Compute RMSE, MAPE (*) and R^2 for the training set.\n",
    "    mse_train = mean_squared_error(y_train, y_train_pred)\n",
    "    # Root Mean Squared Error (RMSE)\n",
    "    rmse = np.sqrt(mean_squared_error(y_train, y_train_pred))\n",
    "    # MAPE = Mean Absolute Percent Error\n",
    "    #   where Percent Error = [(Actual - Predicted) / Actual] * 100\n",
    "    mape = np.mean(np.abs((y_train - y_train_pred) / y_train)) * 100\n",
    "    # r-squared\n",
    "    r2 = r2_score(y_test, y_pred)\n",
    "    \n",
    "    \n",
    "    #*** Test set predict ***\n",
    "    print('---Training Predict Results---')\n",
    "    print('MSE:',mse)\n",
    "    print('RMSE:',rmse)\n",
    "    print('MAPE:',mape)\n",
    "    print('R-squared:',r2)\n",
    "    \n",
    "    # Mean Squared Error (MSE)\n",
    "    mse2 = mean_squared_error(y_test, y_pred)\n",
    "    # Root Mean Squared Error (RMSE)\n",
    "    rmse2 = np.sqrt(mean_squared_error(y_test, y_pred))\n",
    "    # MAPE = Mean Absolute Percent Error\n",
    "    #   where Percent Error = [(Actual - Predicted) / Actual] * 100\n",
    "    mape2 = np.mean(np.abs((y_test - y_pred) / y_test)) * 100\n",
    "    # r-squared\n",
    "    r22 = r2_score(y_test, y_pred)\n",
    "    \n",
    "    print('---Test set Predict Results---')\n",
    "    print('MSE:',mse2)\n",
    "    print('RMSE:',rmse2)\n",
    "    print('MAPE:',mape2)\n",
    "    print('R-squared:',r22)\n",
    "    \n",
    "    # Actual and Predicted Plot\n",
    "    #plt.subplot(211)\n",
    "    df1 = pd.DataFrame({'Actual':y_test, 'Predicted':y_pred})\n",
    "    #df1.plot(kind='bar',figsize=(10,5))    \n",
    "    df1.plot(figsize=(10,5))\n",
    "    plt.show()"
   ]
  },
  {
   "cell_type": "code",
   "execution_count": 115,
   "metadata": {},
   "outputs": [
    {
     "name": "stdout",
     "output_type": "stream",
     "text": [
      "X train data: (20657, 19)\n",
      "X test data: (5690, 19)\n",
      "y train data: (20657,)\n",
      "y test data: (5690,)\n",
      "---Training Predict Results---\n",
      "MSE: 0.0019752238505990486\n",
      "RMSE: 0.046643112687704574\n",
      "MAPE: 178.81370973778348\n",
      "R-squared: -0.0022102798605576623\n",
      "---Test set Predict Results---\n",
      "MSE: 0.0021453590707030982\n",
      "RMSE: 0.046318021014537074\n",
      "MAPE: 177.19580788543993\n",
      "R-squared: -0.0022102798605576623\n"
     ]
    },
    {
     "data": {
      "image/png": "[encoded data removed]",
      "text/plain": [
       "<Figure size 720x360 with 1 Axes>"
      ]
     },
     "metadata": {},
     "output_type": "display_data"
    }
   ],
   "source": [
    "# Linear Regression Model for predict LA logerror\n",
    "lr(la_data)"
   ]
  },
  {
   "cell_type": "markdown",
   "metadata": {},
   "source": [
    "We can see that the results from training set and test set are not much different. So the model works fit the training data well. There is no overfitting problem.\n",
    "\n",
    "|             |   MSE   |  RMSE  |  MAPE  |   R2   |\n",
    "| ----------- | ------- | ------ | ------ |--------|\n",
    "| Training set| 0.00197 |  0.040 | 227.02 | -0.026 | \n",
    "| Test set    | 0.00160 |  0.045 | 154.86 | -0.026 |\n"
   ]
  },
  {
   "cell_type": "markdown",
   "metadata": {},
   "source": [
    "#### 2 - Orange County"
   ]
  },
  {
   "cell_type": "code",
   "execution_count": 116,
   "metadata": {},
   "outputs": [
    {
     "name": "stdout",
     "output_type": "stream",
     "text": [
      "X train data: (7932, 19)\n",
      "X test data: (2066, 19)\n",
      "y train data: (7932,)\n",
      "y test data: (2066,)\n",
      "---Training Predict Results---\n",
      "MSE: 0.0019752238505990486\n",
      "RMSE: 0.04052080060609268\n",
      "MAPE: 227.02921354144925\n",
      "R-squared: -0.02685538768383\n",
      "---Test set Predict Results---\n",
      "MSE: 0.0016061989285513468\n",
      "RMSE: 0.040077411699751105\n",
      "MAPE: 154.86990627485966\n",
      "R-squared: -0.02685538768383\n"
     ]
    },
    {
     "data": {
      "image/png": "[encoded data removed]",
      "text/plain": [
       "<Figure size 720x360 with 1 Axes>"
      ]
     },
     "metadata": {},
     "output_type": "display_data"
    }
   ],
   "source": [
    "# Linear Regression Model for predict LA logerror\n",
    "lr(or_data)"
   ]
  },
  {
   "cell_type": "code",
   "execution_count": 89,
   "metadata": {},
   "outputs": [
    {
     "name": "stdout",
     "output_type": "stream",
     "text": [
      "(20657, 21)\n",
      "(5690, 21)\n"
     ]
    }
   ],
   "source": [
    "# Split training and test set based on time order.\n",
    "la_train = la_data[la_data.transactiondate < '7/31/2017']\n",
    "la_test = la_data[la_data.transactiondate > '7/31/2017']\n",
    "print(la_train.shape)\n",
    "print(la_test.shape)"
   ]
  },
  {
   "cell_type": "markdown",
   "metadata": {},
   "source": [
    "\n",
    "## 2. Random Forest"
   ]
  },
  {
   "cell_type": "code",
   "execution_count": 124,
   "metadata": {},
   "outputs": [],
   "source": [
    "## 2. Random Forest\n",
    "from sklearn.ensemble import RandomForestRegressor\n",
    "\n",
    "def rf(data):\n",
    "    # Split training and test set based on time order.\n",
    "    train = data[data.transactiondate < '7/31/2017']\n",
    "    test = data[data.transactiondate > '7/31/2017']\n",
    "    \n",
    "    # Train data\n",
    "    X_train = train.drop(columns=['logerror'])\n",
    "    y_train = train['logerror']\n",
    "\n",
    "    # test data\n",
    "    X_test = test.drop(columns=['logerror'])\n",
    "    y_test = test['logerror']\n",
    "\n",
    "    # Drop the transactiondate\n",
    "    X_train = X_train.drop(columns=['transactiondate'])\n",
    "    y_train = y_train.drop(columns=['transactiondate'])\n",
    "    X_test = X_test.drop(columns=['transactiondate'])\n",
    "    y_test = y_test.drop(columns=['transactiondate'])\n",
    "    \n",
    "    print('X train data:',X_train.shape)\n",
    "    print('X test data:',X_test.shape)\n",
    "    print('y train data:',y_train.shape)\n",
    "    print('y test data:',y_test.shape)\n",
    "    \n",
    "    # Random Forest model\n",
    "    rf = RandomForestRegressor(n_estimators=10, random_state=0)\n",
    "\n",
    "    # Fit the data\n",
    "    rf.fit(X_train, y_train)\n",
    "\n",
    "    # Predict\n",
    "    y_pred = rf.predict(X_test)\n",
    "    \n",
    "    # ***Training set predict***\n",
    "    y_train_pred = rf.predict(X_train)\n",
    "    # Compute RMSE, MAPE (*) and R^2 for the training set.\n",
    "    mse_train = mean_squared_error(y_train, y_train_pred)\n",
    "    # Root Mean Squared Error (RMSE)\n",
    "    rmse = np.sqrt(mean_squared_error(y_train, y_train_pred))\n",
    "    # MAPE = Mean Absolute Percent Error\n",
    "    #   where Percent Error = [(Actual - Predicted) / Actual] * 100\n",
    "    mape = np.mean(np.abs((y_train - y_train_pred) / y_train)) * 100\n",
    "    # r-squared\n",
    "    r2 = r2_score(y_test, y_pred)\n",
    "    \n",
    "    \n",
    "    #*** Test set predict ***\n",
    "    print('---Training Predict Results---')\n",
    "    print('MSE:',mse)\n",
    "    print('RMSE:',rmse)\n",
    "    print('MAPE:',mape)\n",
    "    print('R-squared:',r2)\n",
    "    \n",
    "    # Mean Squared Error (MSE)\n",
    "    mse2 = mean_squared_error(y_test, y_pred)\n",
    "    # Root Mean Squared Error (RMSE)\n",
    "    rmse2 = np.sqrt(mean_squared_error(y_test, y_pred))\n",
    "    # MAPE = Mean Absolute Percent Error\n",
    "    #   where Percent Error = [(Actual - Predicted) / Actual] * 100\n",
    "    mape2 = np.mean(np.abs((y_test - y_pred) / y_test)) * 100\n",
    "    # r-squared\n",
    "    r22 = r2_score(y_test, y_pred)\n",
    "    \n",
    "    print('---Test set Predict Results---')\n",
    "    print('MSE:',mse2)\n",
    "    print('RMSE:',rmse2)\n",
    "    print('MAPE:',mape2)\n",
    "    print('R-squared:',r22)\n",
    "    \n",
    "    # Actual and Predicted Plot\n",
    "    #plt.scatter(X_train,y_train)\n",
    "    #plt.plot(X_test, rf.predict(X_test),color='blue')\n",
    "    \n",
    "    #df1 = pd.DataFrame({'Actual':y_test, 'Predicted':y_pred})\n",
    "    #df1.plot(kind='bar',figsize=(10,5))    \n",
    "    #df1.plot(figsize=(10,5))\n",
    "    #plt.show()"
   ]
  },
  {
   "cell_type": "markdown",
   "metadata": {},
   "source": [
    "#### LA"
   ]
  },
  {
   "cell_type": "code",
   "execution_count": 125,
   "metadata": {},
   "outputs": [
    {
     "name": "stdout",
     "output_type": "stream",
     "text": [
      "X train data: (20657, 19)\n",
      "X test data: (5690, 19)\n",
      "y train data: (20657,)\n",
      "y test data: (5690,)\n",
      "---Training Predict Results---\n",
      "MSE: 0.0019752238505990486\n",
      "RMSE: 0.021001317209551264\n",
      "MAPE: 168.72469302960144\n",
      "R-squared: -0.1423779772139635\n",
      "---Test set Predict Results---\n",
      "MSE: 0.0024454059241224577\n",
      "RMSE: 0.04945104573335591\n",
      "MAPE: 322.45267258774135\n",
      "R-squared: -0.1423779772139635\n"
     ]
    }
   ],
   "source": [
    "# Random forest applied to predict houses logerror in LA county\n",
    "rf(la_data)"
   ]
  },
  {
   "cell_type": "markdown",
   "metadata": {},
   "source": [
    "\n",
    "\n",
    "|             |   MSE   |  RMSE  |  MAPE  |   R2  |\n",
    "| ----------- | ------- | ------ | ------ |-------|\n",
    "| Training set| 0.00197 |  0.021 | 168.72 | -0.14 | \n",
    "| Test set    | 0.00244 |  0.049 | 322.45 | -0.14 |\n"
   ]
  },
  {
   "cell_type": "markdown",
   "metadata": {},
   "source": [
    "#### OR"
   ]
  },
  {
   "cell_type": "code",
   "execution_count": 127,
   "metadata": {},
   "outputs": [
    {
     "name": "stdout",
     "output_type": "stream",
     "text": [
      "X train data: (7932, 19)\n",
      "X test data: (2066, 19)\n",
      "y train data: (7932,)\n",
      "y test data: (2066,)\n",
      "---Training Predict Results---\n",
      "MSE: 0.0019752238505990486\n",
      "RMSE: 0.01844704608271622\n",
      "MAPE: 186.24127429903282\n",
      "R-squared: -0.17295682496222664\n",
      "---Test set Predict Results---\n",
      "MSE: 0.001834729620244642\n",
      "RMSE: 0.0428337439438189\n",
      "MAPE: 267.21284351841416\n",
      "R-squared: -0.17295682496222664\n"
     ]
    }
   ],
   "source": [
    "# Random forest applied to predict houses logerror in LA county\n",
    "rf(or_data)"
   ]
  },
  {
   "cell_type": "markdown",
   "metadata": {},
   "source": [
    "#### Comments\n",
    "1. For Los Angeles data set.\n",
    "\n",
    "|                  |   MSE   |  RMSE  |  MAPE  |   R2   |\n",
    "| -----------      | ------- | ------ | ------ |------- |\n",
    "| Linear Regression| 0.00160 |  0.045 | 154.86 | -0.026 | \n",
    "| Random Forest    | 0.00244 |  0.049 | 322.45 | -0.14  |\n"
   ]
  },
  {
   "cell_type": "markdown",
   "metadata": {},
   "source": [
    "## Random Hyperparameter Grid"
   ]
  },
  {
   "cell_type": "code",
   "execution_count": null,
   "metadata": {},
   "outputs": [],
   "source": [
    "from sklearn.model_selection import RandomizedSearchCV\n"
   ]
  },
  {
   "cell_type": "markdown",
   "metadata": {},
   "source": [
    "### Predicted and Actual scatter plot"
   ]
  },
  {
   "cell_type": "markdown",
   "metadata": {},
   "source": [
    "## ARIMA"
   ]
  },
  {
   "cell_type": "markdown",
   "metadata": {
    "collapsed": true
   },
   "source": [
    "We are going to apply one of the most commonly used method for time-series forecasting, known as ARIMA, which stands for Autoregressive Integrated Moving Average.\n",
    "\n",
    "ARIMA models are denoted with the notation ARIMA(p, d, q). These three parameters account for seasonality, trend, and noise in data:\n",
    "\n",
    "- 'p’ is the order of the ‘Auto Regressive’ (AR) term. It refers to the number of lags of Y to be used as predictors. It allows us to incorporate the effect of past values into our model. Intuitively, this would be similar to stating that it is likely to be warm tomorrow if it has been warm the past 3 days.\n",
    "- ‘q’ is the order of the ‘Moving Average’ (MA) term. It refers to the number of lagged forecast errors that should go into the ARIMA Model. This allows us to set the error of our model as a linear combination of the error values observed at previous time points in the past.\n",
    "\n",
    "- 'd' is the minimum number of differencing needed to make the series stationary. And if the time series is already stationary, then d = 0.Intuitively, this would be similar to stating that it is likely to be same temperature tomorrow if the difference in temperature in the last three days has been very small.\n",
    "\n",
    "\n",
    "An ARIMA model can be created using the statsmodels library as follows:\n",
    "\n",
    "- Define the model by calling ARIMA() and passing in the p, d, and q parameters.\n",
    "- The model is prepared on the training data by calling the fit() function.\n",
    "- Predictions can be made by calling the predict() function and specifying the index of the time or times to be predicted."
   ]
  },
  {
   "cell_type": "code",
   "execution_count": 80,
   "metadata": {},
   "outputs": [
    {
     "name": "stdout",
     "output_type": "stream",
     "text": [
      "Train: (31483,)\n",
      "Test: (8554,)\n"
     ]
    }
   ],
   "source": [
    "# Data with transactiondate\n",
    "#logerror_train = train[['transactiondate','logerror']]\n",
    "#logerror_test = test[['transactiondate','logerror']]\n",
    "\n",
    "# Logerror without transactiondate\n",
    "logerror_train = train['logerror']\n",
    "logerror_test = test['logerror']\n",
    "\n",
    "print('Train:',logerror_train.shape)\n",
    "print('Test:',logerror_test.shape)"
   ]
  },
  {
   "cell_type": "code",
   "execution_count": 66,
   "metadata": {},
   "outputs": [],
   "source": [
    "# Set index.\n",
    "#logerror_train=logerror_train.set_index('transactiondate')\n",
    "#logerror_test=logerror_test.set_index('transactiondate')"
   ]
  },
  {
   "cell_type": "code",
   "execution_count": 81,
   "metadata": {},
   "outputs": [
    {
     "data": {
      "text/plain": [
       "0    0.055619\n",
       "1    0.005383\n",
       "2   -0.103410\n",
       "3   -0.020526\n",
       "4    0.101723\n",
       "Name: logerror, dtype: float64"
      ]
     },
     "execution_count": 81,
     "metadata": {},
     "output_type": "execute_result"
    }
   ],
   "source": [
    "logerror_train.head()"
   ]
  },
  {
   "cell_type": "markdown",
   "metadata": {},
   "source": [
    "We have tested if the logerror is stationary by using the Augmented Dickey Fuller test. Because we need differencing only if the series is non-stationary. Else, no differencing is needed, that is, d=0.\n",
    "\n",
    "In this case, we have d=0.\n",
    "\n",
    "More information: https://www.machinelearningplus.com/time-series/arima-model-time-series-forecasting-python/"
   ]
  },
  {
   "cell_type": "code",
   "execution_count": 71,
   "metadata": {},
   "outputs": [
    {
     "data": {
      "text/plain": [
       "pandas.core.frame.DataFrame"
      ]
     },
     "execution_count": 71,
     "metadata": {},
     "output_type": "execute_result"
    }
   ],
   "source": [
    "a = (logerror_train)"
   ]
  },
  {
   "cell_type": "code",
   "execution_count": 68,
   "metadata": {},
   "outputs": [
    {
     "data": {
      "image/png": "[encoded data removed]",
      "text/plain": [
       "<Figure size 432x288 with 1 Axes>"
      ]
     },
     "metadata": {},
     "output_type": "display_data"
    }
   ],
   "source": [
    "sns.set()\n",
    "logerror_train.groupby('transactiondate').mean().plot()\n",
    "plt.show()"
   ]
  },
  {
   "cell_type": "code",
   "execution_count": 84,
   "metadata": {},
   "outputs": [
    {
     "name": "stderr",
     "output_type": "stream",
     "text": [
      "C:\\Users\\samsung\\Anaconda3\\lib\\site-packages\\statsmodels\\tsa\\base\\tsa_model.py:215: ValueWarning: An unsupported index was provided and will be ignored when e.g. forecasting.\n",
      "  ' ignored when e.g. forecasting.', ValueWarning)\n",
      "C:\\Users\\samsung\\Anaconda3\\lib\\site-packages\\statsmodels\\tsa\\base\\tsa_model.py:215: ValueWarning: An unsupported index was provided and will be ignored when e.g. forecasting.\n",
      "  ' ignored when e.g. forecasting.', ValueWarning)\n"
     ]
    },
    {
     "name": "stdout",
     "output_type": "stream",
     "text": [
      "                             ARIMA Model Results                              \n",
      "==============================================================================\n",
      "Dep. Variable:             D.logerror   No. Observations:                31482\n",
      "Model:                 ARIMA(5, 1, 0)   Log Likelihood               50645.216\n",
      "Method:                       css-mle   S.D. of innovations              0.048\n",
      "Date:                Fri, 29 May 2020   AIC                        -101276.432\n",
      "Time:                        15:27:57   BIC                        -101217.931\n",
      "Sample:                             1   HQIC                       -101257.704\n",
      "                                                                              \n",
      "====================================================================================\n",
      "                       coef    std err          z      P>|z|      [0.025      0.975]\n",
      "------------------------------------------------------------------------------------\n",
      "const            -3.515e-07   7.75e-05     -0.005      0.996      -0.000       0.000\n",
      "ar.L1.D.logerror    -0.8362      0.006   -150.612      0.000      -0.847      -0.825\n",
      "ar.L2.D.logerror    -0.6711      0.007    -95.540      0.000      -0.685      -0.657\n",
      "ar.L3.D.logerror    -0.5040      0.007    -67.595      0.000      -0.519      -0.489\n",
      "ar.L4.D.logerror    -0.3410      0.007    -48.538      0.000      -0.355      -0.327\n",
      "ar.L5.D.logerror    -0.1719      0.006    -30.964      0.000      -0.183      -0.161\n",
      "                                    Roots                                    \n",
      "=============================================================================\n",
      "                  Real          Imaginary           Modulus         Frequency\n",
      "-----------------------------------------------------------------------------\n",
      "AR.1            0.5526           -1.2449j            1.3620           -0.1835\n",
      "AR.2            0.5526           +1.2449j            1.3620            0.1835\n",
      "AR.3           -1.4874           -0.0000j            1.4874           -0.5000\n",
      "AR.4           -0.8006           -1.2112j            1.4518           -0.3430\n",
      "AR.5           -0.8006           +1.2112j            1.4518            0.3430\n",
      "-----------------------------------------------------------------------------\n"
     ]
    }
   ],
   "source": [
    "model = ARIMA(logerror_train, order=(5,1,0))\n",
    "model_fit = model.fit(disp=0)\n",
    "print(model_fit.summary())"
   ]
  },
  {
   "cell_type": "code",
   "execution_count": 86,
   "metadata": {},
   "outputs": [
    {
     "ename": "NameError",
     "evalue": "name 'pyplot' is not defined",
     "output_type": "error",
     "traceback": [
      "\u001b[1;31m---------------------------------------------------------------------------\u001b[0m",
      "\u001b[1;31mNameError\u001b[0m                                 Traceback (most recent call last)",
      "\u001b[1;32m<ipython-input-86-9ed0d3afea1f>\u001b[0m in \u001b[0;36m<module>\u001b[1;34m\u001b[0m\n\u001b[0;32m      2\u001b[0m \u001b[0mresiduals\u001b[0m \u001b[1;33m=\u001b[0m \u001b[0mpd\u001b[0m\u001b[1;33m.\u001b[0m\u001b[0mDataFrame\u001b[0m\u001b[1;33m(\u001b[0m\u001b[0mmodel_fit\u001b[0m\u001b[1;33m.\u001b[0m\u001b[0mresid\u001b[0m\u001b[1;33m)\u001b[0m\u001b[1;33m\u001b[0m\u001b[1;33m\u001b[0m\u001b[0m\n\u001b[0;32m      3\u001b[0m \u001b[0mresiduals\u001b[0m\u001b[1;33m.\u001b[0m\u001b[0mplot\u001b[0m\u001b[1;33m(\u001b[0m\u001b[1;33m)\u001b[0m\u001b[1;33m\u001b[0m\u001b[1;33m\u001b[0m\u001b[0m\n\u001b[1;32m----> 4\u001b[1;33m \u001b[0mpyplot\u001b[0m\u001b[1;33m.\u001b[0m\u001b[0mshow\u001b[0m\u001b[1;33m(\u001b[0m\u001b[1;33m)\u001b[0m\u001b[1;33m\u001b[0m\u001b[1;33m\u001b[0m\u001b[0m\n\u001b[0m\u001b[0;32m      5\u001b[0m \u001b[0mresiduals\u001b[0m\u001b[1;33m.\u001b[0m\u001b[0mplot\u001b[0m\u001b[1;33m(\u001b[0m\u001b[0mkind\u001b[0m\u001b[1;33m=\u001b[0m\u001b[1;34m'kde'\u001b[0m\u001b[1;33m)\u001b[0m\u001b[1;33m\u001b[0m\u001b[1;33m\u001b[0m\u001b[0m\n\u001b[0;32m      6\u001b[0m \u001b[0mpyplot\u001b[0m\u001b[1;33m.\u001b[0m\u001b[0mshow\u001b[0m\u001b[1;33m(\u001b[0m\u001b[1;33m)\u001b[0m\u001b[1;33m\u001b[0m\u001b[1;33m\u001b[0m\u001b[0m\n",
      "\u001b[1;31mNameError\u001b[0m: name 'pyplot' is not defined"
     ]
    },
    {
     "data": {
      "image/png": "[encoded data removed]",
      "text/plain": [
       "<Figure size 432x288 with 1 Axes>"
      ]
     },
     "metadata": {},
     "output_type": "display_data"
    }
   ],
   "source": [
    "# plot residual errors\n",
    "residuals = pd.DataFrame(model_fit.resid)\n",
    "residuals.plot()\n",
    "pyplot.show()\n",
    "residuals.plot(kind='kde')\n",
    "pyplot.show()\n",
    "print(residuals.describe())"
   ]
  },
  {
   "cell_type": "markdown",
   "metadata": {},
   "source": [
    "### Selection of features\n",
    "\n",
    "\n",
    "The dataset contains 61 features, and a lot of them have missing values. In order to select the best features for the model, I use RandomForest to calculate the importance of features."
   ]
  },
  {
   "cell_type": "markdown",
   "metadata": {},
   "source": [
    "#### Check feature importance"
   ]
  },
  {
   "cell_type": "code",
   "execution_count": null,
   "metadata": {},
   "outputs": [],
   "source": [
    "rf.feature_importances_"
   ]
  },
  {
   "cell_type": "code",
   "execution_count": null,
   "metadata": {
    "collapsed": true
   },
   "outputs": [],
   "source": []
  }
 ],
 "metadata": {
  "kernelspec": {
   "display_name": "Python 3",
   "language": "python",
   "name": "python3"
  },
  "language_info": {
   "codemirror_mode": {
    "name": "ipython",
    "version": 3
   },
   "file_extension": ".py",
   "mimetype": "text/x-python",
   "name": "python",
   "nbconvert_exporter": "python",
   "pygments_lexer": "ipython3",
   "version": "3.7.3"
  }
 },
 "nbformat": 4,
 "nbformat_minor": 2
}
