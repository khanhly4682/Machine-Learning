{
 "cells": [
  {
   "cell_type": "markdown",
   "metadata": {},
   "source": [
    "This exercise will require you to pull some data from the Qunadl API. Qaundl is currently the most widely used aggregator of financial market data."
   ]
  },
  {
   "cell_type": "markdown",
   "metadata": {},
   "source": [
    "As a first step, you will need to register a free account on the http://www.quandl.com website."
   ]
  },
  {
   "cell_type": "markdown",
   "metadata": {},
   "source": [
    "After you register, you will be provided with a unique API key, that you should store:"
   ]
  },
  {
   "cell_type": "code",
   "execution_count": null,
   "metadata": {
    "collapsed": true
   },
   "outputs": [],
   "source": [
    "# Store the API key as a string - according to PEP8, constants are always named in all upper case\n",
    "API_KEY = ''"
   ]
  },
  {
   "cell_type": "markdown",
   "metadata": {},
   "source": [
    "Qaundl has a large number of data sources, but, unfortunately, most of them require a Premium subscription. Still, there are also a good number of free datasets."
   ]
  },
  {
   "cell_type": "markdown",
   "metadata": {},
   "source": [
    "For this mini project, we will focus on equities data from the Frankfurt Stock Exhange (FSE), which is available for free. We'll try and analyze the stock prices of a company called Carl Zeiss Meditec, which manufactures tools for eye examinations, as well as medical lasers for laser eye surgery: https://www.zeiss.com/meditec/int/home.html. The company is listed under the stock ticker AFX_X."
   ]
  },
  {
   "cell_type": "markdown",
   "metadata": {},
   "source": [
    "You can find the detailed Quandl API instructions here: https://docs.quandl.com/docs/time-series"
   ]
  },
  {
   "cell_type": "markdown",
   "metadata": {},
   "source": [
    "While there is a dedicated Python package for connecting to the Quandl API, we would prefer that you use the *requests* package, which can be easily downloaded using *pip* or *conda*. You can find the documentation for the package here: http://docs.python-requests.org/en/master/ "
   ]
  },
  {
   "cell_type": "markdown",
   "metadata": {},
   "source": [
    "Finally, apart from the *requests* package, you are encouraged to not use any third party Python packages, such as *pandas*, and instead focus on what's available in the Python Standard Library (the *collections* module might come in handy: https://pymotw.com/3/collections/ ).\n",
    "Also, since you won't have access to DataFrames, you are encouraged to us Python's native data structures - preferably dictionaries, though some questions can also be answered using lists.\n",
    "You can read more on these data structures here: https://docs.python.org/3/tutorial/datastructures.html"
   ]
  },
  {
   "cell_type": "markdown",
   "metadata": {},
   "source": [
    "Keep in mind that the JSON responses you will be getting from the API map almost one-to-one to Python's dictionaries. Unfortunately, they can be very nested, so make sure you read up on indexing dictionaries in the documentation provided above."
   ]
  },
  {
   "cell_type": "code",
   "execution_count": 10,
   "metadata": {
    "collapsed": false
   },
   "outputs": [
    {
     "name": "stdout",
     "output_type": "stream",
     "text": [
      "             Open   High    Low  Close Change  Traded Volume    Turnover  \\\n",
      "Date                                                                       \n",
      "2019-10-04  105.0  109.5  104.4  108.2   None       198283.0  21355196.0   \n",
      "\n",
      "           Last Price of the Day Daily Traded Units Daily Turnover  \n",
      "Date                                                                \n",
      "2019-10-04                  None               None           None  \n"
     ]
    }
   ],
   "source": [
    "# First, import the relevant modules\n",
    "#   If quandl is not install, run cmd >> pip intall quandl \n",
    "#     (urllib3 is required also.)\n",
    "import quandl\n",
    "\n",
    "# Authentication\n",
    "# Set API key\n",
    "quandl.ApiConfig.api_key = 'wNthHRkSJKjxYGqyGhuB'\n",
    "\n",
    "# Now, call the Quandl API and pull out a small sample of the data (only one day) to get a glimpse\n",
    "# into the JSON structure that will be returned\n",
    "sample = quandl.get('FSE/AFX_X', start_date = '2019-10-04',end_date='2019-10-04')\n",
    "\n",
    "# Inspect the JSON structure of the object you created, and take note of how nested it is,\n",
    "# as well as the overall structure\n",
    "\n"
   ]
  },
  {
   "cell_type": "code",
   "execution_count": 6,
   "metadata": {
    "collapsed": false
   },
   "outputs": [],
   "source": [
    "print(sample)"
   ]
  },
  {
   "cell_type": "code",
   "execution_count": 14,
   "metadata": {
    "collapsed": true
   },
   "outputs": [],
   "source": []
  },
  {
   "cell_type": "markdown",
   "metadata": {},
   "source": [
    "These are your tasks for this mini project:\n",
    "\n",
    "1. Collect data from the Franfurt Stock Exchange, for the ticker AFX_X, for the whole year 2017 (keep in mind that the date format is YYYY-MM-DD).\n",
    "2. Convert the returned JSON object into a Python dictionary.\n",
    "3. Calculate what the highest and lowest opening prices were for the stock in this period.\n",
    "4. What was the largest change in any one day (based on High and Low price)?\n",
    "5. What was the largest change between any two days (based on Closing Price)?\n",
    "6. What was the average daily trading volume during this year?\n",
    "7. (Optional) What was the median trading volume during this year. (Note: you may need to implement your own function for calculating the median.)"
   ]
  },
  {
   "cell_type": "code",
   "execution_count": 38,
   "metadata": {
    "collapsed": false
   },
   "outputs": [
    {
     "name": "stdout",
     "output_type": "stream",
     "text": [
      "The lowest opening prices:  34.0\n",
      "The highest opening price:  53.11\n",
      "The largest change in any one day:  2.81\n"
     ]
    }
   ],
   "source": [
    "import requests\n",
    "import json\n",
    "import matplotlib.pyplot as plt\n",
    "\n",
    "from collections import defaultdict\n",
    "\n",
    "# 1. Get json data from quandl\n",
    "url = 'https://www.quandl.com/api/v3/datasets/FSE/AFX_X/data.json?api_key=wNthHRkSJKjxYGqyGhuB&start_date=2017-01-01&end_date=2017-12-31'\n",
    "json_data = requests.get(url).text\n",
    "\n",
    "# 2. Convert JSon object into Python dict.\n",
    "df = json.loads(json_data)\n",
    "\n",
    "# 3. Calculate the highest and lowest opening prices for stock\n",
    "# data for analysis.\n",
    "df1 = df['dataset_data']['data']\n",
    "\n",
    "# opening prices.\n",
    "opening_dict = defaultdict(dict)\n",
    "\n",
    "for col in df1:\n",
    "    open_price = col[1]\n",
    "    if open_price != None:\n",
    "        date = col[0] # col = 'Date'\n",
    "        opening_dict[date] = open_price # add Date/Price to dict.\n",
    "\n",
    "# The lowest opening prices.\n",
    "print('The lowest opening prices: ', min(opening_dict.values()))\n",
    "\n",
    "# The highest opening price.\n",
    "print('The highest opening price: ', max(opening_dict.values()))\n",
    "\n",
    "# 4.What was the largest change in any one day (based on High and Low price)?\n",
    "change_dict = defaultdict(dict)\n",
    "\n",
    "for col in df1:\n",
    "    if open_price != None:\n",
    "        date = col[0]\n",
    "        high = col[2]\n",
    "        low = col[3]\n",
    "        change = high - low\n",
    "        change_dict[date] = change\n",
    "        \n",
    "print('The largest change in any one day: ', round(max(change_dict.values()),2))\n",
    "   "
   ]
  },
  {
   "cell_type": "code",
   "execution_count": 60,
   "metadata": {
    "collapsed": false
   },
   "outputs": [
    {
     "name": "stdout",
     "output_type": "stream",
     "text": [
      "The largest change between any two days: 2.56\n"
     ]
    }
   ],
   "source": [
    "# 5. What was the largest change between any two days (based on Closing Price)?\n",
    "close_prices = defaultdict(dict)\n",
    "for col in df1:\n",
    "    date = col[0]\n",
    "    closing = col[4]\n",
    "    close_prices[date] = closing\n",
    "    \n",
    "close_list=list(close_prices.values())\n",
    "close_list[1]\n",
    "# the change of price in two day\n",
    "two_day = [abs(close_list[i+1]-close_list[i]) for i in range(len(close_list)-1)]\n",
    "print('The largest change between any two days:', round(max(two_day),2))\n",
    "\n"
   ]
  },
  {
   "cell_type": "code",
   "execution_count": 42,
   "metadata": {
    "collapsed": false
   },
   "outputs": [
    {
     "name": "stdout",
     "output_type": "stream",
     "text": [
      "The average daily trading volume:  89124\n"
     ]
    }
   ],
   "source": [
    "# 6.What was the average daily trading volume during this year?\n",
    "trade_volume = defaultdict(dict)\n",
    "for col in df1:\n",
    "    date = col[0]\n",
    "    volumn = col[6]\n",
    "    if volumn != None:        \n",
    "        trade_volume[date] = volumn\n",
    "print('The average daily trading volume: ', round(sum(trade_volume.values()) / len(trade_volume)))"
   ]
  },
  {
   "cell_type": "code",
   "execution_count": 50,
   "metadata": {
    "collapsed": false
   },
   "outputs": [
    {
     "name": "stdout",
     "output_type": "stream",
     "text": [
      "Median trading price:  76286.0\n"
     ]
    }
   ],
   "source": [
    "# 7.(Optional) What was the median trading volume during this year. \n",
    "# (Note: you may need to implement your own function for calculating the median.)\n",
    "def get_median():\n",
    "    daily_volumes = trade_volume.values()\n",
    "    sorted_volumes = sorted(daily_volumes) # sort the prices.\n",
    "    len_ = len(daily_volumes)       \n",
    "    middle_indx = (len_ - 1) // 2\n",
    "    \n",
    "    if (len_ % 2 != 0):\n",
    "        return sorted_volumes[middle_indx]\n",
    "    else:\n",
    "        return (sorted_volumes[middle_indx] + sorted_volumes[middle_indx + 1]) // 2\n",
    "    \n",
    "    \n",
    "median = get_median()\n",
    "print('Median trading price: ',median)\n",
    "\n"
   ]
  },
  {
   "cell_type": "code",
   "execution_count": 38,
   "metadata": {
    "collapsed": false
   },
   "outputs": [
    {
     "data": {
      "text/plain": [
       "['Date',\n",
       " 'Open',\n",
       " 'High',\n",
       " 'Low',\n",
       " 'Close',\n",
       " 'Change',\n",
       " 'Traded Volume',\n",
       " 'Turnover',\n",
       " 'Last Price of the Day',\n",
       " 'Daily Traded Units',\n",
       " 'Daily Turnover']"
      ]
     },
     "execution_count": 38,
     "metadata": {},
     "output_type": "execute_result"
    }
   ],
   "source": [
    "df['dataset_data']['column_names']"
   ]
  },
  {
   "cell_type": "code",
   "execution_count": 15,
   "metadata": {
    "collapsed": false
   },
   "outputs": [
    {
     "data": {
      "text/plain": [
       "[['2017-12-28',\n",
       "  51.65,\n",
       "  51.82,\n",
       "  51.43,\n",
       "  51.6,\n",
       "  None,\n",
       "  40660.0,\n",
       "  2099024.0,\n",
       "  None,\n",
       "  None,\n",
       "  None],\n",
       " ['2017-12-27',\n",
       "  51.45,\n",
       "  51.89,\n",
       "  50.76,\n",
       "  51.82,\n",
       "  None,\n",
       "  57452.0,\n",
       "  2957018.0,\n",
       "  None,\n",
       "  None,\n",
       "  None]]"
      ]
     },
     "execution_count": 15,
     "metadata": {},
     "output_type": "execute_result"
    }
   ],
   "source": [
    "df1[1:3]"
   ]
  },
  {
   "cell_type": "code",
   "execution_count": 43,
   "metadata": {
    "collapsed": false
   },
   "outputs": [
    {
     "data": {
      "text/plain": [
       "['2017-12-28',\n",
       " 51.65,\n",
       " 51.82,\n",
       " 51.43,\n",
       " 51.6,\n",
       " None,\n",
       " 40660.0,\n",
       " 2099024.0,\n",
       " None,\n",
       " None,\n",
       " None]"
      ]
     },
     "execution_count": 43,
     "metadata": {},
     "output_type": "execute_result"
    }
   ],
   "source": [
    "df1[1]"
   ]
  },
  {
   "cell_type": "code",
   "execution_count": 48,
   "metadata": {
    "collapsed": false
   },
   "outputs": [
    {
     "data": {
      "text/plain": [
       "defaultdict(dict,\n",
       "            {'2017-01-02': 34.99,\n",
       "             '2017-01-03': 35.9,\n",
       "             '2017-01-04': 35.48,\n",
       "             '2017-01-05': 35.02,\n",
       "             '2017-01-06': 34.91,\n",
       "             '2017-01-09': 35.29,\n",
       "             '2017-01-10': 34.8,\n",
       "             '2017-01-11': 34.95,\n",
       "             '2017-01-12': 35.38,\n",
       "             '2017-01-13': 34.98,\n",
       "             '2017-01-16': 34.85,\n",
       "             '2017-01-17': 35.06,\n",
       "             '2017-01-18': 35.04,\n",
       "             '2017-01-19': 35.04,\n",
       "             '2017-01-20': 34.54,\n",
       "             '2017-01-23': 34.04,\n",
       "             '2017-01-24': 34.0,\n",
       "             '2017-01-25': 34.42,\n",
       "             '2017-01-26': 35.07,\n",
       "             '2017-01-27': 34.83,\n",
       "             '2017-01-30': 35.38,\n",
       "             '2017-01-31': 35.24,\n",
       "             '2017-02-01': 34.75,\n",
       "             '2017-02-02': 35.95,\n",
       "             '2017-02-03': 36.02,\n",
       "             '2017-02-06': 36.06,\n",
       "             '2017-02-07': 35.56,\n",
       "             '2017-02-08': 35.98,\n",
       "             '2017-02-09': 36.2,\n",
       "             '2017-02-10': 36.65,\n",
       "             '2017-02-13': 37.37,\n",
       "             '2017-02-14': 38.81,\n",
       "             '2017-02-15': 38.5,\n",
       "             '2017-02-16': 38.8,\n",
       "             '2017-02-17': 38.8,\n",
       "             '2017-02-20': 39.25,\n",
       "             '2017-02-21': 38.85,\n",
       "             '2017-02-22': 39.6,\n",
       "             '2017-02-23': 39.72,\n",
       "             '2017-02-24': 39.77,\n",
       "             '2017-02-27': 39.75,\n",
       "             '2017-02-28': 40.38,\n",
       "             '2017-03-01': 41.19,\n",
       "             '2017-03-02': 41.38,\n",
       "             '2017-03-03': 41.12,\n",
       "             '2017-03-06': 41.25,\n",
       "             '2017-03-07': 41.5,\n",
       "             '2017-03-08': 41.13,\n",
       "             '2017-03-09': 41.61,\n",
       "             '2017-03-10': 41.53,\n",
       "             '2017-03-13': 41.4,\n",
       "             '2017-03-14': 41.2,\n",
       "             '2017-03-15': 41.4,\n",
       "             '2017-03-16': 41.4,\n",
       "             '2017-03-17': 41.47,\n",
       "             '2017-03-20': 41.26,\n",
       "             '2017-03-21': 41.8,\n",
       "             '2017-03-22': 38.25,\n",
       "             '2017-03-23': 39.01,\n",
       "             '2017-03-24': 38.94,\n",
       "             '2017-03-27': 38.73,\n",
       "             '2017-03-28': 38.95,\n",
       "             '2017-03-29': 39.39,\n",
       "             '2017-03-30': 40.02,\n",
       "             '2017-03-31': 39.77,\n",
       "             '2017-04-03': 40.15,\n",
       "             '2017-04-04': 39.5,\n",
       "             '2017-04-05': 41.1,\n",
       "             '2017-04-06': 40.96,\n",
       "             '2017-04-07': 40.9,\n",
       "             '2017-04-10': 41.46,\n",
       "             '2017-04-11': 41.62,\n",
       "             '2017-04-12': 42.02,\n",
       "             '2017-04-13': 42.06,\n",
       "             '2017-04-18': 42.24,\n",
       "             '2017-04-19': 41.94,\n",
       "             '2017-04-20': 42.5,\n",
       "             '2017-04-21': 41.97,\n",
       "             '2017-04-24': 42.01,\n",
       "             '2017-04-25': 41.93,\n",
       "             '2017-04-26': 41.88,\n",
       "             '2017-04-27': 41.51,\n",
       "             '2017-04-28': 42.17,\n",
       "             '2017-05-02': 41.89,\n",
       "             '2017-05-03': 42.2,\n",
       "             '2017-05-04': 41.86,\n",
       "             '2017-05-05': 42.52,\n",
       "             '2017-05-08': 43.0,\n",
       "             '2017-05-09': 41.83,\n",
       "             '2017-05-10': 43.5,\n",
       "             '2017-05-11': 43.4,\n",
       "             '2017-05-12': 45.18,\n",
       "             '2017-05-15': 45.09,\n",
       "             '2017-05-16': 45.15,\n",
       "             '2017-05-17': 45.06,\n",
       "             '2017-05-18': 44.0,\n",
       "             '2017-05-19': 43.74,\n",
       "             '2017-05-22': 44.16,\n",
       "             '2017-05-23': 43.67,\n",
       "             '2017-05-24': 43.92,\n",
       "             '2017-05-25': 44.8,\n",
       "             '2017-05-26': 44.8,\n",
       "             '2017-05-29': 45.61,\n",
       "             '2017-05-30': 45.05,\n",
       "             '2017-05-31': 45.22,\n",
       "             '2017-06-01': 46.12,\n",
       "             '2017-06-02': 46.8,\n",
       "             '2017-06-06': 47.12,\n",
       "             '2017-06-07': 47.01,\n",
       "             '2017-06-08': 47.8,\n",
       "             '2017-06-09': 46.77,\n",
       "             '2017-06-12': 47.31,\n",
       "             '2017-06-13': 46.5,\n",
       "             '2017-06-14': 46.52,\n",
       "             '2017-06-15': 46.34,\n",
       "             '2017-06-16': 45.66,\n",
       "             '2017-06-19': 46.9,\n",
       "             '2017-06-20': 46.48,\n",
       "             '2017-06-21': 47.46,\n",
       "             '2017-06-22': 47.03,\n",
       "             '2017-06-23': 47.29,\n",
       "             '2017-06-26': 46.95,\n",
       "             '2017-06-27': 47.23,\n",
       "             '2017-06-28': 46.68,\n",
       "             '2017-06-29': 45.73,\n",
       "             '2017-06-30': 45.01,\n",
       "             '2017-07-03': 45.29,\n",
       "             '2017-07-04': 45.83,\n",
       "             '2017-07-05': 44.67,\n",
       "             '2017-07-06': 45.5,\n",
       "             '2017-07-07': 44.79,\n",
       "             '2017-07-10': 44.64,\n",
       "             '2017-07-11': 44.94,\n",
       "             '2017-07-12': 44.29,\n",
       "             '2017-07-13': 44.67,\n",
       "             '2017-07-14': 45.07,\n",
       "             '2017-07-17': 45.6,\n",
       "             '2017-07-18': 45.5,\n",
       "             '2017-07-19': 45.06,\n",
       "             '2017-07-20': 45.74,\n",
       "             '2017-07-21': 45.57,\n",
       "             '2017-07-24': 45.31,\n",
       "             '2017-07-25': 44.7,\n",
       "             '2017-07-26': 44.91,\n",
       "             '2017-07-27': 45.16,\n",
       "             '2017-07-28': 45.26,\n",
       "             '2017-07-31': 44.94,\n",
       "             '2017-08-01': 45.24,\n",
       "             '2017-08-02': 45.25,\n",
       "             '2017-08-03': 45.34,\n",
       "             '2017-08-04': 45.13,\n",
       "             '2017-08-07': 45.85,\n",
       "             '2017-08-08': 44.9,\n",
       "             '2017-08-09': 43.5,\n",
       "             '2017-08-10': 41.73,\n",
       "             '2017-08-11': 41.3,\n",
       "             '2017-08-14': 42.12,\n",
       "             '2017-08-15': 42.53,\n",
       "             '2017-08-16': 42.4,\n",
       "             '2017-08-17': 41.88,\n",
       "             '2017-08-18': 42.28,\n",
       "             '2017-08-21': 42.42,\n",
       "             '2017-08-22': 42.46,\n",
       "             '2017-08-23': 42.82,\n",
       "             '2017-08-24': 42.72,\n",
       "             '2017-08-25': 42.64,\n",
       "             '2017-08-28': 42.11,\n",
       "             '2017-08-29': 41.71,\n",
       "             '2017-08-30': 42.0,\n",
       "             '2017-08-31': 42.0,\n",
       "             '2017-09-01': 42.16,\n",
       "             '2017-09-04': 42.38,\n",
       "             '2017-09-05': 43.0,\n",
       "             '2017-09-06': 42.66,\n",
       "             '2017-09-07': 43.0,\n",
       "             '2017-09-08': 42.7,\n",
       "             '2017-09-11': 42.81,\n",
       "             '2017-09-12': 43.21,\n",
       "             '2017-09-13': 42.49,\n",
       "             '2017-09-14': 42.35,\n",
       "             '2017-09-15': 42.29,\n",
       "             '2017-09-18': 42.5,\n",
       "             '2017-09-19': 42.65,\n",
       "             '2017-09-20': 42.54,\n",
       "             '2017-09-21': 42.29,\n",
       "             '2017-09-22': 41.48,\n",
       "             '2017-09-25': 42.3,\n",
       "             '2017-09-26': 42.3,\n",
       "             '2017-09-27': 42.35,\n",
       "             '2017-09-28': 42.0,\n",
       "             '2017-09-29': 43.58,\n",
       "             '2017-10-02': 44.51,\n",
       "             '2017-10-04': 45.36,\n",
       "             '2017-10-05': 46.01,\n",
       "             '2017-10-06': 46.19,\n",
       "             '2017-10-09': 46.2,\n",
       "             '2017-10-10': 45.64,\n",
       "             '2017-10-11': 45.97,\n",
       "             '2017-10-12': 45.58,\n",
       "             '2017-10-13': 45.5,\n",
       "             '2017-10-16': 45.61,\n",
       "             '2017-10-17': 45.8,\n",
       "             '2017-10-18': 46.01,\n",
       "             '2017-10-19': 45.72,\n",
       "             '2017-10-20': 45.08,\n",
       "             '2017-10-23': 44.9,\n",
       "             '2017-10-24': 45.16,\n",
       "             '2017-10-25': 45.01,\n",
       "             '2017-10-26': 45.2,\n",
       "             '2017-10-27': 45.48,\n",
       "             '2017-10-30': 46.53,\n",
       "             '2017-11-01': 46.29,\n",
       "             '2017-11-02': 45.88,\n",
       "             '2017-11-03': 45.0,\n",
       "             '2017-11-06': 45.81,\n",
       "             '2017-11-07': 46.16,\n",
       "             '2017-11-08': 46.42,\n",
       "             '2017-11-09': 47.65,\n",
       "             '2017-11-10': 47.3,\n",
       "             '2017-11-13': 48.38,\n",
       "             '2017-11-14': 48.4,\n",
       "             '2017-11-15': 47.98,\n",
       "             '2017-11-16': 47.09,\n",
       "             '2017-11-17': 47.03,\n",
       "             '2017-11-20': 46.57,\n",
       "             '2017-11-21': 47.25,\n",
       "             '2017-11-22': 48.4,\n",
       "             '2017-11-23': 48.8,\n",
       "             '2017-11-24': 49.11,\n",
       "             '2017-11-27': 49.13,\n",
       "             '2017-11-28': 49.09,\n",
       "             '2017-11-29': 49.64,\n",
       "             '2017-11-30': 48.64,\n",
       "             '2017-12-01': 49.52,\n",
       "             '2017-12-04': 49.5,\n",
       "             '2017-12-05': 51.21,\n",
       "             '2017-12-06': 50.8,\n",
       "             '2017-12-07': 50.89,\n",
       "             '2017-12-08': 51.5,\n",
       "             '2017-12-11': 52.28,\n",
       "             '2017-12-12': 52.29,\n",
       "             '2017-12-13': 52.64,\n",
       "             '2017-12-14': 53.11,\n",
       "             '2017-12-15': 52.7,\n",
       "             '2017-12-18': 52.37,\n",
       "             '2017-12-19': 52.73,\n",
       "             '2017-12-20': 51.88,\n",
       "             '2017-12-21': 51.16,\n",
       "             '2017-12-22': 51.05,\n",
       "             '2017-12-27': 51.45,\n",
       "             '2017-12-28': 51.65,\n",
       "             '2017-12-29': 51.76})"
      ]
     },
     "execution_count": 48,
     "metadata": {},
     "output_type": "execute_result"
    }
   ],
   "source": [
    "opening_dict"
   ]
  },
  {
   "cell_type": "code",
   "execution_count": null,
   "metadata": {
    "collapsed": false
   },
   "outputs": [],
   "source": []
  },
  {
   "cell_type": "code",
   "execution_count": null,
   "metadata": {
    "collapsed": true
   },
   "outputs": [],
   "source": []
  }
 ],
 "metadata": {
  "kernelspec": {
   "display_name": "Python 3",
   "language": "python",
   "name": "python3"
  },
  "language_info": {
   "codemirror_mode": {
    "name": "ipython",
    "version": 3
   },
   "file_extension": ".py",
   "mimetype": "text/x-python",
   "name": "python",
   "nbconvert_exporter": "python",
   "pygments_lexer": "ipython3",
   "version": "3.6.8"
  }
 },
 "nbformat": 4,
 "nbformat_minor": 2
}
